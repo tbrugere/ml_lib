{
 "cells": [
  {
   "cell_type": "markdown",
   "id": "988b919e-7daf-4162-8c84-b2890ab82cac",
   "metadata": {},
   "source": [
    "# Tests"
   ]
  },
  {
   "cell_type": "markdown",
   "id": "afb7059d-3b1c-4363-9735-2629bf454125",
   "metadata": {},
   "source": [
    "## Imports and stuff"
   ]
  },
  {
   "cell_type": "code",
   "execution_count": 1,
   "id": "a756cc65-6c1e-472b-9b9c-0abdf60a1b6c",
   "metadata": {
    "tags": []
   },
   "outputs": [],
   "source": [
    "import sys\n",
    "\n",
    "def append_path(s):\n",
    "    if s in sys.path:\n",
    "        return\n",
    "    sys.path.append(s)\n",
    "\n",
    "append_path(\"..\")\n",
    "%load_ext autoreload\n",
    "%autoreload 2"
   ]
  },
  {
   "cell_type": "code",
   "execution_count": 2,
   "id": "d469e6ee-0505-4851-8bf6-4d31ab8ae3ea",
   "metadata": {},
   "outputs": [],
   "source": [
    "import numpy as np\n",
    "from numpy.random import default_rng\n",
    "rng = default_rng()\n",
    "import matplotlib.pyplot as plt\n",
    "import matplotlib.ticker as ticker\n",
    "import networkx as nx\n",
    "import torch\n",
    "from torch import Tensor\n"
   ]
  },
  {
   "cell_type": "code",
   "execution_count": 3,
   "id": "3475ed6e-5d9e-47ae-911d-41caed2a7cf6",
   "metadata": {},
   "outputs": [],
   "source": [
    "import ml_lib\n"
   ]
  },
  {
   "cell_type": "markdown",
   "id": "49ca92f8-b5c4-480b-9f7b-a7d2b47eda17",
   "metadata": {
    "tags": []
   },
   "source": [
    "## Datasets"
   ]
  },
  {
   "cell_type": "code",
   "execution_count": 4,
   "id": "bcb59e0b-d47d-4fa3-bd5c-12cbc7112498",
   "metadata": {},
   "outputs": [],
   "source": [
    "from ml_lib.datasets import register as dataset_register, transform_register"
   ]
  },
  {
   "cell_type": "code",
   "execution_count": 5,
   "id": "26cea4fc-9e73-46e6-acca-48b50bd4e55e",
   "metadata": {},
   "outputs": [],
   "source": [
    "dataset0 = dataset_register[\"Torus4D\"](1000)"
   ]
  },
  {
   "cell_type": "code",
   "execution_count": 6,
   "id": "fd359c44-3417-4b76-9570-202447d781bd",
   "metadata": {},
   "outputs": [],
   "source": [
    "dataset1 = transform_register[\"CacheTransform\"](dataset0)"
   ]
  },
  {
   "cell_type": "code",
   "execution_count": 7,
   "id": "5809ff0a-da88-45af-9913-7014b4a0a51f",
   "metadata": {},
   "outputs": [
    {
     "data": {
      "text/plain": [
       "tensor([[-1.0065,  0.0609,  0.2676, -0.9727]])"
      ]
     },
     "execution_count": 7,
     "metadata": {},
     "output_type": "execute_result"
    }
   ],
   "source": [
    "dataset1[0]"
   ]
  },
  {
   "cell_type": "code",
   "execution_count": 8,
   "id": "82f44708-e279-4422-b00d-3d40eb912abb",
   "metadata": {},
   "outputs": [
    {
     "data": {
      "text/plain": [
       "datapoint(x=tensor([[-1.0065,  0.0609,  0.2676, -0.9727]]))"
      ]
     },
     "execution_count": 8,
     "metadata": {},
     "output_type": "execute_result"
    }
   ],
   "source": [
    "dataset2 = transform_register[\"RenameTransform\"](dataset1, {\"_\": \"x\"})\n",
    "dataset2[0]"
   ]
  },
  {
   "cell_type": "code",
   "execution_count": 9,
   "id": "ca39be83-6328-452f-9dd7-822e9474eeb1",
   "metadata": {},
   "outputs": [
    {
     "data": {
      "text/plain": [
       "datapoint(x=tensor([[-1.0065,  0.0609,  0.2676, -0.9727]]), y=tensor([[-1.0065,  0.0609,  0.2676, -0.9727]]))"
      ]
     },
     "execution_count": 9,
     "metadata": {},
     "output_type": "execute_result"
    }
   ],
   "source": [
    "dataset3 = transform_register[\"RenameTransform\"](dataset2, {\"x\": \"x\", 0:\"y\"})\n",
    "dataset3[0]"
   ]
  },
  {
   "cell_type": "code",
   "execution_count": 10,
   "id": "cebea6a4-4148-4d14-84b9-1a4fcd0410e1",
   "metadata": {},
   "outputs": [
    {
     "data": {
      "text/plain": [
       "datapoint(x=tensor([[-0.7056,  0.0427,  0.1876, -0.6820]]), gt=tensor([[-1.0065,  0.0609,  0.2676, -0.9727]]))"
      ]
     },
     "execution_count": 10,
     "metadata": {},
     "output_type": "execute_result"
    }
   ],
   "source": [
    "normalize = lambda x : x / x.norm()\n",
    "dataset4 = transform_register[\"MultipleFunctionTransform\"](dataset3, {\"x\": (normalize, \"x\"), \"gt\": (lambda x:x, \"y\")})\n",
    "dataset4[0]"
   ]
  },
  {
   "cell_type": "markdown",
   "id": "c76780b0-47c8-4bd9-8d4a-0df334837b6b",
   "metadata": {},
   "source": [
    "great!"
   ]
  },
  {
   "cell_type": "markdown",
   "id": "b232574c-5703-4688-b0f7-99be279c79c1",
   "metadata": {
    "tags": []
   },
   "source": [
    "## Environments"
   ]
  },
  {
   "cell_type": "code",
   "execution_count": 11,
   "id": "8faa0bac-090c-4c70-bca8-7795002026bc",
   "metadata": {},
   "outputs": [],
   "source": [
    "from ml_lib.environment import Environment, Scope, scopevar_of_str, str_of_scopevar, HierarchicEnvironment, ScopedEnvironment"
   ]
  },
  {
   "cell_type": "code",
   "execution_count": 12,
   "id": "e4ad9cd4-aeab-4aac-8da7-f32ea22ed838",
   "metadata": {},
   "outputs": [
    {
     "data": {
      "text/plain": [
       "(('a', 'b'), 'c')"
      ]
     },
     "execution_count": 12,
     "metadata": {},
     "output_type": "execute_result"
    }
   ],
   "source": [
    "scopevar_of_str(\"a/b/c\")"
   ]
  },
  {
   "cell_type": "code",
   "execution_count": 13,
   "id": "72282cd4-17dd-4d57-b74c-40aea0b48080",
   "metadata": {},
   "outputs": [
    {
     "data": {
      "text/plain": [
       "'a/b/c'"
      ]
     },
     "execution_count": 13,
     "metadata": {},
     "output_type": "execute_result"
    }
   ],
   "source": [
    "str_of_scopevar(('a', 'b'), 'c')"
   ]
  },
  {
   "cell_type": "code",
   "execution_count": 14,
   "id": "c7efde3a-5b69-4ada-8e75-0451b4859ddc",
   "metadata": {},
   "outputs": [],
   "source": [
    "env = Environment()"
   ]
  },
  {
   "cell_type": "code",
   "execution_count": 15,
   "id": "3681ab99-19b5-48d3-ba87-dfa8da55c7bb",
   "metadata": {},
   "outputs": [
    {
     "data": {
      "text/plain": [
       "Environment(defaultdict(<class 'dict'>, {'_ipython_canary_method_should_not_exist_': {}, '_ipython_display_': {}, '_repr_mimebundle_': {}}))"
      ]
     },
     "execution_count": 15,
     "metadata": {},
     "output_type": "execute_result"
    }
   ],
   "source": [
    "env"
   ]
  },
  {
   "cell_type": "code",
   "execution_count": 16,
   "id": "4635378d-473f-43d9-a973-96e78a63e940",
   "metadata": {},
   "outputs": [],
   "source": [
    "env.record(\"hello\", 1)"
   ]
  },
  {
   "cell_type": "code",
   "execution_count": 17,
   "id": "ffb94b27-d9d0-43fb-bfc8-3f368f77bc8e",
   "metadata": {},
   "outputs": [
    {
     "data": {
      "text/plain": [
       "defaultdict(dict,\n",
       "            {'_ipython_canary_method_should_not_exist_': {},\n",
       "             '_ipython_display_': {},\n",
       "             '_repr_mimebundle_': {},\n",
       "             '_repr_html_': {},\n",
       "             '_repr_markdown_': {},\n",
       "             '_repr_svg_': {},\n",
       "             '_repr_png_': {},\n",
       "             '_repr_pdf_': {},\n",
       "             '_repr_jpeg_': {},\n",
       "             '_repr_latex_': {},\n",
       "             '_repr_json_': {},\n",
       "             '_repr_javascript_': {},\n",
       "             'hello': {(): 1}})"
      ]
     },
     "execution_count": 17,
     "metadata": {},
     "output_type": "execute_result"
    }
   ],
   "source": [
    "env.data"
   ]
  },
  {
   "cell_type": "code",
   "execution_count": 18,
   "id": "d4890ff8-761a-4e6e-8a73-42b2ac812808",
   "metadata": {},
   "outputs": [
    {
     "data": {
      "text/plain": [
       "defaultdict(dict,\n",
       "            {'_ipython_canary_method_should_not_exist_': {},\n",
       "             '_ipython_display_': {},\n",
       "             '_repr_mimebundle_': {},\n",
       "             '_repr_html_': {},\n",
       "             '_repr_markdown_': {},\n",
       "             '_repr_svg_': {},\n",
       "             '_repr_png_': {},\n",
       "             '_repr_pdf_': {},\n",
       "             '_repr_jpeg_': {},\n",
       "             '_repr_latex_': {},\n",
       "             '_repr_json_': {},\n",
       "             '_repr_javascript_': {},\n",
       "             'hello': {(): 1},\n",
       "             'world': {('some', 'scope'): 4}})"
      ]
     },
     "execution_count": 18,
     "metadata": {},
     "output_type": "execute_result"
    }
   ],
   "source": [
    "env.record(\"world\", 4, (\"some\", \"scope\"))\n",
    "env.data"
   ]
  },
  {
   "cell_type": "code",
   "execution_count": 19,
   "id": "bb3196cd-ec71-43c7-9159-bd7971cb0cc4",
   "metadata": {},
   "outputs": [
    {
     "data": {
      "text/plain": [
       "1"
      ]
     },
     "execution_count": 19,
     "metadata": {},
     "output_type": "execute_result"
    }
   ],
   "source": [
    "env.get(\"hello\")"
   ]
  },
  {
   "cell_type": "code",
   "execution_count": 20,
   "id": "91ea9683-7071-4554-8dac-cac7ffdbc478",
   "metadata": {},
   "outputs": [
    {
     "data": {
      "text/plain": [
       "4"
      ]
     },
     "execution_count": 20,
     "metadata": {},
     "output_type": "execute_result"
    }
   ],
   "source": [
    "env.get(\"world\")"
   ]
  },
  {
   "cell_type": "code",
   "execution_count": 21,
   "id": "454ff54f-0487-4382-a546-6ee4638ce9ef",
   "metadata": {},
   "outputs": [
    {
     "data": {
      "text/plain": [
       "4"
      ]
     },
     "execution_count": 21,
     "metadata": {},
     "output_type": "execute_result"
    }
   ],
   "source": [
    "#import pdb; pdb.set_trace()\n",
    "env.get(\"world\", scope=(\"some\",))"
   ]
  },
  {
   "cell_type": "code",
   "execution_count": 22,
   "id": "0bd673e8-3f56-469f-8ba8-d90228dd7f6e",
   "metadata": {},
   "outputs": [],
   "source": [
    "env.get(\"world\", scope=(\"soe\",))"
   ]
  },
  {
   "cell_type": "code",
   "execution_count": 23,
   "id": "40273039-d3d5-4111-97af-52e789c81a39",
   "metadata": {},
   "outputs": [],
   "source": [
    "hier_env = HierarchicEnvironment(parent=env)"
   ]
  },
  {
   "cell_type": "code",
   "execution_count": 24,
   "id": "92697ea6-3316-4186-bec0-23dcd8b2d0c5",
   "metadata": {},
   "outputs": [
    {
     "data": {
      "text/plain": [
       "2"
      ]
     },
     "execution_count": 24,
     "metadata": {},
     "output_type": "execute_result"
    }
   ],
   "source": [
    "hier_env.record(\"world\", 2, (\"some\",))\n",
    "hier_env.get(\"world\", scope=(\"some\",))\n"
   ]
  },
  {
   "cell_type": "code",
   "execution_count": 25,
   "id": "88d07bb9-a701-431e-91d7-b228555ffc6a",
   "metadata": {},
   "outputs": [
    {
     "data": {
      "text/plain": [
       "4"
      ]
     },
     "execution_count": 25,
     "metadata": {},
     "output_type": "execute_result"
    }
   ],
   "source": [
    "hier_env.get(\"world\", scope=(\"some\",\"scope\"))\n"
   ]
  },
  {
   "cell_type": "code",
   "execution_count": 26,
   "id": "e3a7bd05-bf0d-44ce-90d1-2abf36fddfed",
   "metadata": {},
   "outputs": [],
   "source": [
    "def f(world, hello=6, magic=3):\n",
    "    print(world, hello, magic)\n",
    "    return 1"
   ]
  },
  {
   "cell_type": "code",
   "execution_count": 27,
   "id": "598d5a9a-9a64-4145-bd7c-11a5e73f9925",
   "metadata": {},
   "outputs": [
    {
     "name": "stdout",
     "output_type": "stream",
     "text": [
      "2 1 3\n"
     ]
    },
    {
     "data": {
      "text/plain": [
       "1"
      ]
     },
     "execution_count": 27,
     "metadata": {},
     "output_type": "execute_result"
    }
   ],
   "source": [
    "hier_env.run_function(f)"
   ]
  },
  {
   "cell_type": "markdown",
   "id": "56f84cb9-c0f8-4753-890b-5eacf56006e1",
   "metadata": {},
   "source": [
    "## Model"
   ]
  },
  {
   "cell_type": "code",
   "execution_count": 28,
   "id": "dfc31937-5b0f-48ad-b705-e8977efda7b6",
   "metadata": {},
   "outputs": [
    {
     "name": "stdout",
     "output_type": "stream",
     "text": [
      "SimpleMLPModel(\n",
      "    dimensions=[4, 5, 10, 4, 4],\n",
      ")\n",
      "SimpleMLPModel(\n",
      "  (inner): MLP(\n",
      "    (linear_0): Linear(in_features=4, out_features=5, bias=True)\n",
      "    (activation_0): ReLU()\n",
      "    (linear_1): Linear(in_features=5, out_features=10, bias=True)\n",
      "    (activation_1): ReLU()\n",
      "    (linear_2): Linear(in_features=10, out_features=4, bias=True)\n",
      "    (activation_2): ReLU()\n",
      "    (linear_3): Linear(in_features=4, out_features=4, bias=True)\n",
      "  )\n",
      ")\n"
     ]
    }
   ],
   "source": [
    "from ml_lib.models import Model, Supervised, Hyperparameter\n",
    "from ml_lib.models.layers import MLP\n",
    "class SimpleMLPModel(Supervised):\n",
    "    \n",
    "    dimensions: Hyperparameter[list[int]]\n",
    "\n",
    "    inner: MLP\n",
    "\n",
    "    def __setup__(self):\n",
    "        self.inner = MLP(*self.dimensions, batchnorm=False)\n",
    "\n",
    "    def forward(self, x):\n",
    "        return self.inner(x)\n",
    "\n",
    "    def loss_fun(self, x, gt):\n",
    "        return (x - gt).square().sum()\n",
    "\n",
    "model = SimpleMLPModel(dimensions=[4, 5, 10, 4, 4])\n",
    "print(model)\n",
    "print(torch.nn.Module.__repr__(model))\n",
    "model.model_name = \"test_model\""
   ]
  },
  {
   "cell_type": "markdown",
   "id": "e9ffc541-f49c-4d5c-a2da-3a17b530b6c8",
   "metadata": {},
   "source": [
    "## Saving and loading to database"
   ]
  },
  {
   "cell_type": "code",
   "execution_count": 29,
   "id": "803d3147-2ea2-453f-8fdc-67be314ffee4",
   "metadata": {},
   "outputs": [],
   "source": [
    "from sqlalchemy import create_engine\n",
    "from sqlalchemy.orm import Session\n",
    "from ml_lib.experiment_tracking import create_tables, Model as Database_Model\n"
   ]
  },
  {
   "cell_type": "code",
   "execution_count": 30,
   "id": "6d92b0b0-de96-401a-abbb-8fc25374d8eb",
   "metadata": {},
   "outputs": [
    {
     "data": {
      "text/plain": [
       "'SimpleMLPModel'"
      ]
     },
     "execution_count": 30,
     "metadata": {},
     "output_type": "execute_result"
    }
   ],
   "source": [
    "model.get_model_type()"
   ]
  },
  {
   "cell_type": "code",
   "execution_count": 31,
   "id": "867810ca-302e-4c3e-aaab-275bc470572c",
   "metadata": {},
   "outputs": [
    {
     "data": {
      "text/plain": [
       "Model(id= None, model_type= SimpleMLPModel, name= test_model, description= None)"
      ]
     },
     "execution_count": 31,
     "metadata": {},
     "output_type": "execute_result"
    }
   ],
   "source": [
    "model.to_database_object()"
   ]
  },
  {
   "cell_type": "code",
   "execution_count": 32,
   "id": "0fc64de1-c910-44b7-a5c7-6cdc7998b1de",
   "metadata": {},
   "outputs": [
    {
     "name": "stdout",
     "output_type": "stream",
     "text": [
      "Model(id= 1, model_type= SimpleMLPModel, name= test_model, description= None)\n"
     ]
    },
    {
     "data": {
      "text/plain": [
       "1"
      ]
     },
     "execution_count": 32,
     "metadata": {},
     "output_type": "execute_result"
    }
   ],
   "source": [
    "print_requests = False\n",
    "db_engine = create_engine(\"sqlite:////tmp/test.db\", echo=print_requests)\n",
    "create_tables(db_engine)\n",
    "with Session(db_engine) as db_session:\n",
    "    model.save_to_database(db_session, replace=True)\n",
    "    #db_session.commit()\n",
    "    print(model.get_database_object(db_session))\n",
    "    model_object  = db_session.get(Database_Model, model.id)\n",
    "    db_session.commit()\n",
    "model.id"
   ]
  },
  {
   "cell_type": "code",
   "execution_count": 38,
   "id": "b5d6446f-3cb8-4228-95c0-541a84ea0456",
   "metadata": {},
   "outputs": [
    {
     "name": "stdout",
     "output_type": "stream",
     "text": [
      "Model(id= 1, model_type= SimpleMLPModel, name= test_model, description= None)\n",
      "<class 'sqlalchemy.orm.session.Session'>\n"
     ]
    }
   ],
   "source": [
    "with Session(db_engine) as db_session:\n",
    "    model_object  = db_session.get(Database_Model, model.id)\n",
    "    print(model_object)\n",
    "    print(type(db_session))\n"
   ]
  },
  {
   "cell_type": "code",
   "execution_count": null,
   "id": "5f80993c-023b-4096-8b56-75785b945087",
   "metadata": {},
   "outputs": [],
   "source": []
  },
  {
   "cell_type": "markdown",
   "id": "69300be5-9d40-4cad-8567-454ea9404830",
   "metadata": {},
   "source": [
    "## Training"
   ]
  },
  {
   "cell_type": "code",
   "execution_count": 34,
   "id": "9d5c3e97-a43c-416d-8b1a-b24ec5d53eb1",
   "metadata": {},
   "outputs": [],
   "source": [
    "from ml_lib.models import Model\n",
    "from ml_lib.pipeline import Trainer\n",
    "from ml_lib.pipeline.training_hooks import TqdmHook, LoggerHook, CurveHook\n",
    "from torch.utils.data import DataLoader"
   ]
  },
  {
   "cell_type": "code",
   "execution_count": 35,
   "id": "f683c8a1-1803-48e6-aa55-4f2991041e9f",
   "metadata": {},
   "outputs": [],
   "source": [
    "loader = DataLoader(dataset4, batch_size=None, shuffle=True)"
   ]
  },
  {
   "cell_type": "code",
   "execution_count": 36,
   "id": "9d9a0d8c-1ca9-4b0e-ad18-0f52cb5c5f41",
   "metadata": {},
   "outputs": [
    {
     "data": {
      "text/plain": [
       "datapoint(x=tensor([[-0.4805, -0.5292, -0.5577,  0.4219]]), gt=tensor([[-0.6796, -0.7485, -0.7889,  0.5968]]))"
      ]
     },
     "execution_count": 36,
     "metadata": {},
     "output_type": "execute_result"
    }
   ],
   "source": [
    "next(iter(loader))"
   ]
  },
  {
   "cell_type": "code",
   "execution_count": 37,
   "id": "ff11b26b-ef59-45fb-98d6-b3781c71ce7f",
   "metadata": {},
   "outputs": [
    {
     "data": {
      "application/vnd.jupyter.widget-view+json": {
       "model_id": "ddab56f99d144c9aaeb82ef9134f0281",
       "version_major": 2,
       "version_minor": 0
      },
      "text/plain": [
       "  0%|          | 0/4000 [00:00<?, ?it/s]"
      ]
     },
     "metadata": {},
     "output_type": "display_data"
    },
    {
     "name": "stderr",
     "output_type": "stream",
     "text": [
      "INFO:root:loss= 0.9821060299873352, \n",
      "INFO:root:loss= 1.5564428567886353, \n",
      "INFO:root:loss= 4.05483341217041, \n",
      "INFO:root:loss= 4.092958450317383, \n",
      "INFO:root:loss= 2.9928622245788574, \n",
      "INFO:root:loss= 3.238398313522339, \n",
      "INFO:root:loss= 3.6726975440979004, \n",
      "INFO:root:loss= 2.4147825241088867, \n",
      "INFO:root:loss= 2.198533058166504, \n",
      "INFO:root:loss= 3.6477832794189453, \n",
      "INFO:root:loss= 2.195890188217163, \n",
      "INFO:root:loss= 2.3298072814941406, \n",
      "INFO:root:loss= 1.7302006483078003, \n",
      "INFO:root:loss= 2.6889190673828125, \n",
      "INFO:root:loss= 1.8359925746917725, \n",
      "INFO:root:loss= 2.875742197036743, \n",
      "INFO:root:loss= 2.592878818511963, \n",
      "INFO:root:loss= 2.433959484100342, \n",
      "INFO:root:loss= 2.3393778800964355, \n",
      "INFO:root:loss= 2.2343454360961914, \n",
      "INFO:root:loss= 1.4649765491485596, \n",
      "INFO:root:loss= 1.2942402362823486, \n",
      "INFO:root:loss= 1.3919920921325684, \n",
      "INFO:root:loss= 1.1436883211135864, \n",
      "INFO:root:loss= 2.212385892868042, \n",
      "INFO:root:loss= 2.16654109954834, \n",
      "INFO:root:loss= 1.1187154054641724, \n",
      "INFO:root:loss= 1.0473124980926514, \n",
      "INFO:root:loss= 1.4842803478240967, \n",
      "INFO:root:loss= 1.7659839391708374, \n",
      "INFO:root:loss= 1.7001744508743286, \n",
      "INFO:root:loss= 2.555988311767578, \n",
      "INFO:root:loss= 1.5841611623764038, \n",
      "INFO:root:loss= 2.0981404781341553, \n",
      "INFO:root:loss= 1.5465564727783203, \n",
      "INFO:root:loss= 1.054423213005066, \n",
      "INFO:root:loss= 2.000380754470825, \n",
      "INFO:root:loss= 3.26377010345459, \n",
      "INFO:root:loss= 2.4451839923858643, \n",
      "INFO:root:loss= 2.5194449424743652, \n",
      "INFO:root:loss= 3.093937635421753, \n",
      "INFO:root:loss= 1.552161693572998, \n",
      "INFO:root:loss= 1.2862025499343872, \n",
      "INFO:root:loss= 0.9335840344429016, \n",
      "INFO:root:loss= 2.7102413177490234, \n",
      "INFO:root:loss= 0.6447705030441284, \n",
      "INFO:root:loss= 1.2251044511795044, \n",
      "INFO:root:loss= 2.6387176513671875, \n",
      "INFO:root:loss= 1.675734281539917, \n",
      "INFO:root:loss= 2.562810182571411, \n",
      "INFO:root:loss= 1.2373803853988647, \n",
      "INFO:root:loss= 1.7071655988693237, \n",
      "INFO:root:loss= 1.2329576015472412, \n",
      "INFO:root:loss= 1.9251492023468018, \n",
      "INFO:root:loss= 0.4008631706237793, \n",
      "INFO:root:loss= 2.1153838634490967, \n",
      "INFO:root:loss= 1.762841820716858, \n",
      "INFO:root:loss= 1.6045112609863281, \n",
      "INFO:root:loss= 0.240413635969162, \n",
      "INFO:root:loss= 1.0538911819458008, \n",
      "INFO:root:loss= 1.1884206533432007, \n",
      "INFO:root:loss= 1.7812738418579102, \n",
      "INFO:root:loss= 2.1812260150909424, \n",
      "INFO:root:loss= 0.9775704741477966, \n",
      "INFO:root:loss= 2.0702271461486816, \n",
      "INFO:root:loss= 1.5023860931396484, \n",
      "INFO:root:loss= 0.8889517784118652, \n",
      "INFO:root:loss= 1.1041659116744995, \n",
      "INFO:root:loss= 1.291283369064331, \n",
      "INFO:root:loss= 1.6055715084075928, \n",
      "INFO:root:loss= 1.3243672847747803, \n",
      "INFO:root:loss= 1.8950592279434204, \n",
      "INFO:root:loss= 0.6391147971153259, \n",
      "INFO:root:loss= 1.9386874437332153, \n",
      "INFO:root:loss= 1.8676700592041016, \n",
      "INFO:root:loss= 1.2839595079421997, \n",
      "INFO:root:loss= 1.8822768926620483, \n",
      "INFO:root:loss= 0.5285447835922241, \n",
      "INFO:root:loss= 2.474616050720215, \n",
      "INFO:root:loss= 1.2992256879806519, \n",
      "INFO:root:loss= 1.7906107902526855, \n",
      "INFO:root:loss= 0.89039146900177, \n",
      "INFO:root:loss= 1.9083244800567627, \n",
      "INFO:root:loss= 1.1583216190338135, \n",
      "INFO:root:loss= 1.586092233657837, \n",
      "INFO:root:loss= 1.8718104362487793, \n",
      "INFO:root:loss= 1.4097914695739746, \n",
      "INFO:root:loss= 1.3026487827301025, \n",
      "INFO:root:loss= 1.586300015449524, \n",
      "INFO:root:loss= 1.5262420177459717, \n",
      "INFO:root:loss= 1.3538649082183838, \n",
      "INFO:root:loss= 1.4685108661651611, \n",
      "INFO:root:loss= 0.8369483351707458, \n",
      "INFO:root:loss= 1.829148530960083, \n",
      "INFO:root:loss= 1.0884063243865967, \n",
      "INFO:root:loss= 0.49392005801200867, \n",
      "INFO:root:loss= 0.29291266202926636, \n",
      "INFO:root:loss= 1.1255154609680176, \n",
      "INFO:root:loss= 1.6919872760772705, \n",
      "INFO:root:loss= 1.3286365270614624, \n",
      "INFO:root:loss= 1.3342515230178833, \n",
      "INFO:root:loss= 0.21555736660957336, \n",
      "INFO:root:loss= 0.36343494057655334, \n",
      "INFO:root:loss= 0.23123478889465332, \n",
      "INFO:root:loss= 0.8713774681091309, \n",
      "INFO:root:loss= 0.09602557867765427, \n",
      "INFO:root:loss= 2.0958142280578613, \n",
      "INFO:root:loss= 1.3097442388534546, \n",
      "INFO:root:loss= 0.17829567193984985, \n",
      "INFO:root:loss= 1.5588011741638184, \n",
      "INFO:root:loss= 1.4775390625, \n",
      "INFO:root:loss= 1.3922207355499268, \n",
      "INFO:root:loss= 1.770427942276001, \n",
      "INFO:root:loss= 1.510500431060791, \n",
      "INFO:root:loss= 1.781177043914795, \n",
      "INFO:root:loss= 0.4067205488681793, \n",
      "INFO:root:loss= 0.6690583229064941, \n",
      "INFO:root:loss= 1.687046766281128, \n",
      "INFO:root:loss= 1.0919642448425293, \n",
      "INFO:root:loss= 0.5733667016029358, \n",
      "INFO:root:loss= 1.6611008644104004, \n",
      "INFO:root:loss= 0.9630749225616455, \n",
      "INFO:root:loss= 1.8761122226715088, \n",
      "INFO:root:loss= 0.7051167488098145, \n",
      "INFO:root:loss= 0.2659396231174469, \n",
      "INFO:root:loss= 1.785224437713623, \n",
      "INFO:root:loss= 1.912109136581421, \n",
      "INFO:root:loss= 0.966422975063324, \n",
      "INFO:root:loss= 0.9492711424827576, \n",
      "INFO:root:loss= 0.19896985590457916, \n",
      "INFO:root:loss= 0.9840900897979736, \n",
      "INFO:root:loss= 0.6011677980422974, \n",
      "INFO:root:loss= 1.3433773517608643, \n",
      "INFO:root:loss= 0.1954106241464615, \n",
      "INFO:root:loss= 1.7361096143722534, \n",
      "INFO:root:loss= 0.2030644714832306, \n",
      "INFO:root:loss= 1.023063063621521, \n",
      "INFO:root:loss= 0.920569658279419, \n",
      "INFO:root:loss= 0.5168655514717102, \n",
      "INFO:root:loss= 0.5059170722961426, \n",
      "INFO:root:loss= 1.1517138481140137, \n",
      "INFO:root:loss= 1.0806738138198853, \n",
      "INFO:root:loss= 0.48680227994918823, \n",
      "INFO:root:loss= 0.5938550233840942, \n",
      "INFO:root:loss= 0.9053622484207153, \n",
      "INFO:root:loss= 0.5552213191986084, \n",
      "INFO:root:loss= 0.08122339844703674, \n",
      "INFO:root:loss= 1.6456934213638306, \n",
      "INFO:root:loss= 0.2877535820007324, \n",
      "INFO:root:loss= 0.5197866559028625, \n",
      "INFO:root:loss= 0.0679454654455185, \n",
      "INFO:root:loss= 0.6809787750244141, \n",
      "INFO:root:loss= 1.630710244178772, \n",
      "INFO:root:loss= 1.6091704368591309, \n",
      "INFO:root:loss= 0.5222525596618652, \n",
      "INFO:root:loss= 1.0593936443328857, \n",
      "INFO:root:loss= 0.013930946588516235, \n",
      "INFO:root:loss= 0.03361900895833969, \n",
      "INFO:root:loss= 0.22244802117347717, \n",
      "INFO:root:loss= 0.7543586492538452, \n",
      "INFO:root:loss= 0.3501262366771698, \n",
      "INFO:root:loss= 0.7162203788757324, \n",
      "INFO:root:loss= 1.3267908096313477, \n",
      "INFO:root:loss= 0.008957370184361935, \n",
      "INFO:root:loss= 0.1428886502981186, \n",
      "INFO:root:loss= 0.11308589577674866, \n",
      "INFO:root:loss= 0.1454385668039322, \n",
      "INFO:root:loss= 0.3068275451660156, \n",
      "INFO:root:loss= 0.1586863398551941, \n",
      "INFO:root:loss= 0.15457244217395782, \n",
      "INFO:root:loss= 0.12059907615184784, \n",
      "INFO:root:loss= 1.4190033674240112, \n",
      "INFO:root:loss= 0.07752713561058044, \n",
      "INFO:root:loss= 0.03965020924806595, \n",
      "INFO:root:loss= 1.7788244485855103, \n",
      "INFO:root:loss= 0.7665370106697083, \n",
      "INFO:root:loss= 0.15782244503498077, \n",
      "INFO:root:loss= 0.4653381407260895, \n",
      "INFO:root:loss= 0.7718478441238403, \n",
      "INFO:root:loss= 1.3332760334014893, \n",
      "INFO:root:loss= 0.24105247855186462, \n",
      "INFO:root:loss= 0.014886666089296341, \n",
      "INFO:root:loss= 1.1054401397705078, \n",
      "INFO:root:loss= 0.3775937855243683, \n",
      "INFO:root:loss= 0.658214807510376, \n",
      "INFO:root:loss= 1.6817965507507324, \n",
      "INFO:root:loss= 0.05000746622681618, \n",
      "INFO:root:loss= 1.2060123682022095, \n",
      "INFO:root:loss= 1.8303849697113037, \n",
      "INFO:root:loss= 0.09051506221294403, \n",
      "INFO:root:loss= 0.37988045811653137, \n",
      "INFO:root:loss= 0.2934204936027527, \n",
      "INFO:root:loss= 0.2123776376247406, \n",
      "INFO:root:loss= 1.6524484157562256, \n",
      "INFO:root:loss= 0.06322116404771805, \n",
      "INFO:root:loss= 0.06426848471164703, \n",
      "INFO:root:loss= 0.0880633294582367, \n",
      "INFO:root:loss= 0.14097431302070618, \n",
      "INFO:root:loss= 0.3470347821712494, \n",
      "INFO:root:loss= 0.12229198962450027, \n",
      "INFO:root:loss= 1.472313642501831, \n",
      "INFO:root:loss= 0.03316251561045647, \n",
      "INFO:root:loss= 0.1818239837884903, \n",
      "INFO:root:loss= 0.7250284552574158, \n",
      "INFO:root:loss= 0.1088639423251152, \n",
      "INFO:root:loss= 0.08670102059841156, \n",
      "INFO:root:loss= 0.15961910784244537, \n",
      "INFO:root:loss= 0.30836930871009827, \n",
      "INFO:root:loss= 1.0338691473007202, \n",
      "INFO:root:loss= 1.0077518224716187, \n",
      "INFO:root:loss= 0.14365586638450623, \n",
      "INFO:root:loss= 0.034600630402565, \n",
      "INFO:root:loss= 0.7298479080200195, \n",
      "INFO:root:loss= 0.24213838577270508, \n",
      "INFO:root:loss= 0.07188111543655396, \n",
      "INFO:root:loss= 0.033136263489723206, \n",
      "INFO:root:loss= 0.05245095491409302, \n",
      "INFO:root:loss= 0.056327734142541885, \n",
      "INFO:root:loss= 0.6786654591560364, \n",
      "INFO:root:loss= 0.24339675903320312, \n",
      "INFO:root:loss= 0.4403649866580963, \n",
      "INFO:root:loss= 0.19124865531921387, \n",
      "INFO:root:loss= 0.1418653279542923, \n",
      "INFO:root:loss= 0.30882349610328674, \n",
      "INFO:root:loss= 0.2425869107246399, \n",
      "INFO:root:loss= 1.6301833391189575, \n",
      "INFO:root:loss= 0.09877409785985947, \n",
      "INFO:root:loss= 0.8884620070457458, \n",
      "INFO:root:loss= 0.11551658809185028, \n",
      "INFO:root:loss= 0.17481902241706848, \n",
      "INFO:root:loss= 0.24828016757965088, \n",
      "INFO:root:loss= 0.11040366441011429, \n",
      "INFO:root:loss= 0.034345462918281555, \n",
      "INFO:root:loss= 1.4519526958465576, \n",
      "INFO:root:loss= 0.4011205732822418, \n",
      "INFO:root:loss= 0.2847600281238556, \n",
      "INFO:root:loss= 0.6677662134170532, \n",
      "INFO:root:loss= 0.06180131435394287, \n",
      "INFO:root:loss= 0.5048380494117737, \n",
      "INFO:root:loss= 1.9758118391036987, \n",
      "INFO:root:loss= 0.01903189718723297, \n",
      "INFO:root:loss= 0.3971760869026184, \n",
      "INFO:root:loss= 0.05437968298792839, \n",
      "INFO:root:loss= 0.021621624007821083, \n",
      "INFO:root:loss= 0.09326548129320145, \n",
      "INFO:root:loss= 0.25737178325653076, \n",
      "INFO:root:loss= 0.10111750662326813, \n",
      "INFO:root:loss= 1.106252670288086, \n",
      "INFO:root:loss= 1.5177366733551025, \n",
      "INFO:root:loss= 0.021331505849957466, \n",
      "INFO:root:loss= 0.4993899166584015, \n",
      "INFO:root:loss= 0.5460506081581116, \n",
      "INFO:root:loss= 0.4009712338447571, \n",
      "INFO:root:loss= 0.03498868644237518, \n",
      "INFO:root:loss= 0.9398460388183594, \n",
      "INFO:root:loss= 0.07764458656311035, \n",
      "INFO:root:loss= 0.1859613060951233, \n",
      "INFO:root:loss= 0.23518024384975433, \n",
      "INFO:root:loss= 0.18254810571670532, \n",
      "INFO:root:loss= 0.233939990401268, \n",
      "INFO:root:loss= 0.6094949841499329, \n",
      "INFO:root:loss= 0.10001999139785767, \n",
      "INFO:root:loss= 0.16109398007392883, \n",
      "INFO:root:loss= 0.6163638830184937, \n",
      "INFO:root:loss= 1.4137145280838013, \n",
      "INFO:root:loss= 1.885465145111084, \n",
      "INFO:root:loss= 0.5088798999786377, \n",
      "INFO:root:loss= 0.0728185623884201, \n",
      "INFO:root:loss= 0.18774858117103577, \n",
      "INFO:root:loss= 1.082545280456543, \n",
      "INFO:root:loss= 0.9130157232284546, \n",
      "INFO:root:loss= 0.2638387382030487, \n",
      "INFO:root:loss= 0.17369769513607025, \n",
      "INFO:root:loss= 0.048712439835071564, \n",
      "INFO:root:loss= 0.07644857466220856, \n",
      "INFO:root:loss= 1.2209211587905884, \n",
      "INFO:root:loss= 0.08795928210020065, \n",
      "INFO:root:loss= 0.05972357839345932, \n",
      "INFO:root:loss= 0.048547159880399704, \n",
      "INFO:root:loss= 0.8247796893119812, \n",
      "INFO:root:loss= 0.09398140758275986, \n",
      "INFO:root:loss= 0.029633261263370514, \n",
      "INFO:root:loss= 0.06773148477077484, \n",
      "INFO:root:loss= 0.10440564900636673, \n",
      "INFO:root:loss= 0.0631355345249176, \n",
      "INFO:root:loss= 1.6367366313934326, \n",
      "INFO:root:loss= 1.2038133144378662, \n",
      "INFO:root:loss= 1.8629933595657349, \n",
      "INFO:root:loss= 0.24509753286838531, \n",
      "INFO:root:loss= 0.10140220820903778, \n",
      "INFO:root:loss= 1.1922624111175537, \n",
      "INFO:root:loss= 1.073286771774292, \n",
      "INFO:root:loss= 0.6140918731689453, \n",
      "INFO:root:loss= 1.1805999279022217, \n",
      "INFO:root:loss= 0.736122190952301, \n",
      "INFO:root:loss= 1.2026833295822144, \n",
      "INFO:root:loss= 0.49113261699676514, \n",
      "INFO:root:loss= 0.06920228153467178, \n",
      "INFO:root:loss= 0.5010915994644165, \n",
      "INFO:root:loss= 1.4348695278167725, \n",
      "INFO:root:loss= 1.461127519607544, \n",
      "INFO:root:loss= 0.7325634956359863, \n",
      "INFO:root:loss= 0.028356553986668587, \n",
      "INFO:root:loss= 0.4989662170410156, \n",
      "INFO:root:loss= 0.08867794275283813, \n",
      "INFO:root:loss= 0.0424116775393486, \n",
      "INFO:root:loss= 0.02269592136144638, \n",
      "INFO:root:loss= 0.006687575951218605, \n",
      "INFO:root:loss= 0.025861160829663277, \n",
      "INFO:root:loss= 0.06490892171859741, \n",
      "INFO:root:loss= 0.0024999696761369705, \n",
      "INFO:root:loss= 0.029521245509386063, \n",
      "INFO:root:loss= 1.1837379932403564, \n",
      "INFO:root:loss= 0.17341399192810059, \n",
      "INFO:root:loss= 0.06845974177122116, \n",
      "INFO:root:loss= 0.01281822845339775, \n",
      "INFO:root:loss= 0.08773620426654816, \n",
      "INFO:root:loss= 0.23795980215072632, \n",
      "INFO:root:loss= 0.04098670184612274, \n",
      "INFO:root:loss= 0.3542272448539734, \n",
      "INFO:root:loss= 0.010668685659766197, \n",
      "INFO:root:loss= 0.017971042543649673, \n",
      "INFO:root:loss= 0.8124518990516663, \n",
      "INFO:root:loss= 1.1819186210632324, \n",
      "INFO:root:loss= 0.15218354761600494, \n",
      "INFO:root:loss= 0.06716060638427734, \n",
      "INFO:root:loss= 1.0588750839233398, \n",
      "INFO:root:loss= 0.3814651370048523, \n",
      "INFO:root:loss= 0.4067944288253784, \n",
      "INFO:root:loss= 0.03936777263879776, \n",
      "INFO:root:loss= 0.8714657425880432, \n",
      "INFO:root:loss= 1.521733283996582, \n",
      "INFO:root:loss= 0.07926574349403381, \n",
      "INFO:root:loss= 1.018457055091858, \n",
      "INFO:root:loss= 0.4376528859138489, \n",
      "INFO:root:loss= 0.010946981608867645, \n",
      "INFO:root:loss= 1.2732844352722168, \n",
      "INFO:root:loss= 0.046280425041913986, \n",
      "INFO:root:loss= 0.23942387104034424, \n",
      "INFO:root:loss= 0.0012635992607101798, \n",
      "INFO:root:loss= 1.3346469402313232, \n",
      "INFO:root:loss= 0.37737736105918884, \n",
      "INFO:root:loss= 0.10721495002508163, \n",
      "INFO:root:loss= 0.25505807995796204, \n",
      "INFO:root:loss= 0.1509632170200348, \n",
      "INFO:root:loss= 0.2355225682258606, \n",
      "INFO:root:loss= 0.0014802268706262112, \n",
      "INFO:root:loss= 0.04113086313009262, \n",
      "INFO:root:loss= 0.002691099885851145, \n",
      "INFO:root:loss= 1.2633864879608154, \n",
      "INFO:root:loss= 0.7175599336624146, \n",
      "INFO:root:loss= 1.1866214275360107, \n",
      "INFO:root:loss= 1.240514874458313, \n",
      "INFO:root:loss= 0.9145286083221436, \n",
      "INFO:root:loss= 0.9660462141036987, \n",
      "INFO:root:loss= 0.08136659860610962, \n",
      "INFO:root:loss= 0.6371064782142639, \n",
      "INFO:root:loss= 0.04302578046917915, \n",
      "INFO:root:loss= 0.22469493746757507, \n",
      "INFO:root:loss= 1.7501379251480103, \n",
      "INFO:root:loss= 0.15256035327911377, \n",
      "INFO:root:loss= 0.6900340914726257, \n",
      "INFO:root:loss= 0.04044635593891144, \n",
      "INFO:root:loss= 0.01619614288210869, \n",
      "INFO:root:loss= 0.12380783259868622, \n",
      "INFO:root:loss= 0.32589855790138245, \n",
      "INFO:root:loss= 0.021061556413769722, \n",
      "INFO:root:loss= 0.019884077832102776, \n",
      "INFO:root:loss= 1.848361611366272, \n",
      "INFO:root:loss= 0.2541978657245636, \n",
      "INFO:root:loss= 1.3644050359725952, \n",
      "INFO:root:loss= 0.010756107047200203, \n",
      "INFO:root:loss= 0.3208898901939392, \n",
      "INFO:root:loss= 0.1791139841079712, \n",
      "INFO:root:loss= 0.039455316960811615, \n",
      "INFO:root:loss= 0.005461947061121464, \n",
      "INFO:root:loss= 0.5651451945304871, \n",
      "INFO:root:loss= 0.8818047046661377, \n",
      "INFO:root:loss= 0.549681544303894, \n",
      "INFO:root:loss= 0.04586849361658096, \n",
      "INFO:root:loss= 0.9401664137840271, \n",
      "INFO:root:loss= 0.13405673205852509, \n",
      "INFO:root:loss= 0.03366441652178764, \n",
      "INFO:root:loss= 1.2115352153778076, \n",
      "INFO:root:loss= 0.18019229173660278, \n",
      "INFO:root:loss= 1.1191774606704712, \n",
      "INFO:root:loss= 1.605826497077942, \n",
      "INFO:root:loss= 0.804600715637207, \n",
      "INFO:root:loss= 0.00838304404169321, \n",
      "INFO:root:loss= 0.00272102328017354, \n",
      "INFO:root:loss= 0.5159187316894531, \n",
      "INFO:root:loss= 0.04799647256731987, \n",
      "INFO:root:loss= 1.182124137878418, \n",
      "INFO:root:loss= 0.03583147004246712, \n",
      "INFO:root:loss= 0.0011908946326002479, \n",
      "INFO:root:loss= 0.0017725463258102536, \n",
      "INFO:root:loss= 1.3395521640777588, \n",
      "INFO:root:loss= 0.0014970991760492325, \n",
      "INFO:root:loss= 1.7792623043060303, \n",
      "INFO:root:loss= 0.956601619720459, \n"
     ]
    }
   ],
   "source": [
    "import logging; logging.basicConfig(level=logging.INFO, force=True)\n",
    "\n",
    "curve = CurveHook()\n",
    "\n",
    "trainer = Trainer(model, loader, n_epochs = 4, device=\"cpu\",\n",
    "    step_hooks = [ \n",
    "        TqdmHook(),\n",
    "        LoggerHook(interval=10),\n",
    "        curve\n",
    "    ]\n",
    "                                                                      \n",
    "                 )\n",
    "trainer.train()"
   ]
  },
  {
   "cell_type": "code",
   "execution_count": null,
   "id": "4f5072d9-382c-4bff-8b9e-7414252cfdf7",
   "metadata": {},
   "outputs": [],
   "source": [
    "curve.draw()"
   ]
  },
  {
   "cell_type": "code",
   "execution_count": null,
   "id": "761919ac-a872-4b85-8cf2-3bb17114a1ae",
   "metadata": {},
   "outputs": [],
   "source": [
    "pip install matplotlib"
   ]
  },
  {
   "cell_type": "code",
   "execution_count": null,
   "id": "6209b798-bdf6-4e91-9fd0-b9ba629c9e5b",
   "metadata": {},
   "outputs": [],
   "source": []
  }
 ],
 "metadata": {
  "kernelspec": {
   "display_name": "Python 3 (ipykernel)",
   "language": "python",
   "name": "python3"
  },
  "language_info": {
   "codemirror_mode": {
    "name": "ipython",
    "version": 3
   },
   "file_extension": ".py",
   "mimetype": "text/x-python",
   "name": "python",
   "nbconvert_exporter": "python",
   "pygments_lexer": "ipython3",
   "version": "3.11.5"
  }
 },
 "nbformat": 4,
 "nbformat_minor": 5
}
