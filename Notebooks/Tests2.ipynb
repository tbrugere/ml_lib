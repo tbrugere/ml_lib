{
 "cells": [
  {
   "cell_type": "markdown",
   "id": "988b919e-7daf-4162-8c84-b2890ab82cac",
   "metadata": {},
   "source": [
    "# Tests"
   ]
  },
  {
   "cell_type": "markdown",
   "id": "afb7059d-3b1c-4363-9735-2629bf454125",
   "metadata": {},
   "source": [
    "## Imports and stuff"
   ]
  },
  {
   "cell_type": "code",
   "execution_count": 1,
   "id": "a756cc65-6c1e-472b-9b9c-0abdf60a1b6c",
   "metadata": {
    "tags": []
   },
   "outputs": [],
   "source": [
    "import sys\n",
    "from copy import copy\n",
    "\n",
    "def append_path(s):\n",
    "    if s in sys.path:\n",
    "        return\n",
    "    sys.path.append(s)\n",
    "\n",
    "append_path(\"..\")\n",
    "#%load_ext autoreload\n",
    "#%autoreload 2"
   ]
  },
  {
   "cell_type": "code",
   "execution_count": 2,
   "id": "d469e6ee-0505-4851-8bf6-4d31ab8ae3ea",
   "metadata": {},
   "outputs": [],
   "source": [
    "import numpy as np\n",
    "from numpy.random import default_rng\n",
    "rng = default_rng()\n",
    "import matplotlib.pyplot as plt\n",
    "import matplotlib.ticker as ticker\n",
    "import networkx as nx\n",
    "import torch\n",
    "from torch import Tensor\n"
   ]
  },
  {
   "cell_type": "code",
   "execution_count": 3,
   "id": "3475ed6e-5d9e-47ae-911d-41caed2a7cf6",
   "metadata": {},
   "outputs": [],
   "source": [
    "import ml_lib\n",
    "from ml_lib import feature_specification"
   ]
  },
  {
   "cell_type": "code",
   "execution_count": 4,
   "id": "db05ef3f-c414-4209-b84f-5904d0e525f0",
   "metadata": {},
   "outputs": [
    {
     "name": "stdout",
     "output_type": "stream",
     "text": [
      "base_classes.py  feature_specification.py  registration.py\n",
      "datapoint.py     __init__.py               splitting.py\n",
      "\u001b[0m\u001b[01;34mdatasets\u001b[0m/        \u001b[01;34m__pycache__\u001b[0m/              transforms.py\n"
     ]
    }
   ],
   "source": [
    "ls ../ml_lib/datasets"
   ]
  },
  {
   "cell_type": "markdown",
   "id": "49ca92f8-b5c4-480b-9f7b-a7d2b47eda17",
   "metadata": {
    "tags": []
   },
   "source": [
    "## Datasets"
   ]
  },
  {
   "cell_type": "code",
   "execution_count": 5,
   "id": "bcb59e0b-d47d-4fa3-bd5c-12cbc7112498",
   "metadata": {},
   "outputs": [],
   "source": [
    "from ml_lib.datasets import register as dataset_register, transform_register, load_transform, load_dataset, Transform\n",
    "from ml_lib.datasets.transforms import MultipleFunctionTransform"
   ]
  },
  {
   "cell_type": "code",
   "execution_count": 6,
   "id": "26cea4fc-9e73-46e6-acca-48b50bd4e55e",
   "metadata": {},
   "outputs": [],
   "source": [
    "dataset0 = dataset_register[\"Torus4D\"](1000)"
   ]
  },
  {
   "cell_type": "code",
   "execution_count": 7,
   "id": "fd359c44-3417-4b76-9570-202447d781bd",
   "metadata": {},
   "outputs": [],
   "source": [
    "transform = transform_register[\"CacheTransform\"]() \n",
    "dataset1 = transform(dataset0)"
   ]
  },
  {
   "cell_type": "code",
   "execution_count": 8,
   "id": "a804da77-671a-4da2-ab15-5f1cebdc5eb7",
   "metadata": {},
   "outputs": [
    {
     "data": {
      "text/plain": [
       "<ml_lib.datasets.datasets.simple_shapes.Torus4D at 0x7a96a426ab90>"
      ]
     },
     "execution_count": 8,
     "metadata": {},
     "output_type": "execute_result"
    }
   ],
   "source": [
    "dataset1._inner"
   ]
  },
  {
   "cell_type": "code",
   "execution_count": 9,
   "id": "5809ff0a-da88-45af-9913-7014b4a0a51f",
   "metadata": {},
   "outputs": [
    {
     "data": {
      "text/plain": [
       "tensor([[ 0.0429, -1.0204,  0.3911,  0.9025]])"
      ]
     },
     "execution_count": 9,
     "metadata": {},
     "output_type": "execute_result"
    }
   ],
   "source": [
    "dataset1[0]"
   ]
  },
  {
   "cell_type": "code",
   "execution_count": 10,
   "id": "82f44708-e279-4422-b00d-3d40eb912abb",
   "metadata": {},
   "outputs": [
    {
     "data": {
      "text/plain": [
       "<ml_lib.datasets.datapoint.DictDatapoint at 0x7a96a49d53d0>"
      ]
     },
     "execution_count": 10,
     "metadata": {},
     "output_type": "execute_result"
    }
   ],
   "source": [
    "dataset2 = transform_register[\"RenameTransform\"]({\"x\": \"_\"})(dataset1)\n",
    "dataset2[0]"
   ]
  },
  {
   "cell_type": "code",
   "execution_count": 11,
   "id": "ca39be83-6328-452f-9dd7-822e9474eeb1",
   "metadata": {},
   "outputs": [
    {
     "data": {
      "text/plain": [
       "<ml_lib.datasets.datapoint.DictDatapoint at 0x7a96a3900ad0>"
      ]
     },
     "execution_count": 11,
     "metadata": {},
     "output_type": "execute_result"
    }
   ],
   "source": [
    "dataset3 = transform_register[\"RenameTransform\"]({\"x\": \"x\", \"y\":\"x\"})(dataset2)\n",
    "dataset3[0]"
   ]
  },
  {
   "cell_type": "code",
   "execution_count": 12,
   "id": "cebea6a4-4148-4d14-84b9-1a4fcd0410e1",
   "metadata": {},
   "outputs": [
    {
     "data": {
      "text/plain": [
       "<ml_lib.datasets.datapoint.DictDatapoint at 0x7a96a4a4ac90>"
      ]
     },
     "execution_count": 12,
     "metadata": {},
     "output_type": "execute_result"
    }
   ],
   "source": [
    "normalize = lambda x : x / x.norm()\n",
    "dataset4 = transform_register[\"MultipleFunctionTransform\"]({\"x\": (normalize, \"x\"), \"gt\": (lambda x:x, \"y\")})(dataset3)\n",
    "dataset4[0]"
   ]
  },
  {
   "cell_type": "code",
   "execution_count": 13,
   "id": "aa9d7e06-917d-4afd-bd3c-b6f96c0e778d",
   "metadata": {},
   "outputs": [],
   "source": [
    "@transform_register\n",
    "class TestTransform(MultipleFunctionTransform):\n",
    "\n",
    "    def __init__(self):\n",
    "        super().__init__({\"x\": (normalize, \"x\"), \"gt\": (lambda x:x, \"y\")})"
   ]
  },
  {
   "cell_type": "markdown",
   "id": "c76780b0-47c8-4bd9-8d4a-0df334837b6b",
   "metadata": {},
   "source": [
    "great!"
   ]
  },
  {
   "cell_type": "markdown",
   "id": "b232574c-5703-4688-b0f7-99be279c79c1",
   "metadata": {
    "jp-MarkdownHeadingCollapsed": true,
    "tags": []
   },
   "source": [
    "## Environments"
   ]
  },
  {
   "cell_type": "code",
   "execution_count": 14,
   "id": "8faa0bac-090c-4c70-bca8-7795002026bc",
   "metadata": {},
   "outputs": [],
   "source": [
    "from ml_lib.environment import Environment, Scope, scopevar_of_str, str_of_scopevar, HierarchicEnvironment, ScopedEnvironment"
   ]
  },
  {
   "cell_type": "code",
   "execution_count": 15,
   "id": "e4ad9cd4-aeab-4aac-8da7-f32ea22ed838",
   "metadata": {},
   "outputs": [
    {
     "data": {
      "text/plain": [
       "(('a', 'b'), 'c')"
      ]
     },
     "execution_count": 15,
     "metadata": {},
     "output_type": "execute_result"
    }
   ],
   "source": [
    "scopevar_of_str(\"a/b/c\")"
   ]
  },
  {
   "cell_type": "code",
   "execution_count": 16,
   "id": "72282cd4-17dd-4d57-b74c-40aea0b48080",
   "metadata": {},
   "outputs": [
    {
     "data": {
      "text/plain": [
       "'a/b/c'"
      ]
     },
     "execution_count": 16,
     "metadata": {},
     "output_type": "execute_result"
    }
   ],
   "source": [
    "str_of_scopevar(('a', 'b'), 'c')"
   ]
  },
  {
   "cell_type": "code",
   "execution_count": 17,
   "id": "c7efde3a-5b69-4ada-8e75-0451b4859ddc",
   "metadata": {},
   "outputs": [],
   "source": [
    "env = Environment()"
   ]
  },
  {
   "cell_type": "code",
   "execution_count": 18,
   "id": "3681ab99-19b5-48d3-ba87-dfa8da55c7bb",
   "metadata": {},
   "outputs": [
    {
     "data": {
      "text/plain": [
       "Environment(defaultdict(<class 'dict'>, {'_ipython_canary_method_should_not_exist_': {}, '_ipython_display_': {}, '_repr_mimebundle_': {}}))"
      ]
     },
     "execution_count": 18,
     "metadata": {},
     "output_type": "execute_result"
    }
   ],
   "source": [
    "env"
   ]
  },
  {
   "cell_type": "code",
   "execution_count": 19,
   "id": "4635378d-473f-43d9-a973-96e78a63e940",
   "metadata": {},
   "outputs": [],
   "source": [
    "env.record(\"hello\", 1)"
   ]
  },
  {
   "cell_type": "code",
   "execution_count": 20,
   "id": "ffb94b27-d9d0-43fb-bfc8-3f368f77bc8e",
   "metadata": {},
   "outputs": [
    {
     "data": {
      "text/plain": [
       "defaultdict(dict,\n",
       "            {'_ipython_canary_method_should_not_exist_': {},\n",
       "             '_ipython_display_': {},\n",
       "             '_repr_mimebundle_': {},\n",
       "             '_repr_html_': {},\n",
       "             '_repr_markdown_': {},\n",
       "             '_repr_svg_': {},\n",
       "             '_repr_png_': {},\n",
       "             '_repr_pdf_': {},\n",
       "             '_repr_jpeg_': {},\n",
       "             '_repr_latex_': {},\n",
       "             '_repr_json_': {},\n",
       "             '_repr_javascript_': {},\n",
       "             'hello': {(): 1}})"
      ]
     },
     "execution_count": 20,
     "metadata": {},
     "output_type": "execute_result"
    }
   ],
   "source": [
    "env.data"
   ]
  },
  {
   "cell_type": "code",
   "execution_count": 21,
   "id": "d4890ff8-761a-4e6e-8a73-42b2ac812808",
   "metadata": {},
   "outputs": [
    {
     "data": {
      "text/plain": [
       "defaultdict(dict,\n",
       "            {'_ipython_canary_method_should_not_exist_': {},\n",
       "             '_ipython_display_': {},\n",
       "             '_repr_mimebundle_': {},\n",
       "             '_repr_html_': {},\n",
       "             '_repr_markdown_': {},\n",
       "             '_repr_svg_': {},\n",
       "             '_repr_png_': {},\n",
       "             '_repr_pdf_': {},\n",
       "             '_repr_jpeg_': {},\n",
       "             '_repr_latex_': {},\n",
       "             '_repr_json_': {},\n",
       "             '_repr_javascript_': {},\n",
       "             'hello': {(): 1},\n",
       "             'world': {('some', 'scope'): 4}})"
      ]
     },
     "execution_count": 21,
     "metadata": {},
     "output_type": "execute_result"
    }
   ],
   "source": [
    "env.record(\"world\", 4, (\"some\", \"scope\"))\n",
    "env.data"
   ]
  },
  {
   "cell_type": "code",
   "execution_count": 22,
   "id": "bb3196cd-ec71-43c7-9159-bd7971cb0cc4",
   "metadata": {},
   "outputs": [
    {
     "data": {
      "text/plain": [
       "1"
      ]
     },
     "execution_count": 22,
     "metadata": {},
     "output_type": "execute_result"
    }
   ],
   "source": [
    "env.get(\"hello\")"
   ]
  },
  {
   "cell_type": "code",
   "execution_count": 23,
   "id": "91ea9683-7071-4554-8dac-cac7ffdbc478",
   "metadata": {},
   "outputs": [
    {
     "data": {
      "text/plain": [
       "4"
      ]
     },
     "execution_count": 23,
     "metadata": {},
     "output_type": "execute_result"
    }
   ],
   "source": [
    "env.get(\"world\")"
   ]
  },
  {
   "cell_type": "code",
   "execution_count": 24,
   "id": "454ff54f-0487-4382-a546-6ee4638ce9ef",
   "metadata": {},
   "outputs": [
    {
     "data": {
      "text/plain": [
       "4"
      ]
     },
     "execution_count": 24,
     "metadata": {},
     "output_type": "execute_result"
    }
   ],
   "source": [
    "#import pdb; pdb.set_trace()\n",
    "env.get(\"world\", scope=(\"some\",))"
   ]
  },
  {
   "cell_type": "code",
   "execution_count": 25,
   "id": "0bd673e8-3f56-469f-8ba8-d90228dd7f6e",
   "metadata": {},
   "outputs": [],
   "source": [
    "env.get(\"world\", scope=(\"soe\",))"
   ]
  },
  {
   "cell_type": "code",
   "execution_count": 26,
   "id": "40273039-d3d5-4111-97af-52e789c81a39",
   "metadata": {},
   "outputs": [],
   "source": [
    "hier_env = HierarchicEnvironment(parent=env)"
   ]
  },
  {
   "cell_type": "code",
   "execution_count": 27,
   "id": "92697ea6-3316-4186-bec0-23dcd8b2d0c5",
   "metadata": {},
   "outputs": [
    {
     "data": {
      "text/plain": [
       "2"
      ]
     },
     "execution_count": 27,
     "metadata": {},
     "output_type": "execute_result"
    }
   ],
   "source": [
    "hier_env.record(\"world\", 2, (\"some\",))\n",
    "hier_env.get(\"world\", scope=(\"some\",))\n"
   ]
  },
  {
   "cell_type": "code",
   "execution_count": 28,
   "id": "88d07bb9-a701-431e-91d7-b228555ffc6a",
   "metadata": {},
   "outputs": [
    {
     "data": {
      "text/plain": [
       "4"
      ]
     },
     "execution_count": 28,
     "metadata": {},
     "output_type": "execute_result"
    }
   ],
   "source": [
    "hier_env.get(\"world\", scope=(\"some\",\"scope\"))\n"
   ]
  },
  {
   "cell_type": "code",
   "execution_count": 29,
   "id": "e3a7bd05-bf0d-44ce-90d1-2abf36fddfed",
   "metadata": {},
   "outputs": [],
   "source": [
    "def f(world, hello=6, magic=3):\n",
    "    print(world, hello, magic)\n",
    "    return 1"
   ]
  },
  {
   "cell_type": "code",
   "execution_count": 30,
   "id": "598d5a9a-9a64-4145-bd7c-11a5e73f9925",
   "metadata": {},
   "outputs": [
    {
     "name": "stdout",
     "output_type": "stream",
     "text": [
      "2 1 3\n"
     ]
    },
    {
     "data": {
      "text/plain": [
       "1"
      ]
     },
     "execution_count": 30,
     "metadata": {},
     "output_type": "execute_result"
    }
   ],
   "source": [
    "hier_env.run_function(f)"
   ]
  },
  {
   "cell_type": "markdown",
   "id": "56f84cb9-c0f8-4753-890b-5eacf56006e1",
   "metadata": {},
   "source": [
    "## Model"
   ]
  },
  {
   "cell_type": "code",
   "execution_count": 31,
   "id": "156fd1eb-8486-4608-85d7-36f8e6657adf",
   "metadata": {},
   "outputs": [
    {
     "data": {
      "text/plain": [
       "FeatureSpecification(MSEFeature(name='location', dim=4, loss_coef=1.0))"
      ]
     },
     "execution_count": 31,
     "metadata": {},
     "output_type": "execute_result"
    }
   ],
   "source": [
    "from ml_lib.datasets.feature_specification import FeatureSpecification, MSEFeature\n",
    "\n",
    "feature_spec = FeatureSpecification([MSEFeature(\"location\", 4)])\n",
    "assert feature_spec == feature_spec.from_config(feature_spec.to_config())\n",
    "feature_spec"
   ]
  },
  {
   "cell_type": "code",
   "execution_count": 32,
   "id": "dfc31937-5b0f-48ad-b705-e8977efda7b6",
   "metadata": {},
   "outputs": [
    {
     "name": "stdout",
     "output_type": "stream",
     "text": [
      "SimpleMLPModel(\n",
      "    dimensions=[5, 10, 4, 4],\n",
      "    feature_specification=FeatureSpecification(MSEFeature(name='location', dim=4, loss_coef=1.0)),\n",
      ")\n",
      "SimpleMLPModel(\n",
      "  (inner): MLP(\n",
      "    (linear_0): Linear(in_features=4, out_features=5, bias=True)\n",
      "    (activation_0): ReLU()\n",
      "    (linear_1): Linear(in_features=5, out_features=10, bias=True)\n",
      "    (activation_1): ReLU()\n",
      "    (linear_2): Linear(in_features=10, out_features=4, bias=True)\n",
      "    (activation_2): ReLU()\n",
      "    (linear_3): Linear(in_features=4, out_features=4, bias=True)\n",
      "  )\n",
      ")\n"
     ]
    },
    {
     "data": {
      "text/plain": [
       "'test_model'"
      ]
     },
     "execution_count": 32,
     "metadata": {},
     "output_type": "execute_result"
    }
   ],
   "source": [
    "from ml_lib.models import Model, Supervised, Hyperparameter, register as model_register\n",
    "from ml_lib.models.layers import MLP\n",
    "\n",
    "@model_register\n",
    "class SimpleMLPModel(Supervised):\n",
    "    \n",
    "    dimensions: Hyperparameter[list[int]]\n",
    "    feature_specification: Hyperparameter[FeatureSpecification]\n",
    "    \n",
    "\n",
    "    inner: MLP\n",
    "\n",
    "    def __setup__(self):\n",
    "        self.inner = MLP(self.feature_specification.dim, *self.dimensions, batchnorm=False)\n",
    "\n",
    "    def forward(self, x):\n",
    "        return self.inner(x)\n",
    "\n",
    "    def loss_fun(self, x, gt):\n",
    "        return self.feature_specification.compute_loss(x, gt, reduce=True)\n",
    "        #return (x - gt).square().sum()\n",
    "        \n",
    "\n",
    "model = SimpleMLPModel(dimensions=[5, 10, 4, 4],\n",
    "                       feature_specification=feature_spec, \n",
    "                       name=\"test_model\")\n",
    "print(model)\n",
    "print(torch.nn.Module.__repr__(model))\n",
    "model.model_name"
   ]
  },
  {
   "cell_type": "code",
   "execution_count": 33,
   "id": "f0a11b24-e31b-46b3-9ac2-09d65b2f6258",
   "metadata": {},
   "outputs": [
    {
     "data": {
      "text/plain": [
       "{'dimensions': [5, 10, 4, 4],\n",
       " 'feature_specification': {'type': 'FeatureSpecification',\n",
       "  'features': [{'type': 'MSEFeature',\n",
       "    'name': 'location',\n",
       "    'dim': 4,\n",
       "    'loss_coef': 1.0}]}}"
      ]
     },
     "execution_count": 33,
     "metadata": {},
     "output_type": "execute_result"
    }
   ],
   "source": [
    "model.get_hyperparameters(serializable=True)"
   ]
  },
  {
   "cell_type": "markdown",
   "id": "e9ffc541-f49c-4d5c-a2da-3a17b530b6c8",
   "metadata": {},
   "source": [
    "## Saving and loading to database"
   ]
  },
  {
   "cell_type": "code",
   "execution_count": 34,
   "id": "803d3147-2ea2-453f-8fdc-67be314ffee4",
   "metadata": {},
   "outputs": [],
   "source": [
    "from sqlalchemy import create_engine\n",
    "from sqlalchemy.orm import Session\n",
    "from ml_lib.pipeline.experiment_tracking import create_tables, Model as Database_Model\n"
   ]
  },
  {
   "cell_type": "code",
   "execution_count": 35,
   "id": "6d92b0b0-de96-401a-abbb-8fc25374d8eb",
   "metadata": {},
   "outputs": [
    {
     "data": {
      "text/plain": [
       "'SimpleMLPModel'"
      ]
     },
     "execution_count": 35,
     "metadata": {},
     "output_type": "execute_result"
    }
   ],
   "source": [
    "model.get_model_type()"
   ]
  },
  {
   "cell_type": "code",
   "execution_count": 36,
   "id": "867810ca-302e-4c3e-aaab-275bc470572c",
   "metadata": {},
   "outputs": [
    {
     "data": {
      "text/plain": [
       "Model(id= None, model_type= SimpleMLPModel, name= test_model, description= None)"
      ]
     },
     "execution_count": 36,
     "metadata": {},
     "output_type": "execute_result"
    }
   ],
   "source": [
    "model.to_database_object()"
   ]
  },
  {
   "cell_type": "code",
   "execution_count": 37,
   "id": "0fc64de1-c910-44b7-a5c7-6cdc7998b1de",
   "metadata": {},
   "outputs": [
    {
     "name": "stdout",
     "output_type": "stream",
     "text": [
      "Model(id= 1, model_type= SimpleMLPModel, name= test_model, description= None)\n"
     ]
    },
    {
     "data": {
      "text/plain": [
       "1"
      ]
     },
     "execution_count": 37,
     "metadata": {},
     "output_type": "execute_result"
    }
   ],
   "source": [
    "print_requests = False\n",
    "%rm /tmp/test.db\n",
    "db_engine = create_engine(\"sqlite:////tmp/test.db\", echo=print_requests)\n",
    "create_tables(db_engine)\n",
    "with Session(db_engine) as db_session:\n",
    "    model.save_to_database(db_session, replace=True)\n",
    "    #db_session.commit()\n",
    "    print(model.get_database_object(db_session))\n",
    "    model_object  = db_session.get(Database_Model, model.id)\n",
    "    db_session.commit()\n",
    "model.id"
   ]
  },
  {
   "cell_type": "code",
   "execution_count": 38,
   "id": "b5d6446f-3cb8-4228-95c0-541a84ea0456",
   "metadata": {},
   "outputs": [
    {
     "name": "stdout",
     "output_type": "stream",
     "text": [
      "Model(id= 1, model_type= SimpleMLPModel, name= test_model, description= None)\n",
      "<class 'sqlalchemy.orm.session.Session'>\n"
     ]
    },
    {
     "data": {
      "text/plain": [
       "SimpleMLPModel(\n",
       "    dimensions=[5, 10, 4, 4],\n",
       "    feature_specification=FeatureSpecification(MSEFeature(name='location', dim=4, loss_coef=1.0)),\n",
       ")"
      ]
     },
     "execution_count": 38,
     "metadata": {},
     "output_type": "execute_result"
    }
   ],
   "source": [
    "with Session(db_engine) as db_session:\n",
    "    model_object  = db_session.get(Database_Model, model.id)\n",
    "    print(model_object)\n",
    "    print(type(db_session))\n",
    "    loaded_model= model_object.load_model(load_latest_checkpoint=False,) #cannot load checkpoint for now since there isn't one\n",
    "loaded_model"
   ]
  },
  {
   "cell_type": "markdown",
   "id": "69300be5-9d40-4cad-8567-454ea9404830",
   "metadata": {},
   "source": [
    "## Training"
   ]
  },
  {
   "cell_type": "code",
   "execution_count": 39,
   "id": "3bb1bc65-9fc3-499d-b5c2-b51eeae30f34",
   "metadata": {},
   "outputs": [],
   "source": [
    "skip_training = False"
   ]
  },
  {
   "cell_type": "code",
   "execution_count": 40,
   "id": "9d5c3e97-a43c-416d-8b1a-b24ec5d53eb1",
   "metadata": {},
   "outputs": [],
   "source": [
    "from ml_lib.models import Model\n",
    "from ml_lib.pipeline import Trainer, Training_parameters\n",
    "from ml_lib.pipeline.training_hooks import TqdmHook, LoggerHook, CurveHook, DatabaseHook\n",
    "from ml_lib.pipeline.experiment_tracking import Experiment as DBExperiment\n",
    "from torch.utils.data import DataLoader"
   ]
  },
  {
   "cell_type": "code",
   "execution_count": 41,
   "id": "f683c8a1-1803-48e6-aa55-4f2991041e9f",
   "metadata": {},
   "outputs": [
    {
     "data": {
      "text/plain": [
       "<ml_lib.datasets.datapoint.DictDatapoint at 0x7a9761598950>"
      ]
     },
     "execution_count": 41,
     "metadata": {},
     "output_type": "execute_result"
    }
   ],
   "source": [
    "loader = DataLoader(dataset4, batch_size=None, shuffle=True)\n",
    "next(iter(loader))"
   ]
  },
  {
   "cell_type": "code",
   "execution_count": 42,
   "id": "ff11b26b-ef59-45fb-98d6-b3781c71ce7f",
   "metadata": {},
   "outputs": [
    {
     "data": {
      "application/vnd.jupyter.widget-view+json": {
       "model_id": "45a9920c80584a15bc9c66e66987c3a0",
       "version_major": 2,
       "version_minor": 0
      },
      "text/plain": [
       "Epoch 0:   0%|          | 0/4000 [00:00<?, ?it/s]"
      ]
     },
     "metadata": {},
     "output_type": "display_data"
    },
    {
     "name": "stderr",
     "output_type": "stream",
     "text": [
      "INFO:root:iteration= 0, loss= 0.648333728313446, \n",
      "INFO:root:iteration= 10, loss= 0.20323434472084045, \n",
      "INFO:root:iteration= 20, loss= 0.46286123991012573, \n",
      "INFO:root:iteration= 30, loss= 0.47482168674468994, \n",
      "INFO:root:iteration= 40, loss= 0.9107754230499268, \n",
      "INFO:root:iteration= 50, loss= 0.6673220992088318, \n",
      "INFO:root:iteration= 60, loss= 0.428214967250824, \n",
      "INFO:root:iteration= 70, loss= 0.7039704918861389, \n",
      "INFO:root:iteration= 80, loss= 0.4504261016845703, \n",
      "INFO:root:iteration= 90, loss= 0.5467166304588318, \n",
      "/home/tris/Devoirs/research/implementations/tb_ml/ml_lib/models/base_classes.py:364: SAWarning: Object of type <Training_step> not in session, add operation along 'Training_run.steps' will not proceed (This warning originated from the Session 'autoflush' process, which was invoked automatically in response to a user-initiated operation.)\n",
      "  db_object = session.get(Database_Model, self.id)\n",
      "INFO:root:iteration= 100, loss= 0.460743248462677, \n",
      "INFO:root:iteration= 110, loss= 0.5262444019317627, \n",
      "INFO:root:iteration= 120, loss= 0.33422690629959106, \n",
      "INFO:root:iteration= 130, loss= 0.6734415292739868, \n",
      "INFO:root:iteration= 140, loss= 0.5489355325698853, \n",
      "INFO:root:iteration= 150, loss= 0.6159321069717407, \n",
      "INFO:root:iteration= 160, loss= 0.3140694499015808, \n",
      "INFO:root:iteration= 170, loss= 0.32939574122428894, \n",
      "INFO:root:iteration= 180, loss= 0.4989628791809082, \n",
      "INFO:root:iteration= 190, loss= 0.39727285504341125, \n",
      "INFO:root:iteration= 200, loss= 0.44371187686920166, \n",
      "INFO:root:iteration= 210, loss= 0.6100085973739624, \n",
      "INFO:root:iteration= 220, loss= 0.5514612793922424, \n",
      "INFO:root:iteration= 230, loss= 0.5079652070999146, \n",
      "INFO:root:iteration= 240, loss= 0.5627399682998657, \n",
      "INFO:root:iteration= 250, loss= 0.4492642283439636, \n",
      "INFO:root:iteration= 260, loss= 0.3481230139732361, \n",
      "INFO:root:iteration= 270, loss= 0.6125249266624451, \n",
      "INFO:root:iteration= 280, loss= 0.5128908753395081, \n",
      "INFO:root:iteration= 290, loss= 0.47857266664505005, \n",
      "INFO:root:iteration= 300, loss= 0.5655478239059448, \n",
      "INFO:root:iteration= 310, loss= 0.4512411653995514, \n",
      "INFO:root:iteration= 320, loss= 0.3094124495983124, \n",
      "INFO:root:iteration= 330, loss= 0.4636341333389282, \n",
      "INFO:root:iteration= 340, loss= 0.32103779911994934, \n",
      "INFO:root:iteration= 350, loss= 0.4113492965698242, \n",
      "INFO:root:iteration= 360, loss= 0.30579179525375366, \n",
      "INFO:root:iteration= 370, loss= 0.18140672147274017, \n",
      "INFO:root:iteration= 380, loss= 0.44321903586387634, \n",
      "INFO:root:iteration= 390, loss= 0.3754688501358032, \n",
      "INFO:root:iteration= 400, loss= 0.37217074632644653, \n",
      "INFO:root:iteration= 410, loss= 0.20404809713363647, \n",
      "INFO:root:iteration= 420, loss= 0.47289732098579407, \n",
      "INFO:root:iteration= 430, loss= 0.381573885679245, \n",
      "INFO:root:iteration= 440, loss= 0.3345150947570801, \n",
      "INFO:root:iteration= 450, loss= 0.369008332490921, \n",
      "INFO:root:iteration= 460, loss= 0.21238133311271667, \n",
      "INFO:root:iteration= 470, loss= 0.22085508704185486, \n",
      "INFO:root:iteration= 480, loss= 0.5375977158546448, \n",
      "INFO:root:iteration= 490, loss= 0.3162968158721924, \n",
      "INFO:root:iteration= 500, loss= 0.426258385181427, \n",
      "INFO:root:iteration= 510, loss= 0.5096331834793091, \n",
      "INFO:root:iteration= 520, loss= 0.46861976385116577, \n",
      "INFO:root:iteration= 530, loss= 0.19023112952709198, \n",
      "INFO:root:iteration= 540, loss= 0.20135542750358582, \n",
      "INFO:root:iteration= 550, loss= 0.47849076986312866, \n",
      "INFO:root:iteration= 560, loss= 0.40657442808151245, \n",
      "INFO:root:iteration= 570, loss= 0.3865877389907837, \n",
      "INFO:root:iteration= 580, loss= 0.14691618084907532, \n",
      "INFO:root:iteration= 590, loss= 0.40445569157600403, \n",
      "INFO:root:iteration= 600, loss= 0.4102817177772522, \n",
      "INFO:root:iteration= 610, loss= 0.5114197134971619, \n",
      "INFO:root:iteration= 620, loss= 0.1017555221915245, \n",
      "INFO:root:iteration= 630, loss= 0.3312305212020874, \n",
      "INFO:root:iteration= 640, loss= 0.27653419971466064, \n",
      "INFO:root:iteration= 650, loss= 0.5053238868713379, \n",
      "INFO:root:iteration= 660, loss= 0.41788166761398315, \n",
      "INFO:root:iteration= 670, loss= 0.37220409512519836, \n",
      "INFO:root:iteration= 680, loss= 0.48561686277389526, \n",
      "INFO:root:iteration= 690, loss= 0.25137966871261597, \n",
      "INFO:root:iteration= 700, loss= 0.32143691182136536, \n",
      "INFO:root:iteration= 710, loss= 0.01892801932990551, \n",
      "INFO:root:iteration= 720, loss= 0.24364274740219116, \n",
      "INFO:root:iteration= 730, loss= 0.19980986416339874, \n",
      "INFO:root:iteration= 740, loss= 0.1242855116724968, \n",
      "INFO:root:iteration= 750, loss= 0.08438616245985031, \n",
      "INFO:root:iteration= 760, loss= 0.39190390706062317, \n",
      "INFO:root:iteration= 770, loss= 0.1387445032596588, \n",
      "INFO:root:iteration= 780, loss= 0.30049780011177063, \n",
      "INFO:root:iteration= 790, loss= 0.557826042175293, \n",
      "INFO:root:iteration= 800, loss= 0.3279956877231598, \n",
      "INFO:root:iteration= 810, loss= 0.1590607911348343, \n",
      "INFO:root:iteration= 820, loss= 0.3053361475467682, \n",
      "INFO:root:iteration= 830, loss= 0.17062263190746307, \n",
      "INFO:root:iteration= 840, loss= 0.13776777684688568, \n",
      "INFO:root:iteration= 850, loss= 0.30831247568130493, \n",
      "INFO:root:iteration= 860, loss= 0.2511915862560272, \n",
      "INFO:root:iteration= 870, loss= 0.202788308262825, \n",
      "INFO:root:iteration= 880, loss= 0.3179515302181244, \n",
      "INFO:root:iteration= 890, loss= 0.1706748902797699, \n",
      "INFO:root:iteration= 900, loss= 0.32562047243118286, \n",
      "INFO:root:iteration= 910, loss= 0.30116206407546997, \n",
      "INFO:root:iteration= 920, loss= 0.41474419832229614, \n",
      "INFO:root:iteration= 930, loss= 0.19351328909397125, \n",
      "INFO:root:iteration= 940, loss= 0.28239792585372925, \n",
      "INFO:root:iteration= 950, loss= 0.10819929838180542, \n",
      "INFO:root:iteration= 960, loss= 0.298870325088501, \n",
      "INFO:root:iteration= 970, loss= 0.3788103461265564, \n",
      "INFO:root:iteration= 980, loss= 0.37251290678977966, \n",
      "INFO:root:iteration= 990, loss= 0.36639901995658875, \n",
      "INFO:root:iteration= 1000, loss= 0.3988412320613861, \n",
      "INFO:root:iteration= 1010, loss= 0.2879822552204132, \n",
      "INFO:root:iteration= 1020, loss= 0.22027087211608887, \n",
      "INFO:root:iteration= 1030, loss= 0.25598809123039246, \n",
      "INFO:root:iteration= 1040, loss= 0.3299368917942047, \n",
      "INFO:root:iteration= 1050, loss= 0.15870827436447144, \n",
      "INFO:root:iteration= 1060, loss= 0.05744331330060959, \n",
      "INFO:root:iteration= 1070, loss= 0.1890391856431961, \n",
      "INFO:root:iteration= 1080, loss= 0.2593090534210205, \n",
      "INFO:root:iteration= 1090, loss= 0.36240121722221375, \n",
      "INFO:root:iteration= 1100, loss= 0.4856896698474884, \n",
      "INFO:root:iteration= 1110, loss= 0.3011440932750702, \n",
      "INFO:root:iteration= 1120, loss= 0.1819145828485489, \n",
      "INFO:root:iteration= 1130, loss= 0.1729358434677124, \n",
      "INFO:root:iteration= 1140, loss= 0.22943450510501862, \n",
      "INFO:root:iteration= 1150, loss= 0.3131590783596039, \n",
      "INFO:root:iteration= 1160, loss= 0.2564614415168762, \n",
      "INFO:root:iteration= 1170, loss= 0.4323425590991974, \n",
      "INFO:root:iteration= 1180, loss= 0.16558748483657837, \n",
      "INFO:root:iteration= 1190, loss= 0.27658557891845703, \n",
      "INFO:root:iteration= 1200, loss= 0.12363329529762268, \n",
      "INFO:root:iteration= 1210, loss= 0.44624415040016174, \n",
      "INFO:root:iteration= 1220, loss= 0.46402958035469055, \n",
      "INFO:root:iteration= 1230, loss= 0.33208733797073364, \n",
      "INFO:root:iteration= 1240, loss= 0.5343582630157471, \n",
      "INFO:root:iteration= 1250, loss= 0.400111585855484, \n",
      "INFO:root:iteration= 1260, loss= 0.15902385115623474, \n",
      "INFO:root:iteration= 1270, loss= 0.3605629503726959, \n",
      "INFO:root:iteration= 1280, loss= 0.2195979654788971, \n",
      "INFO:root:iteration= 1290, loss= 0.18240775167942047, \n",
      "INFO:root:iteration= 1300, loss= 0.16468492150306702, \n",
      "INFO:root:iteration= 1310, loss= 0.23138588666915894, \n",
      "INFO:root:iteration= 1320, loss= 0.23553702235221863, \n",
      "INFO:root:iteration= 1330, loss= 0.357347309589386, \n",
      "INFO:root:iteration= 1340, loss= 0.2441457211971283, \n",
      "INFO:root:iteration= 1350, loss= 0.17366380989551544, \n",
      "INFO:root:iteration= 1360, loss= 0.4929632246494293, \n",
      "INFO:root:iteration= 1370, loss= 0.22856120765209198, \n",
      "INFO:root:iteration= 1380, loss= 0.1142939031124115, \n",
      "INFO:root:iteration= 1390, loss= 0.2071308195590973, \n",
      "INFO:root:iteration= 1400, loss= 0.013179636560380459, \n",
      "INFO:root:iteration= 1410, loss= 0.3740270137786865, \n",
      "INFO:root:iteration= 1420, loss= 0.4141823947429657, \n",
      "INFO:root:iteration= 1430, loss= 0.5167999267578125, \n",
      "INFO:root:iteration= 1440, loss= 0.4295610785484314, \n",
      "INFO:root:iteration= 1450, loss= 0.0882025957107544, \n",
      "INFO:root:iteration= 1460, loss= 0.07944099605083466, \n",
      "INFO:root:iteration= 1470, loss= 0.23911498486995697, \n",
      "INFO:root:iteration= 1480, loss= 0.07160043716430664, \n",
      "INFO:root:iteration= 1490, loss= 0.021744726225733757, \n",
      "INFO:root:iteration= 1500, loss= 0.21039192378520966, \n",
      "INFO:root:iteration= 1510, loss= 0.21488617360591888, \n",
      "INFO:root:iteration= 1520, loss= 0.2712806165218353, \n",
      "INFO:root:iteration= 1530, loss= 0.29417169094085693, \n",
      "INFO:root:iteration= 1540, loss= 0.08530479669570923, \n",
      "INFO:root:iteration= 1550, loss= 0.3139825463294983, \n",
      "INFO:root:iteration= 1560, loss= 0.2889021039009094, \n",
      "INFO:root:iteration= 1570, loss= 0.21438103914260864, \n",
      "INFO:root:iteration= 1580, loss= 0.1820794641971588, \n",
      "INFO:root:iteration= 1590, loss= 0.29629144072532654, \n",
      "INFO:root:iteration= 1600, loss= 0.11453967541456223, \n",
      "INFO:root:iteration= 1610, loss= 0.22818340361118317, \n",
      "INFO:root:iteration= 1620, loss= 0.014451405964791775, \n",
      "INFO:root:iteration= 1630, loss= 0.2329082190990448, \n",
      "INFO:root:iteration= 1640, loss= 0.10569582879543304, \n",
      "INFO:root:iteration= 1650, loss= 0.18726582825183868, \n",
      "INFO:root:iteration= 1660, loss= 0.18331681191921234, \n",
      "INFO:root:iteration= 1670, loss= 0.022726794704794884, \n",
      "INFO:root:iteration= 1680, loss= 0.39730551838874817, \n",
      "INFO:root:iteration= 1690, loss= 0.25417912006378174, \n",
      "INFO:root:iteration= 1700, loss= 0.22525206208229065, \n",
      "INFO:root:iteration= 1710, loss= 0.39507371187210083, \n",
      "INFO:root:iteration= 1720, loss= 0.24573519825935364, \n",
      "INFO:root:iteration= 1730, loss= 0.15304677188396454, \n",
      "INFO:root:iteration= 1740, loss= 0.2681741714477539, \n",
      "INFO:root:iteration= 1750, loss= 0.17508943378925323, \n",
      "INFO:root:iteration= 1760, loss= 0.048163510859012604, \n",
      "INFO:root:iteration= 1770, loss= 0.40984803438186646, \n",
      "INFO:root:iteration= 1780, loss= 0.24165011942386627, \n",
      "INFO:root:iteration= 1790, loss= 0.2260114848613739, \n",
      "INFO:root:iteration= 1800, loss= 0.3311811089515686, \n",
      "INFO:root:iteration= 1810, loss= 0.0706014558672905, \n",
      "INFO:root:iteration= 1820, loss= 0.05809679254889488, \n",
      "INFO:root:iteration= 1830, loss= 0.22362592816352844, \n",
      "INFO:root:iteration= 1840, loss= 0.3429616689682007, \n",
      "INFO:root:iteration= 1850, loss= 0.23850083351135254, \n",
      "INFO:root:iteration= 1860, loss= 0.12104535102844238, \n",
      "INFO:root:iteration= 1870, loss= 0.03231855481863022, \n",
      "INFO:root:iteration= 1880, loss= 0.14733271300792694, \n",
      "INFO:root:iteration= 1890, loss= 0.10011610388755798, \n",
      "INFO:root:iteration= 1900, loss= 0.3803095817565918, \n",
      "INFO:root:iteration= 1910, loss= 0.013806886970996857, \n",
      "INFO:root:iteration= 1920, loss= 0.07031320035457611, \n",
      "INFO:root:iteration= 1930, loss= 0.010244248434901237, \n",
      "INFO:root:iteration= 1940, loss= 0.10477378219366074, \n",
      "INFO:root:iteration= 1950, loss= 0.316470742225647, \n",
      "INFO:root:iteration= 1960, loss= 0.08435675501823425, \n",
      "INFO:root:iteration= 1970, loss= 0.13139507174491882, \n",
      "INFO:root:iteration= 1980, loss= 0.10080569982528687, \n",
      "INFO:root:iteration= 1990, loss= 0.25803568959236145, \n",
      "INFO:root:iteration= 2000, loss= 0.30707409977912903, \n",
      "INFO:root:iteration= 2010, loss= 0.006566891446709633, \n",
      "INFO:root:iteration= 2020, loss= 0.030890775844454765, \n",
      "INFO:root:iteration= 2030, loss= 0.09922878444194794, \n",
      "INFO:root:iteration= 2040, loss= 0.11205410957336426, \n",
      "INFO:root:iteration= 2050, loss= 0.02368876338005066, \n",
      "INFO:root:iteration= 2060, loss= 0.10579094290733337, \n",
      "INFO:root:iteration= 2070, loss= 0.18168513476848602, \n",
      "INFO:root:iteration= 2080, loss= 0.21881410479545593, \n",
      "INFO:root:iteration= 2090, loss= 0.22272008657455444, \n",
      "INFO:root:iteration= 2100, loss= 0.21512435376644135, \n",
      "INFO:root:iteration= 2110, loss= 0.005516484845429659, \n",
      "INFO:root:iteration= 2120, loss= 0.06733039021492004, \n",
      "INFO:root:iteration= 2130, loss= 0.16503039002418518, \n",
      "INFO:root:iteration= 2140, loss= 0.01674485392868519, \n",
      "INFO:root:iteration= 2150, loss= 0.22729916870594025, \n",
      "INFO:root:iteration= 2160, loss= 0.28637227416038513, \n",
      "INFO:root:iteration= 2170, loss= 0.16453038156032562, \n",
      "INFO:root:iteration= 2180, loss= 0.1498313546180725, \n",
      "INFO:root:iteration= 2190, loss= 0.10662440955638885, \n",
      "INFO:root:iteration= 2200, loss= 0.12297673523426056, \n",
      "INFO:root:iteration= 2210, loss= 0.13382121920585632, \n",
      "INFO:root:iteration= 2220, loss= 0.0945211797952652, \n",
      "INFO:root:iteration= 2230, loss= 0.07441984862089157, \n",
      "INFO:root:iteration= 2240, loss= 0.24866321682929993, \n",
      "INFO:root:iteration= 2250, loss= 0.09542683511972427, \n",
      "INFO:root:iteration= 2260, loss= 0.028235020115971565, \n",
      "INFO:root:iteration= 2270, loss= 0.15802326798439026, \n",
      "INFO:root:iteration= 2280, loss= 0.14155805110931396, \n",
      "INFO:root:iteration= 2290, loss= 0.1743379831314087, \n",
      "INFO:root:iteration= 2300, loss= 0.20480698347091675, \n",
      "INFO:root:iteration= 2310, loss= 0.14412806928157806, \n",
      "INFO:root:iteration= 2320, loss= 0.18875283002853394, \n",
      "INFO:root:iteration= 2330, loss= 0.20157650113105774, \n",
      "INFO:root:iteration= 2340, loss= 0.13749930262565613, \n",
      "INFO:root:iteration= 2350, loss= 0.12961909174919128, \n",
      "INFO:root:iteration= 2360, loss= 0.03737384453415871, \n",
      "INFO:root:iteration= 2370, loss= 0.19684651494026184, \n",
      "INFO:root:iteration= 2380, loss= 0.1799347847700119, \n",
      "INFO:root:iteration= 2390, loss= 0.08696916699409485, \n",
      "INFO:root:iteration= 2400, loss= 0.10864004492759705, \n",
      "INFO:root:iteration= 2410, loss= 0.20944637060165405, \n",
      "INFO:root:iteration= 2420, loss= 0.14364264905452728, \n",
      "INFO:root:iteration= 2430, loss= 0.3126777708530426, \n",
      "INFO:root:iteration= 2440, loss= 0.27643606066703796, \n",
      "INFO:root:iteration= 2450, loss= 0.26421040296554565, \n",
      "INFO:root:iteration= 2460, loss= 0.27247709035873413, \n",
      "INFO:root:iteration= 2470, loss= 0.2743569612503052, \n",
      "INFO:root:iteration= 2480, loss= 0.09716270864009857, \n",
      "INFO:root:iteration= 2490, loss= 0.09862303733825684, \n",
      "INFO:root:iteration= 2500, loss= 0.11487459391355515, \n",
      "INFO:root:iteration= 2510, loss= 0.26473498344421387, \n",
      "INFO:root:iteration= 2520, loss= 0.23946964740753174, \n",
      "INFO:root:iteration= 2530, loss= 0.007277273572981358, \n",
      "INFO:root:iteration= 2540, loss= 0.18868151307106018, \n",
      "INFO:root:iteration= 2550, loss= 0.19467729330062866, \n",
      "INFO:root:iteration= 2560, loss= 0.23936545848846436, \n",
      "INFO:root:iteration= 2570, loss= 0.27351734042167664, \n",
      "INFO:root:iteration= 2580, loss= 0.26244470477104187, \n",
      "INFO:root:iteration= 2590, loss= 0.17230847477912903, \n",
      "INFO:root:iteration= 2600, loss= 0.11211825907230377, \n",
      "INFO:root:iteration= 2610, loss= 0.0561416894197464, \n",
      "INFO:root:iteration= 2620, loss= 0.2209184765815735, \n",
      "INFO:root:iteration= 2630, loss= 0.06521617621183395, \n",
      "INFO:root:iteration= 2640, loss= 0.24636897444725037, \n",
      "INFO:root:iteration= 2650, loss= 0.19469626247882843, \n",
      "INFO:root:iteration= 2660, loss= 0.05732861906290054, \n",
      "INFO:root:iteration= 2670, loss= 0.018507493659853935, \n",
      "INFO:root:iteration= 2680, loss= 0.152070552110672, \n",
      "INFO:root:iteration= 2690, loss= 0.05133625119924545, \n",
      "INFO:root:iteration= 2700, loss= 0.17688877880573273, \n",
      "INFO:root:iteration= 2710, loss= 0.2601400315761566, \n",
      "INFO:root:iteration= 2720, loss= 0.13420026004314423, \n",
      "INFO:root:iteration= 2730, loss= 0.22941027581691742, \n",
      "INFO:root:iteration= 2740, loss= 0.25533851981163025, \n",
      "INFO:root:iteration= 2750, loss= 0.05932717025279999, \n",
      "INFO:root:iteration= 2760, loss= 0.23602214455604553, \n",
      "INFO:root:iteration= 2770, loss= 0.0496833398938179, \n",
      "INFO:root:iteration= 2780, loss= 0.01805155724287033, \n",
      "INFO:root:iteration= 2790, loss= 0.23800009489059448, \n",
      "INFO:root:iteration= 2800, loss= 0.05231884866952896, \n",
      "INFO:root:iteration= 2810, loss= 0.0020114865619689226, \n",
      "INFO:root:iteration= 2820, loss= 0.2207384705543518, \n",
      "INFO:root:iteration= 2830, loss= 0.058014027774333954, \n",
      "INFO:root:iteration= 2840, loss= 0.18557797372341156, \n",
      "INFO:root:iteration= 2850, loss= 0.24979686737060547, \n",
      "INFO:root:iteration= 2860, loss= 0.09771580249071121, \n",
      "INFO:root:iteration= 2870, loss= 0.03055356815457344, \n",
      "INFO:root:iteration= 2880, loss= 0.00047601922415196896, \n",
      "INFO:root:iteration= 2890, loss= 0.2980610430240631, \n",
      "INFO:root:iteration= 2900, loss= 0.2696724534034729, \n",
      "INFO:root:iteration= 2910, loss= 0.02703295275568962, \n",
      "INFO:root:iteration= 2920, loss= 0.18230129778385162, \n",
      "INFO:root:iteration= 2930, loss= 0.20896515250205994, \n",
      "INFO:root:iteration= 2940, loss= 0.05223090946674347, \n",
      "INFO:root:iteration= 2950, loss= 0.29319751262664795, \n",
      "INFO:root:iteration= 2960, loss= 0.27113357186317444, \n",
      "INFO:root:iteration= 2970, loss= 0.2780736982822418, \n",
      "INFO:root:iteration= 2980, loss= 0.19735896587371826, \n",
      "INFO:root:iteration= 2990, loss= 0.25246357917785645, \n",
      "INFO:root:iteration= 3000, loss= 0.01252068392932415, \n",
      "INFO:root:iteration= 3010, loss= 0.0590585321187973, \n",
      "INFO:root:iteration= 3020, loss= 0.21128474175930023, \n",
      "INFO:root:iteration= 3030, loss= 0.2028370499610901, \n",
      "INFO:root:iteration= 3040, loss= 0.0579526424407959, \n",
      "INFO:root:iteration= 3050, loss= 0.2690909206867218, \n",
      "INFO:root:iteration= 3060, loss= 0.050081074237823486, \n",
      "INFO:root:iteration= 3070, loss= 0.008205023594200611, \n",
      "INFO:root:iteration= 3080, loss= 0.17148670554161072, \n",
      "INFO:root:iteration= 3090, loss= 0.1482955515384674, \n",
      "INFO:root:iteration= 3100, loss= 0.02399849146604538, \n",
      "INFO:root:iteration= 3110, loss= 0.010233178734779358, \n",
      "INFO:root:iteration= 3120, loss= 0.004595047328621149, \n",
      "INFO:root:iteration= 3130, loss= 0.04863685369491577, \n",
      "INFO:root:iteration= 3140, loss= 0.28777632117271423, \n",
      "INFO:root:iteration= 3150, loss= 0.20604020357131958, \n",
      "INFO:root:iteration= 3160, loss= 0.23546409606933594, \n",
      "INFO:root:iteration= 3170, loss= 0.23569008708000183, \n",
      "INFO:root:iteration= 3180, loss= 0.14166201651096344, \n",
      "INFO:root:iteration= 3190, loss= 0.1770058274269104, \n",
      "INFO:root:iteration= 3200, loss= 0.04954836517572403, \n",
      "INFO:root:iteration= 3210, loss= 0.22214482724666595, \n",
      "INFO:root:iteration= 3220, loss= 0.05401663854718208, \n",
      "INFO:root:iteration= 3230, loss= 0.17918238043785095, \n",
      "INFO:root:iteration= 3240, loss= 0.2658529281616211, \n",
      "INFO:root:iteration= 3250, loss= 0.14918020367622375, \n",
      "INFO:root:iteration= 3260, loss= 0.24942880868911743, \n",
      "INFO:root:iteration= 3270, loss= 0.20541615784168243, \n",
      "INFO:root:iteration= 3280, loss= 0.24120870232582092, \n",
      "INFO:root:iteration= 3290, loss= 0.05559176951646805, \n",
      "INFO:root:iteration= 3300, loss= 0.21802419424057007, \n",
      "INFO:root:iteration= 3310, loss= 0.012417109683156013, \n",
      "INFO:root:iteration= 3320, loss= 0.1476767659187317, \n",
      "INFO:root:iteration= 3330, loss= 0.15907487273216248, \n",
      "INFO:root:iteration= 3340, loss= 0.07180611044168472, \n",
      "INFO:root:iteration= 3350, loss= 0.3654383718967438, \n",
      "INFO:root:iteration= 3360, loss= 0.12545688450336456, \n",
      "INFO:root:iteration= 3370, loss= 0.1801799088716507, \n",
      "INFO:root:iteration= 3380, loss= 0.22138601541519165, \n",
      "INFO:root:iteration= 3390, loss= 0.22471687197685242, \n",
      "INFO:root:iteration= 3400, loss= 0.0195467472076416, \n",
      "INFO:root:iteration= 3410, loss= 0.0357503779232502, \n",
      "INFO:root:iteration= 3420, loss= 0.009091565385460854, \n",
      "INFO:root:iteration= 3430, loss= 0.032980091869831085, \n",
      "INFO:root:iteration= 3440, loss= 0.0028529097326099873, \n",
      "INFO:root:iteration= 3450, loss= 0.32285386323928833, \n",
      "INFO:root:iteration= 3460, loss= 0.05358502268791199, \n",
      "INFO:root:iteration= 3470, loss= 0.2997368276119232, \n",
      "INFO:root:iteration= 3480, loss= 0.15712621808052063, \n",
      "INFO:root:iteration= 3490, loss= 0.12433816492557526, \n",
      "INFO:root:iteration= 3500, loss= 0.10661683976650238, \n",
      "INFO:root:iteration= 3510, loss= 0.2259688377380371, \n",
      "INFO:root:iteration= 3520, loss= 0.15675777196884155, \n",
      "INFO:root:iteration= 3530, loss= 0.19128650426864624, \n",
      "INFO:root:iteration= 3540, loss= 0.03998517617583275, \n",
      "INFO:root:iteration= 3550, loss= 0.09471642225980759, \n",
      "INFO:root:iteration= 3560, loss= 0.013448251411318779, \n",
      "INFO:root:iteration= 3570, loss= 0.20230230689048767, \n",
      "INFO:root:iteration= 3580, loss= 0.19965949654579163, \n",
      "INFO:root:iteration= 3590, loss= 0.15172989666461945, \n",
      "INFO:root:iteration= 3600, loss= 0.05662211775779724, \n",
      "INFO:root:iteration= 3610, loss= 0.00894654169678688, \n",
      "INFO:root:iteration= 3620, loss= 0.09966198354959488, \n",
      "INFO:root:iteration= 3630, loss= 0.14382141828536987, \n",
      "INFO:root:iteration= 3640, loss= 0.2081649899482727, \n",
      "INFO:root:iteration= 3650, loss= 0.029584327712655067, \n",
      "INFO:root:iteration= 3660, loss= 0.002186768688261509, \n",
      "INFO:root:iteration= 3670, loss= 0.02282097190618515, \n",
      "INFO:root:iteration= 3680, loss= 0.0087388651445508, \n",
      "INFO:root:iteration= 3690, loss= 0.24236881732940674, \n",
      "INFO:root:iteration= 3700, loss= 0.05079401284456253, \n",
      "INFO:root:iteration= 3710, loss= 0.047399476170539856, \n",
      "INFO:root:iteration= 3720, loss= 0.2200048267841339, \n",
      "INFO:root:iteration= 3730, loss= 0.11500632762908936, \n",
      "INFO:root:iteration= 3740, loss= 0.29104137420654297, \n",
      "INFO:root:iteration= 3750, loss= 0.15975545346736908, \n",
      "INFO:root:iteration= 3760, loss= 0.000453105109045282, \n",
      "INFO:root:iteration= 3770, loss= 0.0027076301630586386, \n",
      "INFO:root:iteration= 3780, loss= 0.2760368585586548, \n",
      "INFO:root:iteration= 3790, loss= 0.0009264714317396283, \n",
      "INFO:root:iteration= 3800, loss= 0.018528873100876808, \n",
      "INFO:root:iteration= 3810, loss= 0.008453710936009884, \n",
      "INFO:root:iteration= 3820, loss= 0.022412847727537155, \n",
      "INFO:root:iteration= 3830, loss= 0.27012255787849426, \n",
      "INFO:root:iteration= 3840, loss= 0.1215667724609375, \n",
      "INFO:root:iteration= 3850, loss= 0.13494862616062164, \n",
      "INFO:root:iteration= 3860, loss= 0.20962217450141907, \n",
      "INFO:root:iteration= 3870, loss= 0.13007205724716187, \n",
      "INFO:root:iteration= 3880, loss= 0.10447987914085388, \n",
      "INFO:root:iteration= 3890, loss= 0.21154840290546417, \n",
      "INFO:root:iteration= 3900, loss= 0.16542162001132965, \n",
      "INFO:root:iteration= 3910, loss= 0.07926495373249054, \n",
      "INFO:root:iteration= 3920, loss= 0.0024164209607988596, \n",
      "INFO:root:iteration= 3930, loss= 0.17098233103752136, \n",
      "INFO:root:iteration= 3940, loss= 0.08396447449922562, \n",
      "INFO:root:iteration= 3950, loss= 0.2169135957956314, \n",
      "INFO:root:iteration= 3960, loss= 0.15613463521003723, \n",
      "INFO:root:iteration= 3970, loss= 0.02936263009905815, \n",
      "INFO:root:iteration= 3980, loss= 0.030354641377925873, \n",
      "INFO:root:iteration= 3990, loss= 0.22373872995376587, \n"
     ]
    },
    {
     "data": {
      "image/png": "[encoded data removed]",
      "text/plain": [
       "<Figure size 640x480 with 1 Axes>"
      ]
     },
     "metadata": {},
     "output_type": "display_data"
    }
   ],
   "source": [
    "import logging; logging.basicConfig(level=logging.INFO, force=True)\n",
    "\n",
    "curve = CurveHook()\n",
    "training_parameters = Training_parameters(n_epochs=4)\n",
    "\n",
    "with Session(db_engine) as db_session:\n",
    "    experiment = DBExperiment(name=\"test_experiment\", )\n",
    "    db_session.add(experiment)\n",
    "    trainer = Trainer(model, loader, training_parameters=training_parameters, device=\"cpu\",\n",
    "        step_hooks = [ \n",
    "            TqdmHook(),\n",
    "            LoggerHook(interval=10),\n",
    "            curve\n",
    "        ],\n",
    "        database=db_session, \n",
    "        db_experiment=experiment, )\n",
    "    experiment_id = experiment.id\n",
    "    trainer_id = trainer.id\n",
    "    if not skip_training: trainer.train()\n",
    "curve.draw()"
   ]
  },
  {
   "cell_type": "markdown",
   "id": "80466a2f-37e2-47f3-88c0-0d78313b8c38",
   "metadata": {},
   "source": [
    "Now check that we're able to resume training"
   ]
  },
  {
   "cell_type": "code",
   "execution_count": 43,
   "id": "5aecb616-7f4e-4cb9-9b8b-a23c7214ba06",
   "metadata": {},
   "outputs": [],
   "source": [
    "new_training_parameters = copy(training_parameters)\n",
    "new_training_parameters.n_epochs = 5\n",
    "with Session(db_engine) as db_session:\n",
    "    \n",
    "    trainer = Trainer(model, loader, \n",
    "                      training_parameters=training_parameters, device=\"cpu\",\n",
    "        step_hooks = [ \n",
    "            TqdmHook(),\n",
    "            LoggerHook(interval=10),\n",
    "            curve\n",
    "        ],\n",
    "        database=db_session, \n",
    "        db_experiment=experiment_id, \n",
    "        resume_from=trainer_id)\n",
    "    if not skip_training: trainer.train()"
   ]
  },
  {
   "cell_type": "code",
   "execution_count": 44,
   "id": "6209b798-bdf6-4e91-9fd0-b9ba629c9e5b",
   "metadata": {},
   "outputs": [
    {
     "data": {
      "image/png": "[encoded data removed]",
      "text/plain": [
       "<Figure size 640x480 with 1 Axes>"
      ]
     },
     "metadata": {},
     "output_type": "display_data"
    }
   ],
   "source": [
    "curve.draw()"
   ]
  },
  {
   "cell_type": "markdown",
   "id": "90eb2e13-edfb-4b40-87d0-f8339cb47488",
   "metadata": {},
   "source": [
    "## Automated experiment"
   ]
  },
  {
   "cell_type": "code",
   "execution_count": 45,
   "id": "a585c7ec-981d-485b-8905-470685a2cf94",
   "metadata": {},
   "outputs": [
    {
     "name": "stdout",
     "output_type": "stream",
     "text": [
      "\n",
      "models:\n",
      "  - name: test_model1\n",
      "    type: SimpleMLPModel\n",
      "    params:\n",
      "      dimensions: [4, 5, 10, 4]\n",
      "    training_parameters:\n",
      "      n_epochs: 2\n",
      "      performance_tricks: False\n",
      "      step_hooks:\n",
      "        - LoggerHook\n",
      "      batch_size: 10\n",
      "datasets:\n",
      "  train:\n",
      "    type: Torus4D\n",
      "    params:\n",
      "      size: 1000\n",
      "    transforms: \n",
      "      - CacheTransform\n",
      "      - type: RenameTransform\n",
      "        args: \n",
      "          - x: _\n",
      "      - type: RenameTransform\n",
      "        args:\n",
      "          - x: x\n",
      "            y: x\n",
      "      - TestTransform\n"
     ]
    }
   ],
   "source": [
    "cat workdir/test_config.yaml"
   ]
  },
  {
   "cell_type": "code",
   "execution_count": 46,
   "id": "af76411d-a3b5-4814-a3de-a6fd4fc4dc87",
   "metadata": {},
   "outputs": [
    {
     "name": "stderr",
     "output_type": "stream",
     "text": [
      "WARNING:ml_lib.models.base_classes:Model SimpleMLPModel(\n",
      "    dimensions=[4, 5, 10, 4],\n",
      "    feature_specification=FeatureSpecification(MSEFeature(name='location', dim=4, loss_coef=1.0)),\n",
      ") is not in the database, but has a name. Adding\n",
      "INFO:root:iteration= 0, loss= 0.5115318298339844, \n",
      "INFO:root:iteration= 1, loss= 0.47776564955711365, \n",
      "INFO:root:iteration= 2, loss= 0.515757143497467, \n",
      "INFO:root:iteration= 3, loss= 0.6126173734664917, \n",
      "INFO:root:iteration= 4, loss= 0.4502395689487457, \n",
      "INFO:root:iteration= 5, loss= 0.5751035809516907, \n",
      "INFO:root:iteration= 6, loss= 0.5897327661514282, \n",
      "INFO:root:iteration= 7, loss= 0.5062648057937622, \n",
      "INFO:root:iteration= 8, loss= 0.5325438380241394, \n",
      "INFO:root:iteration= 9, loss= 0.47262972593307495, \n",
      "INFO:root:iteration= 10, loss= 0.5242115259170532, \n",
      "INFO:root:iteration= 11, loss= 0.5594120025634766, \n",
      "INFO:root:iteration= 12, loss= 0.5229942798614502, \n",
      "INFO:root:iteration= 13, loss= 0.5622602701187134, \n",
      "INFO:root:iteration= 14, loss= 0.5026594400405884, \n",
      "INFO:root:iteration= 15, loss= 0.43875598907470703, \n",
      "INFO:root:iteration= 16, loss= 0.5249312520027161, \n",
      "INFO:root:iteration= 17, loss= 0.5525921583175659, \n",
      "INFO:root:iteration= 18, loss= 0.5663745403289795, \n",
      "INFO:root:iteration= 19, loss= 0.4882389008998871, \n",
      "INFO:root:iteration= 20, loss= 0.502230167388916, \n",
      "INFO:root:iteration= 21, loss= 0.4913472533226013, \n",
      "INFO:root:iteration= 22, loss= 0.5466547012329102, \n",
      "INFO:root:iteration= 23, loss= 0.48248806595802307, \n",
      "INFO:root:iteration= 24, loss= 0.5655100345611572, \n",
      "INFO:root:iteration= 25, loss= 0.5304285287857056, \n",
      "INFO:root:iteration= 26, loss= 0.5036666393280029, \n",
      "INFO:root:iteration= 27, loss= 0.5349663496017456, \n",
      "INFO:root:iteration= 28, loss= 0.564710795879364, \n",
      "INFO:root:iteration= 29, loss= 0.5914061665534973, \n",
      "INFO:root:iteration= 30, loss= 0.5588356256484985, \n",
      "INFO:root:iteration= 31, loss= 0.4997986853122711, \n",
      "INFO:root:iteration= 32, loss= 0.46956801414489746, \n",
      "INFO:root:iteration= 33, loss= 0.5116574764251709, \n",
      "INFO:root:iteration= 34, loss= 0.5106552243232727, \n",
      "INFO:root:iteration= 35, loss= 0.4999982714653015, \n",
      "INFO:root:iteration= 36, loss= 0.49253717064857483, \n",
      "INFO:root:iteration= 37, loss= 0.5514587163925171, \n",
      "INFO:root:iteration= 38, loss= 0.5517328977584839, \n",
      "INFO:root:iteration= 39, loss= 0.5046884417533875, \n",
      "INFO:root:iteration= 40, loss= 0.5309845209121704, \n",
      "INFO:root:iteration= 41, loss= 0.5430662035942078, \n",
      "INFO:root:iteration= 42, loss= 0.45140528678894043, \n",
      "INFO:root:iteration= 43, loss= 0.4905673861503601, \n",
      "INFO:root:iteration= 44, loss= 0.5457882285118103, \n",
      "INFO:root:iteration= 45, loss= 0.5115036368370056, \n",
      "INFO:root:iteration= 46, loss= 0.47807759046554565, \n",
      "INFO:root:iteration= 47, loss= 0.4856971204280853, \n",
      "INFO:root:iteration= 48, loss= 0.5033321380615234, \n",
      "INFO:root:iteration= 49, loss= 0.4918626844882965, \n",
      "INFO:root:iteration= 50, loss= 0.5125319957733154, \n",
      "INFO:root:iteration= 51, loss= 0.47743862867355347, \n",
      "INFO:root:iteration= 52, loss= 0.5096505880355835, \n",
      "INFO:root:iteration= 53, loss= 0.5296493768692017, \n",
      "INFO:root:iteration= 54, loss= 0.504778265953064, \n",
      "INFO:root:iteration= 55, loss= 0.446196973323822, \n",
      "INFO:root:iteration= 56, loss= 0.4854704439640045, \n",
      "INFO:root:iteration= 57, loss= 0.4915527403354645, \n",
      "INFO:root:iteration= 58, loss= 0.4998190999031067, \n",
      "INFO:root:iteration= 59, loss= 0.49725261330604553, \n",
      "INFO:root:iteration= 60, loss= 0.5178847312927246, \n",
      "INFO:root:iteration= 61, loss= 0.4864359498023987, \n",
      "INFO:root:iteration= 62, loss= 0.4971552789211273, \n",
      "INFO:root:iteration= 63, loss= 0.5119596719741821, \n",
      "INFO:root:iteration= 64, loss= 0.47855958342552185, \n",
      "INFO:root:iteration= 65, loss= 0.5255728363990784, \n",
      "INFO:root:iteration= 66, loss= 0.5028982162475586, \n",
      "INFO:root:iteration= 67, loss= 0.5338732004165649, \n",
      "INFO:root:iteration= 68, loss= 0.5125381350517273, \n",
      "INFO:root:iteration= 69, loss= 0.4782524108886719, \n",
      "INFO:root:iteration= 70, loss= 0.4758549630641937, \n",
      "INFO:root:iteration= 71, loss= 0.4866848587989807, \n",
      "INFO:root:iteration= 72, loss= 0.489696204662323, \n",
      "INFO:root:iteration= 73, loss= 0.5093459486961365, \n",
      "INFO:root:iteration= 74, loss= 0.45811977982521057, \n",
      "INFO:root:iteration= 75, loss= 0.5073748826980591, \n",
      "INFO:root:iteration= 76, loss= 0.47673726081848145, \n",
      "INFO:root:iteration= 77, loss= 0.5175082683563232, \n",
      "INFO:root:iteration= 78, loss= 0.5386764407157898, \n",
      "INFO:root:iteration= 79, loss= 0.4596138894557953, \n",
      "INFO:root:iteration= 80, loss= 0.49052587151527405, \n",
      "INFO:root:iteration= 81, loss= 0.47099724411964417, \n",
      "INFO:root:iteration= 82, loss= 0.5018373131752014, \n",
      "INFO:root:iteration= 83, loss= 0.5419381260871887, \n",
      "INFO:root:iteration= 84, loss= 0.5092347860336304, \n",
      "INFO:root:iteration= 85, loss= 0.5303364992141724, \n",
      "INFO:root:iteration= 86, loss= 0.5399997234344482, \n",
      "INFO:root:iteration= 87, loss= 0.5059487223625183, \n",
      "INFO:root:iteration= 88, loss= 0.4998862147331238, \n",
      "INFO:root:iteration= 89, loss= 0.5349623560905457, \n",
      "INFO:root:iteration= 90, loss= 0.5150081515312195, \n",
      "INFO:root:iteration= 91, loss= 0.47937360405921936, \n",
      "INFO:root:iteration= 92, loss= 0.49910369515419006, \n",
      "INFO:root:iteration= 93, loss= 0.5239187479019165, \n",
      "INFO:root:iteration= 94, loss= 0.48732486367225647, \n",
      "INFO:root:iteration= 95, loss= 0.5114051103591919, \n",
      "INFO:root:iteration= 96, loss= 0.5000649690628052, \n",
      "INFO:root:iteration= 97, loss= 0.5244150161743164, \n",
      "INFO:root:iteration= 98, loss= 0.5297332406044006, \n",
      "INFO:root:iteration= 99, loss= 0.5121403336524963, \n",
      "INFO:root:iteration= 100, loss= 0.46006864309310913, \n",
      "INFO:root:iteration= 101, loss= 0.49770164489746094, \n",
      "INFO:root:iteration= 102, loss= 0.49305057525634766, \n",
      "INFO:root:iteration= 103, loss= 0.5208538770675659, \n",
      "INFO:root:iteration= 104, loss= 0.49102503061294556, \n",
      "INFO:root:iteration= 105, loss= 0.47918230295181274, \n",
      "INFO:root:iteration= 106, loss= 0.4905080199241638, \n",
      "INFO:root:iteration= 107, loss= 0.49459290504455566, \n",
      "INFO:root:iteration= 108, loss= 0.4961240887641907, \n",
      "INFO:root:iteration= 109, loss= 0.503657877445221, \n",
      "INFO:root:iteration= 110, loss= 0.5184935331344604, \n",
      "INFO:root:iteration= 111, loss= 0.5063796043395996, \n",
      "INFO:root:iteration= 112, loss= 0.5224353075027466, \n",
      "INFO:root:iteration= 113, loss= 0.49765172600746155, \n",
      "INFO:root:iteration= 114, loss= 0.48453420400619507, \n",
      "INFO:root:iteration= 115, loss= 0.46888136863708496, \n",
      "INFO:root:iteration= 116, loss= 0.48312121629714966, \n",
      "INFO:root:iteration= 117, loss= 0.4980655610561371, \n",
      "INFO:root:iteration= 118, loss= 0.4886154532432556, \n",
      "INFO:root:iteration= 119, loss= 0.4884094297885895, \n",
      "INFO:root:iteration= 120, loss= 0.4730514883995056, \n",
      "INFO:root:iteration= 121, loss= 0.5264117121696472, \n",
      "INFO:root:iteration= 122, loss= 0.47894954681396484, \n",
      "INFO:root:iteration= 123, loss= 0.5023193359375, \n",
      "INFO:root:iteration= 124, loss= 0.4952366352081299, \n",
      "INFO:root:iteration= 125, loss= 0.49110308289527893, \n",
      "INFO:root:iteration= 126, loss= 0.4981474280357361, \n",
      "INFO:root:iteration= 127, loss= 0.494271844625473, \n",
      "INFO:root:iteration= 128, loss= 0.4934902787208557, \n",
      "INFO:root:iteration= 129, loss= 0.4644428789615631, \n",
      "INFO:root:iteration= 130, loss= 0.4974457621574402, \n",
      "INFO:root:iteration= 131, loss= 0.493755966424942, \n",
      "INFO:root:iteration= 132, loss= 0.4834902286529541, \n",
      "INFO:root:iteration= 133, loss= 0.5281675457954407, \n",
      "INFO:root:iteration= 134, loss= 0.49209386110305786, \n",
      "INFO:root:iteration= 135, loss= 0.4731396734714508, \n",
      "INFO:root:iteration= 136, loss= 0.474949449300766, \n",
      "INFO:root:iteration= 137, loss= 0.46562305092811584, \n",
      "INFO:root:iteration= 138, loss= 0.4765895903110504, \n",
      "INFO:root:iteration= 139, loss= 0.516480028629303, \n",
      "INFO:root:iteration= 140, loss= 0.49726182222366333, \n",
      "INFO:root:iteration= 141, loss= 0.49636387825012207, \n",
      "INFO:root:iteration= 142, loss= 0.49900832772254944, \n",
      "INFO:root:iteration= 143, loss= 0.5047428607940674, \n",
      "INFO:root:iteration= 144, loss= 0.4853108525276184, \n",
      "INFO:root:iteration= 145, loss= 0.4751167893409729, \n",
      "INFO:root:iteration= 146, loss= 0.49860063195228577, \n",
      "INFO:root:iteration= 147, loss= 0.5065827369689941, \n",
      "INFO:root:iteration= 148, loss= 0.4905110001564026, \n",
      "INFO:root:iteration= 149, loss= 0.5003949403762817, \n",
      "INFO:root:iteration= 150, loss= 0.4762965142726898, \n",
      "INFO:root:iteration= 151, loss= 0.4909910559654236, \n",
      "INFO:root:iteration= 152, loss= 0.4637361168861389, \n",
      "INFO:root:iteration= 153, loss= 0.4995645582675934, \n",
      "INFO:root:iteration= 154, loss= 0.4816376566886902, \n",
      "INFO:root:iteration= 155, loss= 0.49057453870773315, \n",
      "INFO:root:iteration= 156, loss= 0.46961289644241333, \n",
      "INFO:root:iteration= 157, loss= 0.5143954157829285, \n",
      "INFO:root:iteration= 158, loss= 0.48103436827659607, \n",
      "INFO:root:iteration= 159, loss= 0.4807070791721344, \n",
      "INFO:root:iteration= 160, loss= 0.4881524443626404, \n",
      "INFO:root:iteration= 161, loss= 0.4805712103843689, \n",
      "INFO:root:iteration= 162, loss= 0.4962725043296814, \n",
      "INFO:root:iteration= 163, loss= 0.46567216515541077, \n",
      "INFO:root:iteration= 164, loss= 0.5041316747665405, \n",
      "INFO:root:iteration= 165, loss= 0.45910757780075073, \n",
      "INFO:root:iteration= 166, loss= 0.47832614183425903, \n",
      "INFO:root:iteration= 167, loss= 0.4991498589515686, \n",
      "INFO:root:iteration= 168, loss= 0.467909574508667, \n",
      "INFO:root:iteration= 169, loss= 0.46148133277893066, \n",
      "INFO:root:iteration= 170, loss= 0.47643280029296875, \n",
      "INFO:root:iteration= 171, loss= 0.4714268743991852, \n",
      "INFO:root:iteration= 172, loss= 0.5073083639144897, \n",
      "INFO:root:iteration= 173, loss= 0.49725690484046936, \n",
      "INFO:root:iteration= 174, loss= 0.48598647117614746, \n",
      "INFO:root:iteration= 175, loss= 0.49162572622299194, \n",
      "INFO:root:iteration= 176, loss= 0.4864962100982666, \n",
      "INFO:root:iteration= 177, loss= 0.48832887411117554, \n",
      "INFO:root:iteration= 178, loss= 0.4822078347206116, \n",
      "INFO:root:iteration= 179, loss= 0.46468010544776917, \n",
      "INFO:root:iteration= 180, loss= 0.4885176122188568, \n",
      "INFO:root:iteration= 181, loss= 0.4620688557624817, \n",
      "INFO:root:iteration= 182, loss= 0.4824513792991638, \n",
      "INFO:root:iteration= 183, loss= 0.49476566910743713, \n",
      "INFO:root:iteration= 184, loss= 0.4804832339286804, \n",
      "INFO:root:iteration= 185, loss= 0.46646493673324585, \n",
      "INFO:root:iteration= 186, loss= 0.47842302918434143, \n",
      "INFO:root:iteration= 187, loss= 0.49974051117897034, \n",
      "INFO:root:iteration= 188, loss= 0.48714542388916016, \n",
      "INFO:root:iteration= 189, loss= 0.4714527726173401, \n",
      "INFO:root:iteration= 190, loss= 0.48700255155563354, \n",
      "INFO:root:iteration= 191, loss= 0.47639816999435425, \n",
      "INFO:root:iteration= 192, loss= 0.477774053812027, \n",
      "INFO:root:iteration= 193, loss= 0.472850501537323, \n",
      "INFO:root:iteration= 194, loss= 0.4850409924983978, \n",
      "INFO:root:iteration= 195, loss= 0.46994346380233765, \n",
      "INFO:root:iteration= 196, loss= 0.45995861291885376, \n",
      "INFO:root:iteration= 197, loss= 0.49187296628952026, \n",
      "INFO:root:iteration= 198, loss= 0.4788653254508972, \n",
      "INFO:root:iteration= 199, loss= 0.49040883779525757, \n"
     ]
    }
   ],
   "source": [
    "from ml_lib.pipeline.experiment import Experiment\n",
    "with Session(db_engine) as db_session:\n",
    "    #import pdb;pdb.set_trace()\n",
    "    exp = Experiment.from_yaml(\"workdir/test_config.yaml\", database_session=db_session)\n",
    "    exp.train_all()"
   ]
  },
  {
   "cell_type": "code",
   "execution_count": 47,
   "id": "283f6af1-16e6-44db-86fa-606d8389155d",
   "metadata": {
    "scrolled": true
   },
   "outputs": [],
   "source": [
    "with Session(db_engine) as db_session:\n",
    "    #import pdb;pdb.set_trace()\n",
    "    exp = Experiment.from_yaml(\"workdir/test_config.yaml\", database_session=db_session)\n",
    "    exp.train_all()"
   ]
  },
  {
   "cell_type": "markdown",
   "id": "77a9b7e3-40d7-44d6-9e03-06c91181baf4",
   "metadata": {},
   "source": [
    "## Misc"
   ]
  },
  {
   "cell_type": "code",
   "execution_count": 48,
   "id": "45247357-c2b0-4f94-aa17-0b29e509ea32",
   "metadata": {},
   "outputs": [],
   "source": [
    "from ml_lib.misc.matchers import EmptySet"
   ]
  },
  {
   "cell_type": "code",
   "execution_count": 49,
   "id": "18fe4171-d9ff-40ed-bae1-278b4d8f7e1b",
   "metadata": {},
   "outputs": [
    {
     "data": {
      "text/plain": [
       "True"
      ]
     },
     "execution_count": 49,
     "metadata": {},
     "output_type": "execute_result"
    }
   ],
   "source": [
    "isinstance(set(), EmptySet)"
   ]
  },
  {
   "cell_type": "code",
   "execution_count": 50,
   "id": "4edd573f-c387-47b6-b632-db8a615d15e8",
   "metadata": {},
   "outputs": [
    {
     "data": {
      "text/plain": [
       "False"
      ]
     },
     "execution_count": 50,
     "metadata": {},
     "output_type": "execute_result"
    }
   ],
   "source": [
    "isinstance(set([1]), EmptySet)"
   ]
  },
  {
   "cell_type": "code",
   "execution_count": 51,
   "id": "7b0455b4-94b8-4698-b6e9-20647e04daf9",
   "metadata": {},
   "outputs": [
    {
     "name": "stdout",
     "output_type": "stream",
     "text": [
      "Tristan, you are a terrible person\n",
      "But it works\n"
     ]
    }
   ],
   "source": [
    "match set():\n",
    "    case EmptySet():\n",
    "        print(\"Tristan, you are a terrible person\")\n",
    "    case _:\n",
    "        print(\"ugh\")\n",
    "\n",
    "match {1, 2, 3}:\n",
    "    case EmptySet():\n",
    "        print(\"ugh\")\n",
    "    case _:\n",
    "        print(\"But it works\")"
   ]
  },
  {
   "cell_type": "markdown",
   "id": "897a6ae4-e312-4eb4-8b26-a1d4507bf41e",
   "metadata": {},
   "source": [
    "Someday I'll make one of those that checks for regular expressions… and that will be absolutely terrible"
   ]
  },
  {
   "cell_type": "code",
   "execution_count": 52,
   "id": "a523e383-97ac-4ee1-8973-c801a03b6976",
   "metadata": {},
   "outputs": [
    {
     "name": "stdout",
     "output_type": "stream",
     "text": [
      "Unexpected exception formatting exception. Falling back to standard exception\n"
     ]
    },
    {
     "name": "stderr",
     "output_type": "stream",
     "text": [
      "Traceback (most recent call last):\n",
      "  File \"/home/tris/.cache/pypoetry/virtualenvs/ml-lib-0sbOzrlG-py3.11/lib/python3.11/site-packages/IPython/core/interactiveshell.py\", line 3505, in run_code\n",
      "    exec(code_obj, self.user_global_ns, self.user_ns)\n",
      "  File \"/tmp/ipykernel_266773/3325999472.py\", line 2, in <module>\n",
      "    isinstance(Literal[3, 4], Literal)\n",
      "  File \"/usr/lib/python3.11/typing.py\", line 481, in __instancecheck__\n",
      "    raise TypeError(f\"{self} cannot be used with isinstance()\")\n",
      "TypeError: typing.Literal cannot be used with isinstance()\n",
      "\n",
      "During handling of the above exception, another exception occurred:\n",
      "\n",
      "Traceback (most recent call last):\n",
      "  File \"/home/tris/.cache/pypoetry/virtualenvs/ml-lib-0sbOzrlG-py3.11/lib/python3.11/site-packages/IPython/core/interactiveshell.py\", line 2102, in showtraceback\n",
      "    stb = self.InteractiveTB.structured_traceback(\n",
      "          ^^^^^^^^^^^^^^^^^^^^^^^^^^^^^^^^^^^^^^^^\n",
      "  File \"/home/tris/.cache/pypoetry/virtualenvs/ml-lib-0sbOzrlG-py3.11/lib/python3.11/site-packages/IPython/core/ultratb.py\", line 1310, in structured_traceback\n",
      "    return FormattedTB.structured_traceback(\n",
      "           ^^^^^^^^^^^^^^^^^^^^^^^^^^^^^^^^^\n",
      "  File \"/home/tris/.cache/pypoetry/virtualenvs/ml-lib-0sbOzrlG-py3.11/lib/python3.11/site-packages/IPython/core/ultratb.py\", line 1199, in structured_traceback\n",
      "    return VerboseTB.structured_traceback(\n",
      "           ^^^^^^^^^^^^^^^^^^^^^^^^^^^^^^^\n",
      "  File \"/home/tris/.cache/pypoetry/virtualenvs/ml-lib-0sbOzrlG-py3.11/lib/python3.11/site-packages/IPython/core/ultratb.py\", line 1052, in structured_traceback\n",
      "    formatted_exception = self.format_exception_as_a_whole(etype, evalue, etb, number_of_lines_of_context,\n",
      "                          ^^^^^^^^^^^^^^^^^^^^^^^^^^^^^^^^^^^^^^^^^^^^^^^^^^^^^^^^^^^^^^^^^^^^^^^^^^^^^^^^\n",
      "  File \"/home/tris/.cache/pypoetry/virtualenvs/ml-lib-0sbOzrlG-py3.11/lib/python3.11/site-packages/IPython/core/ultratb.py\", line 953, in format_exception_as_a_whole\n",
      "    self.get_records(etb, number_of_lines_of_context, tb_offset) if etb else []\n",
      "    ^^^^^^^^^^^^^^^^^^^^^^^^^^^^^^^^^^^^^^^^^^^^^^^^^^^^^^^^^^^^\n",
      "  File \"/home/tris/.cache/pypoetry/virtualenvs/ml-lib-0sbOzrlG-py3.11/lib/python3.11/site-packages/IPython/core/ultratb.py\", line 1022, in get_records\n",
      "    lines, first = inspect.getsourcelines(etb.tb_frame)\n",
      "                   ^^^^^^^^^^^^^^^^^^^^^^^^^^^^^^^^^^^^\n",
      "  File \"/usr/lib/python3.11/inspect.py\", line 1244, in getsourcelines\n",
      "    lines, lnum = findsource(object)\n",
      "                  ^^^^^^^^^^^^^^^^^^\n",
      "  File \"/usr/lib/python3.11/inspect.py\", line 1075, in findsource\n",
      "    module = getmodule(object, file)\n",
      "             ^^^^^^^^^^^^^^^^^^^^^^^\n",
      "  File \"/usr/lib/python3.11/inspect.py\", line 992, in getmodule\n",
      "    if ismodule(module) and hasattr(module, '__file__'):\n",
      "                            ^^^^^^^^^^^^^^^^^^^^^^^^^^^\n",
      "  File \"<frozen importlib.util>\", line 252, in __getattribute__\n",
      "ValueError: module object for 'ml_lib.datasets.feature_specification' substituted in sys.modules during a lazy load\n"
     ]
    }
   ],
   "source": [
    "from typing import Literal\n",
    "isinstance(Literal[3, 4], Literal)\n",
    "\n"
   ]
  },
  {
   "cell_type": "code",
   "execution_count": null,
   "id": "2427935d-0527-4959-9c9b-e484a4c2c7a0",
   "metadata": {},
   "outputs": [],
   "source": [
    "Literal[1, 2] == Literal[2, 1]"
   ]
  },
  {
   "cell_type": "code",
   "execution_count": null,
   "id": "f73fcebf-f9b2-4f2d-be53-b41b628d9286",
   "metadata": {},
   "outputs": [],
   "source": [
    "Literal[1, 2].__dict__"
   ]
  },
  {
   "cell_type": "code",
   "execution_count": null,
   "id": "18ee4647-b0d9-4ba3-a335-b2f5f163c56b",
   "metadata": {},
   "outputs": [],
   "source": [
    "import typing\n",
    "Hyperparameter[list[int]].__origin__.__origin__"
   ]
  },
  {
   "cell_type": "code",
   "execution_count": null,
   "id": "c2baed22-3896-49cc-a1dc-3542543a915b",
   "metadata": {},
   "outputs": [],
   "source": [
    "typing.get_args(Hyperparameter[list[int]])"
   ]
  },
  {
   "cell_type": "code",
   "execution_count": null,
   "id": "4ea3ae5f-c312-4a04-84ce-f5babd5de9a0",
   "metadata": {},
   "outputs": [],
   "source": []
  },
  {
   "cell_type": "code",
   "execution_count": null,
   "id": "44a9af46-937a-464a-9865-35fa02c6b055",
   "metadata": {},
   "outputs": [],
   "source": []
  },
  {
   "cell_type": "code",
   "execution_count": null,
   "id": "4c501b3c-df33-45e0-b553-22ec9705f0a5",
   "metadata": {},
   "outputs": [],
   "source": []
  }
 ],
 "metadata": {
  "kernelspec": {
   "display_name": "Python 3 (ipykernel)",
   "language": "python",
   "name": "python3"
  },
  "language_info": {
   "codemirror_mode": {
    "name": "ipython",
    "version": 3
   },
   "file_extension": ".py",
   "mimetype": "text/x-python",
   "name": "python",
   "nbconvert_exporter": "python",
   "pygments_lexer": "ipython3",
   "version": "3.11.8"
  }
 },
 "nbformat": 4,
 "nbformat_minor": 5
}
