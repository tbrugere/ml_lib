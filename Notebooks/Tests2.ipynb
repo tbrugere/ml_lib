{
 "cells": [
  {
   "cell_type": "markdown",
   "id": "988b919e-7daf-4162-8c84-b2890ab82cac",
   "metadata": {},
   "source": [
    "# Tests"
   ]
  },
  {
   "cell_type": "markdown",
   "id": "afb7059d-3b1c-4363-9735-2629bf454125",
   "metadata": {
    "jp-MarkdownHeadingCollapsed": true
   },
   "source": [
    "## Imports and stuff"
   ]
  },
  {
   "cell_type": "code",
   "execution_count": 1,
   "id": "a756cc65-6c1e-472b-9b9c-0abdf60a1b6c",
   "metadata": {
    "tags": []
   },
   "outputs": [],
   "source": [
    "import sys\n",
    "\n",
    "def append_path(s):\n",
    "    if s in sys.path:\n",
    "        return\n",
    "    sys.path.append(s)\n",
    "\n",
    "append_path(\"..\")\n",
    "%load_ext autoreload\n",
    "%autoreload 2"
   ]
  },
  {
   "cell_type": "code",
   "execution_count": 2,
   "id": "d469e6ee-0505-4851-8bf6-4d31ab8ae3ea",
   "metadata": {},
   "outputs": [],
   "source": [
    "import numpy as np\n",
    "from numpy.random import default_rng\n",
    "rng = default_rng()\n",
    "import matplotlib.pyplot as plt\n",
    "import matplotlib.ticker as ticker\n",
    "import networkx as nx\n",
    "import torch\n",
    "from torch import Tensor\n"
   ]
  },
  {
   "cell_type": "code",
   "execution_count": 3,
   "id": "3475ed6e-5d9e-47ae-911d-41caed2a7cf6",
   "metadata": {},
   "outputs": [],
   "source": [
    "import ml_lib\n"
   ]
  },
  {
   "cell_type": "markdown",
   "id": "49ca92f8-b5c4-480b-9f7b-a7d2b47eda17",
   "metadata": {
    "tags": []
   },
   "source": [
    "## Datasets"
   ]
  },
  {
   "cell_type": "code",
   "execution_count": 4,
   "id": "bcb59e0b-d47d-4fa3-bd5c-12cbc7112498",
   "metadata": {},
   "outputs": [],
   "source": [
    "from ml_lib.datasets import register as dataset_register, transform_register"
   ]
  },
  {
   "cell_type": "code",
   "execution_count": 5,
   "id": "26cea4fc-9e73-46e6-acca-48b50bd4e55e",
   "metadata": {},
   "outputs": [],
   "source": [
    "dataset0 = dataset_register[\"Torus4D\"](1000)"
   ]
  },
  {
   "cell_type": "code",
   "execution_count": 6,
   "id": "fd359c44-3417-4b76-9570-202447d781bd",
   "metadata": {},
   "outputs": [],
   "source": [
    "dataset1 = transform_register[\"CacheTransform\"](dataset0)"
   ]
  },
  {
   "cell_type": "code",
   "execution_count": 7,
   "id": "5809ff0a-da88-45af-9913-7014b4a0a51f",
   "metadata": {},
   "outputs": [
    {
     "data": {
      "text/plain": [
       "tensor([[0.3894, 0.9225, 0.7859, 0.6132]])"
      ]
     },
     "execution_count": 7,
     "metadata": {},
     "output_type": "execute_result"
    }
   ],
   "source": [
    "dataset1[0]"
   ]
  },
  {
   "cell_type": "code",
   "execution_count": 8,
   "id": "82f44708-e279-4422-b00d-3d40eb912abb",
   "metadata": {},
   "outputs": [
    {
     "data": {
      "text/plain": [
       "datapoint(x=tensor([[0.3894, 0.9225, 0.7859, 0.6132]]))"
      ]
     },
     "execution_count": 8,
     "metadata": {},
     "output_type": "execute_result"
    }
   ],
   "source": [
    "dataset2 = transform_register[\"RenameTransform\"](dataset1, {\"_\": \"x\"})\n",
    "dataset2[0]"
   ]
  },
  {
   "cell_type": "code",
   "execution_count": 9,
   "id": "ca39be83-6328-452f-9dd7-822e9474eeb1",
   "metadata": {},
   "outputs": [
    {
     "data": {
      "text/plain": [
       "datapoint(x=tensor([[0.3894, 0.9225, 0.7859, 0.6132]]), y=tensor([[0.3894, 0.9225, 0.7859, 0.6132]]))"
      ]
     },
     "execution_count": 9,
     "metadata": {},
     "output_type": "execute_result"
    }
   ],
   "source": [
    "dataset3 = transform_register[\"RenameTransform\"](dataset2, {\"x\": \"x\", 0:\"y\"})\n",
    "dataset3[0]"
   ]
  },
  {
   "cell_type": "code",
   "execution_count": 10,
   "id": "cebea6a4-4148-4d14-84b9-1a4fcd0410e1",
   "metadata": {},
   "outputs": [
    {
     "data": {
      "text/plain": [
       "datapoint(x=tensor([[0.2756, 0.6529, 0.5562, 0.4340]]), gt=tensor([[0.3894, 0.9225, 0.7859, 0.6132]]))"
      ]
     },
     "execution_count": 10,
     "metadata": {},
     "output_type": "execute_result"
    }
   ],
   "source": [
    "normalize = lambda x : x / x.norm()\n",
    "dataset4 = transform_register[\"MultipleFunctionTransform\"](dataset3, {\"x\": (normalize, \"x\"), \"gt\": (lambda x:x, \"y\")})\n",
    "dataset4[0]"
   ]
  },
  {
   "cell_type": "markdown",
   "id": "c76780b0-47c8-4bd9-8d4a-0df334837b6b",
   "metadata": {},
   "source": [
    "great!"
   ]
  },
  {
   "cell_type": "markdown",
   "id": "b232574c-5703-4688-b0f7-99be279c79c1",
   "metadata": {
    "jp-MarkdownHeadingCollapsed": true,
    "tags": []
   },
   "source": [
    "## Environments"
   ]
  },
  {
   "cell_type": "code",
   "execution_count": 11,
   "id": "8faa0bac-090c-4c70-bca8-7795002026bc",
   "metadata": {},
   "outputs": [],
   "source": [
    "from ml_lib.environment import Environment, Scope, scopevar_of_str, str_of_scopevar, HierarchicEnvironment, ScopedEnvironment"
   ]
  },
  {
   "cell_type": "code",
   "execution_count": 12,
   "id": "e4ad9cd4-aeab-4aac-8da7-f32ea22ed838",
   "metadata": {},
   "outputs": [
    {
     "data": {
      "text/plain": [
       "(('a', 'b'), 'c')"
      ]
     },
     "execution_count": 12,
     "metadata": {},
     "output_type": "execute_result"
    }
   ],
   "source": [
    "scopevar_of_str(\"a/b/c\")"
   ]
  },
  {
   "cell_type": "code",
   "execution_count": 13,
   "id": "72282cd4-17dd-4d57-b74c-40aea0b48080",
   "metadata": {},
   "outputs": [
    {
     "data": {
      "text/plain": [
       "'a/b/c'"
      ]
     },
     "execution_count": 13,
     "metadata": {},
     "output_type": "execute_result"
    }
   ],
   "source": [
    "str_of_scopevar(('a', 'b'), 'c')"
   ]
  },
  {
   "cell_type": "code",
   "execution_count": 14,
   "id": "c7efde3a-5b69-4ada-8e75-0451b4859ddc",
   "metadata": {},
   "outputs": [],
   "source": [
    "env = Environment()"
   ]
  },
  {
   "cell_type": "code",
   "execution_count": 15,
   "id": "3681ab99-19b5-48d3-ba87-dfa8da55c7bb",
   "metadata": {},
   "outputs": [
    {
     "data": {
      "text/plain": [
       "Environment(defaultdict(<class 'dict'>, {'_ipython_canary_method_should_not_exist_': {}, '_ipython_display_': {}, '_repr_mimebundle_': {}}))"
      ]
     },
     "execution_count": 15,
     "metadata": {},
     "output_type": "execute_result"
    }
   ],
   "source": [
    "env"
   ]
  },
  {
   "cell_type": "code",
   "execution_count": 16,
   "id": "4635378d-473f-43d9-a973-96e78a63e940",
   "metadata": {},
   "outputs": [],
   "source": [
    "env.record(\"hello\", 1)"
   ]
  },
  {
   "cell_type": "code",
   "execution_count": 17,
   "id": "ffb94b27-d9d0-43fb-bfc8-3f368f77bc8e",
   "metadata": {},
   "outputs": [
    {
     "data": {
      "text/plain": [
       "defaultdict(dict,\n",
       "            {'_ipython_canary_method_should_not_exist_': {},\n",
       "             '_ipython_display_': {},\n",
       "             '_repr_mimebundle_': {},\n",
       "             '_repr_html_': {},\n",
       "             '_repr_markdown_': {},\n",
       "             '_repr_svg_': {},\n",
       "             '_repr_png_': {},\n",
       "             '_repr_pdf_': {},\n",
       "             '_repr_jpeg_': {},\n",
       "             '_repr_latex_': {},\n",
       "             '_repr_json_': {},\n",
       "             '_repr_javascript_': {},\n",
       "             'hello': {(): 1}})"
      ]
     },
     "execution_count": 17,
     "metadata": {},
     "output_type": "execute_result"
    }
   ],
   "source": [
    "env.data"
   ]
  },
  {
   "cell_type": "code",
   "execution_count": 18,
   "id": "d4890ff8-761a-4e6e-8a73-42b2ac812808",
   "metadata": {},
   "outputs": [
    {
     "data": {
      "text/plain": [
       "defaultdict(dict,\n",
       "            {'_ipython_canary_method_should_not_exist_': {},\n",
       "             '_ipython_display_': {},\n",
       "             '_repr_mimebundle_': {},\n",
       "             '_repr_html_': {},\n",
       "             '_repr_markdown_': {},\n",
       "             '_repr_svg_': {},\n",
       "             '_repr_png_': {},\n",
       "             '_repr_pdf_': {},\n",
       "             '_repr_jpeg_': {},\n",
       "             '_repr_latex_': {},\n",
       "             '_repr_json_': {},\n",
       "             '_repr_javascript_': {},\n",
       "             'hello': {(): 1},\n",
       "             'world': {('some', 'scope'): 4}})"
      ]
     },
     "execution_count": 18,
     "metadata": {},
     "output_type": "execute_result"
    }
   ],
   "source": [
    "env.record(\"world\", 4, (\"some\", \"scope\"))\n",
    "env.data"
   ]
  },
  {
   "cell_type": "code",
   "execution_count": 19,
   "id": "bb3196cd-ec71-43c7-9159-bd7971cb0cc4",
   "metadata": {},
   "outputs": [
    {
     "data": {
      "text/plain": [
       "1"
      ]
     },
     "execution_count": 19,
     "metadata": {},
     "output_type": "execute_result"
    }
   ],
   "source": [
    "env.get(\"hello\")"
   ]
  },
  {
   "cell_type": "code",
   "execution_count": 20,
   "id": "91ea9683-7071-4554-8dac-cac7ffdbc478",
   "metadata": {},
   "outputs": [
    {
     "data": {
      "text/plain": [
       "4"
      ]
     },
     "execution_count": 20,
     "metadata": {},
     "output_type": "execute_result"
    }
   ],
   "source": [
    "env.get(\"world\")"
   ]
  },
  {
   "cell_type": "code",
   "execution_count": 21,
   "id": "454ff54f-0487-4382-a546-6ee4638ce9ef",
   "metadata": {},
   "outputs": [
    {
     "data": {
      "text/plain": [
       "4"
      ]
     },
     "execution_count": 21,
     "metadata": {},
     "output_type": "execute_result"
    }
   ],
   "source": [
    "#import pdb; pdb.set_trace()\n",
    "env.get(\"world\", scope=(\"some\",))"
   ]
  },
  {
   "cell_type": "code",
   "execution_count": 22,
   "id": "0bd673e8-3f56-469f-8ba8-d90228dd7f6e",
   "metadata": {},
   "outputs": [],
   "source": [
    "env.get(\"world\", scope=(\"soe\",))"
   ]
  },
  {
   "cell_type": "code",
   "execution_count": 23,
   "id": "40273039-d3d5-4111-97af-52e789c81a39",
   "metadata": {},
   "outputs": [],
   "source": [
    "hier_env = HierarchicEnvironment(parent=env)"
   ]
  },
  {
   "cell_type": "code",
   "execution_count": 24,
   "id": "92697ea6-3316-4186-bec0-23dcd8b2d0c5",
   "metadata": {},
   "outputs": [
    {
     "data": {
      "text/plain": [
       "2"
      ]
     },
     "execution_count": 24,
     "metadata": {},
     "output_type": "execute_result"
    }
   ],
   "source": [
    "hier_env.record(\"world\", 2, (\"some\",))\n",
    "hier_env.get(\"world\", scope=(\"some\",))\n"
   ]
  },
  {
   "cell_type": "code",
   "execution_count": 25,
   "id": "88d07bb9-a701-431e-91d7-b228555ffc6a",
   "metadata": {},
   "outputs": [
    {
     "data": {
      "text/plain": [
       "4"
      ]
     },
     "execution_count": 25,
     "metadata": {},
     "output_type": "execute_result"
    }
   ],
   "source": [
    "hier_env.get(\"world\", scope=(\"some\",\"scope\"))\n"
   ]
  },
  {
   "cell_type": "code",
   "execution_count": 26,
   "id": "e3a7bd05-bf0d-44ce-90d1-2abf36fddfed",
   "metadata": {},
   "outputs": [],
   "source": [
    "def f(world, hello=6, magic=3):\n",
    "    print(world, hello, magic)\n",
    "    return 1"
   ]
  },
  {
   "cell_type": "code",
   "execution_count": 27,
   "id": "598d5a9a-9a64-4145-bd7c-11a5e73f9925",
   "metadata": {},
   "outputs": [
    {
     "name": "stdout",
     "output_type": "stream",
     "text": [
      "2 1 3\n"
     ]
    },
    {
     "data": {
      "text/plain": [
       "1"
      ]
     },
     "execution_count": 27,
     "metadata": {},
     "output_type": "execute_result"
    }
   ],
   "source": [
    "hier_env.run_function(f)"
   ]
  },
  {
   "cell_type": "markdown",
   "id": "56f84cb9-c0f8-4753-890b-5eacf56006e1",
   "metadata": {},
   "source": [
    "## Model"
   ]
  },
  {
   "cell_type": "code",
   "execution_count": 28,
   "id": "dfc31937-5b0f-48ad-b705-e8977efda7b6",
   "metadata": {},
   "outputs": [
    {
     "name": "stdout",
     "output_type": "stream",
     "text": [
      "SimpleMLPModel(\n",
      "    dimensions=[4, 5, 10, 4, 4],\n",
      ")\n",
      "SimpleMLPModel(\n",
      "  (inner): MLP(\n",
      "    (linear_0): Linear(in_features=4, out_features=5, bias=True)\n",
      "    (activation_0): ReLU()\n",
      "    (linear_1): Linear(in_features=5, out_features=10, bias=True)\n",
      "    (activation_1): ReLU()\n",
      "    (linear_2): Linear(in_features=10, out_features=4, bias=True)\n",
      "    (activation_2): ReLU()\n",
      "    (linear_3): Linear(in_features=4, out_features=4, bias=True)\n",
      "  )\n",
      ")\n"
     ]
    }
   ],
   "source": [
    "from ml_lib.models import Model, Supervised, Hyperparameter\n",
    "from ml_lib.models.layers import MLP\n",
    "class SimpleMLPModel(Supervised):\n",
    "\n",
    "    dimensions: Hyperparameter[list[int]]\n",
    "\n",
    "    inner: MLP\n",
    "\n",
    "    def __setup__(self):\n",
    "        self.inner = MLP(*self.dimensions, batchnorm=False)\n",
    "\n",
    "    def forward(self, x):\n",
    "        return self.inner(x)\n",
    "\n",
    "    def loss_fun(self, x, gt):\n",
    "        return (x - gt).square().sum()\n",
    "\n",
    "model = SimpleMLPModel(dimensions=[4, 5, 10, 4, 4])\n",
    "print(model)\n",
    "print(torch.nn.Module.__repr__(model))"
   ]
  },
  {
   "cell_type": "markdown",
   "id": "69300be5-9d40-4cad-8567-454ea9404830",
   "metadata": {},
   "source": [
    "## Training"
   ]
  },
  {
   "cell_type": "code",
   "execution_count": 29,
   "id": "9d5c3e97-a43c-416d-8b1a-b24ec5d53eb1",
   "metadata": {},
   "outputs": [],
   "source": [
    "from ml_lib.models import Model\n",
    "from ml_lib.pipeline import Trainer\n",
    "from ml_lib.pipeline.training_hooks import TqdmHook, LoggerHook, CurveHook\n",
    "from torch.utils.data import DataLoader"
   ]
  },
  {
   "cell_type": "code",
   "execution_count": 30,
   "id": "f683c8a1-1803-48e6-aa55-4f2991041e9f",
   "metadata": {},
   "outputs": [],
   "source": [
    "loader = DataLoader(dataset4, batch_size=None, shuffle=True)"
   ]
  },
  {
   "cell_type": "code",
   "execution_count": 31,
   "id": "9d9a0d8c-1ca9-4b0e-ad18-0f52cb5c5f41",
   "metadata": {},
   "outputs": [
    {
     "data": {
      "text/plain": [
       "datapoint(x=tensor([[-0.5940,  0.3736, -0.2314,  0.6738]]), gt=tensor([[-0.8407,  0.5288, -0.3275,  0.9535]]))"
      ]
     },
     "execution_count": 31,
     "metadata": {},
     "output_type": "execute_result"
    }
   ],
   "source": [
    "next(iter(loader))"
   ]
  },
  {
   "cell_type": "code",
   "execution_count": 32,
   "id": "ff11b26b-ef59-45fb-98d6-b3781c71ce7f",
   "metadata": {},
   "outputs": [
    {
     "data": {
      "application/vnd.jupyter.widget-view+json": {
       "model_id": "9d75fc64c3d049b8acd349788028a84b",
       "version_major": 2,
       "version_minor": 0
      },
      "text/plain": [
       "  0%|          | 0/4000 [00:00<?, ?it/s]"
      ]
     },
     "metadata": {},
     "output_type": "display_data"
    },
    {
     "name": "stderr",
     "output_type": "stream",
     "text": [
      "INFO:root:loss= 2.938366651535034, \n",
      "INFO:root:loss= 3.0411834716796875, \n",
      "INFO:root:loss= 1.160255789756775, \n",
      "INFO:root:loss= 2.664428949356079, \n",
      "INFO:root:loss= 2.1791725158691406, \n",
      "INFO:root:loss= 3.444607973098755, \n",
      "INFO:root:loss= 4.003042697906494, \n",
      "INFO:root:loss= 1.9195407629013062, \n",
      "INFO:root:loss= 2.8219783306121826, \n",
      "INFO:root:loss= 2.143404960632324, \n",
      "INFO:root:loss= 1.4969561100006104, \n",
      "INFO:root:loss= 0.7482514977455139, \n",
      "INFO:root:loss= 3.000108480453491, \n",
      "INFO:root:loss= 1.2386534214019775, \n",
      "INFO:root:loss= 2.4637484550476074, \n",
      "INFO:root:loss= 2.170470714569092, \n",
      "INFO:root:loss= 2.9631216526031494, \n",
      "INFO:root:loss= 2.9610157012939453, \n",
      "INFO:root:loss= 2.5379252433776855, \n",
      "INFO:root:loss= 2.1955690383911133, \n",
      "INFO:root:loss= 1.718267560005188, \n",
      "INFO:root:loss= 1.3583260774612427, \n",
      "INFO:root:loss= 1.346670150756836, \n",
      "INFO:root:loss= 1.1337165832519531, \n",
      "INFO:root:loss= 1.79925537109375, \n",
      "INFO:root:loss= 0.887220561504364, \n",
      "INFO:root:loss= 0.7949179410934448, \n",
      "INFO:root:loss= 1.571742057800293, \n",
      "INFO:root:loss= 1.7750542163848877, \n",
      "INFO:root:loss= 3.5036697387695312, \n",
      "INFO:root:loss= 1.3932971954345703, \n",
      "INFO:root:loss= 2.858562707901001, \n",
      "INFO:root:loss= 1.783347249031067, \n",
      "INFO:root:loss= 1.4856189489364624, \n",
      "INFO:root:loss= 1.9386169910430908, \n",
      "INFO:root:loss= 1.3232594728469849, \n",
      "INFO:root:loss= 2.3191823959350586, \n",
      "INFO:root:loss= 2.288726329803467, \n",
      "INFO:root:loss= 1.3906954526901245, \n",
      "INFO:root:loss= 3.309086799621582, \n",
      "INFO:root:loss= 2.052213430404663, \n",
      "INFO:root:loss= 3.1856930255889893, \n",
      "INFO:root:loss= 2.4259166717529297, \n",
      "INFO:root:loss= 1.7041404247283936, \n",
      "INFO:root:loss= 2.1341750621795654, \n",
      "INFO:root:loss= 2.2928154468536377, \n",
      "INFO:root:loss= 1.2128536701202393, \n",
      "INFO:root:loss= 2.576474189758301, \n",
      "INFO:root:loss= 3.0385172367095947, \n",
      "INFO:root:loss= 2.043841600418091, \n",
      "INFO:root:loss= 1.867897868156433, \n",
      "INFO:root:loss= 2.423952102661133, \n",
      "INFO:root:loss= 1.37618887424469, \n",
      "INFO:root:loss= 1.7030704021453857, \n",
      "INFO:root:loss= 1.2223373651504517, \n",
      "INFO:root:loss= 2.0004677772521973, \n",
      "INFO:root:loss= 2.2929558753967285, \n",
      "INFO:root:loss= 1.9217981100082397, \n",
      "INFO:root:loss= 2.423906087875366, \n",
      "INFO:root:loss= 2.414600372314453, \n",
      "INFO:root:loss= 2.4572882652282715, \n",
      "INFO:root:loss= 1.8862650394439697, \n",
      "INFO:root:loss= 1.4035786390304565, \n",
      "INFO:root:loss= 2.2155098915100098, \n",
      "INFO:root:loss= 1.9703896045684814, \n",
      "INFO:root:loss= 2.356698751449585, \n",
      "INFO:root:loss= 2.0681002140045166, \n",
      "INFO:root:loss= 2.0699925422668457, \n",
      "INFO:root:loss= 1.7401797771453857, \n",
      "INFO:root:loss= 2.229719638824463, \n",
      "INFO:root:loss= 1.5172839164733887, \n",
      "INFO:root:loss= 2.0463552474975586, \n",
      "INFO:root:loss= 1.8170710802078247, \n",
      "INFO:root:loss= 2.0583109855651855, \n",
      "INFO:root:loss= 1.9461113214492798, \n",
      "INFO:root:loss= 1.6515103578567505, \n",
      "INFO:root:loss= 1.2814137935638428, \n",
      "INFO:root:loss= 1.3584833145141602, \n",
      "INFO:root:loss= 1.6251747608184814, \n",
      "INFO:root:loss= 0.32612377405166626, \n",
      "INFO:root:loss= 2.0640957355499268, \n",
      "INFO:root:loss= 2.531383991241455, \n",
      "INFO:root:loss= 1.333327054977417, \n",
      "INFO:root:loss= 2.1224520206451416, \n",
      "INFO:root:loss= 2.3522462844848633, \n",
      "INFO:root:loss= 2.0167784690856934, \n",
      "INFO:root:loss= 1.9682646989822388, \n",
      "INFO:root:loss= 1.9370813369750977, \n",
      "INFO:root:loss= 2.077868700027466, \n",
      "INFO:root:loss= 2.212022304534912, \n",
      "INFO:root:loss= 1.7023160457611084, \n",
      "INFO:root:loss= 1.0831780433654785, \n",
      "INFO:root:loss= 0.19951462745666504, \n",
      "INFO:root:loss= 1.823102355003357, \n",
      "INFO:root:loss= 1.8566676378250122, \n",
      "INFO:root:loss= 1.0556633472442627, \n",
      "INFO:root:loss= 1.3945472240447998, \n",
      "INFO:root:loss= 0.8605622053146362, \n",
      "INFO:root:loss= 1.9701048135757446, \n",
      "INFO:root:loss= 1.1460492610931396, \n",
      "INFO:root:loss= 1.8566440343856812, \n",
      "INFO:root:loss= 1.6259982585906982, \n",
      "INFO:root:loss= 2.2850594520568848, \n",
      "INFO:root:loss= 1.613370656967163, \n",
      "INFO:root:loss= 1.7566730976104736, \n",
      "INFO:root:loss= 0.5759211778640747, \n",
      "INFO:root:loss= 1.8245608806610107, \n",
      "INFO:root:loss= 2.154634952545166, \n",
      "INFO:root:loss= 1.9851438999176025, \n",
      "INFO:root:loss= 1.503220558166504, \n",
      "INFO:root:loss= 1.923598289489746, \n",
      "INFO:root:loss= 1.758436679840088, \n",
      "INFO:root:loss= 2.1918282508850098, \n",
      "INFO:root:loss= 1.7221018075942993, \n",
      "INFO:root:loss= 2.0610456466674805, \n",
      "INFO:root:loss= 2.1541225910186768, \n",
      "INFO:root:loss= 1.8626848459243774, \n",
      "INFO:root:loss= 0.09874653816223145, \n",
      "INFO:root:loss= 0.40551406145095825, \n",
      "INFO:root:loss= 2.0357277393341064, \n",
      "INFO:root:loss= 1.288264274597168, \n",
      "INFO:root:loss= 1.3283878564834595, \n",
      "INFO:root:loss= 2.043581962585449, \n",
      "INFO:root:loss= 1.6992027759552002, \n",
      "INFO:root:loss= 1.699771523475647, \n",
      "INFO:root:loss= 2.028364658355713, \n",
      "INFO:root:loss= 1.6350648403167725, \n",
      "INFO:root:loss= 1.6693681478500366, \n",
      "INFO:root:loss= 1.8164491653442383, \n",
      "INFO:root:loss= 1.6874738931655884, \n",
      "INFO:root:loss= 1.1445927619934082, \n",
      "INFO:root:loss= 1.6799893379211426, \n",
      "INFO:root:loss= 1.8417375087738037, \n",
      "INFO:root:loss= 1.8752316236495972, \n",
      "INFO:root:loss= 1.7495145797729492, \n",
      "INFO:root:loss= 1.7665741443634033, \n",
      "INFO:root:loss= 0.4170647859573364, \n",
      "INFO:root:loss= 1.4942865371704102, \n",
      "INFO:root:loss= 1.8029084205627441, \n",
      "INFO:root:loss= 1.6633718013763428, \n",
      "INFO:root:loss= 0.2282424420118332, \n",
      "INFO:root:loss= 2.0928306579589844, \n",
      "INFO:root:loss= 2.177345037460327, \n",
      "INFO:root:loss= 2.052915573120117, \n",
      "INFO:root:loss= 1.2445943355560303, \n",
      "INFO:root:loss= 1.8460452556610107, \n",
      "INFO:root:loss= 1.7699998617172241, \n",
      "INFO:root:loss= 1.419956922531128, \n",
      "INFO:root:loss= 1.8667848110198975, \n",
      "INFO:root:loss= 0.24501575529575348, \n",
      "INFO:root:loss= 1.5463286638259888, \n",
      "INFO:root:loss= 1.7425446510314941, \n",
      "INFO:root:loss= 1.250620722770691, \n",
      "INFO:root:loss= 1.44749116897583, \n",
      "INFO:root:loss= 1.813098669052124, \n",
      "INFO:root:loss= 1.1194804906845093, \n",
      "INFO:root:loss= 2.1821398735046387, \n",
      "INFO:root:loss= 1.5508642196655273, \n",
      "INFO:root:loss= 2.105330467224121, \n",
      "INFO:root:loss= 2.1574344635009766, \n",
      "INFO:root:loss= 1.0573222637176514, \n",
      "INFO:root:loss= 2.277311325073242, \n",
      "INFO:root:loss= 2.235823154449463, \n",
      "INFO:root:loss= 1.273221731185913, \n",
      "INFO:root:loss= 2.057239055633545, \n",
      "INFO:root:loss= 2.112730026245117, \n",
      "INFO:root:loss= 1.5028975009918213, \n",
      "INFO:root:loss= 1.083648443222046, \n",
      "INFO:root:loss= 1.7434608936309814, \n",
      "INFO:root:loss= 2.092318534851074, \n",
      "INFO:root:loss= 0.1829405575990677, \n",
      "INFO:root:loss= 1.8226633071899414, \n",
      "INFO:root:loss= 1.3691341876983643, \n",
      "INFO:root:loss= 1.7754981517791748, \n",
      "INFO:root:loss= 0.8984750509262085, \n",
      "INFO:root:loss= 1.5120803117752075, \n",
      "INFO:root:loss= 1.0566790103912354, \n",
      "INFO:root:loss= 1.4609277248382568, \n",
      "INFO:root:loss= 1.9395136833190918, \n",
      "INFO:root:loss= 1.6410225629806519, \n",
      "INFO:root:loss= 1.3873231410980225, \n",
      "INFO:root:loss= 2.06160569190979, \n",
      "INFO:root:loss= 1.196047306060791, \n",
      "INFO:root:loss= 1.9468876123428345, \n",
      "INFO:root:loss= 0.2795964479446411, \n",
      "INFO:root:loss= 1.5962153673171997, \n",
      "INFO:root:loss= 1.9950025081634521, \n",
      "INFO:root:loss= 1.9301095008850098, \n",
      "INFO:root:loss= 1.1140252351760864, \n",
      "INFO:root:loss= 1.4581562280654907, \n",
      "INFO:root:loss= 1.3120529651641846, \n",
      "INFO:root:loss= 2.137829065322876, \n",
      "INFO:root:loss= 1.8213719129562378, \n",
      "INFO:root:loss= 1.7216075658798218, \n",
      "INFO:root:loss= 2.176597833633423, \n",
      "INFO:root:loss= 2.0326175689697266, \n",
      "INFO:root:loss= 1.8425811529159546, \n",
      "INFO:root:loss= 1.8278331756591797, \n",
      "INFO:root:loss= 2.0216073989868164, \n",
      "INFO:root:loss= 1.2456820011138916, \n",
      "INFO:root:loss= 1.5819189548492432, \n",
      "INFO:root:loss= 1.8279838562011719, \n",
      "INFO:root:loss= 0.13623887300491333, \n",
      "INFO:root:loss= 2.108315944671631, \n",
      "INFO:root:loss= 1.415735125541687, \n",
      "INFO:root:loss= 0.8869332075119019, \n",
      "INFO:root:loss= 1.2744555473327637, \n",
      "INFO:root:loss= 0.3641301393508911, \n",
      "INFO:root:loss= 1.670454978942871, \n",
      "INFO:root:loss= 1.3755038976669312, \n",
      "INFO:root:loss= 1.8541221618652344, \n",
      "INFO:root:loss= 1.2700207233428955, \n",
      "INFO:root:loss= 1.4306130409240723, \n",
      "INFO:root:loss= 1.455069899559021, \n",
      "INFO:root:loss= 1.8720821142196655, \n",
      "INFO:root:loss= 2.099773645401001, \n",
      "INFO:root:loss= 1.527472972869873, \n",
      "INFO:root:loss= 1.3105920553207397, \n",
      "INFO:root:loss= 1.9738783836364746, \n",
      "INFO:root:loss= 0.41121914982795715, \n",
      "INFO:root:loss= 1.8094431161880493, \n",
      "INFO:root:loss= 2.0336453914642334, \n",
      "INFO:root:loss= 1.0556375980377197, \n",
      "INFO:root:loss= 1.7075992822647095, \n",
      "INFO:root:loss= 1.8131799697875977, \n",
      "INFO:root:loss= 1.0313400030136108, \n",
      "INFO:root:loss= 1.8123793601989746, \n",
      "INFO:root:loss= 1.7462708950042725, \n",
      "INFO:root:loss= 1.576409101486206, \n",
      "INFO:root:loss= 2.29748272895813, \n",
      "INFO:root:loss= 0.7516506910324097, \n",
      "INFO:root:loss= 1.2034388780593872, \n",
      "INFO:root:loss= 1.755130648612976, \n",
      "INFO:root:loss= 1.7118556499481201, \n",
      "INFO:root:loss= 1.5413018465042114, \n",
      "INFO:root:loss= 1.7277621030807495, \n",
      "INFO:root:loss= 2.146005153656006, \n",
      "INFO:root:loss= 0.8795697093009949, \n",
      "INFO:root:loss= 1.7994685173034668, \n",
      "INFO:root:loss= 1.704362154006958, \n",
      "INFO:root:loss= 2.1349074840545654, \n",
      "INFO:root:loss= 2.093294620513916, \n",
      "INFO:root:loss= 0.5638397336006165, \n",
      "INFO:root:loss= 2.1070306301116943, \n",
      "INFO:root:loss= 1.7114617824554443, \n",
      "INFO:root:loss= 1.4011859893798828, \n",
      "INFO:root:loss= 2.160872459411621, \n",
      "INFO:root:loss= 1.8211140632629395, \n",
      "INFO:root:loss= 1.7732188701629639, \n",
      "INFO:root:loss= 0.49213773012161255, \n",
      "INFO:root:loss= 0.5820751190185547, \n",
      "INFO:root:loss= 0.844523549079895, \n",
      "INFO:root:loss= 1.7864465713500977, \n",
      "INFO:root:loss= 1.0865589380264282, \n",
      "INFO:root:loss= 1.7503809928894043, \n",
      "INFO:root:loss= 1.2073782682418823, \n",
      "INFO:root:loss= 2.1542086601257324, \n",
      "INFO:root:loss= 2.0347440242767334, \n",
      "INFO:root:loss= 1.6617519855499268, \n",
      "INFO:root:loss= 1.8821394443511963, \n",
      "INFO:root:loss= 0.3394641876220703, \n",
      "INFO:root:loss= 0.16457924246788025, \n",
      "INFO:root:loss= 0.9846906661987305, \n",
      "INFO:root:loss= 2.2068519592285156, \n",
      "INFO:root:loss= 1.4251834154129028, \n",
      "INFO:root:loss= 1.2547987699508667, \n",
      "INFO:root:loss= 2.129030227661133, \n",
      "INFO:root:loss= 1.949450135231018, \n",
      "INFO:root:loss= 1.224306344985962, \n",
      "INFO:root:loss= 1.9556785821914673, \n",
      "INFO:root:loss= 0.4542621374130249, \n",
      "INFO:root:loss= 1.3017690181732178, \n",
      "INFO:root:loss= 2.123785972595215, \n",
      "INFO:root:loss= 2.073054313659668, \n",
      "INFO:root:loss= 1.541748046875, \n",
      "INFO:root:loss= 1.1942293643951416, \n",
      "INFO:root:loss= 1.6588801145553589, \n",
      "INFO:root:loss= 1.8572275638580322, \n",
      "INFO:root:loss= 1.81464684009552, \n",
      "INFO:root:loss= 0.7678692936897278, \n",
      "INFO:root:loss= 1.050401210784912, \n",
      "INFO:root:loss= 2.0467677116394043, \n",
      "INFO:root:loss= 1.9190161228179932, \n",
      "INFO:root:loss= 0.8790522217750549, \n",
      "INFO:root:loss= 1.4985464811325073, \n",
      "INFO:root:loss= 0.7601088881492615, \n",
      "INFO:root:loss= 1.2624540328979492, \n",
      "INFO:root:loss= 1.3439555168151855, \n",
      "INFO:root:loss= 1.9281471967697144, \n",
      "INFO:root:loss= 1.0801016092300415, \n",
      "INFO:root:loss= 1.8400311470031738, \n",
      "INFO:root:loss= 0.8965796828269958, \n",
      "INFO:root:loss= 1.9021632671356201, \n",
      "INFO:root:loss= 1.8062796592712402, \n",
      "INFO:root:loss= 0.36726289987564087, \n",
      "INFO:root:loss= 1.8205571174621582, \n",
      "INFO:root:loss= 1.3577988147735596, \n",
      "INFO:root:loss= 2.0314273834228516, \n",
      "INFO:root:loss= 1.3916817903518677, \n",
      "INFO:root:loss= 1.4789724349975586, \n",
      "INFO:root:loss= 1.0383055210113525, \n",
      "INFO:root:loss= 1.9163241386413574, \n",
      "INFO:root:loss= 0.6346685290336609, \n",
      "INFO:root:loss= 1.7867650985717773, \n",
      "INFO:root:loss= 0.9374192953109741, \n",
      "INFO:root:loss= 0.5624882578849792, \n",
      "INFO:root:loss= 1.9622166156768799, \n",
      "INFO:root:loss= 1.8008956909179688, \n",
      "INFO:root:loss= 2.1023306846618652, \n",
      "INFO:root:loss= 2.0443365573883057, \n",
      "INFO:root:loss= 1.3952157497406006, \n",
      "INFO:root:loss= 0.8130171298980713, \n",
      "INFO:root:loss= 1.949947476387024, \n",
      "INFO:root:loss= 1.8479843139648438, \n",
      "INFO:root:loss= 1.9528892040252686, \n",
      "INFO:root:loss= 2.050961494445801, \n",
      "INFO:root:loss= 1.403923511505127, \n",
      "INFO:root:loss= 1.0388365983963013, \n",
      "INFO:root:loss= 0.9727972149848938, \n",
      "INFO:root:loss= 0.611905038356781, \n",
      "INFO:root:loss= 0.6476014852523804, \n",
      "INFO:root:loss= 1.0104179382324219, \n",
      "INFO:root:loss= 1.5079779624938965, \n",
      "INFO:root:loss= 1.8426967859268188, \n",
      "INFO:root:loss= 0.03772677481174469, \n",
      "INFO:root:loss= 0.39115288853645325, \n",
      "INFO:root:loss= 2.055405378341675, \n",
      "INFO:root:loss= 0.2892877161502838, \n",
      "INFO:root:loss= 0.7673331499099731, \n",
      "INFO:root:loss= 1.4388628005981445, \n",
      "INFO:root:loss= 0.8521215319633484, \n",
      "INFO:root:loss= 0.883425235748291, \n",
      "INFO:root:loss= 1.3691843748092651, \n",
      "INFO:root:loss= 1.7266979217529297, \n",
      "INFO:root:loss= 1.930776834487915, \n",
      "INFO:root:loss= 1.7959380149841309, \n",
      "INFO:root:loss= 1.5521773099899292, \n",
      "INFO:root:loss= 2.031315565109253, \n",
      "INFO:root:loss= 1.8573436737060547, \n",
      "INFO:root:loss= 0.09048960357904434, \n",
      "INFO:root:loss= 1.4584025144577026, \n",
      "INFO:root:loss= 1.6501736640930176, \n",
      "INFO:root:loss= 1.799041748046875, \n",
      "INFO:root:loss= 1.5235943794250488, \n",
      "INFO:root:loss= 1.6976327896118164, \n",
      "INFO:root:loss= 1.8300837278366089, \n",
      "INFO:root:loss= 1.8152977228164673, \n",
      "INFO:root:loss= 1.8701236248016357, \n",
      "INFO:root:loss= 0.3951098620891571, \n",
      "INFO:root:loss= 1.7317438125610352, \n",
      "INFO:root:loss= 1.4571115970611572, \n",
      "INFO:root:loss= 1.3575870990753174, \n",
      "INFO:root:loss= 0.35386672616004944, \n",
      "INFO:root:loss= 1.5243988037109375, \n",
      "INFO:root:loss= 1.8586621284484863, \n",
      "INFO:root:loss= 1.7686535120010376, \n",
      "INFO:root:loss= 0.4361744225025177, \n",
      "INFO:root:loss= 2.214893102645874, \n",
      "INFO:root:loss= 1.1449270248413086, \n",
      "INFO:root:loss= 1.1976447105407715, \n",
      "INFO:root:loss= 2.070345640182495, \n",
      "INFO:root:loss= 0.7982029914855957, \n",
      "INFO:root:loss= 1.545838713645935, \n",
      "INFO:root:loss= 0.42565324902534485, \n",
      "INFO:root:loss= 0.49351298809051514, \n",
      "INFO:root:loss= 1.8910222053527832, \n",
      "INFO:root:loss= 0.8613234162330627, \n",
      "INFO:root:loss= 0.4228277802467346, \n",
      "INFO:root:loss= 0.8326048851013184, \n",
      "INFO:root:loss= 1.478280782699585, \n",
      "INFO:root:loss= 2.185999870300293, \n",
      "INFO:root:loss= 0.10409349203109741, \n",
      "INFO:root:loss= 1.667710781097412, \n",
      "INFO:root:loss= 2.0507311820983887, \n",
      "INFO:root:loss= 1.3028075695037842, \n",
      "INFO:root:loss= 1.2972438335418701, \n",
      "INFO:root:loss= 1.9095600843429565, \n",
      "INFO:root:loss= 1.2449697256088257, \n",
      "INFO:root:loss= 1.4525630474090576, \n",
      "INFO:root:loss= 0.192846417427063, \n",
      "INFO:root:loss= 0.13088276982307434, \n",
      "INFO:root:loss= 0.9688773155212402, \n",
      "INFO:root:loss= 0.9538393616676331, \n",
      "INFO:root:loss= 0.17626088857650757, \n",
      "INFO:root:loss= 2.004696846008301, \n",
      "INFO:root:loss= 1.340531349182129, \n",
      "INFO:root:loss= 0.7131391763687134, \n",
      "INFO:root:loss= 1.7590134143829346, \n",
      "INFO:root:loss= 0.5426014065742493, \n",
      "INFO:root:loss= 1.295403242111206, \n",
      "INFO:root:loss= 0.9794666767120361, \n",
      "INFO:root:loss= 1.546072244644165, \n",
      "INFO:root:loss= 1.560572862625122, \n",
      "INFO:root:loss= 2.0686089992523193, \n",
      "INFO:root:loss= 0.4400652050971985, \n",
      "INFO:root:loss= 1.9043447971343994, \n",
      "INFO:root:loss= 0.015219267457723618, \n",
      "INFO:root:loss= 1.1047377586364746, \n",
      "INFO:root:loss= 0.41779112815856934, \n",
      "INFO:root:loss= 1.2156902551651, \n"
     ]
    }
   ],
   "source": [
    "import logging; logging.basicConfig(level=logging.INFO, force=True)\n",
    "\n",
    "curve = CurveHook()\n",
    "\n",
    "trainer = Trainer(model, loader, n_epochs = 4, device=\"cpu\",\n",
    "    step_hooks = [ \n",
    "        TqdmHook(),\n",
    "        LoggerHook(interval=10),\n",
    "        curve\n",
    "    ]\n",
    "                 \n",
    "                 )\n",
    "trainer.train()"
   ]
  },
  {
   "cell_type": "code",
   "execution_count": 33,
   "id": "4f5072d9-382c-4bff-8b9e-7414252cfdf7",
   "metadata": {},
   "outputs": [
    {
     "data": {
      "image/png": "[encoded data removed]",
      "text/plain": [
       "<Figure size 640x480 with 1 Axes>"
      ]
     },
     "metadata": {},
     "output_type": "display_data"
    }
   ],
   "source": [
    "curve.draw()"
   ]
  },
  {
   "cell_type": "code",
   "execution_count": 34,
   "id": "761919ac-a872-4b85-8cf2-3bb17114a1ae",
   "metadata": {},
   "outputs": [
    {
     "name": "stdout",
     "output_type": "stream",
     "text": [
      "Requirement already satisfied: matplotlib in /home/tris/.cache/pypoetry/virtualenvs/ml-lib-0sbOzrlG-py3.11/lib/python3.11/site-packages (3.7.1)\n",
      "Requirement already satisfied: contourpy>=1.0.1 in /home/tris/.cache/pypoetry/virtualenvs/ml-lib-0sbOzrlG-py3.11/lib/python3.11/site-packages (from matplotlib) (1.0.7)\n",
      "Requirement already satisfied: cycler>=0.10 in /home/tris/.cache/pypoetry/virtualenvs/ml-lib-0sbOzrlG-py3.11/lib/python3.11/site-packages (from matplotlib) (0.11.0)\n",
      "Requirement already satisfied: fonttools>=4.22.0 in /home/tris/.cache/pypoetry/virtualenvs/ml-lib-0sbOzrlG-py3.11/lib/python3.11/site-packages (from matplotlib) (4.39.3)\n",
      "Requirement already satisfied: kiwisolver>=1.0.1 in /home/tris/.cache/pypoetry/virtualenvs/ml-lib-0sbOzrlG-py3.11/lib/python3.11/site-packages (from matplotlib) (1.4.4)\n",
      "Requirement already satisfied: numpy>=1.20 in /home/tris/.cache/pypoetry/virtualenvs/ml-lib-0sbOzrlG-py3.11/lib/python3.11/site-packages (from matplotlib) (1.24.2)\n",
      "Requirement already satisfied: packaging>=20.0 in /home/tris/.cache/pypoetry/virtualenvs/ml-lib-0sbOzrlG-py3.11/lib/python3.11/site-packages (from matplotlib) (23.1)\n",
      "Requirement already satisfied: pillow>=6.2.0 in /home/tris/.cache/pypoetry/virtualenvs/ml-lib-0sbOzrlG-py3.11/lib/python3.11/site-packages (from matplotlib) (9.5.0)\n",
      "Requirement already satisfied: pyparsing>=2.3.1 in /home/tris/.cache/pypoetry/virtualenvs/ml-lib-0sbOzrlG-py3.11/lib/python3.11/site-packages (from matplotlib) (3.0.9)\n",
      "Requirement already satisfied: python-dateutil>=2.7 in /home/tris/.cache/pypoetry/virtualenvs/ml-lib-0sbOzrlG-py3.11/lib/python3.11/site-packages (from matplotlib) (2.8.2)\n",
      "Requirement already satisfied: six>=1.5 in /home/tris/.cache/pypoetry/virtualenvs/ml-lib-0sbOzrlG-py3.11/lib/python3.11/site-packages (from python-dateutil>=2.7->matplotlib) (1.16.0)\n",
      "\n",
      "\u001b[1m[\u001b[0m\u001b[34;49mnotice\u001b[0m\u001b[1;39;49m]\u001b[0m\u001b[39;49m A new release of pip is available: \u001b[0m\u001b[31;49m23.1.2\u001b[0m\u001b[39;49m -> \u001b[0m\u001b[32;49m23.2.1\u001b[0m\n",
      "\u001b[1m[\u001b[0m\u001b[34;49mnotice\u001b[0m\u001b[1;39;49m]\u001b[0m\u001b[39;49m To update, run: \u001b[0m\u001b[32;49mpip install --upgrade pip\u001b[0m\n",
      "Note: you may need to restart the kernel to use updated packages.\n"
     ]
    }
   ],
   "source": [
    "pip install matplotlib"
   ]
  },
  {
   "cell_type": "code",
   "execution_count": null,
   "id": "6209b798-bdf6-4e91-9fd0-b9ba629c9e5b",
   "metadata": {},
   "outputs": [],
   "source": []
  }
 ],
 "metadata": {
  "kernelspec": {
   "display_name": "Python 3 (ipykernel)",
   "language": "python",
   "name": "python3"
  },
  "language_info": {
   "codemirror_mode": {
    "name": "ipython",
    "version": 3
   },
   "file_extension": ".py",
   "mimetype": "text/x-python",
   "name": "python",
   "nbconvert_exporter": "python",
   "pygments_lexer": "ipython3",
   "version": "3.11.5"
  }
 },
 "nbformat": 4,
 "nbformat_minor": 5
}
