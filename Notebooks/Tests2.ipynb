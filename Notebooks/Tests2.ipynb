{
 "cells": [
  {
   "cell_type": "markdown",
   "id": "988b919e-7daf-4162-8c84-b2890ab82cac",
   "metadata": {},
   "source": [
    "# Tests"
   ]
  },
  {
   "cell_type": "markdown",
   "id": "afb7059d-3b1c-4363-9735-2629bf454125",
   "metadata": {},
   "source": [
    "## Imports and stuff"
   ]
  },
  {
   "cell_type": "code",
   "execution_count": 1,
   "id": "a756cc65-6c1e-472b-9b9c-0abdf60a1b6c",
   "metadata": {
    "tags": []
   },
   "outputs": [],
   "source": [
    "import sys\n",
    "from copy import copy\n",
    "\n",
    "def append_path(s):\n",
    "    if s in sys.path:\n",
    "        return\n",
    "    sys.path.append(s)\n",
    "\n",
    "append_path(\"..\")\n",
    "#%load_ext autoreload\n",
    "#%autoreload 2"
   ]
  },
  {
   "cell_type": "code",
   "execution_count": 2,
   "id": "d469e6ee-0505-4851-8bf6-4d31ab8ae3ea",
   "metadata": {},
   "outputs": [],
   "source": [
    "import numpy as np\n",
    "from numpy.random import default_rng\n",
    "rng = default_rng()\n",
    "import matplotlib.pyplot as plt\n",
    "import matplotlib.ticker as ticker\n",
    "import networkx as nx\n",
    "import torch\n",
    "from torch import Tensor\n"
   ]
  },
  {
   "cell_type": "code",
   "execution_count": 3,
   "id": "3475ed6e-5d9e-47ae-911d-41caed2a7cf6",
   "metadata": {},
   "outputs": [],
   "source": [
    "import ml_lib\n",
    "from ml_lib import feature_specification"
   ]
  },
  {
   "cell_type": "code",
   "execution_count": 4,
   "id": "db05ef3f-c414-4209-b84f-5904d0e525f0",
   "metadata": {},
   "outputs": [
    {
     "name": "stdout",
     "output_type": "stream",
     "text": [
      "base_classes.py  feature_specification.py  registration.py\n",
      "datapoint.py     __init__.py               splitting.py\n",
      "\u001b[0m\u001b[01;34mdatasets\u001b[0m/        \u001b[01;34m__pycache__\u001b[0m/              transforms.py\n"
     ]
    }
   ],
   "source": [
    "ls ../ml_lib/datasets"
   ]
  },
  {
   "cell_type": "markdown",
   "id": "49ca92f8-b5c4-480b-9f7b-a7d2b47eda17",
   "metadata": {
    "tags": []
   },
   "source": [
    "## Datasets"
   ]
  },
  {
   "cell_type": "code",
   "execution_count": 5,
   "id": "bcb59e0b-d47d-4fa3-bd5c-12cbc7112498",
   "metadata": {},
   "outputs": [],
   "source": [
    "from ml_lib.datasets import register as dataset_register, transform_register, load_transform, load_dataset, Transform\n",
    "from ml_lib.datasets.transforms import MultipleFunctionTransform"
   ]
  },
  {
   "cell_type": "code",
   "execution_count": 6,
   "id": "26cea4fc-9e73-46e6-acca-48b50bd4e55e",
   "metadata": {},
   "outputs": [],
   "source": [
    "dataset0 = dataset_register[\"Torus4D\"](1000)"
   ]
  },
  {
   "cell_type": "code",
   "execution_count": 7,
   "id": "fd359c44-3417-4b76-9570-202447d781bd",
   "metadata": {},
   "outputs": [],
   "source": [
    "transform = transform_register[\"CacheTransform\"]() \n",
    "dataset1 = transform(dataset0)"
   ]
  },
  {
   "cell_type": "code",
   "execution_count": 8,
   "id": "a804da77-671a-4da2-ab15-5f1cebdc5eb7",
   "metadata": {},
   "outputs": [
    {
     "data": {
      "text/plain": [
       "<ml_lib.datasets.datasets.simple_shapes.Torus4D at 0x7b79905d5650>"
      ]
     },
     "execution_count": 8,
     "metadata": {},
     "output_type": "execute_result"
    }
   ],
   "source": [
    "dataset1._inner"
   ]
  },
  {
   "cell_type": "code",
   "execution_count": 9,
   "id": "5809ff0a-da88-45af-9913-7014b4a0a51f",
   "metadata": {},
   "outputs": [
    {
     "data": {
      "text/plain": [
       "tensor([[-0.5118,  0.8573,  1.0017,  0.1383]])"
      ]
     },
     "execution_count": 9,
     "metadata": {},
     "output_type": "execute_result"
    }
   ],
   "source": [
    "dataset1[0]"
   ]
  },
  {
   "cell_type": "code",
   "execution_count": 10,
   "id": "82f44708-e279-4422-b00d-3d40eb912abb",
   "metadata": {},
   "outputs": [
    {
     "data": {
      "text/plain": [
       "<ml_lib.datasets.datapoint.DictDatapoint at 0x7b7990a56f50>"
      ]
     },
     "execution_count": 10,
     "metadata": {},
     "output_type": "execute_result"
    }
   ],
   "source": [
    "dataset2 = transform_register[\"RenameTransform\"]({\"x\": \"_\"})(dataset1)\n",
    "dataset2[0]"
   ]
  },
  {
   "cell_type": "code",
   "execution_count": 11,
   "id": "ca39be83-6328-452f-9dd7-822e9474eeb1",
   "metadata": {},
   "outputs": [
    {
     "data": {
      "text/plain": [
       "<ml_lib.datasets.datapoint.DictDatapoint at 0x7b79906171d0>"
      ]
     },
     "execution_count": 11,
     "metadata": {},
     "output_type": "execute_result"
    }
   ],
   "source": [
    "dataset3 = transform_register[\"RenameTransform\"]({\"x\": \"x\", \"y\":\"x\"})(dataset2)\n",
    "dataset3[0]"
   ]
  },
  {
   "cell_type": "code",
   "execution_count": 12,
   "id": "cebea6a4-4148-4d14-84b9-1a4fcd0410e1",
   "metadata": {},
   "outputs": [
    {
     "data": {
      "text/plain": [
       "<ml_lib.datasets.datapoint.DictDatapoint at 0x7b79917de810>"
      ]
     },
     "execution_count": 12,
     "metadata": {},
     "output_type": "execute_result"
    }
   ],
   "source": [
    "normalize = lambda x : x / x.norm()\n",
    "dataset4 = transform_register[\"MultipleFunctionTransform\"]({\"x\": (normalize, \"x\"), \"gt\": (lambda x:x, \"y\")})(dataset3)\n",
    "dataset4[0]"
   ]
  },
  {
   "cell_type": "code",
   "execution_count": 13,
   "id": "aa9d7e06-917d-4afd-bd3c-b6f96c0e778d",
   "metadata": {},
   "outputs": [],
   "source": [
    "@transform_register\n",
    "class TestTransform(MultipleFunctionTransform):\n",
    "\n",
    "    def __init__(self):\n",
    "        super().__init__({\"x\": (normalize, \"x\"), \"gt\": (lambda x:x, \"y\")})"
   ]
  },
  {
   "cell_type": "markdown",
   "id": "c76780b0-47c8-4bd9-8d4a-0df334837b6b",
   "metadata": {},
   "source": [
    "great!"
   ]
  },
  {
   "cell_type": "markdown",
   "id": "b232574c-5703-4688-b0f7-99be279c79c1",
   "metadata": {
    "jp-MarkdownHeadingCollapsed": true,
    "tags": []
   },
   "source": [
    "## Environments"
   ]
  },
  {
   "cell_type": "code",
   "execution_count": 14,
   "id": "8faa0bac-090c-4c70-bca8-7795002026bc",
   "metadata": {},
   "outputs": [],
   "source": [
    "from ml_lib.environment import Environment, Scope, scopevar_of_str, str_of_scopevar, HierarchicEnvironment, ScopedEnvironment"
   ]
  },
  {
   "cell_type": "code",
   "execution_count": 15,
   "id": "e4ad9cd4-aeab-4aac-8da7-f32ea22ed838",
   "metadata": {},
   "outputs": [
    {
     "data": {
      "text/plain": [
       "(('a', 'b'), 'c')"
      ]
     },
     "execution_count": 15,
     "metadata": {},
     "output_type": "execute_result"
    }
   ],
   "source": [
    "scopevar_of_str(\"a/b/c\")"
   ]
  },
  {
   "cell_type": "code",
   "execution_count": 16,
   "id": "72282cd4-17dd-4d57-b74c-40aea0b48080",
   "metadata": {},
   "outputs": [
    {
     "data": {
      "text/plain": [
       "'a/b/c'"
      ]
     },
     "execution_count": 16,
     "metadata": {},
     "output_type": "execute_result"
    }
   ],
   "source": [
    "str_of_scopevar(('a', 'b'), 'c')"
   ]
  },
  {
   "cell_type": "code",
   "execution_count": 17,
   "id": "c7efde3a-5b69-4ada-8e75-0451b4859ddc",
   "metadata": {},
   "outputs": [],
   "source": [
    "env = Environment()"
   ]
  },
  {
   "cell_type": "code",
   "execution_count": 18,
   "id": "3681ab99-19b5-48d3-ba87-dfa8da55c7bb",
   "metadata": {},
   "outputs": [
    {
     "data": {
      "text/plain": [
       "Environment(defaultdict(<class 'dict'>, {'_ipython_canary_method_should_not_exist_': {}, '_ipython_display_': {}, '_repr_mimebundle_': {}}))"
      ]
     },
     "execution_count": 18,
     "metadata": {},
     "output_type": "execute_result"
    }
   ],
   "source": [
    "env"
   ]
  },
  {
   "cell_type": "code",
   "execution_count": 19,
   "id": "4635378d-473f-43d9-a973-96e78a63e940",
   "metadata": {},
   "outputs": [],
   "source": [
    "env.record(\"hello\", 1)"
   ]
  },
  {
   "cell_type": "code",
   "execution_count": 20,
   "id": "ffb94b27-d9d0-43fb-bfc8-3f368f77bc8e",
   "metadata": {},
   "outputs": [
    {
     "data": {
      "text/plain": [
       "defaultdict(dict,\n",
       "            {'_ipython_canary_method_should_not_exist_': {},\n",
       "             '_ipython_display_': {},\n",
       "             '_repr_mimebundle_': {},\n",
       "             '_repr_html_': {},\n",
       "             '_repr_markdown_': {},\n",
       "             '_repr_svg_': {},\n",
       "             '_repr_png_': {},\n",
       "             '_repr_pdf_': {},\n",
       "             '_repr_jpeg_': {},\n",
       "             '_repr_latex_': {},\n",
       "             '_repr_json_': {},\n",
       "             '_repr_javascript_': {},\n",
       "             'hello': {(): 1}})"
      ]
     },
     "execution_count": 20,
     "metadata": {},
     "output_type": "execute_result"
    }
   ],
   "source": [
    "env.data"
   ]
  },
  {
   "cell_type": "code",
   "execution_count": 21,
   "id": "d4890ff8-761a-4e6e-8a73-42b2ac812808",
   "metadata": {},
   "outputs": [
    {
     "data": {
      "text/plain": [
       "defaultdict(dict,\n",
       "            {'_ipython_canary_method_should_not_exist_': {},\n",
       "             '_ipython_display_': {},\n",
       "             '_repr_mimebundle_': {},\n",
       "             '_repr_html_': {},\n",
       "             '_repr_markdown_': {},\n",
       "             '_repr_svg_': {},\n",
       "             '_repr_png_': {},\n",
       "             '_repr_pdf_': {},\n",
       "             '_repr_jpeg_': {},\n",
       "             '_repr_latex_': {},\n",
       "             '_repr_json_': {},\n",
       "             '_repr_javascript_': {},\n",
       "             'hello': {(): 1},\n",
       "             'world': {('some', 'scope'): 4}})"
      ]
     },
     "execution_count": 21,
     "metadata": {},
     "output_type": "execute_result"
    }
   ],
   "source": [
    "env.record(\"world\", 4, (\"some\", \"scope\"))\n",
    "env.data"
   ]
  },
  {
   "cell_type": "code",
   "execution_count": 22,
   "id": "bb3196cd-ec71-43c7-9159-bd7971cb0cc4",
   "metadata": {},
   "outputs": [
    {
     "data": {
      "text/plain": [
       "1"
      ]
     },
     "execution_count": 22,
     "metadata": {},
     "output_type": "execute_result"
    }
   ],
   "source": [
    "env.get(\"hello\")"
   ]
  },
  {
   "cell_type": "code",
   "execution_count": 23,
   "id": "91ea9683-7071-4554-8dac-cac7ffdbc478",
   "metadata": {},
   "outputs": [
    {
     "data": {
      "text/plain": [
       "4"
      ]
     },
     "execution_count": 23,
     "metadata": {},
     "output_type": "execute_result"
    }
   ],
   "source": [
    "env.get(\"world\")"
   ]
  },
  {
   "cell_type": "code",
   "execution_count": 24,
   "id": "454ff54f-0487-4382-a546-6ee4638ce9ef",
   "metadata": {},
   "outputs": [
    {
     "data": {
      "text/plain": [
       "4"
      ]
     },
     "execution_count": 24,
     "metadata": {},
     "output_type": "execute_result"
    }
   ],
   "source": [
    "#import pdb; pdb.set_trace()\n",
    "env.get(\"world\", scope=(\"some\",))"
   ]
  },
  {
   "cell_type": "code",
   "execution_count": 25,
   "id": "0bd673e8-3f56-469f-8ba8-d90228dd7f6e",
   "metadata": {},
   "outputs": [],
   "source": [
    "env.get(\"world\", scope=(\"soe\",))"
   ]
  },
  {
   "cell_type": "code",
   "execution_count": 26,
   "id": "40273039-d3d5-4111-97af-52e789c81a39",
   "metadata": {},
   "outputs": [],
   "source": [
    "hier_env = HierarchicEnvironment(parent=env)"
   ]
  },
  {
   "cell_type": "code",
   "execution_count": 27,
   "id": "92697ea6-3316-4186-bec0-23dcd8b2d0c5",
   "metadata": {},
   "outputs": [
    {
     "data": {
      "text/plain": [
       "2"
      ]
     },
     "execution_count": 27,
     "metadata": {},
     "output_type": "execute_result"
    }
   ],
   "source": [
    "hier_env.record(\"world\", 2, (\"some\",))\n",
    "hier_env.get(\"world\", scope=(\"some\",))\n"
   ]
  },
  {
   "cell_type": "code",
   "execution_count": 28,
   "id": "88d07bb9-a701-431e-91d7-b228555ffc6a",
   "metadata": {},
   "outputs": [
    {
     "data": {
      "text/plain": [
       "4"
      ]
     },
     "execution_count": 28,
     "metadata": {},
     "output_type": "execute_result"
    }
   ],
   "source": [
    "hier_env.get(\"world\", scope=(\"some\",\"scope\"))\n"
   ]
  },
  {
   "cell_type": "code",
   "execution_count": 29,
   "id": "e3a7bd05-bf0d-44ce-90d1-2abf36fddfed",
   "metadata": {},
   "outputs": [],
   "source": [
    "def f(world, hello=6, magic=3):\n",
    "    print(world, hello, magic)\n",
    "    return 1"
   ]
  },
  {
   "cell_type": "code",
   "execution_count": 30,
   "id": "598d5a9a-9a64-4145-bd7c-11a5e73f9925",
   "metadata": {},
   "outputs": [
    {
     "name": "stdout",
     "output_type": "stream",
     "text": [
      "2 1 3\n"
     ]
    },
    {
     "data": {
      "text/plain": [
       "1"
      ]
     },
     "execution_count": 30,
     "metadata": {},
     "output_type": "execute_result"
    }
   ],
   "source": [
    "hier_env.run_function(f)"
   ]
  },
  {
   "cell_type": "markdown",
   "id": "56f84cb9-c0f8-4753-890b-5eacf56006e1",
   "metadata": {},
   "source": [
    "## Model"
   ]
  },
  {
   "cell_type": "code",
   "execution_count": 31,
   "id": "156fd1eb-8486-4608-85d7-36f8e6657adf",
   "metadata": {},
   "outputs": [
    {
     "data": {
      "text/plain": [
       "FeatureSpecification(MSEFeature(name='location', dim=4, loss_coef=1.0))"
      ]
     },
     "execution_count": 31,
     "metadata": {},
     "output_type": "execute_result"
    }
   ],
   "source": [
    "from ml_lib.datasets.feature_specification import FeatureSpecification, MSEFeature\n",
    "\n",
    "feature_spec = FeatureSpecification([MSEFeature(\"location\", 4)])\n",
    "assert feature_spec == feature_spec.from_config(feature_spec.to_config())\n",
    "feature_spec"
   ]
  },
  {
   "cell_type": "code",
   "execution_count": 32,
   "id": "dfc31937-5b0f-48ad-b705-e8977efda7b6",
   "metadata": {},
   "outputs": [
    {
     "name": "stdout",
     "output_type": "stream",
     "text": [
      "SimpleMLPModel(\n",
      "    dimensions=[5, 10, 4, 4],\n",
      "    feature_specification=FeatureSpecification(MSEFeature(name='location', dim=4, loss_coef=1.0)),\n",
      ")\n",
      "SimpleMLPModel(\n",
      "  (inner): MLP(\n",
      "    (linear_0): Linear(in_features=4, out_features=5, bias=True)\n",
      "    (activation_0): ReLU()\n",
      "    (linear_1): Linear(in_features=5, out_features=10, bias=True)\n",
      "    (activation_1): ReLU()\n",
      "    (linear_2): Linear(in_features=10, out_features=4, bias=True)\n",
      "    (activation_2): ReLU()\n",
      "    (linear_3): Linear(in_features=4, out_features=4, bias=True)\n",
      "  )\n",
      ")\n"
     ]
    },
    {
     "data": {
      "text/plain": [
       "'test_model'"
      ]
     },
     "execution_count": 32,
     "metadata": {},
     "output_type": "execute_result"
    }
   ],
   "source": [
    "from ml_lib.models import Model, Supervised, Hyperparameter, register as model_register\n",
    "from ml_lib.models.layers import MLP\n",
    "\n",
    "@model_register\n",
    "class SimpleMLPModel(Supervised):\n",
    "    \n",
    "    dimensions: Hyperparameter[list[int]]\n",
    "    feature_specification: Hyperparameter[FeatureSpecification]\n",
    "    \n",
    "\n",
    "    inner: MLP\n",
    "\n",
    "    def __setup__(self):\n",
    "        self.inner = MLP(self.feature_specification.dim, *self.dimensions, batchnorm=False)\n",
    "\n",
    "    def forward(self, x):\n",
    "        return self.inner(x)\n",
    "\n",
    "    def loss_fun(self, x, gt):\n",
    "        return self.feature_specification.compute_loss(x, gt, reduce=True)\n",
    "        #return (x - gt).square().sum()\n",
    "        \n",
    "\n",
    "model = SimpleMLPModel(dimensions=[5, 10, 4, 4],\n",
    "                       feature_specification=feature_spec, \n",
    "                       name=\"test_model\")\n",
    "print(model)\n",
    "print(torch.nn.Module.__repr__(model))\n",
    "model.model_name"
   ]
  },
  {
   "cell_type": "code",
   "execution_count": 34,
   "id": "f0a11b24-e31b-46b3-9ac2-09d65b2f6258",
   "metadata": {},
   "outputs": [
    {
     "data": {
      "text/plain": [
       "{'dimensions': [5, 10, 4, 4],\n",
       " 'feature_specification': {'type': 'FeatureSpecification',\n",
       "  'features': [{'type': 'MSEFeature',\n",
       "    'name': 'location',\n",
       "    'dim': 4,\n",
       "    'loss_coef': 1.0}]}}"
      ]
     },
     "execution_count": 34,
     "metadata": {},
     "output_type": "execute_result"
    }
   ],
   "source": [
    "model.get_hyperparameters(serializable=True)"
   ]
  },
  {
   "cell_type": "markdown",
   "id": "e9ffc541-f49c-4d5c-a2da-3a17b530b6c8",
   "metadata": {},
   "source": [
    "## Saving and loading to database"
   ]
  },
  {
   "cell_type": "code",
   "execution_count": 35,
   "id": "803d3147-2ea2-453f-8fdc-67be314ffee4",
   "metadata": {},
   "outputs": [],
   "source": [
    "from sqlalchemy import create_engine\n",
    "from sqlalchemy.orm import Session\n",
    "from ml_lib.pipeline.experiment_tracking import create_tables, Model as Database_Model\n"
   ]
  },
  {
   "cell_type": "code",
   "execution_count": 36,
   "id": "6d92b0b0-de96-401a-abbb-8fc25374d8eb",
   "metadata": {},
   "outputs": [
    {
     "data": {
      "text/plain": [
       "'SimpleMLPModel'"
      ]
     },
     "execution_count": 36,
     "metadata": {},
     "output_type": "execute_result"
    }
   ],
   "source": [
    "model.get_model_type()"
   ]
  },
  {
   "cell_type": "code",
   "execution_count": 37,
   "id": "867810ca-302e-4c3e-aaab-275bc470572c",
   "metadata": {},
   "outputs": [
    {
     "data": {
      "text/plain": [
       "Model(id= None, model_type= SimpleMLPModel, name= test_model, description= None)"
      ]
     },
     "execution_count": 37,
     "metadata": {},
     "output_type": "execute_result"
    }
   ],
   "source": [
    "model.to_database_object()"
   ]
  },
  {
   "cell_type": "code",
   "execution_count": 38,
   "id": "0fc64de1-c910-44b7-a5c7-6cdc7998b1de",
   "metadata": {},
   "outputs": [
    {
     "name": "stdout",
     "output_type": "stream",
     "text": [
      "Model(id= 1, model_type= SimpleMLPModel, name= test_model, description= None)\n"
     ]
    },
    {
     "data": {
      "text/plain": [
       "1"
      ]
     },
     "execution_count": 38,
     "metadata": {},
     "output_type": "execute_result"
    }
   ],
   "source": [
    "print_requests = False\n",
    "%rm /tmp/test.db\n",
    "db_engine = create_engine(\"sqlite:////tmp/test.db\", echo=print_requests)\n",
    "create_tables(db_engine)\n",
    "with Session(db_engine) as db_session:\n",
    "    model.save_to_database(db_session, replace=True)\n",
    "    #db_session.commit()\n",
    "    print(model.get_database_object(db_session))\n",
    "    model_object  = db_session.get(Database_Model, model.id)\n",
    "    db_session.commit()\n",
    "model.id"
   ]
  },
  {
   "cell_type": "code",
   "execution_count": 39,
   "id": "b5d6446f-3cb8-4228-95c0-541a84ea0456",
   "metadata": {},
   "outputs": [
    {
     "name": "stdout",
     "output_type": "stream",
     "text": [
      "Model(id= 1, model_type= SimpleMLPModel, name= test_model, description= None)\n",
      "<class 'sqlalchemy.orm.session.Session'>\n"
     ]
    },
    {
     "data": {
      "text/plain": [
       "SimpleMLPModel(\n",
       "    dimensions=[5, 10, 4, 4],\n",
       "    feature_specification=FeatureSpecification(MSEFeature(name='location', dim=4, loss_coef=1.0)),\n",
       ")"
      ]
     },
     "execution_count": 39,
     "metadata": {},
     "output_type": "execute_result"
    }
   ],
   "source": [
    "with Session(db_engine) as db_session:\n",
    "    model_object  = db_session.get(Database_Model, model.id)\n",
    "    print(model_object)\n",
    "    print(type(db_session))\n",
    "    loaded_model= model_object.load_model(load_latest_checkpoint=False,) #cannot load checkpoint for now since there isn't one\n",
    "loaded_model"
   ]
  },
  {
   "cell_type": "markdown",
   "id": "69300be5-9d40-4cad-8567-454ea9404830",
   "metadata": {},
   "source": [
    "## Training"
   ]
  },
  {
   "cell_type": "code",
   "execution_count": 40,
   "id": "3bb1bc65-9fc3-499d-b5c2-b51eeae30f34",
   "metadata": {},
   "outputs": [],
   "source": [
    "skip_training = False"
   ]
  },
  {
   "cell_type": "code",
   "execution_count": 41,
   "id": "9d5c3e97-a43c-416d-8b1a-b24ec5d53eb1",
   "metadata": {},
   "outputs": [],
   "source": [
    "from ml_lib.models import Model\n",
    "from ml_lib.pipeline import Trainer, Training_parameters\n",
    "from ml_lib.pipeline.training_hooks import TqdmHook, LoggerHook, CurveHook, DatabaseHook\n",
    "from ml_lib.pipeline.experiment_tracking import Experiment as DBExperiment\n",
    "from torch.utils.data import DataLoader"
   ]
  },
  {
   "cell_type": "code",
   "execution_count": 42,
   "id": "f683c8a1-1803-48e6-aa55-4f2991041e9f",
   "metadata": {},
   "outputs": [
    {
     "data": {
      "text/plain": [
       "<ml_lib.datasets.datapoint.DictDatapoint at 0x7b7a4e0f5450>"
      ]
     },
     "execution_count": 42,
     "metadata": {},
     "output_type": "execute_result"
    }
   ],
   "source": [
    "loader = DataLoader(dataset4, batch_size=None, shuffle=True)\n",
    "next(iter(loader))"
   ]
  },
  {
   "cell_type": "code",
   "execution_count": 43,
   "id": "ff11b26b-ef59-45fb-98d6-b3781c71ce7f",
   "metadata": {},
   "outputs": [
    {
     "data": {
      "application/vnd.jupyter.widget-view+json": {
       "model_id": "40302a9ed96741f6b82ac6e7c5d49d3c",
       "version_major": 2,
       "version_minor": 0
      },
      "text/plain": [
       "Epoch 0:   0%|          | 0/4000 [00:00<?, ?it/s]"
      ]
     },
     "metadata": {},
     "output_type": "display_data"
    },
    {
     "name": "stderr",
     "output_type": "stream",
     "text": [
      "INFO:root:iteration= 0, loss= 0.6264543533325195, \n",
      "INFO:root:iteration= 10, loss= 0.4803009033203125, \n",
      "INFO:root:iteration= 20, loss= 0.3698744773864746, \n",
      "INFO:root:iteration= 30, loss= 0.6038309931755066, \n",
      "INFO:root:iteration= 40, loss= 0.8554607629776001, \n",
      "INFO:root:iteration= 50, loss= 0.4351743757724762, \n",
      "INFO:root:iteration= 60, loss= 0.5185238122940063, \n",
      "INFO:root:iteration= 70, loss= 0.411038339138031, \n",
      "INFO:root:iteration= 80, loss= 0.44270697236061096, \n",
      "INFO:root:iteration= 90, loss= 0.3682970702648163, \n",
      "/home/tris/Devoirs/research/implementations/tb_ml/ml_lib/models/base_classes.py:355: SAWarning: Object of type <Training_step> not in session, add operation along 'Training_run.steps' will not proceed (This warning originated from the Session 'autoflush' process, which was invoked automatically in response to a user-initiated operation.)\n",
      "  db_object = session.get(Database_Model, self.id)\n",
      "INFO:root:iteration= 100, loss= 0.7862840890884399, \n",
      "INFO:root:iteration= 110, loss= 0.762812077999115, \n",
      "INFO:root:iteration= 120, loss= 0.7369388341903687, \n",
      "INFO:root:iteration= 130, loss= 0.6074473261833191, \n",
      "INFO:root:iteration= 140, loss= 0.415596067905426, \n",
      "INFO:root:iteration= 150, loss= 0.5547888278961182, \n",
      "INFO:root:iteration= 160, loss= 0.6853715777397156, \n",
      "INFO:root:iteration= 170, loss= 0.773285984992981, \n",
      "INFO:root:iteration= 180, loss= 0.47743934392929077, \n",
      "INFO:root:iteration= 190, loss= 0.671274721622467, \n",
      "INFO:root:iteration= 200, loss= 0.4348874092102051, \n",
      "INFO:root:iteration= 210, loss= 0.573297381401062, \n",
      "INFO:root:iteration= 220, loss= 0.38528335094451904, \n",
      "INFO:root:iteration= 230, loss= 0.34948301315307617, \n",
      "INFO:root:iteration= 240, loss= 0.4731760323047638, \n",
      "INFO:root:iteration= 250, loss= 0.7109512090682983, \n",
      "INFO:root:iteration= 260, loss= 0.7062983512878418, \n",
      "INFO:root:iteration= 270, loss= 0.6749610900878906, \n",
      "INFO:root:iteration= 280, loss= 0.5885027647018433, \n",
      "INFO:root:iteration= 290, loss= 0.5466225147247314, \n",
      "INFO:root:iteration= 300, loss= 0.4161807894706726, \n",
      "INFO:root:iteration= 310, loss= 0.6361632943153381, \n",
      "INFO:root:iteration= 320, loss= 0.40477263927459717, \n",
      "INFO:root:iteration= 330, loss= 0.5918848514556885, \n",
      "INFO:root:iteration= 340, loss= 0.5690332651138306, \n",
      "INFO:root:iteration= 350, loss= 0.5069980621337891, \n",
      "INFO:root:iteration= 360, loss= 0.390608012676239, \n",
      "INFO:root:iteration= 370, loss= 0.3348509967327118, \n",
      "INFO:root:iteration= 380, loss= 0.3312748074531555, \n",
      "INFO:root:iteration= 390, loss= 0.3793935775756836, \n",
      "INFO:root:iteration= 400, loss= 0.6270754337310791, \n",
      "INFO:root:iteration= 410, loss= 0.39751172065734863, \n",
      "INFO:root:iteration= 420, loss= 0.5207686424255371, \n",
      "INFO:root:iteration= 430, loss= 0.5622059106826782, \n",
      "INFO:root:iteration= 440, loss= 0.5665453672409058, \n",
      "INFO:root:iteration= 450, loss= 0.33653753995895386, \n",
      "INFO:root:iteration= 460, loss= 0.5459791421890259, \n",
      "INFO:root:iteration= 470, loss= 0.3310888707637787, \n",
      "INFO:root:iteration= 480, loss= 0.3447452485561371, \n",
      "INFO:root:iteration= 490, loss= 0.5148864984512329, \n",
      "INFO:root:iteration= 500, loss= 0.4972679615020752, \n",
      "INFO:root:iteration= 510, loss= 0.5983995199203491, \n",
      "INFO:root:iteration= 520, loss= 0.40939465165138245, \n",
      "INFO:root:iteration= 530, loss= 0.6106250882148743, \n",
      "INFO:root:iteration= 540, loss= 0.40275877714157104, \n",
      "INFO:root:iteration= 550, loss= 0.5184898376464844, \n",
      "INFO:root:iteration= 560, loss= 0.4410681128501892, \n",
      "INFO:root:iteration= 570, loss= 0.2890792489051819, \n",
      "INFO:root:iteration= 580, loss= 0.38452833890914917, \n",
      "INFO:root:iteration= 590, loss= 0.5779483914375305, \n",
      "INFO:root:iteration= 600, loss= 0.41908496618270874, \n",
      "INFO:root:iteration= 610, loss= 0.532417893409729, \n",
      "INFO:root:iteration= 620, loss= 0.5188095569610596, \n",
      "INFO:root:iteration= 630, loss= 0.5845195055007935, \n",
      "INFO:root:iteration= 640, loss= 0.4913236200809479, \n",
      "INFO:root:iteration= 650, loss= 0.43485110998153687, \n",
      "INFO:root:iteration= 660, loss= 0.4884229898452759, \n",
      "INFO:root:iteration= 670, loss= 0.2831142544746399, \n",
      "INFO:root:iteration= 680, loss= 0.2643791735172272, \n",
      "INFO:root:iteration= 690, loss= 0.37632811069488525, \n",
      "INFO:root:iteration= 700, loss= 0.5085084438323975, \n",
      "INFO:root:iteration= 710, loss= 0.38454723358154297, \n",
      "INFO:root:iteration= 720, loss= 0.48960649967193604, \n",
      "INFO:root:iteration= 730, loss= 0.3721901476383209, \n",
      "INFO:root:iteration= 740, loss= 0.2771144211292267, \n",
      "INFO:root:iteration= 750, loss= 0.5481263399124146, \n",
      "INFO:root:iteration= 760, loss= 0.32969483733177185, \n",
      "INFO:root:iteration= 770, loss= 0.27247336506843567, \n",
      "INFO:root:iteration= 780, loss= 0.5013161301612854, \n",
      "INFO:root:iteration= 790, loss= 0.5245665907859802, \n",
      "INFO:root:iteration= 800, loss= 0.25919580459594727, \n",
      "INFO:root:iteration= 810, loss= 0.4123363196849823, \n",
      "INFO:root:iteration= 820, loss= 0.4280520975589752, \n",
      "INFO:root:iteration= 830, loss= 0.2688000500202179, \n",
      "INFO:root:iteration= 840, loss= 0.33327919244766235, \n",
      "INFO:root:iteration= 850, loss= 0.4603772759437561, \n",
      "INFO:root:iteration= 860, loss= 0.2820226848125458, \n",
      "INFO:root:iteration= 870, loss= 0.4577889144420624, \n",
      "INFO:root:iteration= 880, loss= 0.5271357893943787, \n",
      "INFO:root:iteration= 890, loss= 0.4023594856262207, \n",
      "INFO:root:iteration= 900, loss= 0.3722469210624695, \n",
      "INFO:root:iteration= 910, loss= 0.48421066999435425, \n",
      "INFO:root:iteration= 920, loss= 0.2982594668865204, \n",
      "INFO:root:iteration= 930, loss= 0.30885976552963257, \n",
      "INFO:root:iteration= 940, loss= 0.4007416367530823, \n",
      "INFO:root:iteration= 950, loss= 0.48038458824157715, \n",
      "INFO:root:iteration= 960, loss= 0.46093201637268066, \n",
      "INFO:root:iteration= 970, loss= 0.34243249893188477, \n",
      "INFO:root:iteration= 980, loss= 0.2863219678401947, \n",
      "INFO:root:iteration= 990, loss= 0.42289191484451294, \n",
      "INFO:root:iteration= 1000, loss= 0.3617209792137146, \n",
      "INFO:root:iteration= 1010, loss= 0.2600799798965454, \n",
      "INFO:root:iteration= 1020, loss= 0.24633710086345673, \n",
      "INFO:root:iteration= 1030, loss= 0.4685422480106354, \n",
      "INFO:root:iteration= 1040, loss= 0.4474581480026245, \n",
      "INFO:root:iteration= 1050, loss= 0.4591640532016754, \n",
      "INFO:root:iteration= 1060, loss= 0.32966747879981995, \n",
      "INFO:root:iteration= 1070, loss= 0.22745683789253235, \n",
      "INFO:root:iteration= 1080, loss= 0.21242272853851318, \n",
      "INFO:root:iteration= 1090, loss= 0.48954465985298157, \n",
      "INFO:root:iteration= 1100, loss= 0.408849835395813, \n",
      "INFO:root:iteration= 1110, loss= 0.3303054869174957, \n",
      "INFO:root:iteration= 1120, loss= 0.3384447991847992, \n",
      "INFO:root:iteration= 1130, loss= 0.37228646874427795, \n",
      "INFO:root:iteration= 1140, loss= 0.41275617480278015, \n",
      "INFO:root:iteration= 1150, loss= 0.340047150850296, \n",
      "INFO:root:iteration= 1160, loss= 0.2870664894580841, \n",
      "INFO:root:iteration= 1170, loss= 0.5093236565589905, \n",
      "INFO:root:iteration= 1180, loss= 0.4757753014564514, \n",
      "INFO:root:iteration= 1190, loss= 0.5013250708580017, \n",
      "INFO:root:iteration= 1200, loss= 0.440877228975296, \n",
      "INFO:root:iteration= 1210, loss= 0.4258054196834564, \n",
      "INFO:root:iteration= 1220, loss= 0.39381906390190125, \n",
      "INFO:root:iteration= 1230, loss= 0.438189297914505, \n",
      "INFO:root:iteration= 1240, loss= 0.44732046127319336, \n",
      "INFO:root:iteration= 1250, loss= 0.372628778219223, \n",
      "INFO:root:iteration= 1260, loss= 0.5127383470535278, \n",
      "INFO:root:iteration= 1270, loss= 0.2896202802658081, \n",
      "INFO:root:iteration= 1280, loss= 0.46216732263565063, \n",
      "INFO:root:iteration= 1290, loss= 0.4981021583080292, \n",
      "INFO:root:iteration= 1300, loss= 0.36308297514915466, \n",
      "INFO:root:iteration= 1310, loss= 0.4088577926158905, \n",
      "INFO:root:iteration= 1320, loss= 0.430331826210022, \n",
      "INFO:root:iteration= 1330, loss= 0.2589702308177948, \n",
      "INFO:root:iteration= 1340, loss= 0.4435770809650421, \n",
      "INFO:root:iteration= 1350, loss= 0.4704487919807434, \n",
      "INFO:root:iteration= 1360, loss= 0.4531455636024475, \n",
      "INFO:root:iteration= 1370, loss= 0.4223971962928772, \n",
      "INFO:root:iteration= 1380, loss= 0.47489115595817566, \n",
      "INFO:root:iteration= 1390, loss= 0.36882954835891724, \n",
      "INFO:root:iteration= 1400, loss= 0.4343510568141937, \n",
      "INFO:root:iteration= 1410, loss= 0.2094978392124176, \n",
      "INFO:root:iteration= 1420, loss= 0.4858112335205078, \n",
      "INFO:root:iteration= 1430, loss= 0.35621607303619385, \n",
      "INFO:root:iteration= 1440, loss= 0.3826330006122589, \n",
      "INFO:root:iteration= 1450, loss= 0.3622688055038452, \n",
      "INFO:root:iteration= 1460, loss= 0.3740973472595215, \n",
      "INFO:root:iteration= 1470, loss= 0.46876221895217896, \n",
      "INFO:root:iteration= 1480, loss= 0.3952312469482422, \n",
      "INFO:root:iteration= 1490, loss= 0.3462757468223572, \n",
      "INFO:root:iteration= 1500, loss= 0.2704479396343231, \n",
      "INFO:root:iteration= 1510, loss= 0.23495465517044067, \n",
      "INFO:root:iteration= 1520, loss= 0.3053109049797058, \n",
      "INFO:root:iteration= 1530, loss= 0.40419748425483704, \n",
      "INFO:root:iteration= 1540, loss= 0.20031243562698364, \n",
      "INFO:root:iteration= 1550, loss= 0.3456660807132721, \n",
      "INFO:root:iteration= 1560, loss= 0.43001502752304077, \n",
      "INFO:root:iteration= 1570, loss= 0.5017421245574951, \n",
      "INFO:root:iteration= 1580, loss= 0.4517725706100464, \n",
      "INFO:root:iteration= 1590, loss= 0.2932959794998169, \n",
      "INFO:root:iteration= 1600, loss= 0.45294761657714844, \n",
      "INFO:root:iteration= 1610, loss= 0.3454493582248688, \n",
      "INFO:root:iteration= 1620, loss= 0.3406578302383423, \n",
      "INFO:root:iteration= 1630, loss= 0.4426032304763794, \n",
      "INFO:root:iteration= 1640, loss= 0.3069710433483124, \n",
      "INFO:root:iteration= 1650, loss= 0.4994755685329437, \n",
      "INFO:root:iteration= 1660, loss= 0.33032214641571045, \n",
      "INFO:root:iteration= 1670, loss= 0.38653841614723206, \n",
      "INFO:root:iteration= 1680, loss= 0.3311241567134857, \n",
      "INFO:root:iteration= 1690, loss= 0.5384078025817871, \n",
      "INFO:root:iteration= 1700, loss= 0.40018385648727417, \n",
      "INFO:root:iteration= 1710, loss= 0.44031405448913574, \n",
      "INFO:root:iteration= 1720, loss= 0.4304930865764618, \n",
      "INFO:root:iteration= 1730, loss= 0.48524823784828186, \n",
      "INFO:root:iteration= 1740, loss= 0.17562760412693024, \n",
      "INFO:root:iteration= 1750, loss= 0.37946584820747375, \n",
      "INFO:root:iteration= 1760, loss= 0.5155827403068542, \n",
      "INFO:root:iteration= 1770, loss= 0.47720369696617126, \n",
      "INFO:root:iteration= 1780, loss= 0.28061822056770325, \n",
      "INFO:root:iteration= 1790, loss= 0.48974674940109253, \n",
      "INFO:root:iteration= 1800, loss= 0.338996022939682, \n",
      "INFO:root:iteration= 1810, loss= 0.3367465138435364, \n",
      "INFO:root:iteration= 1820, loss= 0.17832598090171814, \n",
      "INFO:root:iteration= 1830, loss= 0.40048953890800476, \n",
      "INFO:root:iteration= 1840, loss= 0.3075348138809204, \n",
      "INFO:root:iteration= 1850, loss= 0.3417970836162567, \n",
      "INFO:root:iteration= 1860, loss= 0.4705193340778351, \n",
      "INFO:root:iteration= 1870, loss= 0.4719582796096802, \n",
      "INFO:root:iteration= 1880, loss= 0.23223519325256348, \n",
      "INFO:root:iteration= 1890, loss= 0.2984771430492401, \n",
      "INFO:root:iteration= 1900, loss= 0.3966207802295685, \n",
      "INFO:root:iteration= 1910, loss= 0.3434330224990845, \n",
      "INFO:root:iteration= 1920, loss= 0.3796364665031433, \n",
      "INFO:root:iteration= 1930, loss= 0.474526047706604, \n",
      "INFO:root:iteration= 1940, loss= 0.4022359848022461, \n",
      "INFO:root:iteration= 1950, loss= 0.427765816450119, \n",
      "INFO:root:iteration= 1960, loss= 0.49273309111595154, \n",
      "INFO:root:iteration= 1970, loss= 0.4209885597229004, \n",
      "INFO:root:iteration= 1980, loss= 0.2540563941001892, \n",
      "INFO:root:iteration= 1990, loss= 0.4597642123699188, \n",
      "INFO:root:iteration= 2000, loss= 0.4900372326374054, \n",
      "INFO:root:iteration= 2010, loss= 0.44854316115379333, \n",
      "INFO:root:iteration= 2020, loss= 0.2622133791446686, \n",
      "INFO:root:iteration= 2030, loss= 0.38657405972480774, \n",
      "INFO:root:iteration= 2040, loss= 0.3254810571670532, \n",
      "INFO:root:iteration= 2050, loss= 0.2742075026035309, \n",
      "INFO:root:iteration= 2060, loss= 0.18420401215553284, \n",
      "INFO:root:iteration= 2070, loss= 0.45205816626548767, \n",
      "INFO:root:iteration= 2080, loss= 0.45178043842315674, \n",
      "INFO:root:iteration= 2090, loss= 0.3195483088493347, \n",
      "INFO:root:iteration= 2100, loss= 0.3204863667488098, \n",
      "INFO:root:iteration= 2110, loss= 0.3756482005119324, \n",
      "INFO:root:iteration= 2120, loss= 0.17626088857650757, \n",
      "INFO:root:iteration= 2130, loss= 0.14817430078983307, \n",
      "INFO:root:iteration= 2140, loss= 0.3829037547111511, \n",
      "INFO:root:iteration= 2150, loss= 0.3138987123966217, \n",
      "INFO:root:iteration= 2160, loss= 0.17441494762897491, \n",
      "INFO:root:iteration= 2170, loss= 0.1558767855167389, \n",
      "INFO:root:iteration= 2180, loss= 0.1883850395679474, \n",
      "INFO:root:iteration= 2190, loss= 0.2582806646823883, \n",
      "INFO:root:iteration= 2200, loss= 0.3668113350868225, \n",
      "INFO:root:iteration= 2210, loss= 0.2931106984615326, \n",
      "INFO:root:iteration= 2220, loss= 0.42671146988868713, \n",
      "INFO:root:iteration= 2230, loss= 0.30200886726379395, \n",
      "INFO:root:iteration= 2240, loss= 0.3910820484161377, \n",
      "INFO:root:iteration= 2250, loss= 0.2801418602466583, \n",
      "INFO:root:iteration= 2260, loss= 0.3261890709400177, \n",
      "INFO:root:iteration= 2270, loss= 0.4298480749130249, \n",
      "INFO:root:iteration= 2280, loss= 0.1806105524301529, \n",
      "INFO:root:iteration= 2290, loss= 0.4557870626449585, \n",
      "INFO:root:iteration= 2300, loss= 0.25645068287849426, \n",
      "INFO:root:iteration= 2310, loss= 0.40631064772605896, \n",
      "INFO:root:iteration= 2320, loss= 0.25432634353637695, \n",
      "INFO:root:iteration= 2330, loss= 0.2466517835855484, \n",
      "INFO:root:iteration= 2340, loss= 0.4136900007724762, \n",
      "INFO:root:iteration= 2350, loss= 0.3643045425415039, \n",
      "INFO:root:iteration= 2360, loss= 0.424328088760376, \n",
      "INFO:root:iteration= 2370, loss= 0.37042808532714844, \n",
      "INFO:root:iteration= 2380, loss= 0.24260516464710236, \n",
      "INFO:root:iteration= 2390, loss= 0.21991409361362457, \n",
      "INFO:root:iteration= 2400, loss= 0.23472903668880463, \n",
      "INFO:root:iteration= 2410, loss= 0.2949153482913971, \n",
      "INFO:root:iteration= 2420, loss= 0.3745284080505371, \n",
      "INFO:root:iteration= 2430, loss= 0.2973780333995819, \n",
      "INFO:root:iteration= 2440, loss= 0.43732985854148865, \n",
      "INFO:root:iteration= 2450, loss= 0.3442399501800537, \n",
      "INFO:root:iteration= 2460, loss= 0.2103850096464157, \n",
      "INFO:root:iteration= 2470, loss= 0.18348254263401031, \n",
      "INFO:root:iteration= 2480, loss= 0.38609951734542847, \n",
      "INFO:root:iteration= 2490, loss= 0.39136210083961487, \n",
      "INFO:root:iteration= 2500, loss= 0.20966488122940063, \n",
      "INFO:root:iteration= 2510, loss= 0.2959391474723816, \n",
      "INFO:root:iteration= 2520, loss= 0.40042680501937866, \n",
      "INFO:root:iteration= 2530, loss= 0.15514500439167023, \n",
      "INFO:root:iteration= 2540, loss= 0.18520493805408478, \n",
      "INFO:root:iteration= 2550, loss= 0.3058479130268097, \n",
      "INFO:root:iteration= 2560, loss= 0.27190595865249634, \n",
      "INFO:root:iteration= 2570, loss= 0.2699052691459656, \n",
      "INFO:root:iteration= 2580, loss= 0.21685351431369781, \n",
      "INFO:root:iteration= 2590, loss= 0.27431997656822205, \n",
      "INFO:root:iteration= 2600, loss= 0.3803257644176483, \n",
      "INFO:root:iteration= 2610, loss= 0.3601509630680084, \n",
      "INFO:root:iteration= 2620, loss= 0.15945091843605042, \n",
      "INFO:root:iteration= 2630, loss= 0.3034893572330475, \n",
      "INFO:root:iteration= 2640, loss= 0.14604583382606506, \n",
      "INFO:root:iteration= 2650, loss= 0.35569965839385986, \n",
      "INFO:root:iteration= 2660, loss= 0.3736645579338074, \n",
      "INFO:root:iteration= 2670, loss= 0.36767613887786865, \n",
      "INFO:root:iteration= 2680, loss= 0.38119688630104065, \n",
      "INFO:root:iteration= 2690, loss= 0.18828070163726807, \n",
      "INFO:root:iteration= 2700, loss= 0.2663215100765228, \n",
      "INFO:root:iteration= 2710, loss= 0.40294599533081055, \n",
      "INFO:root:iteration= 2720, loss= 0.1857621669769287, \n",
      "INFO:root:iteration= 2730, loss= 0.2639397382736206, \n",
      "INFO:root:iteration= 2740, loss= 0.17135503888130188, \n",
      "INFO:root:iteration= 2750, loss= 0.18807999789714813, \n",
      "INFO:root:iteration= 2760, loss= 0.39570173621177673, \n",
      "INFO:root:iteration= 2770, loss= 0.2315465807914734, \n",
      "INFO:root:iteration= 2780, loss= 0.21233725547790527, \n",
      "INFO:root:iteration= 2790, loss= 0.1842130720615387, \n",
      "INFO:root:iteration= 2800, loss= 0.1594851016998291, \n",
      "INFO:root:iteration= 2810, loss= 0.3654748797416687, \n",
      "INFO:root:iteration= 2820, loss= 0.26720234751701355, \n",
      "INFO:root:iteration= 2830, loss= 0.3596937954425812, \n",
      "INFO:root:iteration= 2840, loss= 0.42564013600349426, \n",
      "INFO:root:iteration= 2850, loss= 0.37812742590904236, \n",
      "INFO:root:iteration= 2860, loss= 0.3437604606151581, \n",
      "INFO:root:iteration= 2870, loss= 0.16376125812530518, \n",
      "INFO:root:iteration= 2880, loss= 0.4010915756225586, \n",
      "INFO:root:iteration= 2890, loss= 0.3656758666038513, \n",
      "INFO:root:iteration= 2900, loss= 0.2620590329170227, \n",
      "INFO:root:iteration= 2910, loss= 0.16536784172058105, \n",
      "INFO:root:iteration= 2920, loss= 0.16158966720104218, \n",
      "INFO:root:iteration= 2930, loss= 0.21805360913276672, \n",
      "INFO:root:iteration= 2940, loss= 0.24567769467830658, \n",
      "INFO:root:iteration= 2950, loss= 0.205027773976326, \n",
      "INFO:root:iteration= 2960, loss= 0.4209243357181549, \n",
      "INFO:root:iteration= 2970, loss= 0.13622312247753143, \n",
      "INFO:root:iteration= 2980, loss= 0.25385773181915283, \n",
      "INFO:root:iteration= 2990, loss= 0.3115334212779999, \n",
      "INFO:root:iteration= 3000, loss= 0.26727065443992615, \n",
      "INFO:root:iteration= 3010, loss= 0.3532901108264923, \n",
      "INFO:root:iteration= 3020, loss= 0.36642083525657654, \n",
      "INFO:root:iteration= 3030, loss= 0.22717741131782532, \n",
      "INFO:root:iteration= 3040, loss= 0.21321582794189453, \n",
      "INFO:root:iteration= 3050, loss= 0.18651752173900604, \n",
      "INFO:root:iteration= 3060, loss= 0.3074517846107483, \n",
      "INFO:root:iteration= 3070, loss= 0.29939383268356323, \n",
      "INFO:root:iteration= 3080, loss= 0.13301144540309906, \n",
      "INFO:root:iteration= 3090, loss= 0.32532182335853577, \n",
      "INFO:root:iteration= 3100, loss= 0.17128503322601318, \n",
      "INFO:root:iteration= 3110, loss= 0.2571917474269867, \n",
      "INFO:root:iteration= 3120, loss= 0.3339388966560364, \n",
      "INFO:root:iteration= 3130, loss= 0.356201171875, \n",
      "INFO:root:iteration= 3140, loss= 0.3373275697231293, \n",
      "INFO:root:iteration= 3150, loss= 0.2954215407371521, \n",
      "INFO:root:iteration= 3160, loss= 0.2500446140766144, \n",
      "INFO:root:iteration= 3170, loss= 0.15095683932304382, \n",
      "INFO:root:iteration= 3180, loss= 0.24710215628147125, \n",
      "INFO:root:iteration= 3190, loss= 0.14652378857135773, \n",
      "INFO:root:iteration= 3200, loss= 0.3189646601676941, \n",
      "INFO:root:iteration= 3210, loss= 0.17497950792312622, \n",
      "INFO:root:iteration= 3220, loss= 0.36423206329345703, \n",
      "INFO:root:iteration= 3230, loss= 0.21515889465808868, \n",
      "INFO:root:iteration= 3240, loss= 0.36176374554634094, \n",
      "INFO:root:iteration= 3250, loss= 0.17690730094909668, \n",
      "INFO:root:iteration= 3260, loss= 0.31399381160736084, \n",
      "INFO:root:iteration= 3270, loss= 0.2094975858926773, \n",
      "INFO:root:iteration= 3280, loss= 0.16284742951393127, \n",
      "INFO:root:iteration= 3290, loss= 0.22224031388759613, \n",
      "INFO:root:iteration= 3300, loss= 0.1547844409942627, \n",
      "INFO:root:iteration= 3310, loss= 0.33847084641456604, \n",
      "INFO:root:iteration= 3320, loss= 0.19167247414588928, \n",
      "INFO:root:iteration= 3330, loss= 0.2627827823162079, \n",
      "INFO:root:iteration= 3340, loss= 0.3616357743740082, \n",
      "INFO:root:iteration= 3350, loss= 0.38779735565185547, \n",
      "INFO:root:iteration= 3360, loss= 0.2626088559627533, \n",
      "INFO:root:iteration= 3370, loss= 0.2808493971824646, \n",
      "INFO:root:iteration= 3380, loss= 0.13711190223693848, \n",
      "INFO:root:iteration= 3390, loss= 0.3747219443321228, \n",
      "INFO:root:iteration= 3400, loss= 0.22688063979148865, \n",
      "INFO:root:iteration= 3410, loss= 0.1788097620010376, \n",
      "INFO:root:iteration= 3420, loss= 0.1824067085981369, \n",
      "INFO:root:iteration= 3430, loss= 0.35086989402770996, \n",
      "INFO:root:iteration= 3440, loss= 0.11899146437644958, \n",
      "INFO:root:iteration= 3450, loss= 0.26470547914505005, \n",
      "INFO:root:iteration= 3460, loss= 0.16412463784217834, \n",
      "INFO:root:iteration= 3470, loss= 0.36574628949165344, \n",
      "INFO:root:iteration= 3480, loss= 0.33252546191215515, \n",
      "INFO:root:iteration= 3490, loss= 0.11285215616226196, \n",
      "INFO:root:iteration= 3500, loss= 0.24092546105384827, \n",
      "INFO:root:iteration= 3510, loss= 0.32689186930656433, \n",
      "INFO:root:iteration= 3520, loss= 0.15070974826812744, \n",
      "INFO:root:iteration= 3530, loss= 0.330693781375885, \n",
      "INFO:root:iteration= 3540, loss= 0.19118139147758484, \n",
      "INFO:root:iteration= 3550, loss= 0.35040542483329773, \n",
      "INFO:root:iteration= 3560, loss= 0.20859873294830322, \n",
      "INFO:root:iteration= 3570, loss= 0.13253086805343628, \n",
      "INFO:root:iteration= 3580, loss= 0.3384630084037781, \n",
      "INFO:root:iteration= 3590, loss= 0.28318411111831665, \n",
      "INFO:root:iteration= 3600, loss= 0.1391032487154007, \n",
      "INFO:root:iteration= 3610, loss= 0.20231278240680695, \n",
      "INFO:root:iteration= 3620, loss= 0.29132747650146484, \n",
      "INFO:root:iteration= 3630, loss= 0.3331688642501831, \n",
      "INFO:root:iteration= 3640, loss= 0.2443842887878418, \n",
      "INFO:root:iteration= 3650, loss= 0.2900867760181427, \n",
      "INFO:root:iteration= 3660, loss= 0.3584729731082916, \n",
      "INFO:root:iteration= 3670, loss= 0.19094407558441162, \n",
      "INFO:root:iteration= 3680, loss= 0.16145558655261993, \n",
      "INFO:root:iteration= 3690, loss= 0.16230414807796478, \n",
      "INFO:root:iteration= 3700, loss= 0.25104278326034546, \n",
      "INFO:root:iteration= 3710, loss= 0.1341216117143631, \n",
      "INFO:root:iteration= 3720, loss= 0.17197014391422272, \n",
      "INFO:root:iteration= 3730, loss= 0.3908289074897766, \n",
      "INFO:root:iteration= 3740, loss= 0.28520816564559937, \n",
      "INFO:root:iteration= 3750, loss= 0.16701382398605347, \n",
      "INFO:root:iteration= 3760, loss= 0.13216444849967957, \n",
      "INFO:root:iteration= 3770, loss= 0.2212182581424713, \n",
      "INFO:root:iteration= 3780, loss= 0.324348509311676, \n",
      "INFO:root:iteration= 3790, loss= 0.3804953992366791, \n",
      "INFO:root:iteration= 3800, loss= 0.3410099744796753, \n",
      "INFO:root:iteration= 3810, loss= 0.3448824882507324, \n",
      "INFO:root:iteration= 3820, loss= 0.14490029215812683, \n",
      "INFO:root:iteration= 3830, loss= 0.20601660013198853, \n",
      "INFO:root:iteration= 3840, loss= 0.3549453020095825, \n",
      "INFO:root:iteration= 3850, loss= 0.17622695863246918, \n",
      "INFO:root:iteration= 3860, loss= 0.2100677192211151, \n",
      "INFO:root:iteration= 3870, loss= 0.34530672430992126, \n",
      "INFO:root:iteration= 3880, loss= 0.3292880952358246, \n",
      "INFO:root:iteration= 3890, loss= 0.3562183082103729, \n",
      "INFO:root:iteration= 3900, loss= 0.15481342375278473, \n",
      "INFO:root:iteration= 3910, loss= 0.15024486184120178, \n",
      "INFO:root:iteration= 3920, loss= 0.16194072365760803, \n",
      "INFO:root:iteration= 3930, loss= 0.23845259845256805, \n",
      "INFO:root:iteration= 3940, loss= 0.23277193307876587, \n",
      "INFO:root:iteration= 3950, loss= 0.3714293837547302, \n",
      "INFO:root:iteration= 3960, loss= 0.2656174600124359, \n",
      "INFO:root:iteration= 3970, loss= 0.28328847885131836, \n",
      "INFO:root:iteration= 3980, loss= 0.21615242958068848, \n",
      "INFO:root:iteration= 3990, loss= 0.2552129626274109, \n"
     ]
    },
    {
     "data": {
      "image/png": "[encoded data removed]",
      "text/plain": [
       "<Figure size 640x480 with 1 Axes>"
      ]
     },
     "metadata": {},
     "output_type": "display_data"
    }
   ],
   "source": [
    "import logging; logging.basicConfig(level=logging.INFO, force=True)\n",
    "\n",
    "curve = CurveHook()\n",
    "training_parameters = Training_parameters(n_epochs=4)\n",
    "\n",
    "with Session(db_engine) as db_session:\n",
    "    experiment = DBExperiment(name=\"test_experiment\", )\n",
    "    db_session.add(experiment)\n",
    "    trainer = Trainer(model, loader, training_parameters=training_parameters, device=\"cpu\",\n",
    "        step_hooks = [ \n",
    "            TqdmHook(),\n",
    "            LoggerHook(interval=10),\n",
    "            curve\n",
    "        ],\n",
    "        database=db_session, \n",
    "        db_experiment=experiment, )\n",
    "    experiment_id = experiment.id\n",
    "    trainer_id = trainer.id\n",
    "    if not skip_training: trainer.train()\n",
    "curve.draw()"
   ]
  },
  {
   "cell_type": "markdown",
   "id": "80466a2f-37e2-47f3-88c0-0d78313b8c38",
   "metadata": {},
   "source": [
    "Now check that we're able to resume training"
   ]
  },
  {
   "cell_type": "code",
   "execution_count": 44,
   "id": "5aecb616-7f4e-4cb9-9b8b-a23c7214ba06",
   "metadata": {},
   "outputs": [],
   "source": [
    "new_training_parameters = copy(training_parameters)\n",
    "new_training_parameters.n_epochs = 5\n",
    "with Session(db_engine) as db_session:\n",
    "    \n",
    "    trainer = Trainer(model, loader, \n",
    "                      training_parameters=training_parameters, device=\"cpu\",\n",
    "        step_hooks = [ \n",
    "            TqdmHook(),\n",
    "            LoggerHook(interval=10),\n",
    "            curve\n",
    "        ],\n",
    "        database=db_session, \n",
    "        db_experiment=experiment_id, \n",
    "        resume_from=trainer_id)\n",
    "    if not skip_training: trainer.train()"
   ]
  },
  {
   "cell_type": "code",
   "execution_count": 45,
   "id": "6209b798-bdf6-4e91-9fd0-b9ba629c9e5b",
   "metadata": {},
   "outputs": [
    {
     "data": {
      "image/png": "[encoded data removed]",
      "text/plain": [
       "<Figure size 640x480 with 1 Axes>"
      ]
     },
     "metadata": {},
     "output_type": "display_data"
    }
   ],
   "source": [
    "curve.draw()"
   ]
  },
  {
   "cell_type": "markdown",
   "id": "90eb2e13-edfb-4b40-87d0-f8339cb47488",
   "metadata": {},
   "source": [
    "## Automated experiment"
   ]
  },
  {
   "cell_type": "code",
   "execution_count": 46,
   "id": "a585c7ec-981d-485b-8905-470685a2cf94",
   "metadata": {},
   "outputs": [
    {
     "name": "stdout",
     "output_type": "stream",
     "text": [
      "\n",
      "models:\n",
      "  - name: test_model1\n",
      "    type: SimpleMLPModel\n",
      "    params:\n",
      "      dimensions: [4, 5, 10, 4]\n",
      "    training_parameters:\n",
      "      n_epochs: 2\n",
      "      performance_tricks: False\n",
      "      step_hooks:\n",
      "        - LoggerHook\n",
      "      batch_size: 10\n",
      "datasets:\n",
      "  train:\n",
      "    type: Torus4D\n",
      "    params:\n",
      "      size: 1000\n",
      "    transforms: \n",
      "      - CacheTransform\n",
      "      - type: RenameTransform\n",
      "        args: \n",
      "          - x: _\n",
      "      - type: RenameTransform\n",
      "        args:\n",
      "          - x: x\n",
      "            y: x\n",
      "      - TestTransform\n"
     ]
    }
   ],
   "source": [
    "cat workdir/test_config.yaml"
   ]
  },
  {
   "cell_type": "code",
   "execution_count": 54,
   "id": "af76411d-a3b5-4814-a3de-a6fd4fc4dc87",
   "metadata": {},
   "outputs": [],
   "source": [
    "from ml_lib.pipeline.experiment import Experiment\n",
    "with Session(db_engine) as db_session:\n",
    "    #import pdb;pdb.set_trace()\n",
    "    exp = Experiment.from_yaml(\"workdir/test_config.yaml\", database_session=db_session)\n",
    "    exp.train_all()"
   ]
  },
  {
   "cell_type": "code",
   "execution_count": 55,
   "id": "283f6af1-16e6-44db-86fa-606d8389155d",
   "metadata": {
    "scrolled": true
   },
   "outputs": [],
   "source": [
    "with Session(db_engine) as db_session:\n",
    "    #import pdb;pdb.set_trace()\n",
    "    exp = Experiment.from_yaml(\"workdir/test_config.yaml\", database_session=db_session)\n",
    "    exp.train_all()"
   ]
  },
  {
   "cell_type": "markdown",
   "id": "77a9b7e3-40d7-44d6-9e03-06c91181baf4",
   "metadata": {},
   "source": [
    "## Misc"
   ]
  },
  {
   "cell_type": "code",
   "execution_count": 49,
   "id": "45247357-c2b0-4f94-aa17-0b29e509ea32",
   "metadata": {},
   "outputs": [],
   "source": [
    "from ml_lib.misc.matchers import EmptySet"
   ]
  },
  {
   "cell_type": "code",
   "execution_count": 50,
   "id": "18fe4171-d9ff-40ed-bae1-278b4d8f7e1b",
   "metadata": {},
   "outputs": [
    {
     "data": {
      "text/plain": [
       "True"
      ]
     },
     "execution_count": 50,
     "metadata": {},
     "output_type": "execute_result"
    }
   ],
   "source": [
    "isinstance(set(), EmptySet)"
   ]
  },
  {
   "cell_type": "code",
   "execution_count": 51,
   "id": "4edd573f-c387-47b6-b632-db8a615d15e8",
   "metadata": {},
   "outputs": [
    {
     "data": {
      "text/plain": [
       "False"
      ]
     },
     "execution_count": 51,
     "metadata": {},
     "output_type": "execute_result"
    }
   ],
   "source": [
    "isinstance(set([1]), EmptySet)"
   ]
  },
  {
   "cell_type": "code",
   "execution_count": 52,
   "id": "7b0455b4-94b8-4698-b6e9-20647e04daf9",
   "metadata": {},
   "outputs": [
    {
     "name": "stdout",
     "output_type": "stream",
     "text": [
      "Tristan, you are a terrible person\n",
      "But it works\n"
     ]
    }
   ],
   "source": [
    "match set():\n",
    "    case EmptySet():\n",
    "        print(\"Tristan, you are a terrible person\")\n",
    "    case _:\n",
    "        print(\"ugh\")\n",
    "\n",
    "match {1, 2, 3}:\n",
    "    case EmptySet():\n",
    "        print(\"ugh\")\n",
    "    case _:\n",
    "        print(\"But it works\")"
   ]
  },
  {
   "cell_type": "markdown",
   "id": "897a6ae4-e312-4eb4-8b26-a1d4507bf41e",
   "metadata": {},
   "source": [
    "Someday I'll make one of those that checks for regular expressions… and that will be absolutely terrible"
   ]
  },
  {
   "cell_type": "code",
   "execution_count": 53,
   "id": "a523e383-97ac-4ee1-8973-c801a03b6976",
   "metadata": {},
   "outputs": [
    {
     "ename": "TypeError",
     "evalue": "typing.Literal cannot be used with isinstance()",
     "output_type": "error",
     "traceback": [
      "\u001b[0;31m---------------------------------------------------------------------------\u001b[0m",
      "\u001b[0;31mTypeError\u001b[0m                                 Traceback (most recent call last)",
      "Cell \u001b[0;32mIn[53], line 2\u001b[0m\n\u001b[1;32m      1\u001b[0m \u001b[38;5;28;01mfrom\u001b[39;00m \u001b[38;5;21;01mtyping\u001b[39;00m \u001b[38;5;28;01mimport\u001b[39;00m Literal\n\u001b[0;32m----> 2\u001b[0m \u001b[38;5;28;43misinstance\u001b[39;49m\u001b[43m(\u001b[49m\u001b[43mLiteral\u001b[49m\u001b[43m[\u001b[49m\u001b[38;5;241;43m3\u001b[39;49m\u001b[43m,\u001b[49m\u001b[43m \u001b[49m\u001b[38;5;241;43m4\u001b[39;49m\u001b[43m]\u001b[49m\u001b[43m,\u001b[49m\u001b[43m \u001b[49m\u001b[43mLiteral\u001b[49m\u001b[43m)\u001b[49m\n",
      "File \u001b[0;32m/usr/lib/python3.11/typing.py:481\u001b[0m, in \u001b[0;36m_SpecialForm.__instancecheck__\u001b[0;34m(self, obj)\u001b[0m\n\u001b[1;32m    480\u001b[0m \u001b[38;5;28;01mdef\u001b[39;00m \u001b[38;5;21m__instancecheck__\u001b[39m(\u001b[38;5;28mself\u001b[39m, obj):\n\u001b[0;32m--> 481\u001b[0m     \u001b[38;5;28;01mraise\u001b[39;00m \u001b[38;5;167;01mTypeError\u001b[39;00m(\u001b[38;5;124mf\u001b[39m\u001b[38;5;124m\"\u001b[39m\u001b[38;5;132;01m{\u001b[39;00m\u001b[38;5;28mself\u001b[39m\u001b[38;5;132;01m}\u001b[39;00m\u001b[38;5;124m cannot be used with isinstance()\u001b[39m\u001b[38;5;124m\"\u001b[39m)\n",
      "\u001b[0;31mTypeError\u001b[0m: typing.Literal cannot be used with isinstance()"
     ]
    }
   ],
   "source": [
    "from typing import Literal\n",
    "isinstance(Literal[3, 4], Literal)\n",
    "\n"
   ]
  },
  {
   "cell_type": "code",
   "execution_count": null,
   "id": "2427935d-0527-4959-9c9b-e484a4c2c7a0",
   "metadata": {},
   "outputs": [],
   "source": [
    "Literal[1, 2] == Literal[2, 1]"
   ]
  },
  {
   "cell_type": "code",
   "execution_count": null,
   "id": "f73fcebf-f9b2-4f2d-be53-b41b628d9286",
   "metadata": {},
   "outputs": [],
   "source": [
    "Literal[1, 2].__dict__"
   ]
  },
  {
   "cell_type": "code",
   "execution_count": null,
   "id": "18ee4647-b0d9-4ba3-a335-b2f5f163c56b",
   "metadata": {},
   "outputs": [],
   "source": [
    "import typing\n",
    "Hyperparameter[list[int]].__origin__.__origin__"
   ]
  },
  {
   "cell_type": "code",
   "execution_count": null,
   "id": "c2baed22-3896-49cc-a1dc-3542543a915b",
   "metadata": {},
   "outputs": [],
   "source": [
    "typing.get_args(Hyperparameter[list[int]])"
   ]
  },
  {
   "cell_type": "code",
   "execution_count": null,
   "id": "4ea3ae5f-c312-4a04-84ce-f5babd5de9a0",
   "metadata": {},
   "outputs": [],
   "source": []
  },
  {
   "cell_type": "code",
   "execution_count": null,
   "id": "44a9af46-937a-464a-9865-35fa02c6b055",
   "metadata": {},
   "outputs": [],
   "source": []
  },
  {
   "cell_type": "code",
   "execution_count": null,
   "id": "4c501b3c-df33-45e0-b553-22ec9705f0a5",
   "metadata": {},
   "outputs": [],
   "source": []
  }
 ],
 "metadata": {
  "kernelspec": {
   "display_name": "Python 3 (ipykernel)",
   "language": "python",
   "name": "python3"
  },
  "language_info": {
   "codemirror_mode": {
    "name": "ipython",
    "version": 3
   },
   "file_extension": ".py",
   "mimetype": "text/x-python",
   "name": "python",
   "nbconvert_exporter": "python",
   "pygments_lexer": "ipython3",
   "version": "3.11.8"
  }
 },
 "nbformat": 4,
 "nbformat_minor": 5
}
