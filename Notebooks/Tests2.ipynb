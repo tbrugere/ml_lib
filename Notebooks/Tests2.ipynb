{
 "cells": [
  {
   "cell_type": "markdown",
   "id": "988b919e-7daf-4162-8c84-b2890ab82cac",
   "metadata": {},
   "source": [
    "# Tests"
   ]
  },
  {
   "cell_type": "markdown",
   "id": "afb7059d-3b1c-4363-9735-2629bf454125",
   "metadata": {},
   "source": [
    "## Imports and stuff"
   ]
  },
  {
   "cell_type": "code",
   "execution_count": 1,
   "id": "a756cc65-6c1e-472b-9b9c-0abdf60a1b6c",
   "metadata": {
    "tags": []
   },
   "outputs": [],
   "source": [
    "import sys\n",
    "\n",
    "def append_path(s):\n",
    "    if s in sys.path:\n",
    "        return\n",
    "    sys.path.append(s)\n",
    "\n",
    "append_path(\"..\")\n",
    "%load_ext autoreload\n",
    "%autoreload 2"
   ]
  },
  {
   "cell_type": "code",
   "execution_count": 2,
   "id": "d469e6ee-0505-4851-8bf6-4d31ab8ae3ea",
   "metadata": {},
   "outputs": [],
   "source": [
    "import numpy as np\n",
    "from numpy.random import default_rng\n",
    "rng = default_rng()\n",
    "import matplotlib.pyplot as plt\n",
    "import matplotlib.ticker as ticker\n",
    "import networkx as nx\n",
    "import torch\n",
    "from torch import Tensor\n"
   ]
  },
  {
   "cell_type": "code",
   "execution_count": 3,
   "id": "3475ed6e-5d9e-47ae-911d-41caed2a7cf6",
   "metadata": {},
   "outputs": [],
   "source": [
    "import tb_ml\n"
   ]
  },
  {
   "cell_type": "markdown",
   "id": "49ca92f8-b5c4-480b-9f7b-a7d2b47eda17",
   "metadata": {
    "jp-MarkdownHeadingCollapsed": true,
    "tags": []
   },
   "source": [
    "## Datasets"
   ]
  },
  {
   "cell_type": "code",
   "execution_count": 4,
   "id": "bcb59e0b-d47d-4fa3-bd5c-12cbc7112498",
   "metadata": {},
   "outputs": [],
   "source": [
    "from tb_ml.datasets import register as dataset_register, transform_register"
   ]
  },
  {
   "cell_type": "code",
   "execution_count": null,
   "id": "8fe99e09-08e3-43d5-8e81-1af8a5897965",
   "metadata": {},
   "outputs": [],
   "source": []
  },
  {
   "cell_type": "code",
   "execution_count": 5,
   "id": "26cea4fc-9e73-46e6-acca-48b50bd4e55e",
   "metadata": {},
   "outputs": [],
   "source": [
    "dataset0 = dataset_register[\"Torus4D\"](1000)"
   ]
  },
  {
   "cell_type": "code",
   "execution_count": 6,
   "id": "fd359c44-3417-4b76-9570-202447d781bd",
   "metadata": {},
   "outputs": [],
   "source": [
    "dataset1 = transform_register[\"CacheTransform\"](dataset0)"
   ]
  },
  {
   "cell_type": "code",
   "execution_count": 7,
   "id": "ccb509ed-492e-4d3a-b8c4-ee87781b63f5",
   "metadata": {},
   "outputs": [],
   "source": [
    "#dataset0[0]"
   ]
  },
  {
   "cell_type": "code",
   "execution_count": 8,
   "id": "5809ff0a-da88-45af-9913-7014b4a0a51f",
   "metadata": {},
   "outputs": [
    {
     "data": {
      "text/plain": [
       "tensor([[-0.1492,  1.0038,  0.8852,  0.4923]])"
      ]
     },
     "execution_count": 8,
     "metadata": {},
     "output_type": "execute_result"
    }
   ],
   "source": [
    "dataset1[0]"
   ]
  },
  {
   "cell_type": "code",
   "execution_count": 9,
   "id": "82f44708-e279-4422-b00d-3d40eb912abb",
   "metadata": {},
   "outputs": [
    {
     "data": {
      "text/plain": [
       "datapoint(x=tensor([[-0.1492,  1.0038,  0.8852,  0.4923]]))"
      ]
     },
     "execution_count": 9,
     "metadata": {},
     "output_type": "execute_result"
    }
   ],
   "source": [
    "dataset2 = transform_register[\"RenameTransform\"](dataset1, {\"_\": \"x\"})\n",
    "dataset2[0]"
   ]
  },
  {
   "cell_type": "code",
   "execution_count": 10,
   "id": "ca39be83-6328-452f-9dd7-822e9474eeb1",
   "metadata": {},
   "outputs": [
    {
     "data": {
      "text/plain": [
       "datapoint(x=tensor([[-0.1492,  1.0038,  0.8852,  0.4923]]), y=tensor([[-0.1492,  1.0038,  0.8852,  0.4923]]))"
      ]
     },
     "execution_count": 10,
     "metadata": {},
     "output_type": "execute_result"
    }
   ],
   "source": [
    "dataset3 = transform_register[\"RenameTransform\"](dataset2, {\"x\": \"x\", 0:\"y\"})\n",
    "dataset3[0]"
   ]
  },
  {
   "cell_type": "code",
   "execution_count": 11,
   "id": "cebea6a4-4148-4d14-84b9-1a4fcd0410e1",
   "metadata": {},
   "outputs": [
    {
     "data": {
      "text/plain": [
       "datapoint(x=tensor([[-0.1040,  0.7001,  0.6174,  0.3434]]), y=tensor([[-0.1492,  1.0038,  0.8852,  0.4923]]))"
      ]
     },
     "execution_count": 11,
     "metadata": {},
     "output_type": "execute_result"
    }
   ],
   "source": [
    "normalize = lambda x : x / x.norm()\n",
    "dataset4 = transform_register[\"MultipleFunctionTransform\"](dataset3, {\"x\": normalize})\n",
    "dataset4[0]"
   ]
  },
  {
   "cell_type": "markdown",
   "id": "c76780b0-47c8-4bd9-8d4a-0df334837b6b",
   "metadata": {},
   "source": [
    "great!"
   ]
  },
  {
   "cell_type": "markdown",
   "id": "b232574c-5703-4688-b0f7-99be279c79c1",
   "metadata": {},
   "source": [
    "## Environments"
   ]
  },
  {
   "cell_type": "code",
   "execution_count": 12,
   "id": "8faa0bac-090c-4c70-bca8-7795002026bc",
   "metadata": {},
   "outputs": [],
   "source": [
    "from tb_ml.environment import Environment, Scope, scopevar_of_str, str_of_scopevar, HierarchicEnvironment, ScopedEnvironment"
   ]
  },
  {
   "cell_type": "code",
   "execution_count": 13,
   "id": "e4ad9cd4-aeab-4aac-8da7-f32ea22ed838",
   "metadata": {},
   "outputs": [
    {
     "data": {
      "text/plain": [
       "(('a', 'b'), 'c')"
      ]
     },
     "execution_count": 13,
     "metadata": {},
     "output_type": "execute_result"
    }
   ],
   "source": [
    "scopevar_of_str(\"a/b/c\")"
   ]
  },
  {
   "cell_type": "code",
   "execution_count": 14,
   "id": "72282cd4-17dd-4d57-b74c-40aea0b48080",
   "metadata": {},
   "outputs": [
    {
     "data": {
      "text/plain": [
       "'a/b/c'"
      ]
     },
     "execution_count": 14,
     "metadata": {},
     "output_type": "execute_result"
    }
   ],
   "source": [
    "str_of_scopevar(('a', 'b'), 'c')"
   ]
  },
  {
   "cell_type": "code",
   "execution_count": 15,
   "id": "c7efde3a-5b69-4ada-8e75-0451b4859ddc",
   "metadata": {},
   "outputs": [],
   "source": [
    "env = Environment()"
   ]
  },
  {
   "cell_type": "code",
   "execution_count": 16,
   "id": "3681ab99-19b5-48d3-ba87-dfa8da55c7bb",
   "metadata": {},
   "outputs": [
    {
     "data": {
      "text/plain": [
       "Environment(defaultdict(<class 'dict'>, {'_ipython_canary_method_should_not_exist_': {}, '_ipython_display_': {}, '_repr_mimebundle_': {}}))"
      ]
     },
     "execution_count": 16,
     "metadata": {},
     "output_type": "execute_result"
    }
   ],
   "source": [
    "env"
   ]
  },
  {
   "cell_type": "code",
   "execution_count": 17,
   "id": "4635378d-473f-43d9-a973-96e78a63e940",
   "metadata": {},
   "outputs": [],
   "source": [
    "env.record(\"hello\", 1)"
   ]
  },
  {
   "cell_type": "code",
   "execution_count": 18,
   "id": "ffb94b27-d9d0-43fb-bfc8-3f368f77bc8e",
   "metadata": {},
   "outputs": [
    {
     "data": {
      "text/plain": [
       "defaultdict(dict,\n",
       "            {'_ipython_canary_method_should_not_exist_': {},\n",
       "             '_ipython_display_': {},\n",
       "             '_repr_mimebundle_': {},\n",
       "             '_repr_html_': {},\n",
       "             '_repr_markdown_': {},\n",
       "             '_repr_svg_': {},\n",
       "             '_repr_png_': {},\n",
       "             '_repr_pdf_': {},\n",
       "             '_repr_jpeg_': {},\n",
       "             '_repr_latex_': {},\n",
       "             '_repr_json_': {},\n",
       "             '_repr_javascript_': {},\n",
       "             'hello': {(): 1}})"
      ]
     },
     "execution_count": 18,
     "metadata": {},
     "output_type": "execute_result"
    }
   ],
   "source": [
    "env.data"
   ]
  },
  {
   "cell_type": "code",
   "execution_count": 19,
   "id": "d4890ff8-761a-4e6e-8a73-42b2ac812808",
   "metadata": {},
   "outputs": [
    {
     "data": {
      "text/plain": [
       "defaultdict(dict,\n",
       "            {'_ipython_canary_method_should_not_exist_': {},\n",
       "             '_ipython_display_': {},\n",
       "             '_repr_mimebundle_': {},\n",
       "             '_repr_html_': {},\n",
       "             '_repr_markdown_': {},\n",
       "             '_repr_svg_': {},\n",
       "             '_repr_png_': {},\n",
       "             '_repr_pdf_': {},\n",
       "             '_repr_jpeg_': {},\n",
       "             '_repr_latex_': {},\n",
       "             '_repr_json_': {},\n",
       "             '_repr_javascript_': {},\n",
       "             'hello': {(): 1},\n",
       "             'world': {('some', 'scope'): 4}})"
      ]
     },
     "execution_count": 19,
     "metadata": {},
     "output_type": "execute_result"
    }
   ],
   "source": [
    "env.record(\"world\", 4, (\"some\", \"scope\"))\n",
    "env.data"
   ]
  },
  {
   "cell_type": "code",
   "execution_count": 20,
   "id": "bb3196cd-ec71-43c7-9159-bd7971cb0cc4",
   "metadata": {},
   "outputs": [
    {
     "data": {
      "text/plain": [
       "1"
      ]
     },
     "execution_count": 20,
     "metadata": {},
     "output_type": "execute_result"
    }
   ],
   "source": [
    "env.get(\"hello\")"
   ]
  },
  {
   "cell_type": "code",
   "execution_count": 21,
   "id": "91ea9683-7071-4554-8dac-cac7ffdbc478",
   "metadata": {},
   "outputs": [
    {
     "data": {
      "text/plain": [
       "4"
      ]
     },
     "execution_count": 21,
     "metadata": {},
     "output_type": "execute_result"
    }
   ],
   "source": [
    "env.get(\"world\")"
   ]
  },
  {
   "cell_type": "code",
   "execution_count": 22,
   "id": "454ff54f-0487-4382-a546-6ee4638ce9ef",
   "metadata": {},
   "outputs": [
    {
     "data": {
      "text/plain": [
       "4"
      ]
     },
     "execution_count": 22,
     "metadata": {},
     "output_type": "execute_result"
    }
   ],
   "source": [
    "#import pdb; pdb.set_trace()\n",
    "env.get(\"world\", scope=(\"some\",))"
   ]
  },
  {
   "cell_type": "code",
   "execution_count": 23,
   "id": "0bd673e8-3f56-469f-8ba8-d90228dd7f6e",
   "metadata": {},
   "outputs": [],
   "source": [
    "env.get(\"world\", scope=(\"soe\",))"
   ]
  },
  {
   "cell_type": "code",
   "execution_count": 24,
   "id": "40273039-d3d5-4111-97af-52e789c81a39",
   "metadata": {},
   "outputs": [],
   "source": [
    "hier_env = HierarchicEnvironment(parent=env)"
   ]
  },
  {
   "cell_type": "code",
   "execution_count": 25,
   "id": "92697ea6-3316-4186-bec0-23dcd8b2d0c5",
   "metadata": {},
   "outputs": [
    {
     "data": {
      "text/plain": [
       "2"
      ]
     },
     "execution_count": 25,
     "metadata": {},
     "output_type": "execute_result"
    }
   ],
   "source": [
    "hier_env.record(\"world\", 2, (\"some\",))\n",
    "hier_env.get(\"world\", scope=(\"some\",))\n"
   ]
  },
  {
   "cell_type": "code",
   "execution_count": 26,
   "id": "88d07bb9-a701-431e-91d7-b228555ffc6a",
   "metadata": {},
   "outputs": [
    {
     "data": {
      "text/plain": [
       "4"
      ]
     },
     "execution_count": 26,
     "metadata": {},
     "output_type": "execute_result"
    }
   ],
   "source": [
    "hier_env.get(\"world\", scope=(\"some\",\"scope\"))\n"
   ]
  },
  {
   "cell_type": "code",
   "execution_count": 27,
   "id": "e3a7bd05-bf0d-44ce-90d1-2abf36fddfed",
   "metadata": {},
   "outputs": [],
   "source": [
    "def f(hello):\n",
    "    print(hello)\n",
    "    return 1"
   ]
  },
  {
   "cell_type": "code",
   "execution_count": 28,
   "id": "598d5a9a-9a64-4145-bd7c-11a5e73f9925",
   "metadata": {},
   "outputs": [
    {
     "ename": "AttributeError",
     "evalue": "'function' object has no attribute 'parameters'",
     "output_type": "error",
     "traceback": [
      "\u001b[0;31m---------------------------------------------------------------------------\u001b[0m",
      "\u001b[0;31mAttributeError\u001b[0m                            Traceback (most recent call last)",
      "Cell \u001b[0;32mIn[28], line 1\u001b[0m\n\u001b[0;32m----> 1\u001b[0m \u001b[43mhier_env\u001b[49m\u001b[38;5;241;43m.\u001b[39;49m\u001b[43mrun_function\u001b[49m\u001b[43m(\u001b[49m\u001b[43mf\u001b[49m\u001b[43m)\u001b[49m\n",
      "File \u001b[0;32m~/Devoirs/research/implementations/tb_ml/Notebooks/../tb_ml/environment.py:158\u001b[0m, in \u001b[0;36mEnvironment.run_function\u001b[0;34m(self, f, record_result_as, *args, **kwargs)\u001b[0m\n\u001b[1;32m    155\u001b[0m sig \u001b[38;5;241m=\u001b[39m signature(f)\n\u001b[1;32m    157\u001b[0m arguments \u001b[38;5;241m=\u001b[39m sig\u001b[38;5;241m.\u001b[39mbind_partial(\u001b[38;5;241m*\u001b[39margs, \u001b[38;5;241m*\u001b[39m\u001b[38;5;241m*\u001b[39mkwargs)\n\u001b[0;32m--> 158\u001b[0m \u001b[38;5;28;01mfor\u001b[39;00m param \u001b[38;5;129;01min\u001b[39;00m \u001b[43msignature\u001b[49m\u001b[38;5;241;43m.\u001b[39;49m\u001b[43mparameters\u001b[49m:\n\u001b[1;32m    159\u001b[0m     \u001b[38;5;28;01mif\u001b[39;00m (param\u001b[38;5;241m.\u001b[39mname \u001b[38;5;129;01mnot\u001b[39;00m \u001b[38;5;129;01min\u001b[39;00m arguments \n\u001b[1;32m    160\u001b[0m             \u001b[38;5;129;01mand\u001b[39;00m param\u001b[38;5;241m.\u001b[39mname \u001b[38;5;129;01min\u001b[39;00m \u001b[38;5;28mself\u001b[39m\u001b[38;5;241m.\u001b[39mdata\n\u001b[1;32m    161\u001b[0m             \u001b[38;5;129;01mand\u001b[39;00m param\u001b[38;5;241m.\u001b[39mkind \u001b[38;5;241m!=\u001b[39m Parameter\u001b[38;5;241m.\u001b[39mPOSITIONAL_ONLY\n\u001b[1;32m    162\u001b[0m         ):\n\u001b[1;32m    163\u001b[0m         arguments\u001b[38;5;241m.\u001b[39marguments[param\u001b[38;5;241m.\u001b[39mname] \u001b[38;5;241m=\u001b[39m \u001b[38;5;28mself\u001b[39m\u001b[38;5;241m.\u001b[39mget(param\u001b[38;5;241m.\u001b[39mname)\n",
      "\u001b[0;31mAttributeError\u001b[0m: 'function' object has no attribute 'parameters'"
     ]
    }
   ],
   "source": [
    "hier_env.run_function(f)"
   ]
  },
  {
   "cell_type": "code",
   "execution_count": null,
   "id": "930ed7ca-7dc8-4fd1-b472-842e34b84583",
   "metadata": {},
   "outputs": [],
   "source": [
    "import pdb; pdb.pm()"
   ]
  },
  {
   "cell_type": "code",
   "execution_count": null,
   "id": "15da108d-416d-4b61-8a66-8effcdb7409a",
   "metadata": {},
   "outputs": [],
   "source": []
  }
 ],
 "metadata": {
  "kernelspec": {
   "display_name": "Python 3 (ipykernel)",
   "language": "python",
   "name": "python3"
  },
  "language_info": {
   "codemirror_mode": {
    "name": "ipython",
    "version": 3
   },
   "file_extension": ".py",
   "mimetype": "text/x-python",
   "name": "python",
   "nbconvert_exporter": "python",
   "pygments_lexer": "ipython3",
   "version": "3.10.8"
  }
 },
 "nbformat": 4,
 "nbformat_minor": 5
}
