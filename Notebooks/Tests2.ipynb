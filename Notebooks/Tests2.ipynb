{
 "cells": [
  {
   "cell_type": "markdown",
   "id": "988b919e-7daf-4162-8c84-b2890ab82cac",
   "metadata": {},
   "source": [
    "# Tests"
   ]
  },
  {
   "cell_type": "markdown",
   "id": "afb7059d-3b1c-4363-9735-2629bf454125",
   "metadata": {
    "jp-MarkdownHeadingCollapsed": true
   },
   "source": [
    "## Imports and stuff"
   ]
  },
  {
   "cell_type": "code",
   "execution_count": 1,
   "id": "a756cc65-6c1e-472b-9b9c-0abdf60a1b6c",
   "metadata": {
    "tags": []
   },
   "outputs": [],
   "source": [
    "import sys\n",
    "from copy import copy\n",
    "\n",
    "def append_path(s):\n",
    "    if s in sys.path:\n",
    "        return\n",
    "    sys.path.append(s)\n",
    "\n",
    "append_path(\"..\")\n",
    "%load_ext autoreload\n",
    "#%autoreload 2"
   ]
  },
  {
   "cell_type": "code",
   "execution_count": 2,
   "id": "d469e6ee-0505-4851-8bf6-4d31ab8ae3ea",
   "metadata": {},
   "outputs": [],
   "source": [
    "import numpy as np\n",
    "from numpy.random import default_rng\n",
    "rng = default_rng()\n",
    "import matplotlib.pyplot as plt\n",
    "import matplotlib.ticker as ticker\n",
    "import networkx as nx\n",
    "import torch\n",
    "from torch import Tensor\n"
   ]
  },
  {
   "cell_type": "code",
   "execution_count": 3,
   "id": "3475ed6e-5d9e-47ae-911d-41caed2a7cf6",
   "metadata": {},
   "outputs": [],
   "source": [
    "import ml_lib\n",
    "from ml_lib import feature_specification"
   ]
  },
  {
   "cell_type": "markdown",
   "id": "49ca92f8-b5c4-480b-9f7b-a7d2b47eda17",
   "metadata": {
    "tags": []
   },
   "source": [
    "## Datasets"
   ]
  },
  {
   "cell_type": "code",
   "execution_count": 4,
   "id": "bcb59e0b-d47d-4fa3-bd5c-12cbc7112498",
   "metadata": {},
   "outputs": [],
   "source": [
    "from ml_lib.datasets import register as dataset_register, transform_register, load_transform, load_dataset, Transform\n",
    "from ml_lib.datasets.transforms import MultipleFunctionTransform"
   ]
  },
  {
   "cell_type": "code",
   "execution_count": 5,
   "id": "26cea4fc-9e73-46e6-acca-48b50bd4e55e",
   "metadata": {},
   "outputs": [],
   "source": [
    "dataset0 = dataset_register[\"Torus4D\"](1000)"
   ]
  },
  {
   "cell_type": "code",
   "execution_count": 6,
   "id": "fd359c44-3417-4b76-9570-202447d781bd",
   "metadata": {},
   "outputs": [],
   "source": [
    "transform = transform_register[\"CacheTransform\"]() \n",
    "dataset1 = transform(dataset0)"
   ]
  },
  {
   "cell_type": "code",
   "execution_count": 7,
   "id": "a804da77-671a-4da2-ab15-5f1cebdc5eb7",
   "metadata": {},
   "outputs": [
    {
     "data": {
      "text/plain": [
       "<ml_lib.datasets.simple_shapes.Torus4D at 0x7fcdc9080e10>"
      ]
     },
     "execution_count": 7,
     "metadata": {},
     "output_type": "execute_result"
    }
   ],
   "source": [
    "dataset1._inner"
   ]
  },
  {
   "cell_type": "code",
   "execution_count": 8,
   "id": "5809ff0a-da88-45af-9913-7014b4a0a51f",
   "metadata": {},
   "outputs": [
    {
     "data": {
      "text/plain": [
       "tensor([[ 0.0149,  0.9977, -0.7880, -0.6139]])"
      ]
     },
     "execution_count": 8,
     "metadata": {},
     "output_type": "execute_result"
    }
   ],
   "source": [
    "dataset1[0]"
   ]
  },
  {
   "cell_type": "code",
   "execution_count": 9,
   "id": "82f44708-e279-4422-b00d-3d40eb912abb",
   "metadata": {},
   "outputs": [
    {
     "data": {
      "text/plain": [
       "<ml_lib.datasets.datapoint.DictDatapoint at 0x7fcdcac95a10>"
      ]
     },
     "execution_count": 9,
     "metadata": {},
     "output_type": "execute_result"
    }
   ],
   "source": [
    "dataset2 = transform_register[\"RenameTransform\"]({\"x\": \"_\"})(dataset1)\n",
    "dataset2[0]"
   ]
  },
  {
   "cell_type": "code",
   "execution_count": 10,
   "id": "ca39be83-6328-452f-9dd7-822e9474eeb1",
   "metadata": {},
   "outputs": [
    {
     "data": {
      "text/plain": [
       "<ml_lib.datasets.datapoint.DictDatapoint at 0x7fcdc8e822d0>"
      ]
     },
     "execution_count": 10,
     "metadata": {},
     "output_type": "execute_result"
    }
   ],
   "source": [
    "dataset3 = transform_register[\"RenameTransform\"]({\"x\": \"x\", \"y\":\"x\"})(dataset2)\n",
    "dataset3[0]"
   ]
  },
  {
   "cell_type": "code",
   "execution_count": 11,
   "id": "cebea6a4-4148-4d14-84b9-1a4fcd0410e1",
   "metadata": {},
   "outputs": [
    {
     "data": {
      "text/plain": [
       "<ml_lib.datasets.datapoint.DictDatapoint at 0x7fcdc95f8dd0>"
      ]
     },
     "execution_count": 11,
     "metadata": {},
     "output_type": "execute_result"
    }
   ],
   "source": [
    "normalize = lambda x : x / x.norm()\n",
    "dataset4 = transform_register[\"MultipleFunctionTransform\"]({\"x\": (normalize, \"x\"), \"gt\": (lambda x:x, \"y\")})(dataset3)\n",
    "dataset4[0]"
   ]
  },
  {
   "cell_type": "code",
   "execution_count": 12,
   "id": "aa9d7e06-917d-4afd-bd3c-b6f96c0e778d",
   "metadata": {},
   "outputs": [],
   "source": [
    "@transform_register\n",
    "class TestTransform(MultipleFunctionTransform):\n",
    "\n",
    "    def __init__(self):\n",
    "        super().__init__({\"x\": (normalize, \"x\"), \"gt\": (lambda x:x, \"y\")})"
   ]
  },
  {
   "cell_type": "markdown",
   "id": "c76780b0-47c8-4bd9-8d4a-0df334837b6b",
   "metadata": {},
   "source": [
    "great!"
   ]
  },
  {
   "cell_type": "markdown",
   "id": "b232574c-5703-4688-b0f7-99be279c79c1",
   "metadata": {
    "jp-MarkdownHeadingCollapsed": true,
    "tags": []
   },
   "source": [
    "## Environments"
   ]
  },
  {
   "cell_type": "code",
   "execution_count": 13,
   "id": "8faa0bac-090c-4c70-bca8-7795002026bc",
   "metadata": {},
   "outputs": [],
   "source": [
    "from ml_lib.environment import Environment, Scope, scopevar_of_str, str_of_scopevar, HierarchicEnvironment, ScopedEnvironment"
   ]
  },
  {
   "cell_type": "code",
   "execution_count": 14,
   "id": "e4ad9cd4-aeab-4aac-8da7-f32ea22ed838",
   "metadata": {},
   "outputs": [
    {
     "data": {
      "text/plain": [
       "(('a', 'b'), 'c')"
      ]
     },
     "execution_count": 14,
     "metadata": {},
     "output_type": "execute_result"
    }
   ],
   "source": [
    "scopevar_of_str(\"a/b/c\")"
   ]
  },
  {
   "cell_type": "code",
   "execution_count": 15,
   "id": "72282cd4-17dd-4d57-b74c-40aea0b48080",
   "metadata": {},
   "outputs": [
    {
     "data": {
      "text/plain": [
       "'a/b/c'"
      ]
     },
     "execution_count": 15,
     "metadata": {},
     "output_type": "execute_result"
    }
   ],
   "source": [
    "str_of_scopevar(('a', 'b'), 'c')"
   ]
  },
  {
   "cell_type": "code",
   "execution_count": 16,
   "id": "c7efde3a-5b69-4ada-8e75-0451b4859ddc",
   "metadata": {},
   "outputs": [],
   "source": [
    "env = Environment()"
   ]
  },
  {
   "cell_type": "code",
   "execution_count": 17,
   "id": "3681ab99-19b5-48d3-ba87-dfa8da55c7bb",
   "metadata": {},
   "outputs": [
    {
     "data": {
      "text/plain": [
       "Environment(defaultdict(<class 'dict'>, {'_ipython_canary_method_should_not_exist_': {}, '_ipython_display_': {}, '_repr_mimebundle_': {}}))"
      ]
     },
     "execution_count": 17,
     "metadata": {},
     "output_type": "execute_result"
    }
   ],
   "source": [
    "env"
   ]
  },
  {
   "cell_type": "code",
   "execution_count": 18,
   "id": "4635378d-473f-43d9-a973-96e78a63e940",
   "metadata": {},
   "outputs": [],
   "source": [
    "env.record(\"hello\", 1)"
   ]
  },
  {
   "cell_type": "code",
   "execution_count": 19,
   "id": "ffb94b27-d9d0-43fb-bfc8-3f368f77bc8e",
   "metadata": {},
   "outputs": [
    {
     "data": {
      "text/plain": [
       "defaultdict(dict,\n",
       "            {'_ipython_canary_method_should_not_exist_': {},\n",
       "             '_ipython_display_': {},\n",
       "             '_repr_mimebundle_': {},\n",
       "             '_repr_html_': {},\n",
       "             '_repr_markdown_': {},\n",
       "             '_repr_svg_': {},\n",
       "             '_repr_png_': {},\n",
       "             '_repr_pdf_': {},\n",
       "             '_repr_jpeg_': {},\n",
       "             '_repr_latex_': {},\n",
       "             '_repr_json_': {},\n",
       "             '_repr_javascript_': {},\n",
       "             'hello': {(): 1}})"
      ]
     },
     "execution_count": 19,
     "metadata": {},
     "output_type": "execute_result"
    }
   ],
   "source": [
    "env.data"
   ]
  },
  {
   "cell_type": "code",
   "execution_count": 20,
   "id": "d4890ff8-761a-4e6e-8a73-42b2ac812808",
   "metadata": {},
   "outputs": [
    {
     "data": {
      "text/plain": [
       "defaultdict(dict,\n",
       "            {'_ipython_canary_method_should_not_exist_': {},\n",
       "             '_ipython_display_': {},\n",
       "             '_repr_mimebundle_': {},\n",
       "             '_repr_html_': {},\n",
       "             '_repr_markdown_': {},\n",
       "             '_repr_svg_': {},\n",
       "             '_repr_png_': {},\n",
       "             '_repr_pdf_': {},\n",
       "             '_repr_jpeg_': {},\n",
       "             '_repr_latex_': {},\n",
       "             '_repr_json_': {},\n",
       "             '_repr_javascript_': {},\n",
       "             'hello': {(): 1},\n",
       "             'world': {('some', 'scope'): 4}})"
      ]
     },
     "execution_count": 20,
     "metadata": {},
     "output_type": "execute_result"
    }
   ],
   "source": [
    "env.record(\"world\", 4, (\"some\", \"scope\"))\n",
    "env.data"
   ]
  },
  {
   "cell_type": "code",
   "execution_count": 21,
   "id": "bb3196cd-ec71-43c7-9159-bd7971cb0cc4",
   "metadata": {},
   "outputs": [
    {
     "data": {
      "text/plain": [
       "1"
      ]
     },
     "execution_count": 21,
     "metadata": {},
     "output_type": "execute_result"
    }
   ],
   "source": [
    "env.get(\"hello\")"
   ]
  },
  {
   "cell_type": "code",
   "execution_count": 22,
   "id": "91ea9683-7071-4554-8dac-cac7ffdbc478",
   "metadata": {},
   "outputs": [
    {
     "data": {
      "text/plain": [
       "4"
      ]
     },
     "execution_count": 22,
     "metadata": {},
     "output_type": "execute_result"
    }
   ],
   "source": [
    "env.get(\"world\")"
   ]
  },
  {
   "cell_type": "code",
   "execution_count": 23,
   "id": "454ff54f-0487-4382-a546-6ee4638ce9ef",
   "metadata": {},
   "outputs": [
    {
     "data": {
      "text/plain": [
       "4"
      ]
     },
     "execution_count": 23,
     "metadata": {},
     "output_type": "execute_result"
    }
   ],
   "source": [
    "#import pdb; pdb.set_trace()\n",
    "env.get(\"world\", scope=(\"some\",))"
   ]
  },
  {
   "cell_type": "code",
   "execution_count": 24,
   "id": "0bd673e8-3f56-469f-8ba8-d90228dd7f6e",
   "metadata": {},
   "outputs": [],
   "source": [
    "env.get(\"world\", scope=(\"soe\",))"
   ]
  },
  {
   "cell_type": "code",
   "execution_count": 25,
   "id": "40273039-d3d5-4111-97af-52e789c81a39",
   "metadata": {},
   "outputs": [],
   "source": [
    "hier_env = HierarchicEnvironment(parent=env)"
   ]
  },
  {
   "cell_type": "code",
   "execution_count": 26,
   "id": "92697ea6-3316-4186-bec0-23dcd8b2d0c5",
   "metadata": {},
   "outputs": [
    {
     "data": {
      "text/plain": [
       "2"
      ]
     },
     "execution_count": 26,
     "metadata": {},
     "output_type": "execute_result"
    }
   ],
   "source": [
    "hier_env.record(\"world\", 2, (\"some\",))\n",
    "hier_env.get(\"world\", scope=(\"some\",))\n"
   ]
  },
  {
   "cell_type": "code",
   "execution_count": 27,
   "id": "88d07bb9-a701-431e-91d7-b228555ffc6a",
   "metadata": {},
   "outputs": [
    {
     "data": {
      "text/plain": [
       "4"
      ]
     },
     "execution_count": 27,
     "metadata": {},
     "output_type": "execute_result"
    }
   ],
   "source": [
    "hier_env.get(\"world\", scope=(\"some\",\"scope\"))\n"
   ]
  },
  {
   "cell_type": "code",
   "execution_count": 28,
   "id": "e3a7bd05-bf0d-44ce-90d1-2abf36fddfed",
   "metadata": {},
   "outputs": [],
   "source": [
    "def f(world, hello=6, magic=3):\n",
    "    print(world, hello, magic)\n",
    "    return 1"
   ]
  },
  {
   "cell_type": "code",
   "execution_count": 29,
   "id": "598d5a9a-9a64-4145-bd7c-11a5e73f9925",
   "metadata": {},
   "outputs": [
    {
     "name": "stdout",
     "output_type": "stream",
     "text": [
      "2 1 3\n"
     ]
    },
    {
     "data": {
      "text/plain": [
       "1"
      ]
     },
     "execution_count": 29,
     "metadata": {},
     "output_type": "execute_result"
    }
   ],
   "source": [
    "hier_env.run_function(f)"
   ]
  },
  {
   "cell_type": "markdown",
   "id": "56f84cb9-c0f8-4753-890b-5eacf56006e1",
   "metadata": {},
   "source": [
    "## Model"
   ]
  },
  {
   "cell_type": "code",
   "execution_count": 30,
   "id": "dfc31937-5b0f-48ad-b705-e8977efda7b6",
   "metadata": {},
   "outputs": [
    {
     "name": "stdout",
     "output_type": "stream",
     "text": [
      "SimpleMLPModel(\n",
      "    dimensions=[4, 5, 10, 4, 4],\n",
      ")\n",
      "SimpleMLPModel(\n",
      "  (inner): MLP(\n",
      "    (linear_0): Linear(in_features=4, out_features=5, bias=True)\n",
      "    (activation_0): ReLU()\n",
      "    (linear_1): Linear(in_features=5, out_features=10, bias=True)\n",
      "    (activation_1): ReLU()\n",
      "    (linear_2): Linear(in_features=10, out_features=4, bias=True)\n",
      "    (activation_2): ReLU()\n",
      "    (linear_3): Linear(in_features=4, out_features=4, bias=True)\n",
      "  )\n",
      ")\n"
     ]
    },
    {
     "data": {
      "text/plain": [
       "'test_model'"
      ]
     },
     "execution_count": 30,
     "metadata": {},
     "output_type": "execute_result"
    }
   ],
   "source": [
    "from ml_lib.models import Model, Supervised, Hyperparameter, register as model_register\n",
    "from ml_lib.models.layers import MLP\n",
    "\n",
    "@model_register\n",
    "class SimpleMLPModel(Supervised):\n",
    "    \n",
    "    dimensions: Hyperparameter[list[int]]\n",
    "\n",
    "    inner: MLP\n",
    "\n",
    "    def __setup__(self):\n",
    "        self.inner = MLP(*self.dimensions, batchnorm=False)\n",
    "\n",
    "    def forward(self, x):\n",
    "        return self.inner(x)\n",
    "\n",
    "    def loss_fun(self, x, gt):\n",
    "        return (x - gt).square().sum()\n",
    "\n",
    "model = SimpleMLPModel(dimensions=[4, 5, 10, 4, 4], model_name=\"test_model\")\n",
    "print(model)\n",
    "print(torch.nn.Module.__repr__(model))\n",
    "model.model_name"
   ]
  },
  {
   "cell_type": "markdown",
   "id": "e9ffc541-f49c-4d5c-a2da-3a17b530b6c8",
   "metadata": {},
   "source": [
    "## Saving and loading to database"
   ]
  },
  {
   "cell_type": "code",
   "execution_count": 31,
   "id": "803d3147-2ea2-453f-8fdc-67be314ffee4",
   "metadata": {},
   "outputs": [],
   "source": [
    "from sqlalchemy import create_engine\n",
    "from sqlalchemy.orm import Session\n",
    "from ml_lib.pipeline.experiment_tracking import create_tables, Model as Database_Model\n"
   ]
  },
  {
   "cell_type": "code",
   "execution_count": 32,
   "id": "6d92b0b0-de96-401a-abbb-8fc25374d8eb",
   "metadata": {},
   "outputs": [
    {
     "data": {
      "text/plain": [
       "'SimpleMLPModel'"
      ]
     },
     "execution_count": 32,
     "metadata": {},
     "output_type": "execute_result"
    }
   ],
   "source": [
    "model.get_model_type()"
   ]
  },
  {
   "cell_type": "code",
   "execution_count": 33,
   "id": "867810ca-302e-4c3e-aaab-275bc470572c",
   "metadata": {},
   "outputs": [
    {
     "data": {
      "text/plain": [
       "Model(id= None, model_type= SimpleMLPModel, name= test_model, description= None)"
      ]
     },
     "execution_count": 33,
     "metadata": {},
     "output_type": "execute_result"
    }
   ],
   "source": [
    "model.to_database_object()"
   ]
  },
  {
   "cell_type": "code",
   "execution_count": 34,
   "id": "0fc64de1-c910-44b7-a5c7-6cdc7998b1de",
   "metadata": {},
   "outputs": [
    {
     "name": "stdout",
     "output_type": "stream",
     "text": [
      "Model(id= 1, model_type= SimpleMLPModel, name= test_model, description= None)\n"
     ]
    },
    {
     "data": {
      "text/plain": [
       "1"
      ]
     },
     "execution_count": 34,
     "metadata": {},
     "output_type": "execute_result"
    }
   ],
   "source": [
    "print_requests = False\n",
    "%rm /tmp/test.db\n",
    "db_engine = create_engine(\"sqlite:////tmp/test.db\", echo=print_requests)\n",
    "create_tables(db_engine)\n",
    "with Session(db_engine) as db_session:\n",
    "    model.save_to_database(db_session, replace=True)\n",
    "    #db_session.commit()\n",
    "    print(model.get_database_object(db_session))\n",
    "    model_object  = db_session.get(Database_Model, model.id)\n",
    "    db_session.commit()\n",
    "model.id"
   ]
  },
  {
   "cell_type": "code",
   "execution_count": 35,
   "id": "b5d6446f-3cb8-4228-95c0-541a84ea0456",
   "metadata": {},
   "outputs": [
    {
     "name": "stdout",
     "output_type": "stream",
     "text": [
      "Model(id= 1, model_type= SimpleMLPModel, name= test_model, description= None)\n",
      "<class 'sqlalchemy.orm.session.Session'>\n"
     ]
    },
    {
     "data": {
      "text/plain": [
       "SimpleMLPModel(\n",
       "    dimensions=[4, 5, 10, 4, 4],\n",
       ")"
      ]
     },
     "execution_count": 35,
     "metadata": {},
     "output_type": "execute_result"
    }
   ],
   "source": [
    "with Session(db_engine) as db_session:\n",
    "    model_object  = db_session.get(Database_Model, model.id)\n",
    "    print(model_object)\n",
    "    print(type(db_session))\n",
    "    loaded_model= model_object.load_model(load_latest_checkpoint=False,) #cannot load checkpoint for now since there isn't one\n",
    "loaded_model"
   ]
  },
  {
   "cell_type": "markdown",
   "id": "69300be5-9d40-4cad-8567-454ea9404830",
   "metadata": {},
   "source": [
    "## Training"
   ]
  },
  {
   "cell_type": "code",
   "execution_count": 36,
   "id": "3bb1bc65-9fc3-499d-b5c2-b51eeae30f34",
   "metadata": {},
   "outputs": [],
   "source": [
    "skip_training = True"
   ]
  },
  {
   "cell_type": "code",
   "execution_count": 37,
   "id": "9d5c3e97-a43c-416d-8b1a-b24ec5d53eb1",
   "metadata": {},
   "outputs": [],
   "source": [
    "from ml_lib.models import Model\n",
    "from ml_lib.pipeline import Trainer, Training_parameters\n",
    "from ml_lib.pipeline.training_hooks import TqdmHook, LoggerHook, CurveHook, DatabaseHook\n",
    "from ml_lib.pipeline.experiment_tracking import Experiment as DBExperiment\n",
    "from torch.utils.data import DataLoader"
   ]
  },
  {
   "cell_type": "code",
   "execution_count": 38,
   "id": "f683c8a1-1803-48e6-aa55-4f2991041e9f",
   "metadata": {},
   "outputs": [
    {
     "data": {
      "text/plain": [
       "<ml_lib.datasets.datapoint.DictDatapoint at 0x7fcdc7a8cb90>"
      ]
     },
     "execution_count": 38,
     "metadata": {},
     "output_type": "execute_result"
    }
   ],
   "source": [
    "loader = DataLoader(dataset4, batch_size=None, shuffle=True)\n",
    "next(iter(loader))"
   ]
  },
  {
   "cell_type": "code",
   "execution_count": 39,
   "id": "ff11b26b-ef59-45fb-98d6-b3781c71ce7f",
   "metadata": {},
   "outputs": [
    {
     "data": {
      "image/png": "[encoded data removed]",
      "text/plain": [
       "<Figure size 640x480 with 1 Axes>"
      ]
     },
     "metadata": {},
     "output_type": "display_data"
    }
   ],
   "source": [
    "import logging; logging.basicConfig(level=logging.INFO, force=True)\n",
    "\n",
    "curve = CurveHook()\n",
    "training_parameters = Training_parameters(n_epochs=4)\n",
    "\n",
    "with Session(db_engine) as db_session:\n",
    "    experiment = DBExperiment(name=\"test_experiment\", )\n",
    "    db_session.add(experiment)\n",
    "    trainer = Trainer(model, loader, training_parameters=training_parameters, device=\"cpu\",\n",
    "        step_hooks = [ \n",
    "            TqdmHook(),\n",
    "            LoggerHook(interval=10),\n",
    "            curve\n",
    "        ],\n",
    "        database=db_session, \n",
    "        db_experiment=experiment, )\n",
    "    experiment_id = experiment.id\n",
    "    trainer_id = trainer.id\n",
    "    if not skip_training: trainer.train()\n",
    "curve.draw()"
   ]
  },
  {
   "cell_type": "markdown",
   "id": "80466a2f-37e2-47f3-88c0-0d78313b8c38",
   "metadata": {},
   "source": [
    "Now check that we're able to resume training"
   ]
  },
  {
   "cell_type": "code",
   "execution_count": 40,
   "id": "5aecb616-7f4e-4cb9-9b8b-a23c7214ba06",
   "metadata": {},
   "outputs": [
    {
     "name": "stderr",
     "output_type": "stream",
     "text": [
      "WARNING:ml_lib.pipeline.trainer:tried to resume, but did not find a checkpoint\n"
     ]
    }
   ],
   "source": [
    "new_training_parameters = copy(training_parameters)\n",
    "new_training_parameters.n_epochs = 5\n",
    "with Session(db_engine) as db_session:\n",
    "    \n",
    "    trainer = Trainer(model, loader, \n",
    "                      training_parameters=training_parameters, device=\"cpu\",\n",
    "        step_hooks = [ \n",
    "            TqdmHook(),\n",
    "            LoggerHook(interval=10),\n",
    "            curve\n",
    "        ],\n",
    "        database=db_session, \n",
    "        db_experiment=experiment_id, \n",
    "        resume_from=trainer_id)\n",
    "    if not skip_training: trainer.train()"
   ]
  },
  {
   "cell_type": "code",
   "execution_count": 41,
   "id": "6209b798-bdf6-4e91-9fd0-b9ba629c9e5b",
   "metadata": {},
   "outputs": [
    {
     "data": {
      "image/png": "[encoded data removed]",
      "text/plain": [
       "<Figure size 640x480 with 1 Axes>"
      ]
     },
     "metadata": {},
     "output_type": "display_data"
    }
   ],
   "source": [
    "curve.draw()"
   ]
  },
  {
   "cell_type": "markdown",
   "id": "90eb2e13-edfb-4b40-87d0-f8339cb47488",
   "metadata": {},
   "source": [
    "## Automated experiment"
   ]
  },
  {
   "cell_type": "code",
   "execution_count": 42,
   "id": "af76411d-a3b5-4814-a3de-a6fd4fc4dc87",
   "metadata": {},
   "outputs": [
    {
     "name": "stderr",
     "output_type": "stream",
     "text": [
      "WARNING:ml_lib.models.base_classes:Model SimpleMLPModel(\n",
      "    dimensions=[4, 5, 10, 4],\n",
      ") is not in the database, but has a name. Adding\n",
      "INFO:root:iteration= 0, loss= 20.86454963684082, \n",
      "INFO:root:iteration= 1, loss= 17.531768798828125, \n",
      "INFO:root:iteration= 2, loss= 21.108558654785156, \n",
      "INFO:root:iteration= 3, loss= 21.843704223632812, \n",
      "INFO:root:iteration= 4, loss= 19.397968292236328, \n",
      "INFO:root:iteration= 5, loss= 19.7528076171875, \n",
      "INFO:root:iteration= 6, loss= 20.518815994262695, \n",
      "INFO:root:iteration= 7, loss= 20.01615333557129, \n",
      "INFO:root:iteration= 8, loss= 20.402442932128906, \n",
      "INFO:root:iteration= 9, loss= 20.096450805664062, \n",
      "INFO:root:iteration= 10, loss= 21.28067970275879, \n",
      "INFO:root:iteration= 11, loss= 19.951658248901367, \n",
      "INFO:root:iteration= 12, loss= 18.59553337097168, \n",
      "INFO:root:iteration= 13, loss= 17.882429122924805, \n",
      "INFO:root:iteration= 14, loss= 18.400096893310547, \n",
      "INFO:root:iteration= 15, loss= 20.342416763305664, \n",
      "INFO:root:iteration= 16, loss= 17.916770935058594, \n",
      "INFO:root:iteration= 17, loss= 19.50455093383789, \n",
      "INFO:root:iteration= 18, loss= 17.957693099975586, \n",
      "INFO:root:iteration= 19, loss= 18.960704803466797, \n",
      "INFO:root:iteration= 20, loss= 19.271404266357422, \n",
      "INFO:root:iteration= 21, loss= 19.70508575439453, \n",
      "INFO:root:iteration= 22, loss= 16.7537841796875, \n",
      "INFO:root:iteration= 23, loss= 20.45224380493164, \n",
      "INFO:root:iteration= 24, loss= 19.270612716674805, \n",
      "INFO:root:iteration= 25, loss= 20.92266273498535, \n",
      "INFO:root:iteration= 26, loss= 20.031070709228516, \n",
      "INFO:root:iteration= 27, loss= 18.4970703125, \n",
      "INFO:root:iteration= 28, loss= 17.39996337890625, \n",
      "INFO:root:iteration= 29, loss= 19.82113265991211, \n",
      "INFO:root:iteration= 30, loss= 18.9488525390625, \n",
      "INFO:root:iteration= 31, loss= 17.294429779052734, \n",
      "INFO:root:iteration= 32, loss= 17.76589012145996, \n",
      "INFO:root:iteration= 33, loss= 18.141775131225586, \n",
      "INFO:root:iteration= 34, loss= 17.24326515197754, \n",
      "INFO:root:iteration= 35, loss= 18.45905303955078, \n",
      "INFO:root:iteration= 36, loss= 19.94449806213379, \n",
      "INFO:root:iteration= 37, loss= 17.48044204711914, \n",
      "INFO:root:iteration= 38, loss= 18.86847686767578, \n",
      "INFO:root:iteration= 39, loss= 19.177133560180664, \n",
      "INFO:root:iteration= 40, loss= 20.20940399169922, \n",
      "INFO:root:iteration= 41, loss= 17.817914962768555, \n",
      "INFO:root:iteration= 42, loss= 17.205965042114258, \n",
      "INFO:root:iteration= 43, loss= 18.726621627807617, \n",
      "INFO:root:iteration= 44, loss= 18.60791778564453, \n",
      "INFO:root:iteration= 45, loss= 16.960172653198242, \n",
      "INFO:root:iteration= 46, loss= 17.937326431274414, \n",
      "INFO:root:iteration= 47, loss= 16.894859313964844, \n",
      "INFO:root:iteration= 48, loss= 16.73836898803711, \n",
      "INFO:root:iteration= 49, loss= 16.552404403686523, \n",
      "INFO:root:iteration= 50, loss= 18.420948028564453, \n",
      "INFO:root:iteration= 51, loss= 17.922651290893555, \n",
      "INFO:root:iteration= 52, loss= 20.241924285888672, \n",
      "INFO:root:iteration= 53, loss= 17.114164352416992, \n",
      "INFO:root:iteration= 54, loss= 17.75519371032715, \n",
      "INFO:root:iteration= 55, loss= 18.178810119628906, \n",
      "INFO:root:iteration= 56, loss= 19.11492156982422, \n",
      "INFO:root:iteration= 57, loss= 17.780115127563477, \n",
      "INFO:root:iteration= 58, loss= 18.12889862060547, \n",
      "INFO:root:iteration= 59, loss= 17.781145095825195, \n",
      "INFO:root:iteration= 60, loss= 17.22934913635254, \n",
      "INFO:root:iteration= 61, loss= 16.717117309570312, \n",
      "INFO:root:iteration= 62, loss= 19.759519577026367, \n",
      "INFO:root:iteration= 63, loss= 17.67412757873535, \n",
      "INFO:root:iteration= 64, loss= 18.91221809387207, \n",
      "INFO:root:iteration= 65, loss= 17.672401428222656, \n",
      "INFO:root:iteration= 66, loss= 16.48110008239746, \n",
      "INFO:root:iteration= 67, loss= 18.070045471191406, \n",
      "INFO:root:iteration= 68, loss= 18.89615249633789, \n",
      "INFO:root:iteration= 69, loss= 15.88259506225586, \n",
      "INFO:root:iteration= 70, loss= 18.17633628845215, \n",
      "INFO:root:iteration= 71, loss= 16.87166404724121, \n",
      "INFO:root:iteration= 72, loss= 17.50507164001465, \n",
      "INFO:root:iteration= 73, loss= 16.16803741455078, \n",
      "INFO:root:iteration= 74, loss= 15.9282865524292, \n",
      "INFO:root:iteration= 75, loss= 16.03877830505371, \n",
      "INFO:root:iteration= 76, loss= 17.592880249023438, \n",
      "INFO:root:iteration= 77, loss= 17.479175567626953, \n",
      "INFO:root:iteration= 78, loss= 17.314985275268555, \n",
      "INFO:root:iteration= 79, loss= 16.590988159179688, \n",
      "INFO:root:iteration= 80, loss= 13.869832038879395, \n",
      "INFO:root:iteration= 81, loss= 15.699098587036133, \n",
      "INFO:root:iteration= 82, loss= 17.728960037231445, \n",
      "INFO:root:iteration= 83, loss= 16.45924186706543, \n",
      "INFO:root:iteration= 84, loss= 15.07883071899414, \n",
      "INFO:root:iteration= 85, loss= 18.044727325439453, \n",
      "INFO:root:iteration= 86, loss= 17.185131072998047, \n",
      "INFO:root:iteration= 87, loss= 18.06898307800293, \n",
      "INFO:root:iteration= 88, loss= 16.567461013793945, \n",
      "INFO:root:iteration= 89, loss= 15.329207420349121, \n",
      "INFO:root:iteration= 90, loss= 16.610485076904297, \n",
      "INFO:root:iteration= 91, loss= 15.949797630310059, \n",
      "INFO:root:iteration= 92, loss= 16.226926803588867, \n",
      "INFO:root:iteration= 93, loss= 17.013647079467773, \n",
      "INFO:root:iteration= 94, loss= 15.734675407409668, \n",
      "INFO:root:iteration= 95, loss= 17.02570915222168, \n",
      "INFO:root:iteration= 96, loss= 17.852258682250977, \n",
      "INFO:root:iteration= 97, loss= 17.065996170043945, \n",
      "INFO:root:iteration= 98, loss= 13.691431045532227, \n",
      "INFO:root:iteration= 99, loss= 15.932365417480469, \n",
      "/home/tris/Devoirs/research/implementations/tb_ml/ml_lib/models/base_classes.py:328: SAWarning: Object of type <Training_step> not in session, add operation along 'Training_run.steps' will not proceed (This warning originated from the Session 'autoflush' process, which was invoked automatically in response to a user-initiated operation.)\n",
      "  db_object = session.get(Database_Model, self.id)\n",
      "INFO:root:iteration= 100, loss= 16.875080108642578, \n",
      "INFO:root:iteration= 101, loss= 16.677949905395508, \n",
      "INFO:root:iteration= 102, loss= 12.661434173583984, \n",
      "INFO:root:iteration= 103, loss= 14.938131332397461, \n",
      "INFO:root:iteration= 104, loss= 15.316263198852539, \n",
      "INFO:root:iteration= 105, loss= 13.752504348754883, \n",
      "INFO:root:iteration= 106, loss= 12.976828575134277, \n",
      "INFO:root:iteration= 107, loss= 15.152000427246094, \n",
      "INFO:root:iteration= 108, loss= 16.887821197509766, \n",
      "INFO:root:iteration= 109, loss= 15.094236373901367, \n",
      "INFO:root:iteration= 110, loss= 14.577184677124023, \n",
      "INFO:root:iteration= 111, loss= 15.931390762329102, \n",
      "INFO:root:iteration= 112, loss= 13.914679527282715, \n",
      "INFO:root:iteration= 113, loss= 15.938912391662598, \n",
      "INFO:root:iteration= 114, loss= 14.768952369689941, \n",
      "INFO:root:iteration= 115, loss= 17.2928466796875, \n",
      "INFO:root:iteration= 116, loss= 16.606307983398438, \n",
      "INFO:root:iteration= 117, loss= 15.573330879211426, \n",
      "INFO:root:iteration= 118, loss= 14.449588775634766, \n",
      "INFO:root:iteration= 119, loss= 14.209450721740723, \n",
      "INFO:root:iteration= 120, loss= 13.540301322937012, \n",
      "INFO:root:iteration= 121, loss= 13.56600284576416, \n",
      "INFO:root:iteration= 122, loss= 15.883310317993164, \n",
      "INFO:root:iteration= 123, loss= 17.028217315673828, \n",
      "INFO:root:iteration= 124, loss= 15.571999549865723, \n",
      "INFO:root:iteration= 125, loss= 14.961532592773438, \n",
      "INFO:root:iteration= 126, loss= 15.665481567382812, \n",
      "INFO:root:iteration= 127, loss= 15.6405029296875, \n",
      "INFO:root:iteration= 128, loss= 15.258016586303711, \n",
      "INFO:root:iteration= 129, loss= 13.197649002075195, \n",
      "INFO:root:iteration= 130, loss= 14.521601676940918, \n",
      "INFO:root:iteration= 131, loss= 17.474285125732422, \n",
      "INFO:root:iteration= 132, loss= 14.271993637084961, \n",
      "INFO:root:iteration= 133, loss= 14.265575408935547, \n",
      "INFO:root:iteration= 134, loss= 15.405278205871582, \n",
      "INFO:root:iteration= 135, loss= 15.729453086853027, \n",
      "INFO:root:iteration= 136, loss= 12.042150497436523, \n",
      "INFO:root:iteration= 137, loss= 15.050028800964355, \n",
      "INFO:root:iteration= 138, loss= 16.650754928588867, \n",
      "INFO:root:iteration= 139, loss= 13.558249473571777, \n",
      "INFO:root:iteration= 140, loss= 15.355107307434082, \n",
      "INFO:root:iteration= 141, loss= 12.44418716430664, \n",
      "INFO:root:iteration= 142, loss= 13.340829849243164, \n",
      "INFO:root:iteration= 143, loss= 13.464378356933594, \n",
      "INFO:root:iteration= 144, loss= 13.241610527038574, \n",
      "INFO:root:iteration= 145, loss= 12.977038383483887, \n",
      "INFO:root:iteration= 146, loss= 15.069841384887695, \n",
      "INFO:root:iteration= 147, loss= 13.56521224975586, \n",
      "INFO:root:iteration= 148, loss= 14.052001953125, \n",
      "INFO:root:iteration= 149, loss= 11.586075782775879, \n",
      "INFO:root:iteration= 150, loss= 12.954828262329102, \n",
      "INFO:root:iteration= 151, loss= 13.241499900817871, \n",
      "INFO:root:iteration= 152, loss= 14.466141700744629, \n",
      "INFO:root:iteration= 153, loss= 14.700993537902832, \n",
      "INFO:root:iteration= 154, loss= 12.348389625549316, \n",
      "INFO:root:iteration= 155, loss= 15.573359489440918, \n",
      "INFO:root:iteration= 156, loss= 15.54580020904541, \n",
      "INFO:root:iteration= 157, loss= 14.658036231994629, \n",
      "INFO:root:iteration= 158, loss= 15.453198432922363, \n",
      "INFO:root:iteration= 159, loss= 14.024320602416992, \n",
      "INFO:root:iteration= 160, loss= 13.65010929107666, \n",
      "INFO:root:iteration= 161, loss= 12.856672286987305, \n",
      "INFO:root:iteration= 162, loss= 11.007843017578125, \n",
      "INFO:root:iteration= 163, loss= 14.875194549560547, \n",
      "INFO:root:iteration= 164, loss= 12.637162208557129, \n",
      "INFO:root:iteration= 165, loss= 15.895309448242188, \n",
      "INFO:root:iteration= 166, loss= 11.928936958312988, \n",
      "INFO:root:iteration= 167, loss= 14.591684341430664, \n",
      "INFO:root:iteration= 168, loss= 14.57128620147705, \n",
      "INFO:root:iteration= 169, loss= 13.780669212341309, \n",
      "INFO:root:iteration= 170, loss= 12.713667869567871, \n",
      "INFO:root:iteration= 171, loss= 11.827791213989258, \n",
      "INFO:root:iteration= 172, loss= 12.91787338256836, \n",
      "INFO:root:iteration= 173, loss= 13.949368476867676, \n",
      "INFO:root:iteration= 174, loss= 12.521976470947266, \n",
      "INFO:root:iteration= 175, loss= 12.433256149291992, \n",
      "INFO:root:iteration= 176, loss= 12.560140609741211, \n",
      "INFO:root:iteration= 177, loss= 13.360869407653809, \n",
      "INFO:root:iteration= 178, loss= 12.859930038452148, \n",
      "INFO:root:iteration= 179, loss= 12.2493314743042, \n",
      "INFO:root:iteration= 180, loss= 14.026538848876953, \n",
      "INFO:root:iteration= 181, loss= 10.429133415222168, \n",
      "INFO:root:iteration= 182, loss= 13.030255317687988, \n",
      "INFO:root:iteration= 183, loss= 14.19233226776123, \n",
      "INFO:root:iteration= 184, loss= 13.30345344543457, \n",
      "INFO:root:iteration= 185, loss= 11.309406280517578, \n",
      "INFO:root:iteration= 186, loss= 11.788640022277832, \n",
      "INFO:root:iteration= 187, loss= 11.910188674926758, \n",
      "INFO:root:iteration= 188, loss= 13.553115844726562, \n",
      "INFO:root:iteration= 189, loss= 13.654619216918945, \n",
      "INFO:root:iteration= 190, loss= 11.967166900634766, \n",
      "INFO:root:iteration= 191, loss= 11.718022346496582, \n",
      "INFO:root:iteration= 192, loss= 10.369667053222656, \n",
      "INFO:root:iteration= 193, loss= 11.804864883422852, \n",
      "INFO:root:iteration= 194, loss= 13.120461463928223, \n",
      "INFO:root:iteration= 195, loss= 12.185694694519043, \n",
      "INFO:root:iteration= 196, loss= 13.20362377166748, \n",
      "INFO:root:iteration= 197, loss= 12.529160499572754, \n",
      "INFO:root:iteration= 198, loss= 11.255054473876953, \n",
      "INFO:root:iteration= 199, loss= 11.598112106323242, \n"
     ]
    }
   ],
   "source": [
    "from ml_lib.pipeline.experiment import Experiment\n",
    "with Session(db_engine) as db_session:\n",
    "    #import pdb;pdb.set_trace()\n",
    "    exp = Experiment.from_yaml(\"workdir/test_config.yaml\", database_session=db_session)\n",
    "    exp.train_all()"
   ]
  },
  {
   "cell_type": "code",
   "execution_count": 43,
   "id": "283f6af1-16e6-44db-86fa-606d8389155d",
   "metadata": {
    "scrolled": true
   },
   "outputs": [],
   "source": [
    "with Session(db_engine) as db_session:\n",
    "    #import pdb;pdb.set_trace()\n",
    "    exp = Experiment.from_yaml(\"workdir/test_config.yaml\", database_session=db_session)\n",
    "    exp.train_all()"
   ]
  },
  {
   "cell_type": "code",
   "execution_count": null,
   "id": "192eee10-c02d-41fd-b6ec-332f8e0dee92",
   "metadata": {},
   "outputs": [],
   "source": []
  }
 ],
 "metadata": {
  "kernelspec": {
   "display_name": "Python 3 (ipykernel)",
   "language": "python",
   "name": "python3"
  },
  "language_info": {
   "codemirror_mode": {
    "name": "ipython",
    "version": 3
   },
   "file_extension": ".py",
   "mimetype": "text/x-python",
   "name": "python",
   "nbconvert_exporter": "python",
   "pygments_lexer": "ipython3",
   "version": "3.11.8"
  }
 },
 "nbformat": 4,
 "nbformat_minor": 5
}
