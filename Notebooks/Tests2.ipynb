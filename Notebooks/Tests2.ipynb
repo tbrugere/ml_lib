{
 "cells": [
  {
   "cell_type": "markdown",
   "id": "988b919e-7daf-4162-8c84-b2890ab82cac",
   "metadata": {},
   "source": [
    "# Tests"
   ]
  },
  {
   "cell_type": "markdown",
   "id": "afb7059d-3b1c-4363-9735-2629bf454125",
   "metadata": {},
   "source": [
    "## Imports and stuff"
   ]
  },
  {
   "cell_type": "code",
   "execution_count": 1,
   "id": "a756cc65-6c1e-472b-9b9c-0abdf60a1b6c",
   "metadata": {
    "tags": []
   },
   "outputs": [],
   "source": [
    "import sys\n",
    "from copy import copy\n",
    "\n",
    "def append_path(s):\n",
    "    if s in sys.path:\n",
    "        return\n",
    "    sys.path.append(s)\n",
    "\n",
    "append_path(\"..\")\n",
    "#%load_ext autoreload\n",
    "#%autoreload 2"
   ]
  },
  {
   "cell_type": "code",
   "execution_count": 2,
   "id": "d469e6ee-0505-4851-8bf6-4d31ab8ae3ea",
   "metadata": {},
   "outputs": [],
   "source": [
    "import numpy as np\n",
    "from numpy.random import default_rng\n",
    "rng = default_rng()\n",
    "import matplotlib.pyplot as plt\n",
    "import matplotlib.ticker as ticker\n",
    "import networkx as nx\n",
    "import torch\n",
    "from torch import Tensor\n"
   ]
  },
  {
   "cell_type": "code",
   "execution_count": 3,
   "id": "3475ed6e-5d9e-47ae-911d-41caed2a7cf6",
   "metadata": {},
   "outputs": [],
   "source": [
    "import ml_lib\n",
    "from ml_lib import feature_specification"
   ]
  },
  {
   "cell_type": "code",
   "execution_count": 4,
   "id": "db05ef3f-c414-4209-b84f-5904d0e525f0",
   "metadata": {},
   "outputs": [
    {
     "name": "stdout",
     "output_type": "stream",
     "text": [
      "base_classes.py  feature_specification.py  registration.py\n",
      "datapoint.py     __init__.py               splitting.py\n",
      "\u001b[0m\u001b[01;34mdatasets\u001b[0m/        \u001b[01;34m__pycache__\u001b[0m/              transforms.py\n"
     ]
    }
   ],
   "source": [
    "ls ../ml_lib/datasets"
   ]
  },
  {
   "cell_type": "markdown",
   "id": "49ca92f8-b5c4-480b-9f7b-a7d2b47eda17",
   "metadata": {
    "tags": []
   },
   "source": [
    "## Datasets"
   ]
  },
  {
   "cell_type": "code",
   "execution_count": 5,
   "id": "bcb59e0b-d47d-4fa3-bd5c-12cbc7112498",
   "metadata": {},
   "outputs": [],
   "source": [
    "from ml_lib.datasets import register as dataset_register, transform_register, load_transform, load_dataset, Transform\n",
    "from ml_lib.datasets.transforms import MultipleFunctionTransform"
   ]
  },
  {
   "cell_type": "code",
   "execution_count": 6,
   "id": "26cea4fc-9e73-46e6-acca-48b50bd4e55e",
   "metadata": {},
   "outputs": [],
   "source": [
    "dataset0 = dataset_register[\"Torus4D\"](1000)"
   ]
  },
  {
   "cell_type": "code",
   "execution_count": 7,
   "id": "fd359c44-3417-4b76-9570-202447d781bd",
   "metadata": {},
   "outputs": [],
   "source": [
    "transform = transform_register[\"CacheTransform\"]() \n",
    "dataset1 = transform(dataset0)"
   ]
  },
  {
   "cell_type": "code",
   "execution_count": 8,
   "id": "a804da77-671a-4da2-ab15-5f1cebdc5eb7",
   "metadata": {},
   "outputs": [
    {
     "data": {
      "text/plain": [
       "<ml_lib.datasets.datasets.simple_shapes.Torus4D at 0x7bc815b12690>"
      ]
     },
     "execution_count": 8,
     "metadata": {},
     "output_type": "execute_result"
    }
   ],
   "source": [
    "dataset1._inner"
   ]
  },
  {
   "cell_type": "code",
   "execution_count": 9,
   "id": "5809ff0a-da88-45af-9913-7014b4a0a51f",
   "metadata": {},
   "outputs": [
    {
     "data": {
      "text/plain": [
       "tensor([[ 0.4502, -0.8844, -0.7997, -0.5998]])"
      ]
     },
     "execution_count": 9,
     "metadata": {},
     "output_type": "execute_result"
    }
   ],
   "source": [
    "dataset1[0]"
   ]
  },
  {
   "cell_type": "code",
   "execution_count": 10,
   "id": "82f44708-e279-4422-b00d-3d40eb912abb",
   "metadata": {},
   "outputs": [
    {
     "data": {
      "text/plain": [
       "<ml_lib.datasets.datapoint.DictDatapoint at 0x7bc816f8ef50>"
      ]
     },
     "execution_count": 10,
     "metadata": {},
     "output_type": "execute_result"
    }
   ],
   "source": [
    "dataset2 = transform_register[\"RenameTransform\"]({\"x\": \"_\"})(dataset1)\n",
    "dataset2[0]"
   ]
  },
  {
   "cell_type": "code",
   "execution_count": 11,
   "id": "ca39be83-6328-452f-9dd7-822e9474eeb1",
   "metadata": {},
   "outputs": [
    {
     "data": {
      "text/plain": [
       "<ml_lib.datasets.datapoint.DictDatapoint at 0x7bc815234310>"
      ]
     },
     "execution_count": 11,
     "metadata": {},
     "output_type": "execute_result"
    }
   ],
   "source": [
    "dataset3 = transform_register[\"RenameTransform\"]({\"x\": \"x\", \"y\":\"x\"})(dataset2)\n",
    "dataset3[0]"
   ]
  },
  {
   "cell_type": "code",
   "execution_count": 12,
   "id": "cebea6a4-4148-4d14-84b9-1a4fcd0410e1",
   "metadata": {},
   "outputs": [
    {
     "data": {
      "text/plain": [
       "<ml_lib.datasets.datapoint.DictDatapoint at 0x7bc8162e5510>"
      ]
     },
     "execution_count": 12,
     "metadata": {},
     "output_type": "execute_result"
    }
   ],
   "source": [
    "normalize = lambda x : x / x.norm()\n",
    "dataset4 = transform_register[\"MultipleFunctionTransform\"]({\"x\": (normalize, \"x\"), \"gt\": (lambda x:x, \"y\")})(dataset3)\n",
    "dataset4[0]"
   ]
  },
  {
   "cell_type": "code",
   "execution_count": 13,
   "id": "aa9d7e06-917d-4afd-bd3c-b6f96c0e778d",
   "metadata": {},
   "outputs": [],
   "source": [
    "@transform_register\n",
    "class TestTransform(MultipleFunctionTransform):\n",
    "\n",
    "    def __init__(self):\n",
    "        super().__init__({\"x\": (normalize, \"x\"), \"gt\": (lambda x:x, \"y\")})"
   ]
  },
  {
   "cell_type": "markdown",
   "id": "c76780b0-47c8-4bd9-8d4a-0df334837b6b",
   "metadata": {},
   "source": [
    "great!"
   ]
  },
  {
   "cell_type": "markdown",
   "id": "b232574c-5703-4688-b0f7-99be279c79c1",
   "metadata": {
    "jp-MarkdownHeadingCollapsed": true,
    "tags": []
   },
   "source": [
    "## Environments"
   ]
  },
  {
   "cell_type": "code",
   "execution_count": 14,
   "id": "8faa0bac-090c-4c70-bca8-7795002026bc",
   "metadata": {},
   "outputs": [],
   "source": [
    "from ml_lib.environment import Environment, Scope, scopevar_of_str, str_of_scopevar, HierarchicEnvironment, ScopedEnvironment"
   ]
  },
  {
   "cell_type": "code",
   "execution_count": 15,
   "id": "e4ad9cd4-aeab-4aac-8da7-f32ea22ed838",
   "metadata": {},
   "outputs": [
    {
     "data": {
      "text/plain": [
       "(('a', 'b'), 'c')"
      ]
     },
     "execution_count": 15,
     "metadata": {},
     "output_type": "execute_result"
    }
   ],
   "source": [
    "scopevar_of_str(\"a/b/c\")"
   ]
  },
  {
   "cell_type": "code",
   "execution_count": 16,
   "id": "72282cd4-17dd-4d57-b74c-40aea0b48080",
   "metadata": {},
   "outputs": [
    {
     "data": {
      "text/plain": [
       "'a/b/c'"
      ]
     },
     "execution_count": 16,
     "metadata": {},
     "output_type": "execute_result"
    }
   ],
   "source": [
    "str_of_scopevar(('a', 'b'), 'c')"
   ]
  },
  {
   "cell_type": "code",
   "execution_count": 17,
   "id": "c7efde3a-5b69-4ada-8e75-0451b4859ddc",
   "metadata": {},
   "outputs": [],
   "source": [
    "env = Environment()"
   ]
  },
  {
   "cell_type": "code",
   "execution_count": 18,
   "id": "3681ab99-19b5-48d3-ba87-dfa8da55c7bb",
   "metadata": {},
   "outputs": [
    {
     "data": {
      "text/plain": [
       "Environment(defaultdict(<class 'dict'>, {'_ipython_canary_method_should_not_exist_': {}, '_ipython_display_': {}, '_repr_mimebundle_': {}}))"
      ]
     },
     "execution_count": 18,
     "metadata": {},
     "output_type": "execute_result"
    }
   ],
   "source": [
    "env"
   ]
  },
  {
   "cell_type": "code",
   "execution_count": 19,
   "id": "4635378d-473f-43d9-a973-96e78a63e940",
   "metadata": {},
   "outputs": [],
   "source": [
    "env.record(\"hello\", 1)"
   ]
  },
  {
   "cell_type": "code",
   "execution_count": 20,
   "id": "ffb94b27-d9d0-43fb-bfc8-3f368f77bc8e",
   "metadata": {},
   "outputs": [
    {
     "data": {
      "text/plain": [
       "defaultdict(dict,\n",
       "            {'_ipython_canary_method_should_not_exist_': {},\n",
       "             '_ipython_display_': {},\n",
       "             '_repr_mimebundle_': {},\n",
       "             '_repr_html_': {},\n",
       "             '_repr_markdown_': {},\n",
       "             '_repr_svg_': {},\n",
       "             '_repr_png_': {},\n",
       "             '_repr_pdf_': {},\n",
       "             '_repr_jpeg_': {},\n",
       "             '_repr_latex_': {},\n",
       "             '_repr_json_': {},\n",
       "             '_repr_javascript_': {},\n",
       "             'hello': {(): 1}})"
      ]
     },
     "execution_count": 20,
     "metadata": {},
     "output_type": "execute_result"
    }
   ],
   "source": [
    "env.data"
   ]
  },
  {
   "cell_type": "code",
   "execution_count": 21,
   "id": "d4890ff8-761a-4e6e-8a73-42b2ac812808",
   "metadata": {},
   "outputs": [
    {
     "data": {
      "text/plain": [
       "defaultdict(dict,\n",
       "            {'_ipython_canary_method_should_not_exist_': {},\n",
       "             '_ipython_display_': {},\n",
       "             '_repr_mimebundle_': {},\n",
       "             '_repr_html_': {},\n",
       "             '_repr_markdown_': {},\n",
       "             '_repr_svg_': {},\n",
       "             '_repr_png_': {},\n",
       "             '_repr_pdf_': {},\n",
       "             '_repr_jpeg_': {},\n",
       "             '_repr_latex_': {},\n",
       "             '_repr_json_': {},\n",
       "             '_repr_javascript_': {},\n",
       "             'hello': {(): 1},\n",
       "             'world': {('some', 'scope'): 4}})"
      ]
     },
     "execution_count": 21,
     "metadata": {},
     "output_type": "execute_result"
    }
   ],
   "source": [
    "env.record(\"world\", 4, (\"some\", \"scope\"))\n",
    "env.data"
   ]
  },
  {
   "cell_type": "code",
   "execution_count": 22,
   "id": "bb3196cd-ec71-43c7-9159-bd7971cb0cc4",
   "metadata": {},
   "outputs": [
    {
     "data": {
      "text/plain": [
       "1"
      ]
     },
     "execution_count": 22,
     "metadata": {},
     "output_type": "execute_result"
    }
   ],
   "source": [
    "env.get(\"hello\")"
   ]
  },
  {
   "cell_type": "code",
   "execution_count": 23,
   "id": "91ea9683-7071-4554-8dac-cac7ffdbc478",
   "metadata": {},
   "outputs": [
    {
     "data": {
      "text/plain": [
       "4"
      ]
     },
     "execution_count": 23,
     "metadata": {},
     "output_type": "execute_result"
    }
   ],
   "source": [
    "env.get(\"world\")"
   ]
  },
  {
   "cell_type": "code",
   "execution_count": 24,
   "id": "454ff54f-0487-4382-a546-6ee4638ce9ef",
   "metadata": {},
   "outputs": [
    {
     "data": {
      "text/plain": [
       "4"
      ]
     },
     "execution_count": 24,
     "metadata": {},
     "output_type": "execute_result"
    }
   ],
   "source": [
    "#import pdb; pdb.set_trace()\n",
    "env.get(\"world\", scope=(\"some\",))"
   ]
  },
  {
   "cell_type": "code",
   "execution_count": 25,
   "id": "0bd673e8-3f56-469f-8ba8-d90228dd7f6e",
   "metadata": {},
   "outputs": [],
   "source": [
    "env.get(\"world\", scope=(\"soe\",))"
   ]
  },
  {
   "cell_type": "code",
   "execution_count": 26,
   "id": "40273039-d3d5-4111-97af-52e789c81a39",
   "metadata": {},
   "outputs": [],
   "source": [
    "hier_env = HierarchicEnvironment(parent=env)"
   ]
  },
  {
   "cell_type": "code",
   "execution_count": 27,
   "id": "92697ea6-3316-4186-bec0-23dcd8b2d0c5",
   "metadata": {},
   "outputs": [
    {
     "data": {
      "text/plain": [
       "2"
      ]
     },
     "execution_count": 27,
     "metadata": {},
     "output_type": "execute_result"
    }
   ],
   "source": [
    "hier_env.record(\"world\", 2, (\"some\",))\n",
    "hier_env.get(\"world\", scope=(\"some\",))\n"
   ]
  },
  {
   "cell_type": "code",
   "execution_count": 28,
   "id": "88d07bb9-a701-431e-91d7-b228555ffc6a",
   "metadata": {},
   "outputs": [
    {
     "data": {
      "text/plain": [
       "4"
      ]
     },
     "execution_count": 28,
     "metadata": {},
     "output_type": "execute_result"
    }
   ],
   "source": [
    "hier_env.get(\"world\", scope=(\"some\",\"scope\"))\n"
   ]
  },
  {
   "cell_type": "code",
   "execution_count": 29,
   "id": "e3a7bd05-bf0d-44ce-90d1-2abf36fddfed",
   "metadata": {},
   "outputs": [],
   "source": [
    "def f(world, hello=6, magic=3):\n",
    "    print(world, hello, magic)\n",
    "    return 1"
   ]
  },
  {
   "cell_type": "code",
   "execution_count": 30,
   "id": "598d5a9a-9a64-4145-bd7c-11a5e73f9925",
   "metadata": {},
   "outputs": [
    {
     "name": "stdout",
     "output_type": "stream",
     "text": [
      "2 1 3\n"
     ]
    },
    {
     "data": {
      "text/plain": [
       "1"
      ]
     },
     "execution_count": 30,
     "metadata": {},
     "output_type": "execute_result"
    }
   ],
   "source": [
    "hier_env.run_function(f)"
   ]
  },
  {
   "cell_type": "markdown",
   "id": "56f84cb9-c0f8-4753-890b-5eacf56006e1",
   "metadata": {},
   "source": [
    "## Model"
   ]
  },
  {
   "cell_type": "code",
   "execution_count": 31,
   "id": "156fd1eb-8486-4608-85d7-36f8e6657adf",
   "metadata": {},
   "outputs": [
    {
     "data": {
      "text/plain": [
       "FeatureSpecification(MSEFeature(name='location', dim=4, loss_coef=1.0))"
      ]
     },
     "execution_count": 31,
     "metadata": {},
     "output_type": "execute_result"
    }
   ],
   "source": [
    "from ml_lib.datasets.feature_specification import FeatureSpecification, MSEFeature\n",
    "\n",
    "feature_spec = FeatureSpecification([MSEFeature(\"location\", 4)])\n",
    "assert feature_spec == feature_spec.from_config(feature_spec.to_config())\n",
    "feature_spec"
   ]
  },
  {
   "cell_type": "code",
   "execution_count": 33,
   "id": "dfc31937-5b0f-48ad-b705-e8977efda7b6",
   "metadata": {},
   "outputs": [
    {
     "ename": "TypeError",
     "evalue": "isinstance() arg 2 must be a type, a tuple of types, or a union",
     "output_type": "error",
     "traceback": [
      "\u001b[0;31m---------------------------------------------------------------------------\u001b[0m",
      "\u001b[0;31mTypeError\u001b[0m                                 Traceback (most recent call last)",
      "Cell \u001b[0;32mIn[33], line 24\u001b[0m\n\u001b[1;32m     20\u001b[0m         \u001b[38;5;28;01mreturn\u001b[39;00m \u001b[38;5;28mself\u001b[39m\u001b[38;5;241m.\u001b[39mfeature_specification\u001b[38;5;241m.\u001b[39mcompute_loss(x, gt, reduce\u001b[38;5;241m=\u001b[39m\u001b[38;5;28;01mTrue\u001b[39;00m)\n\u001b[1;32m     21\u001b[0m         \u001b[38;5;66;03m#return (x - gt).square().sum()\u001b[39;00m\n\u001b[0;32m---> 24\u001b[0m model \u001b[38;5;241m=\u001b[39m \u001b[43mSimpleMLPModel\u001b[49m\u001b[43m(\u001b[49m\u001b[43mdimensions\u001b[49m\u001b[38;5;241;43m=\u001b[39;49m\u001b[43m[\u001b[49m\u001b[38;5;241;43m5\u001b[39;49m\u001b[43m,\u001b[49m\u001b[43m \u001b[49m\u001b[38;5;241;43m10\u001b[39;49m\u001b[43m,\u001b[49m\u001b[43m \u001b[49m\u001b[38;5;241;43m4\u001b[39;49m\u001b[43m,\u001b[49m\u001b[43m \u001b[49m\u001b[38;5;241;43m4\u001b[39;49m\u001b[43m]\u001b[49m\u001b[43m,\u001b[49m\n\u001b[1;32m     25\u001b[0m \u001b[43m                       \u001b[49m\u001b[43mfeature_specification\u001b[49m\u001b[38;5;241;43m=\u001b[39;49m\u001b[43mfeature_spec\u001b[49m\u001b[43m,\u001b[49m\u001b[43m \u001b[49m\n\u001b[1;32m     26\u001b[0m \u001b[43m                       \u001b[49m\u001b[43mname\u001b[49m\u001b[38;5;241;43m=\u001b[39;49m\u001b[38;5;124;43m\"\u001b[39;49m\u001b[38;5;124;43mtest_model\u001b[39;49m\u001b[38;5;124;43m\"\u001b[39;49m\u001b[43m)\u001b[49m\n\u001b[1;32m     27\u001b[0m \u001b[38;5;28mprint\u001b[39m(model)\n\u001b[1;32m     28\u001b[0m \u001b[38;5;28mprint\u001b[39m(torch\u001b[38;5;241m.\u001b[39mnn\u001b[38;5;241m.\u001b[39mModule\u001b[38;5;241m.\u001b[39m\u001b[38;5;21m__repr__\u001b[39m(model))\n",
      "File \u001b[0;32m~/Devoirs/research/implementations/tb_ml/ml_lib/models/base_classes.py:157\u001b[0m, in \u001b[0;36mModel.__init__\u001b[0;34m(self, name, eventual_additional_hyperparameters, **hyperparameters)\u001b[0m\n\u001b[1;32m    155\u001b[0m     eventual_additional_hyperparameters \u001b[38;5;241m=\u001b[39m {}\n\u001b[1;32m    156\u001b[0m hyperparameters \u001b[38;5;241m=\u001b[39m \u001b[38;5;28mself\u001b[39m\u001b[38;5;241m.\u001b[39mfill_with_defaults(hyperparameters, eventual_additional_hyperparameters)\n\u001b[0;32m--> 157\u001b[0m \u001b[38;5;28;43mself\u001b[39;49m\u001b[38;5;241;43m.\u001b[39;49m\u001b[43mset_hyperparameters\u001b[49m\u001b[43m(\u001b[49m\u001b[38;5;241;43m*\u001b[39;49m\u001b[38;5;241;43m*\u001b[39;49m\u001b[43mhyperparameters\u001b[49m\u001b[43m,\u001b[49m\u001b[43m \u001b[49m\u001b[43m)\u001b[49m\n\u001b[1;32m    158\u001b[0m \u001b[38;5;28mself\u001b[39m\u001b[38;5;241m.\u001b[39m__setup__()\n",
      "File \u001b[0;32m~/Devoirs/research/implementations/tb_ml/ml_lib/models/base_classes.py:61\u001b[0m, in \u001b[0;36mModelMeta.use_model_context.<locals>.wrapped\u001b[0;34m(self, *args, **kwargs)\u001b[0m\n\u001b[1;32m     59\u001b[0m ModelMeta\u001b[38;5;241m.\u001b[39mcheck_argument_devices(args, kwargs, model\u001b[38;5;241m=\u001b[39m\u001b[38;5;28mself\u001b[39m, function\u001b[38;5;241m=\u001b[39mf)\n\u001b[1;32m     60\u001b[0m \u001b[38;5;28;01mwith\u001b[39;00m device:\n\u001b[0;32m---> 61\u001b[0m     \u001b[38;5;28;01mreturn\u001b[39;00m \u001b[43mf\u001b[49m\u001b[43m(\u001b[49m\u001b[38;5;28;43mself\u001b[39;49m\u001b[43m,\u001b[49m\u001b[43m \u001b[49m\u001b[38;5;241;43m*\u001b[39;49m\u001b[43margs\u001b[49m\u001b[43m,\u001b[49m\u001b[43m \u001b[49m\u001b[38;5;241;43m*\u001b[39;49m\u001b[38;5;241;43m*\u001b[39;49m\u001b[43mkwargs\u001b[49m\u001b[43m)\u001b[49m\n",
      "File \u001b[0;32m~/Devoirs/research/implementations/tb_ml/ml_lib/models/base_classes.py:309\u001b[0m, in \u001b[0;36mModel.set_hyperparameters\u001b[0;34m(self, allow_missing, deserialize, **hyperparameters)\u001b[0m\n\u001b[1;32m    304\u001b[0m         \u001b[38;5;28;01mraise\u001b[39;00m \u001b[38;5;167;01mValueError\u001b[39;00m(\u001b[38;5;124mf\u001b[39m\u001b[38;5;124m\"\u001b[39m\u001b[38;5;124mWrong hyperparameters for \u001b[39m\u001b[38;5;132;01m{\u001b[39;00mmodel_name\u001b[38;5;132;01m}\u001b[39;00m\u001b[38;5;124m: \u001b[39m\u001b[38;5;130;01m\\n\u001b[39;00m\u001b[38;5;124m\"\u001b[39m\n\u001b[1;32m    305\u001b[0m                          \u001b[38;5;124mf\u001b[39m\u001b[38;5;124m\"\u001b[39m\u001b[38;5;124mexpected: \u001b[39m\u001b[38;5;132;01m{\u001b[39;00mrequired\u001b[38;5;132;01m}\u001b[39;00m\u001b[38;5;130;01m\\n\u001b[39;00m\u001b[38;5;124m\"\u001b[39m\n\u001b[1;32m    306\u001b[0m                          \u001b[38;5;124mf\u001b[39m\u001b[38;5;124m\"\u001b[39m\u001b[38;5;124mprovided (including defaults and inferred: \u001b[39m\u001b[38;5;132;01m{\u001b[39;00mprovided\u001b[38;5;132;01m}\u001b[39;00m\u001b[38;5;124m)\u001b[39m\u001b[38;5;124m\"\u001b[39m                                 )\n\u001b[1;32m    308\u001b[0m \u001b[38;5;28;01mfor\u001b[39;00m attr_name, value \u001b[38;5;129;01min\u001b[39;00m hyperparameters\u001b[38;5;241m.\u001b[39mitems():\n\u001b[0;32m--> 309\u001b[0m     \u001b[38;5;28;43mself\u001b[39;49m\u001b[38;5;241;43m.\u001b[39;49m\u001b[43mset_hyperparameter\u001b[49m\u001b[43m(\u001b[49m\u001b[43mattr_name\u001b[49m\u001b[43m,\u001b[49m\u001b[43m \u001b[49m\u001b[43mvalue\u001b[49m\u001b[43m,\u001b[49m\u001b[43m \u001b[49m\u001b[43mdeserialize\u001b[49m\u001b[38;5;241;43m=\u001b[39;49m\u001b[43mdeserialize\u001b[49m\u001b[43m,\u001b[49m\u001b[43m \u001b[49m\n\u001b[1;32m    310\u001b[0m \u001b[43m                            \u001b[49m\u001b[43mhyperparameters\u001b[49m\u001b[38;5;241;43m=\u001b[39;49m\u001b[43mall_hyperparameters_with_types\u001b[49m\u001b[43m)\u001b[49m\n",
      "File \u001b[0;32m~/Devoirs/research/implementations/tb_ml/ml_lib/models/base_classes.py:61\u001b[0m, in \u001b[0;36mModelMeta.use_model_context.<locals>.wrapped\u001b[0;34m(self, *args, **kwargs)\u001b[0m\n\u001b[1;32m     59\u001b[0m ModelMeta\u001b[38;5;241m.\u001b[39mcheck_argument_devices(args, kwargs, model\u001b[38;5;241m=\u001b[39m\u001b[38;5;28mself\u001b[39m, function\u001b[38;5;241m=\u001b[39mf)\n\u001b[1;32m     60\u001b[0m \u001b[38;5;28;01mwith\u001b[39;00m device:\n\u001b[0;32m---> 61\u001b[0m     \u001b[38;5;28;01mreturn\u001b[39;00m \u001b[43mf\u001b[49m\u001b[43m(\u001b[49m\u001b[38;5;28;43mself\u001b[39;49m\u001b[43m,\u001b[49m\u001b[43m \u001b[49m\u001b[38;5;241;43m*\u001b[39;49m\u001b[43margs\u001b[49m\u001b[43m,\u001b[49m\u001b[43m \u001b[49m\u001b[38;5;241;43m*\u001b[39;49m\u001b[38;5;241;43m*\u001b[39;49m\u001b[43mkwargs\u001b[49m\u001b[43m)\u001b[49m\n",
      "File \u001b[0;32m~/Devoirs/research/implementations/tb_ml/ml_lib/models/base_classes.py:319\u001b[0m, in \u001b[0;36mModel.set_hyperparameter\u001b[0;34m(self, attr_name, value, deserialize, hyperparameters)\u001b[0m\n\u001b[1;32m    316\u001b[0m     hyperparameters \u001b[38;5;241m=\u001b[39m \u001b[38;5;28mdict\u001b[39m(\u001b[38;5;28mself\u001b[39m\u001b[38;5;241m.\u001b[39mlist_hyperparameters(return_types\u001b[38;5;241m=\u001b[39m\u001b[38;5;28;01mTrue\u001b[39;00m))\n\u001b[1;32m    318\u001b[0m parameter_type \u001b[38;5;241m=\u001b[39m hyperparameters[attr_name]\n\u001b[0;32m--> 319\u001b[0m \u001b[38;5;28;01mif\u001b[39;00m \u001b[38;5;129;01mnot\u001b[39;00m \u001b[43madvanced_type_check\u001b[49m\u001b[43m(\u001b[49m\u001b[43mvalue\u001b[49m\u001b[43m,\u001b[49m\u001b[43m \u001b[49m\u001b[43mparameter_type\u001b[49m\u001b[43m)\u001b[49m:\n\u001b[1;32m    320\u001b[0m     \u001b[38;5;28;01mtry\u001b[39;00m:\n\u001b[1;32m    321\u001b[0m         should_deserialize \u001b[38;5;241m=\u001b[39m deserialize \u001b[38;5;129;01mand\u001b[39;00m \u001b[38;5;28missubclass\u001b[39m(get_type_origin(parameter_type), LoadableMixin) \u001b[38;5;129;01mand\u001b[39;00m \u001b[38;5;28misinstance\u001b[39m(value, \u001b[38;5;28mdict\u001b[39m)\n",
      "File \u001b[0;32m~/Devoirs/research/implementations/tb_ml/ml_lib/misc/typing.py:34\u001b[0m, in \u001b[0;36madvanced_type_check\u001b[0;34m(value, t)\u001b[0m\n\u001b[1;32m     32\u001b[0m \u001b[38;5;28;01mif\u001b[39;00m origin \u001b[38;5;241m==\u001b[39m typing\u001b[38;5;241m.\u001b[39mAnnotated:\n\u001b[1;32m     33\u001b[0m     new_t, \u001b[38;5;241m*\u001b[39m_ \u001b[38;5;241m=\u001b[39m typing\u001b[38;5;241m.\u001b[39mget_args(t)\n\u001b[0;32m---> 34\u001b[0m     \u001b[38;5;28;01mreturn\u001b[39;00m \u001b[43madvanced_type_check\u001b[49m\u001b[43m(\u001b[49m\u001b[43mvalue\u001b[49m\u001b[43m,\u001b[49m\u001b[43m \u001b[49m\u001b[43mnew_t\u001b[49m\u001b[43m)\u001b[49m\n\u001b[1;32m     35\u001b[0m \u001b[38;5;28;01mif\u001b[39;00m origin \u001b[38;5;241m==\u001b[39m Literal:\n\u001b[1;32m     36\u001b[0m     args \u001b[38;5;241m=\u001b[39m typing\u001b[38;5;241m.\u001b[39mget_args(t)\n",
      "File \u001b[0;32m~/Devoirs/research/implementations/tb_ml/ml_lib/misc/typing.py:38\u001b[0m, in \u001b[0;36madvanced_type_check\u001b[0;34m(value, t)\u001b[0m\n\u001b[1;32m     36\u001b[0m     args \u001b[38;5;241m=\u001b[39m typing\u001b[38;5;241m.\u001b[39mget_args(t)\n\u001b[1;32m     37\u001b[0m     \u001b[38;5;28;01mreturn\u001b[39;00m value \u001b[38;5;129;01min\u001b[39;00m args\n\u001b[0;32m---> 38\u001b[0m \u001b[38;5;28;01mreturn\u001b[39;00m \u001b[38;5;28misinstance\u001b[39m(value, origin)\n",
      "\u001b[0;31mTypeError\u001b[0m: isinstance() arg 2 must be a type, a tuple of types, or a union"
     ]
    }
   ],
   "source": [
    "from ml_lib.models import Model, Supervised, Hyperparameter, register as model_register\n",
    "from ml_lib.models.layers import MLP\n",
    "\n",
    "@model_register\n",
    "class SimpleMLPModel(Supervised):\n",
    "    \n",
    "    dimensions: Hyperparameter[list[int]]\n",
    "    feature_specification: Hyperparameter[FeatureSpecification]\n",
    "    \n",
    "\n",
    "    inner: MLP\n",
    "\n",
    "    def __setup__(self):\n",
    "        self.inner = MLP(self.feature_specification.dim, *self.dimensions, batchnorm=False)\n",
    "\n",
    "    def forward(self, x):\n",
    "        return self.inner(x)\n",
    "\n",
    "    def loss_fun(self, x, gt):\n",
    "        return self.feature_specification.compute_loss(x, gt, reduce=True)\n",
    "        #return (x - gt).square().sum()\n",
    "        \n",
    "\n",
    "model = SimpleMLPModel(dimensions=[5, 10, 4, 4],\n",
    "                       feature_specification=feature_spec, \n",
    "                       name=\"test_model\")\n",
    "print(model)\n",
    "print(torch.nn.Module.__repr__(model))\n",
    "model.model_name"
   ]
  },
  {
   "cell_type": "code",
   "execution_count": null,
   "id": "807a11c0-5c35-414f-a0d6-2091089e074f",
   "metadata": {},
   "outputs": [
    {
     "name": "stdout",
     "output_type": "stream",
     "text": [
      "> \u001b[0;32m/home/tris/Devoirs/research/implementations/tb_ml/ml_lib/misc/typing.py\u001b[0m(38)\u001b[0;36madvanced_type_check\u001b[0;34m()\u001b[0m\n",
      "\u001b[0;32m     34 \u001b[0;31m        \u001b[0;32mreturn\u001b[0m \u001b[0madvanced_type_check\u001b[0m\u001b[0;34m(\u001b[0m\u001b[0mvalue\u001b[0m\u001b[0;34m,\u001b[0m \u001b[0mnew_t\u001b[0m\u001b[0;34m)\u001b[0m\u001b[0;34m\u001b[0m\u001b[0;34m\u001b[0m\u001b[0m\n",
      "\u001b[0m\u001b[0;32m     35 \u001b[0;31m    \u001b[0;32mif\u001b[0m \u001b[0morigin\u001b[0m \u001b[0;34m==\u001b[0m \u001b[0mLiteral\u001b[0m\u001b[0;34m:\u001b[0m\u001b[0;34m\u001b[0m\u001b[0;34m\u001b[0m\u001b[0m\n",
      "\u001b[0m\u001b[0;32m     36 \u001b[0;31m        \u001b[0margs\u001b[0m \u001b[0;34m=\u001b[0m \u001b[0mtyping\u001b[0m\u001b[0;34m.\u001b[0m\u001b[0mget_args\u001b[0m\u001b[0;34m(\u001b[0m\u001b[0mt\u001b[0m\u001b[0;34m)\u001b[0m\u001b[0;34m\u001b[0m\u001b[0;34m\u001b[0m\u001b[0m\n",
      "\u001b[0m\u001b[0;32m     37 \u001b[0;31m        \u001b[0;32mreturn\u001b[0m \u001b[0mvalue\u001b[0m \u001b[0;32min\u001b[0m \u001b[0margs\u001b[0m\u001b[0;34m\u001b[0m\u001b[0;34m\u001b[0m\u001b[0m\n",
      "\u001b[0m\u001b[0;32m---> 38 \u001b[0;31m    \u001b[0;32mreturn\u001b[0m \u001b[0misinstance\u001b[0m\u001b[0;34m(\u001b[0m\u001b[0mvalue\u001b[0m\u001b[0;34m,\u001b[0m \u001b[0morigin\u001b[0m\u001b[0;34m)\u001b[0m\u001b[0;34m\u001b[0m\u001b[0;34m\u001b[0m\u001b[0m\n",
      "\u001b[0m\n"
     ]
    }
   ],
   "source": [
    "import pdb; pdb.pm()"
   ]
  },
  {
   "cell_type": "code",
   "execution_count": null,
   "id": "f0a11b24-e31b-46b3-9ac2-09d65b2f6258",
   "metadata": {},
   "outputs": [],
   "source": [
    "model.get_hyperparameters(serializable=True)"
   ]
  },
  {
   "cell_type": "markdown",
   "id": "e9ffc541-f49c-4d5c-a2da-3a17b530b6c8",
   "metadata": {},
   "source": [
    "## Saving and loading to database"
   ]
  },
  {
   "cell_type": "code",
   "execution_count": null,
   "id": "803d3147-2ea2-453f-8fdc-67be314ffee4",
   "metadata": {},
   "outputs": [],
   "source": [
    "from sqlalchemy import create_engine\n",
    "from sqlalchemy.orm import Session\n",
    "from ml_lib.pipeline.experiment_tracking import create_tables, Model as Database_Model\n"
   ]
  },
  {
   "cell_type": "code",
   "execution_count": null,
   "id": "6d92b0b0-de96-401a-abbb-8fc25374d8eb",
   "metadata": {},
   "outputs": [],
   "source": [
    "model.get_model_type()"
   ]
  },
  {
   "cell_type": "code",
   "execution_count": null,
   "id": "867810ca-302e-4c3e-aaab-275bc470572c",
   "metadata": {},
   "outputs": [],
   "source": [
    "model.to_database_object()"
   ]
  },
  {
   "cell_type": "code",
   "execution_count": null,
   "id": "0fc64de1-c910-44b7-a5c7-6cdc7998b1de",
   "metadata": {},
   "outputs": [],
   "source": [
    "print_requests = False\n",
    "%rm /tmp/test.db\n",
    "db_engine = create_engine(\"sqlite:////tmp/test.db\", echo=print_requests)\n",
    "create_tables(db_engine)\n",
    "with Session(db_engine) as db_session:\n",
    "    model.save_to_database(db_session, replace=True)\n",
    "    #db_session.commit()\n",
    "    print(model.get_database_object(db_session))\n",
    "    model_object  = db_session.get(Database_Model, model.id)\n",
    "    db_session.commit()\n",
    "model.id"
   ]
  },
  {
   "cell_type": "code",
   "execution_count": null,
   "id": "b5d6446f-3cb8-4228-95c0-541a84ea0456",
   "metadata": {},
   "outputs": [],
   "source": [
    "with Session(db_engine) as db_session:\n",
    "    model_object  = db_session.get(Database_Model, model.id)\n",
    "    print(model_object)\n",
    "    print(type(db_session))\n",
    "    loaded_model= model_object.load_model(load_latest_checkpoint=False,) #cannot load checkpoint for now since there isn't one\n",
    "loaded_model"
   ]
  },
  {
   "cell_type": "markdown",
   "id": "69300be5-9d40-4cad-8567-454ea9404830",
   "metadata": {},
   "source": [
    "## Training"
   ]
  },
  {
   "cell_type": "code",
   "execution_count": null,
   "id": "3bb1bc65-9fc3-499d-b5c2-b51eeae30f34",
   "metadata": {},
   "outputs": [],
   "source": [
    "skip_training = False"
   ]
  },
  {
   "cell_type": "code",
   "execution_count": null,
   "id": "9d5c3e97-a43c-416d-8b1a-b24ec5d53eb1",
   "metadata": {},
   "outputs": [],
   "source": [
    "from ml_lib.models import Model\n",
    "from ml_lib.pipeline import Trainer, Training_parameters\n",
    "from ml_lib.pipeline.training_hooks import TqdmHook, LoggerHook, CurveHook, DatabaseHook\n",
    "from ml_lib.pipeline.experiment_tracking import Experiment as DBExperiment\n",
    "from torch.utils.data import DataLoader"
   ]
  },
  {
   "cell_type": "code",
   "execution_count": null,
   "id": "f683c8a1-1803-48e6-aa55-4f2991041e9f",
   "metadata": {},
   "outputs": [],
   "source": [
    "loader = DataLoader(dataset4, batch_size=None, shuffle=True)\n",
    "next(iter(loader))"
   ]
  },
  {
   "cell_type": "code",
   "execution_count": null,
   "id": "ff11b26b-ef59-45fb-98d6-b3781c71ce7f",
   "metadata": {},
   "outputs": [],
   "source": [
    "import logging; logging.basicConfig(level=logging.INFO, force=True)\n",
    "\n",
    "curve = CurveHook()\n",
    "training_parameters = Training_parameters(n_epochs=4)\n",
    "\n",
    "with Session(db_engine) as db_session:\n",
    "    experiment = DBExperiment(name=\"test_experiment\", )\n",
    "    db_session.add(experiment)\n",
    "    trainer = Trainer(model, loader, training_parameters=training_parameters, device=\"cpu\",\n",
    "        step_hooks = [ \n",
    "            TqdmHook(),\n",
    "            LoggerHook(interval=10),\n",
    "            curve\n",
    "        ],\n",
    "        database=db_session, \n",
    "        db_experiment=experiment, )\n",
    "    experiment_id = experiment.id\n",
    "    trainer_id = trainer.id\n",
    "    if not skip_training: trainer.train()\n",
    "curve.draw()"
   ]
  },
  {
   "cell_type": "markdown",
   "id": "80466a2f-37e2-47f3-88c0-0d78313b8c38",
   "metadata": {},
   "source": [
    "Now check that we're able to resume training"
   ]
  },
  {
   "cell_type": "code",
   "execution_count": null,
   "id": "5aecb616-7f4e-4cb9-9b8b-a23c7214ba06",
   "metadata": {},
   "outputs": [],
   "source": [
    "new_training_parameters = copy(training_parameters)\n",
    "new_training_parameters.n_epochs = 5\n",
    "with Session(db_engine) as db_session:\n",
    "    \n",
    "    trainer = Trainer(model, loader, \n",
    "                      training_parameters=training_parameters, device=\"cpu\",\n",
    "        step_hooks = [ \n",
    "            TqdmHook(),\n",
    "            LoggerHook(interval=10),\n",
    "            curve\n",
    "        ],\n",
    "        database=db_session, \n",
    "        db_experiment=experiment_id, \n",
    "        resume_from=trainer_id)\n",
    "    if not skip_training: trainer.train()"
   ]
  },
  {
   "cell_type": "code",
   "execution_count": null,
   "id": "6209b798-bdf6-4e91-9fd0-b9ba629c9e5b",
   "metadata": {},
   "outputs": [],
   "source": [
    "curve.draw()"
   ]
  },
  {
   "cell_type": "markdown",
   "id": "90eb2e13-edfb-4b40-87d0-f8339cb47488",
   "metadata": {},
   "source": [
    "## Automated experiment"
   ]
  },
  {
   "cell_type": "code",
   "execution_count": null,
   "id": "a585c7ec-981d-485b-8905-470685a2cf94",
   "metadata": {},
   "outputs": [],
   "source": [
    "cat workdir/test_config.yaml"
   ]
  },
  {
   "cell_type": "code",
   "execution_count": null,
   "id": "af76411d-a3b5-4814-a3de-a6fd4fc4dc87",
   "metadata": {},
   "outputs": [],
   "source": [
    "from ml_lib.pipeline.experiment import Experiment\n",
    "with Session(db_engine) as db_session:\n",
    "    #import pdb;pdb.set_trace()\n",
    "    exp = Experiment.from_yaml(\"workdir/test_config.yaml\", database_session=db_session)\n",
    "    exp.train_all()"
   ]
  },
  {
   "cell_type": "code",
   "execution_count": null,
   "id": "283f6af1-16e6-44db-86fa-606d8389155d",
   "metadata": {
    "scrolled": true
   },
   "outputs": [],
   "source": [
    "with Session(db_engine) as db_session:\n",
    "    #import pdb;pdb.set_trace()\n",
    "    exp = Experiment.from_yaml(\"workdir/test_config.yaml\", database_session=db_session)\n",
    "    exp.train_all()"
   ]
  },
  {
   "cell_type": "markdown",
   "id": "77a9b7e3-40d7-44d6-9e03-06c91181baf4",
   "metadata": {},
   "source": [
    "## Misc"
   ]
  },
  {
   "cell_type": "code",
   "execution_count": null,
   "id": "45247357-c2b0-4f94-aa17-0b29e509ea32",
   "metadata": {},
   "outputs": [],
   "source": [
    "from ml_lib.misc.matchers import EmptySet"
   ]
  },
  {
   "cell_type": "code",
   "execution_count": null,
   "id": "18fe4171-d9ff-40ed-bae1-278b4d8f7e1b",
   "metadata": {},
   "outputs": [],
   "source": [
    "isinstance(set(), EmptySet)"
   ]
  },
  {
   "cell_type": "code",
   "execution_count": null,
   "id": "4edd573f-c387-47b6-b632-db8a615d15e8",
   "metadata": {},
   "outputs": [],
   "source": [
    "isinstance(set([1]), EmptySet)"
   ]
  },
  {
   "cell_type": "code",
   "execution_count": null,
   "id": "7b0455b4-94b8-4698-b6e9-20647e04daf9",
   "metadata": {},
   "outputs": [],
   "source": [
    "match set():\n",
    "    case EmptySet():\n",
    "        print(\"Tristan, you are a terrible person\")\n",
    "    case _:\n",
    "        print(\"ugh\")\n",
    "\n",
    "match {1, 2, 3}:\n",
    "    case EmptySet():\n",
    "        print(\"ugh\")\n",
    "    case _:\n",
    "        print(\"But it works\")"
   ]
  },
  {
   "cell_type": "markdown",
   "id": "897a6ae4-e312-4eb4-8b26-a1d4507bf41e",
   "metadata": {},
   "source": [
    "Someday I'll make one of those that checks for regular expressions… and that will be absolutely terrible"
   ]
  },
  {
   "cell_type": "code",
   "execution_count": null,
   "id": "a523e383-97ac-4ee1-8973-c801a03b6976",
   "metadata": {},
   "outputs": [],
   "source": [
    "from typing import Literal\n",
    "isinstance(Literal[3, 4], Literal)\n",
    "\n"
   ]
  },
  {
   "cell_type": "code",
   "execution_count": null,
   "id": "2427935d-0527-4959-9c9b-e484a4c2c7a0",
   "metadata": {},
   "outputs": [],
   "source": [
    "Literal[1, 2] == Literal[2, 1]"
   ]
  },
  {
   "cell_type": "code",
   "execution_count": null,
   "id": "f73fcebf-f9b2-4f2d-be53-b41b628d9286",
   "metadata": {},
   "outputs": [],
   "source": [
    "Literal[1, 2].__dict__"
   ]
  },
  {
   "cell_type": "code",
   "execution_count": null,
   "id": "18ee4647-b0d9-4ba3-a335-b2f5f163c56b",
   "metadata": {},
   "outputs": [],
   "source": [
    "import typing\n",
    "Hyperparameter[list[int]].__origin__.__origin__"
   ]
  },
  {
   "cell_type": "code",
   "execution_count": null,
   "id": "c2baed22-3896-49cc-a1dc-3542543a915b",
   "metadata": {},
   "outputs": [],
   "source": [
    "typing.get_args(Hyperparameter[list[int]])"
   ]
  },
  {
   "cell_type": "code",
   "execution_count": null,
   "id": "4ea3ae5f-c312-4a04-84ce-f5babd5de9a0",
   "metadata": {},
   "outputs": [],
   "source": []
  }
 ],
 "metadata": {
  "kernelspec": {
   "display_name": "Python 3 (ipykernel)",
   "language": "python",
   "name": "python3"
  },
  "language_info": {
   "codemirror_mode": {
    "name": "ipython",
    "version": 3
   },
   "file_extension": ".py",
   "mimetype": "text/x-python",
   "name": "python",
   "nbconvert_exporter": "python",
   "pygments_lexer": "ipython3",
   "version": "3.11.8"
  }
 },
 "nbformat": 4,
 "nbformat_minor": 5
}
