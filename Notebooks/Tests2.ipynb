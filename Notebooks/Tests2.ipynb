{
 "cells": [
  {
   "cell_type": "markdown",
   "id": "988b919e-7daf-4162-8c84-b2890ab82cac",
   "metadata": {},
   "source": [
    "# Tests"
   ]
  },
  {
   "cell_type": "markdown",
   "id": "afb7059d-3b1c-4363-9735-2629bf454125",
   "metadata": {},
   "source": [
    "## Imports and stuff"
   ]
  },
  {
   "cell_type": "code",
   "execution_count": 1,
   "id": "a756cc65-6c1e-472b-9b9c-0abdf60a1b6c",
   "metadata": {
    "tags": []
   },
   "outputs": [],
   "source": [
    "import sys\n",
    "from copy import copy\n",
    "\n",
    "def append_path(s):\n",
    "    if s in sys.path:\n",
    "        return\n",
    "    sys.path.append(s)\n",
    "\n",
    "append_path(\"..\")\n",
    "#%load_ext autoreload\n",
    "#%autoreload 2"
   ]
  },
  {
   "cell_type": "code",
   "execution_count": 2,
   "id": "d469e6ee-0505-4851-8bf6-4d31ab8ae3ea",
   "metadata": {},
   "outputs": [],
   "source": [
    "import numpy as np\n",
    "from numpy.random import default_rng\n",
    "rng = default_rng()\n",
    "import matplotlib.pyplot as plt\n",
    "import matplotlib.ticker as ticker\n",
    "import networkx as nx\n",
    "import torch\n",
    "from torch import Tensor\n"
   ]
  },
  {
   "cell_type": "code",
   "execution_count": 3,
   "id": "3475ed6e-5d9e-47ae-911d-41caed2a7cf6",
   "metadata": {},
   "outputs": [],
   "source": [
    "import ml_lib\n",
    "from ml_lib import feature_specification"
   ]
  },
  {
   "cell_type": "code",
   "execution_count": 4,
   "id": "db05ef3f-c414-4209-b84f-5904d0e525f0",
   "metadata": {},
   "outputs": [
    {
     "name": "stdout",
     "output_type": "stream",
     "text": [
      "base_classes.py  feature_specification.py  registration.py\n",
      "datapoint.py     __init__.py               splitting.py\n",
      "\u001b[0m\u001b[01;34mdatasets\u001b[0m/        \u001b[01;34m__pycache__\u001b[0m/              transforms.py\n"
     ]
    }
   ],
   "source": [
    "ls ../ml_lib/datasets"
   ]
  },
  {
   "cell_type": "markdown",
   "id": "49ca92f8-b5c4-480b-9f7b-a7d2b47eda17",
   "metadata": {
    "tags": []
   },
   "source": [
    "## Datasets"
   ]
  },
  {
   "cell_type": "code",
   "execution_count": 5,
   "id": "bcb59e0b-d47d-4fa3-bd5c-12cbc7112498",
   "metadata": {},
   "outputs": [],
   "source": [
    "from ml_lib.datasets import register as dataset_register, transform_register, load_transform, load_dataset, Transform\n",
    "from ml_lib.datasets.transforms import MultipleFunctionTransform"
   ]
  },
  {
   "cell_type": "code",
   "execution_count": 6,
   "id": "26cea4fc-9e73-46e6-acca-48b50bd4e55e",
   "metadata": {},
   "outputs": [],
   "source": [
    "dataset0 = dataset_register[\"Torus4D\"](1000)"
   ]
  },
  {
   "cell_type": "code",
   "execution_count": 7,
   "id": "fd359c44-3417-4b76-9570-202447d781bd",
   "metadata": {},
   "outputs": [],
   "source": [
    "transform = transform_register[\"CacheTransform\"]() \n",
    "dataset1 = transform(dataset0)"
   ]
  },
  {
   "cell_type": "code",
   "execution_count": 8,
   "id": "a804da77-671a-4da2-ab15-5f1cebdc5eb7",
   "metadata": {},
   "outputs": [
    {
     "data": {
      "text/plain": [
       "<ml_lib.datasets.datasets.simple_shapes.Torus4D at 0x7adf679ab650>"
      ]
     },
     "execution_count": 8,
     "metadata": {},
     "output_type": "execute_result"
    }
   ],
   "source": [
    "dataset1._inner"
   ]
  },
  {
   "cell_type": "code",
   "execution_count": 9,
   "id": "5809ff0a-da88-45af-9913-7014b4a0a51f",
   "metadata": {},
   "outputs": [
    {
     "data": {
      "text/plain": [
       "tensor([[-0.8897, -0.4230,  0.9153,  0.3775]])"
      ]
     },
     "execution_count": 9,
     "metadata": {},
     "output_type": "execute_result"
    }
   ],
   "source": [
    "dataset1[0]"
   ]
  },
  {
   "cell_type": "code",
   "execution_count": 10,
   "id": "82f44708-e279-4422-b00d-3d40eb912abb",
   "metadata": {},
   "outputs": [
    {
     "data": {
      "text/plain": [
       "<ml_lib.datasets.datapoint.DictDatapoint at 0x7adf676ee050>"
      ]
     },
     "execution_count": 10,
     "metadata": {},
     "output_type": "execute_result"
    }
   ],
   "source": [
    "dataset2 = transform_register[\"RenameTransform\"]({\"x\": \"_\"})(dataset1)\n",
    "dataset2[0]"
   ]
  },
  {
   "cell_type": "code",
   "execution_count": 11,
   "id": "ca39be83-6328-452f-9dd7-822e9474eeb1",
   "metadata": {},
   "outputs": [
    {
     "data": {
      "text/plain": [
       "<ml_lib.datasets.datapoint.DictDatapoint at 0x7adf6700b150>"
      ]
     },
     "execution_count": 11,
     "metadata": {},
     "output_type": "execute_result"
    }
   ],
   "source": [
    "dataset3 = transform_register[\"RenameTransform\"]({\"x\": \"x\", \"y\":\"x\"})(dataset2)\n",
    "dataset3[0]"
   ]
  },
  {
   "cell_type": "code",
   "execution_count": 12,
   "id": "cebea6a4-4148-4d14-84b9-1a4fcd0410e1",
   "metadata": {},
   "outputs": [
    {
     "data": {
      "text/plain": [
       "<ml_lib.datasets.datapoint.DictDatapoint at 0x7ae052cf2b50>"
      ]
     },
     "execution_count": 12,
     "metadata": {},
     "output_type": "execute_result"
    }
   ],
   "source": [
    "normalize = lambda x : x / x.norm()\n",
    "dataset4 = transform_register[\"MultipleFunctionTransform\"]({\"x\": (normalize, \"x\"), \"gt\": (lambda x:x, \"y\")})(dataset3)\n",
    "dataset4[0]"
   ]
  },
  {
   "cell_type": "code",
   "execution_count": 13,
   "id": "aa9d7e06-917d-4afd-bd3c-b6f96c0e778d",
   "metadata": {},
   "outputs": [],
   "source": [
    "@transform_register\n",
    "class TestTransform(MultipleFunctionTransform):\n",
    "\n",
    "    def __init__(self):\n",
    "        super().__init__({\"x\": (normalize, \"x\"), \"gt\": (lambda x:x, \"y\")})"
   ]
  },
  {
   "cell_type": "markdown",
   "id": "c76780b0-47c8-4bd9-8d4a-0df334837b6b",
   "metadata": {},
   "source": [
    "great!"
   ]
  },
  {
   "cell_type": "markdown",
   "id": "b232574c-5703-4688-b0f7-99be279c79c1",
   "metadata": {
    "tags": []
   },
   "source": [
    "## Environments"
   ]
  },
  {
   "cell_type": "code",
   "execution_count": 14,
   "id": "8faa0bac-090c-4c70-bca8-7795002026bc",
   "metadata": {},
   "outputs": [],
   "source": [
    "from ml_lib.environment import Environment, Scope, scopevar_of_str, str_of_scopevar, HierarchicEnvironment, ScopedEnvironment"
   ]
  },
  {
   "cell_type": "code",
   "execution_count": 15,
   "id": "e4ad9cd4-aeab-4aac-8da7-f32ea22ed838",
   "metadata": {},
   "outputs": [
    {
     "data": {
      "text/plain": [
       "(('a', 'b'), 'c')"
      ]
     },
     "execution_count": 15,
     "metadata": {},
     "output_type": "execute_result"
    }
   ],
   "source": [
    "scopevar_of_str(\"a/b/c\")"
   ]
  },
  {
   "cell_type": "code",
   "execution_count": 16,
   "id": "72282cd4-17dd-4d57-b74c-40aea0b48080",
   "metadata": {},
   "outputs": [
    {
     "data": {
      "text/plain": [
       "'a/b/c'"
      ]
     },
     "execution_count": 16,
     "metadata": {},
     "output_type": "execute_result"
    }
   ],
   "source": [
    "str_of_scopevar(('a', 'b'), 'c')"
   ]
  },
  {
   "cell_type": "code",
   "execution_count": 17,
   "id": "c7efde3a-5b69-4ada-8e75-0451b4859ddc",
   "metadata": {},
   "outputs": [],
   "source": [
    "env = Environment()"
   ]
  },
  {
   "cell_type": "code",
   "execution_count": 18,
   "id": "3681ab99-19b5-48d3-ba87-dfa8da55c7bb",
   "metadata": {},
   "outputs": [
    {
     "data": {
      "text/plain": [
       "Environment(defaultdict(<class 'dict'>, {'_ipython_canary_method_should_not_exist_': {}, '_ipython_display_': {}, '_repr_mimebundle_': {}}))"
      ]
     },
     "execution_count": 18,
     "metadata": {},
     "output_type": "execute_result"
    }
   ],
   "source": [
    "env"
   ]
  },
  {
   "cell_type": "code",
   "execution_count": 19,
   "id": "4635378d-473f-43d9-a973-96e78a63e940",
   "metadata": {},
   "outputs": [],
   "source": [
    "env.record(\"hello\", 1)"
   ]
  },
  {
   "cell_type": "code",
   "execution_count": 20,
   "id": "ffb94b27-d9d0-43fb-bfc8-3f368f77bc8e",
   "metadata": {},
   "outputs": [
    {
     "data": {
      "text/plain": [
       "defaultdict(dict,\n",
       "            {'_ipython_canary_method_should_not_exist_': {},\n",
       "             '_ipython_display_': {},\n",
       "             '_repr_mimebundle_': {},\n",
       "             '_repr_html_': {},\n",
       "             '_repr_markdown_': {},\n",
       "             '_repr_svg_': {},\n",
       "             '_repr_png_': {},\n",
       "             '_repr_pdf_': {},\n",
       "             '_repr_jpeg_': {},\n",
       "             '_repr_latex_': {},\n",
       "             '_repr_json_': {},\n",
       "             '_repr_javascript_': {},\n",
       "             'hello': {(): 1}})"
      ]
     },
     "execution_count": 20,
     "metadata": {},
     "output_type": "execute_result"
    }
   ],
   "source": [
    "env.data"
   ]
  },
  {
   "cell_type": "code",
   "execution_count": 21,
   "id": "d4890ff8-761a-4e6e-8a73-42b2ac812808",
   "metadata": {},
   "outputs": [
    {
     "data": {
      "text/plain": [
       "defaultdict(dict,\n",
       "            {'_ipython_canary_method_should_not_exist_': {},\n",
       "             '_ipython_display_': {},\n",
       "             '_repr_mimebundle_': {},\n",
       "             '_repr_html_': {},\n",
       "             '_repr_markdown_': {},\n",
       "             '_repr_svg_': {},\n",
       "             '_repr_png_': {},\n",
       "             '_repr_pdf_': {},\n",
       "             '_repr_jpeg_': {},\n",
       "             '_repr_latex_': {},\n",
       "             '_repr_json_': {},\n",
       "             '_repr_javascript_': {},\n",
       "             'hello': {(): 1},\n",
       "             'world': {('some', 'scope'): 4}})"
      ]
     },
     "execution_count": 21,
     "metadata": {},
     "output_type": "execute_result"
    }
   ],
   "source": [
    "env.record(\"world\", 4, (\"some\", \"scope\"))\n",
    "env.data"
   ]
  },
  {
   "cell_type": "code",
   "execution_count": 22,
   "id": "bb3196cd-ec71-43c7-9159-bd7971cb0cc4",
   "metadata": {},
   "outputs": [
    {
     "data": {
      "text/plain": [
       "1"
      ]
     },
     "execution_count": 22,
     "metadata": {},
     "output_type": "execute_result"
    }
   ],
   "source": [
    "env.get(\"hello\")"
   ]
  },
  {
   "cell_type": "code",
   "execution_count": 23,
   "id": "91ea9683-7071-4554-8dac-cac7ffdbc478",
   "metadata": {},
   "outputs": [
    {
     "data": {
      "text/plain": [
       "4"
      ]
     },
     "execution_count": 23,
     "metadata": {},
     "output_type": "execute_result"
    }
   ],
   "source": [
    "env.get(\"world\")"
   ]
  },
  {
   "cell_type": "code",
   "execution_count": 24,
   "id": "454ff54f-0487-4382-a546-6ee4638ce9ef",
   "metadata": {},
   "outputs": [
    {
     "data": {
      "text/plain": [
       "4"
      ]
     },
     "execution_count": 24,
     "metadata": {},
     "output_type": "execute_result"
    }
   ],
   "source": [
    "#import pdb; pdb.set_trace()\n",
    "env.get(\"world\", scope=(\"some\",))"
   ]
  },
  {
   "cell_type": "code",
   "execution_count": 25,
   "id": "0bd673e8-3f56-469f-8ba8-d90228dd7f6e",
   "metadata": {},
   "outputs": [],
   "source": [
    "env.get(\"world\", scope=(\"soe\",))"
   ]
  },
  {
   "cell_type": "code",
   "execution_count": 26,
   "id": "40273039-d3d5-4111-97af-52e789c81a39",
   "metadata": {},
   "outputs": [],
   "source": [
    "hier_env = HierarchicEnvironment(parent=env)"
   ]
  },
  {
   "cell_type": "code",
   "execution_count": 27,
   "id": "92697ea6-3316-4186-bec0-23dcd8b2d0c5",
   "metadata": {},
   "outputs": [
    {
     "data": {
      "text/plain": [
       "2"
      ]
     },
     "execution_count": 27,
     "metadata": {},
     "output_type": "execute_result"
    }
   ],
   "source": [
    "hier_env.record(\"world\", 2, (\"some\",))\n",
    "hier_env.get(\"world\", scope=(\"some\",))\n"
   ]
  },
  {
   "cell_type": "code",
   "execution_count": 28,
   "id": "88d07bb9-a701-431e-91d7-b228555ffc6a",
   "metadata": {},
   "outputs": [
    {
     "data": {
      "text/plain": [
       "4"
      ]
     },
     "execution_count": 28,
     "metadata": {},
     "output_type": "execute_result"
    }
   ],
   "source": [
    "hier_env.get(\"world\", scope=(\"some\",\"scope\"))\n"
   ]
  },
  {
   "cell_type": "code",
   "execution_count": 29,
   "id": "e3a7bd05-bf0d-44ce-90d1-2abf36fddfed",
   "metadata": {},
   "outputs": [],
   "source": [
    "def f(world, hello=6, magic=3):\n",
    "    print(world, hello, magic)\n",
    "    return 1"
   ]
  },
  {
   "cell_type": "code",
   "execution_count": 30,
   "id": "598d5a9a-9a64-4145-bd7c-11a5e73f9925",
   "metadata": {},
   "outputs": [
    {
     "name": "stdout",
     "output_type": "stream",
     "text": [
      "2 1 3\n"
     ]
    },
    {
     "data": {
      "text/plain": [
       "1"
      ]
     },
     "execution_count": 30,
     "metadata": {},
     "output_type": "execute_result"
    }
   ],
   "source": [
    "hier_env.run_function(f)"
   ]
  },
  {
   "cell_type": "markdown",
   "id": "56f84cb9-c0f8-4753-890b-5eacf56006e1",
   "metadata": {},
   "source": [
    "## Model"
   ]
  },
  {
   "cell_type": "code",
   "execution_count": 31,
   "id": "156fd1eb-8486-4608-85d7-36f8e6657adf",
   "metadata": {},
   "outputs": [
    {
     "data": {
      "text/plain": [
       "FeatureSpecification(MSEFeature(name='location', dim=4, loss_coef=1.0))"
      ]
     },
     "execution_count": 31,
     "metadata": {},
     "output_type": "execute_result"
    }
   ],
   "source": [
    "from ml_lib.datasets.feature_specification import FeatureSpecification, MSEFeature\n",
    "\n",
    "feature_spec = FeatureSpecification([MSEFeature(\"location\", 4)])\n",
    "assert feature_spec == feature_spec.from_config(feature_spec.to_config())\n",
    "feature_spec"
   ]
  },
  {
   "cell_type": "code",
   "execution_count": 32,
   "id": "dfc31937-5b0f-48ad-b705-e8977efda7b6",
   "metadata": {},
   "outputs": [
    {
     "name": "stdout",
     "output_type": "stream",
     "text": [
      "SimpleMLPModel(\n",
      "    dimensions=[5, 10, 4, 4],\n",
      "    feature_specification=FeatureSpecification(MSEFeature(name='location', dim=4, loss_coef=1.0)),\n",
      ")\n",
      "SimpleMLPModel(\n",
      "  (inner): MLP(\n",
      "    (linear_0): Linear(in_features=4, out_features=5, bias=True)\n",
      "    (activation_0): ReLU()\n",
      "    (linear_1): Linear(in_features=5, out_features=10, bias=True)\n",
      "    (activation_1): ReLU()\n",
      "    (linear_2): Linear(in_features=10, out_features=4, bias=True)\n",
      "    (activation_2): ReLU()\n",
      "    (linear_3): Linear(in_features=4, out_features=4, bias=True)\n",
      "  )\n",
      ")\n"
     ]
    },
    {
     "data": {
      "text/plain": [
       "'test_model'"
      ]
     },
     "execution_count": 32,
     "metadata": {},
     "output_type": "execute_result"
    }
   ],
   "source": [
    "from ml_lib.models import Model, Supervised, Hyperparameter, register as model_register\n",
    "from ml_lib.models.layers import MLP\n",
    "\n",
    "@model_register\n",
    "class SimpleMLPModel(Supervised):\n",
    "    \n",
    "    dimensions: Hyperparameter[list[int]]\n",
    "    feature_specification: Hyperparameter[FeatureSpecification]\n",
    "    \n",
    "\n",
    "    inner: MLP\n",
    "\n",
    "    def __setup__(self):\n",
    "        self.inner = MLP(self.feature_specification.dim, *self.dimensions, batchnorm=False)\n",
    "\n",
    "    def forward(self, x):\n",
    "        return self.inner(x)\n",
    "\n",
    "    def loss_fun(self, x, gt):\n",
    "        return self.feature_specification.compute_loss(x, gt, reduce=True)\n",
    "        #return (x - gt).square().sum()\n",
    "        \n",
    "\n",
    "model = SimpleMLPModel(dimensions=[5, 10, 4, 4],\n",
    "                       feature_specification=feature_spec, \n",
    "                       name=\"test_model\")\n",
    "print(model)\n",
    "print(torch.nn.Module.__repr__(model))\n",
    "model.model_name"
   ]
  },
  {
   "cell_type": "code",
   "execution_count": 33,
   "id": "f0a11b24-e31b-46b3-9ac2-09d65b2f6258",
   "metadata": {},
   "outputs": [
    {
     "data": {
      "text/plain": [
       "{'dimensions': [5, 10, 4, 4],\n",
       " 'feature_specification': {'type': 'FeatureSpecification',\n",
       "  'features': [{'type': 'MSEFeature',\n",
       "    'name': 'location',\n",
       "    'dim': 4,\n",
       "    'loss_coef': 1.0}]}}"
      ]
     },
     "execution_count": 33,
     "metadata": {},
     "output_type": "execute_result"
    }
   ],
   "source": [
    "model.get_hyperparameters(serializable=True)"
   ]
  },
  {
   "cell_type": "markdown",
   "id": "e9ffc541-f49c-4d5c-a2da-3a17b530b6c8",
   "metadata": {},
   "source": [
    "## Saving and loading to database"
   ]
  },
  {
   "cell_type": "code",
   "execution_count": 34,
   "id": "803d3147-2ea2-453f-8fdc-67be314ffee4",
   "metadata": {},
   "outputs": [],
   "source": [
    "from sqlalchemy import create_engine\n",
    "from sqlalchemy.orm import Session\n",
    "from ml_lib.pipeline.experiment_tracking import create_tables, Model as Database_Model\n"
   ]
  },
  {
   "cell_type": "code",
   "execution_count": 35,
   "id": "6d92b0b0-de96-401a-abbb-8fc25374d8eb",
   "metadata": {},
   "outputs": [
    {
     "data": {
      "text/plain": [
       "'SimpleMLPModel'"
      ]
     },
     "execution_count": 35,
     "metadata": {},
     "output_type": "execute_result"
    }
   ],
   "source": [
    "model.get_model_type()"
   ]
  },
  {
   "cell_type": "code",
   "execution_count": 36,
   "id": "867810ca-302e-4c3e-aaab-275bc470572c",
   "metadata": {},
   "outputs": [
    {
     "data": {
      "text/plain": [
       "Model(id= None, model_type= SimpleMLPModel, name= test_model, description= None)"
      ]
     },
     "execution_count": 36,
     "metadata": {},
     "output_type": "execute_result"
    }
   ],
   "source": [
    "model.to_database_object()"
   ]
  },
  {
   "cell_type": "code",
   "execution_count": 37,
   "id": "0fc64de1-c910-44b7-a5c7-6cdc7998b1de",
   "metadata": {},
   "outputs": [
    {
     "name": "stdout",
     "output_type": "stream",
     "text": [
      "rm: impossible de supprimer '/tmp/test.db': Aucun fichier ou dossier de ce nom\n",
      "Model(id= 1, model_type= SimpleMLPModel, name= test_model, description= None)\n"
     ]
    },
    {
     "data": {
      "text/plain": [
       "1"
      ]
     },
     "execution_count": 37,
     "metadata": {},
     "output_type": "execute_result"
    }
   ],
   "source": [
    "print_requests = False\n",
    "%rm /tmp/test.db\n",
    "db_engine = create_engine(\"sqlite:////tmp/test.db\", echo=print_requests)\n",
    "create_tables(db_engine)\n",
    "with Session(db_engine) as db_session:\n",
    "    model.save_to_database(db_session, replace=True)\n",
    "    #db_session.commit()\n",
    "    print(model.get_database_object(db_session))\n",
    "    model_object  = db_session.get(Database_Model, model.id)\n",
    "    db_session.commit()\n",
    "model.id"
   ]
  },
  {
   "cell_type": "code",
   "execution_count": 38,
   "id": "b5d6446f-3cb8-4228-95c0-541a84ea0456",
   "metadata": {},
   "outputs": [
    {
     "name": "stdout",
     "output_type": "stream",
     "text": [
      "Model(id= 1, model_type= SimpleMLPModel, name= test_model, description= None)\n",
      "<class 'sqlalchemy.orm.session.Session'>\n"
     ]
    },
    {
     "data": {
      "text/plain": [
       "SimpleMLPModel(\n",
       "    dimensions=[5, 10, 4, 4],\n",
       "    feature_specification=FeatureSpecification(MSEFeature(name='location', dim=4, loss_coef=1.0)),\n",
       ")"
      ]
     },
     "execution_count": 38,
     "metadata": {},
     "output_type": "execute_result"
    }
   ],
   "source": [
    "with Session(db_engine) as db_session:\n",
    "    model_object  = db_session.get(Database_Model, model.id)\n",
    "    print(model_object)\n",
    "    print(type(db_session))\n",
    "    loaded_model= model_object.load_model(load_latest_checkpoint=False,) #cannot load checkpoint for now since there isn't one\n",
    "loaded_model"
   ]
  },
  {
   "cell_type": "markdown",
   "id": "69300be5-9d40-4cad-8567-454ea9404830",
   "metadata": {},
   "source": [
    "## Training"
   ]
  },
  {
   "cell_type": "code",
   "execution_count": 39,
   "id": "3bb1bc65-9fc3-499d-b5c2-b51eeae30f34",
   "metadata": {},
   "outputs": [],
   "source": [
    "skip_training = False"
   ]
  },
  {
   "cell_type": "code",
   "execution_count": 40,
   "id": "9d5c3e97-a43c-416d-8b1a-b24ec5d53eb1",
   "metadata": {},
   "outputs": [],
   "source": [
    "from ml_lib.models import Model\n",
    "from ml_lib.pipeline import Trainer, Training_parameters\n",
    "from ml_lib.pipeline.training_hooks import TqdmHook, LoggerHook, CurveHook, DatabaseHook\n",
    "from ml_lib.pipeline.experiment_tracking import Experiment as DBExperiment\n",
    "from torch.utils.data import DataLoader"
   ]
  },
  {
   "cell_type": "code",
   "execution_count": 41,
   "id": "f683c8a1-1803-48e6-aa55-4f2991041e9f",
   "metadata": {},
   "outputs": [
    {
     "data": {
      "text/plain": [
       "<ml_lib.datasets.datapoint.DictDatapoint at 0x7ae028a15b10>"
      ]
     },
     "execution_count": 41,
     "metadata": {},
     "output_type": "execute_result"
    }
   ],
   "source": [
    "loader = DataLoader(dataset4, batch_size=None, shuffle=True)\n",
    "next(iter(loader))"
   ]
  },
  {
   "cell_type": "code",
   "execution_count": 42,
   "id": "ff11b26b-ef59-45fb-98d6-b3781c71ce7f",
   "metadata": {},
   "outputs": [
    {
     "name": "stderr",
     "output_type": "stream",
     "text": [
      "INFO:ml_lib.pipeline.trainer:Training model test_model\n"
     ]
    },
    {
     "data": {
      "application/vnd.jupyter.widget-view+json": {
       "model_id": "02d6831fe53a4fbe99251fa6e3bcc872",
       "version_major": 2,
       "version_minor": 0
      },
      "text/plain": [
       "test_model: Epoch 0:   0%|          | 0/4000 [00:00<?, ?it/s]"
      ]
     },
     "metadata": {},
     "output_type": "display_data"
    },
    {
     "name": "stderr",
     "output_type": "stream",
     "text": [
      "INFO:root:iteration= 0, loss= 0.5855538845062256, \n",
      "INFO:root:iteration= 10, loss= 0.803973913192749, \n",
      "INFO:root:iteration= 20, loss= 0.6951242685317993, \n",
      "INFO:root:iteration= 30, loss= 0.4823360741138458, \n",
      "INFO:root:iteration= 40, loss= 0.5341120362281799, \n",
      "INFO:root:iteration= 50, loss= 0.7961838841438293, \n",
      "INFO:root:iteration= 60, loss= 0.4532719552516937, \n",
      "INFO:root:iteration= 70, loss= 0.30851688981056213, \n",
      "INFO:root:iteration= 80, loss= 0.5906288027763367, \n",
      "INFO:root:iteration= 90, loss= 0.3384031057357788, \n",
      "INFO:root:iteration= 100, loss= 0.558728039264679, \n",
      "INFO:root:iteration= 110, loss= 0.42742425203323364, \n",
      "INFO:root:iteration= 120, loss= 0.6347667574882507, \n",
      "INFO:root:iteration= 130, loss= 0.846930980682373, \n",
      "INFO:root:iteration= 140, loss= 0.38018614053726196, \n",
      "INFO:root:iteration= 150, loss= 0.7148880362510681, \n",
      "INFO:root:iteration= 160, loss= 0.3295154571533203, \n",
      "INFO:root:iteration= 170, loss= 0.8361392021179199, \n",
      "INFO:root:iteration= 180, loss= 0.42765510082244873, \n",
      "INFO:root:iteration= 190, loss= 0.3606775104999542, \n",
      "INFO:root:iteration= 200, loss= 0.5048552751541138, \n",
      "INFO:root:iteration= 210, loss= 0.5163668990135193, \n",
      "INFO:root:iteration= 220, loss= 0.3768389821052551, \n",
      "INFO:root:iteration= 230, loss= 0.7860316038131714, \n",
      "INFO:root:iteration= 240, loss= 0.6460154056549072, \n",
      "INFO:root:iteration= 250, loss= 0.733761191368103, \n",
      "INFO:root:iteration= 260, loss= 0.5901454091072083, \n",
      "INFO:root:iteration= 270, loss= 0.5810294151306152, \n",
      "INFO:root:iteration= 280, loss= 0.2738052308559418, \n",
      "INFO:root:iteration= 290, loss= 0.6937960982322693, \n",
      "INFO:root:iteration= 300, loss= 0.6530704498291016, \n",
      "INFO:root:iteration= 310, loss= 0.4066685140132904, \n",
      "INFO:root:iteration= 320, loss= 0.2664428949356079, \n",
      "INFO:root:iteration= 330, loss= 0.6615781188011169, \n",
      "INFO:root:iteration= 340, loss= 0.7653824090957642, \n",
      "INFO:root:iteration= 350, loss= 0.4693666696548462, \n",
      "INFO:root:iteration= 360, loss= 0.29491281509399414, \n",
      "INFO:root:iteration= 370, loss= 0.3404179513454437, \n",
      "INFO:root:iteration= 380, loss= 0.6938984394073486, \n",
      "INFO:root:iteration= 390, loss= 0.4584085941314697, \n",
      "INFO:root:iteration= 400, loss= 0.3886018395423889, \n",
      "INFO:root:iteration= 410, loss= 0.5047563314437866, \n",
      "INFO:root:iteration= 420, loss= 0.4023005962371826, \n",
      "INFO:root:iteration= 430, loss= 0.3967757821083069, \n",
      "INFO:root:iteration= 440, loss= 0.5582136511802673, \n",
      "INFO:root:iteration= 450, loss= 0.1878226399421692, \n",
      "INFO:root:iteration= 460, loss= 0.48850196599960327, \n",
      "INFO:root:iteration= 470, loss= 0.15979622304439545, \n",
      "INFO:root:iteration= 480, loss= 0.2573987543582916, \n",
      "INFO:root:iteration= 490, loss= 0.6241708397865295, \n",
      "INFO:root:iteration= 500, loss= 0.5583809614181519, \n",
      "INFO:root:iteration= 510, loss= 0.34562385082244873, \n",
      "INFO:root:iteration= 520, loss= 0.3478754758834839, \n",
      "INFO:root:iteration= 530, loss= 0.5889844298362732, \n",
      "INFO:root:iteration= 540, loss= 0.6489351391792297, \n",
      "INFO:root:iteration= 550, loss= 0.39438360929489136, \n",
      "INFO:root:iteration= 560, loss= 0.6039974689483643, \n",
      "INFO:root:iteration= 570, loss= 0.49621787667274475, \n",
      "INFO:root:iteration= 580, loss= 0.5676480531692505, \n",
      "INFO:root:iteration= 590, loss= 0.4596824645996094, \n",
      "INFO:root:iteration= 600, loss= 0.6063665747642517, \n",
      "INFO:root:iteration= 610, loss= 0.32907259464263916, \n",
      "INFO:root:iteration= 620, loss= 0.22898738086223602, \n",
      "INFO:root:iteration= 630, loss= 0.5773618817329407, \n",
      "INFO:root:iteration= 640, loss= 0.47011274099349976, \n",
      "INFO:root:iteration= 650, loss= 0.15956804156303406, \n",
      "INFO:root:iteration= 660, loss= 0.44066548347473145, \n",
      "INFO:root:iteration= 670, loss= 0.398764431476593, \n",
      "INFO:root:iteration= 680, loss= 0.5756484270095825, \n",
      "INFO:root:iteration= 690, loss= 0.4793519675731659, \n",
      "INFO:root:iteration= 700, loss= 0.3747207224369049, \n",
      "INFO:root:iteration= 710, loss= 0.3434574604034424, \n",
      "INFO:root:iteration= 720, loss= 0.2110048234462738, \n",
      "INFO:root:iteration= 730, loss= 0.36467552185058594, \n",
      "INFO:root:iteration= 740, loss= 0.4426509141921997, \n",
      "INFO:root:iteration= 750, loss= 0.5607956647872925, \n",
      "INFO:root:iteration= 760, loss= 0.4562678337097168, \n",
      "INFO:root:iteration= 770, loss= 0.33146488666534424, \n",
      "INFO:root:iteration= 780, loss= 0.5257779955863953, \n",
      "INFO:root:iteration= 790, loss= 0.5376628041267395, \n",
      "INFO:root:iteration= 800, loss= 0.4347532391548157, \n",
      "INFO:root:iteration= 810, loss= 0.21452105045318604, \n",
      "INFO:root:iteration= 820, loss= 0.528476357460022, \n",
      "INFO:root:iteration= 830, loss= 0.16466881334781647, \n",
      "INFO:root:iteration= 840, loss= 0.3073531985282898, \n",
      "INFO:root:iteration= 850, loss= 0.3292362093925476, \n",
      "INFO:root:iteration= 860, loss= 0.3119657635688782, \n",
      "INFO:root:iteration= 870, loss= 0.32931646704673767, \n",
      "INFO:root:iteration= 880, loss= 0.34814953804016113, \n",
      "INFO:root:iteration= 890, loss= 0.5068771243095398, \n",
      "INFO:root:iteration= 900, loss= 0.3745637834072113, \n",
      "INFO:root:iteration= 910, loss= 0.22097493708133698, \n",
      "INFO:root:iteration= 920, loss= 0.12570789456367493, \n",
      "INFO:root:iteration= 930, loss= 0.37495675683021545, \n",
      "INFO:root:iteration= 940, loss= 0.397784948348999, \n",
      "INFO:root:iteration= 950, loss= 0.3139441907405853, \n",
      "INFO:root:iteration= 960, loss= 0.4240611493587494, \n",
      "INFO:root:iteration= 970, loss= 0.3785053491592407, \n",
      "INFO:root:iteration= 980, loss= 0.10899513214826584, \n",
      "INFO:root:iteration= 990, loss= 0.32937803864479065, \n",
      "INFO:root:iteration= 1000, loss= 0.369697630405426, \n",
      "INFO:root:iteration= 1010, loss= 0.17551258206367493, \n",
      "INFO:root:iteration= 1020, loss= 0.12063314020633698, \n",
      "INFO:root:iteration= 1030, loss= 0.3251727819442749, \n",
      "INFO:root:iteration= 1040, loss= 0.3704175651073456, \n",
      "INFO:root:iteration= 1050, loss= 0.2262561023235321, \n",
      "INFO:root:iteration= 1060, loss= 0.2904069423675537, \n",
      "INFO:root:iteration= 1070, loss= 0.3467390537261963, \n",
      "INFO:root:iteration= 1080, loss= 0.4927009344100952, \n",
      "INFO:root:iteration= 1090, loss= 0.49609071016311646, \n",
      "INFO:root:iteration= 1100, loss= 0.4190843999385834, \n",
      "INFO:root:iteration= 1110, loss= 0.2967091202735901, \n",
      "INFO:root:iteration= 1120, loss= 0.21111954748630524, \n",
      "INFO:root:iteration= 1130, loss= 0.13134132325649261, \n",
      "INFO:root:iteration= 1140, loss= 0.14571207761764526, \n",
      "INFO:root:iteration= 1150, loss= 0.2729651927947998, \n",
      "INFO:root:iteration= 1160, loss= 0.408908873796463, \n",
      "INFO:root:iteration= 1170, loss= 0.16210141777992249, \n",
      "INFO:root:iteration= 1180, loss= 0.07381444424390793, \n",
      "INFO:root:iteration= 1190, loss= 0.32187747955322266, \n",
      "INFO:root:iteration= 1200, loss= 0.35748183727264404, \n",
      "INFO:root:iteration= 1210, loss= 0.37663933634757996, \n",
      "INFO:root:iteration= 1220, loss= 0.19116315245628357, \n",
      "INFO:root:iteration= 1230, loss= 0.25167927145957947, \n",
      "INFO:root:iteration= 1240, loss= 0.30571991205215454, \n",
      "INFO:root:iteration= 1250, loss= 0.46113085746765137, \n",
      "INFO:root:iteration= 1260, loss= 0.448381245136261, \n",
      "INFO:root:iteration= 1270, loss= 0.4452773630619049, \n",
      "INFO:root:iteration= 1280, loss= 0.1338140368461609, \n",
      "INFO:root:iteration= 1290, loss= 0.13362275063991547, \n",
      "INFO:root:iteration= 1300, loss= 0.464581161737442, \n",
      "INFO:root:iteration= 1310, loss= 0.23374444246292114, \n",
      "INFO:root:iteration= 1320, loss= 0.18754643201828003, \n",
      "INFO:root:iteration= 1330, loss= 0.23738712072372437, \n",
      "INFO:root:iteration= 1340, loss= 0.2700735330581665, \n",
      "INFO:root:iteration= 1350, loss= 0.42117345333099365, \n",
      "INFO:root:iteration= 1360, loss= 0.33436688780784607, \n",
      "INFO:root:iteration= 1370, loss= 0.26483583450317383, \n",
      "INFO:root:iteration= 1380, loss= 0.04450375586748123, \n",
      "INFO:root:iteration= 1390, loss= 0.37465184926986694, \n",
      "INFO:root:iteration= 1400, loss= 0.3836134374141693, \n",
      "INFO:root:iteration= 1410, loss= 0.1833527386188507, \n",
      "INFO:root:iteration= 1420, loss= 0.297209769487381, \n",
      "INFO:root:iteration= 1430, loss= 0.4016492962837219, \n",
      "INFO:root:iteration= 1440, loss= 0.11979037523269653, \n",
      "INFO:root:iteration= 1450, loss= 0.3696460723876953, \n",
      "INFO:root:iteration= 1460, loss= 0.13115936517715454, \n",
      "INFO:root:iteration= 1470, loss= 0.4273947775363922, \n",
      "INFO:root:iteration= 1480, loss= 0.46013179421424866, \n",
      "INFO:root:iteration= 1490, loss= 0.04632272943854332, \n",
      "INFO:root:iteration= 1500, loss= 0.18964187800884247, \n",
      "INFO:root:iteration= 1510, loss= 0.4708542227745056, \n",
      "INFO:root:iteration= 1520, loss= 0.279150128364563, \n",
      "INFO:root:iteration= 1530, loss= 0.3152806758880615, \n",
      "INFO:root:iteration= 1540, loss= 0.2375621199607849, \n",
      "INFO:root:iteration= 1550, loss= 0.4720408320426941, \n",
      "INFO:root:iteration= 1560, loss= 0.3066920340061188, \n",
      "INFO:root:iteration= 1570, loss= 0.2582060992717743, \n",
      "INFO:root:iteration= 1580, loss= 0.08174725621938705, \n",
      "INFO:root:iteration= 1590, loss= 0.3536129295825958, \n",
      "INFO:root:iteration= 1600, loss= 0.4417213797569275, \n",
      "INFO:root:iteration= 1610, loss= 0.005623495206236839, \n",
      "INFO:root:iteration= 1620, loss= 0.18568818271160126, \n",
      "INFO:root:iteration= 1630, loss= 0.2913018465042114, \n",
      "INFO:root:iteration= 1640, loss= 0.3228495717048645, \n",
      "INFO:root:iteration= 1650, loss= 0.21010957658290863, \n",
      "INFO:root:iteration= 1660, loss= 0.35501882433891296, \n",
      "INFO:root:iteration= 1670, loss= 0.2704707980155945, \n",
      "INFO:root:iteration= 1680, loss= 0.4835032522678375, \n",
      "INFO:root:iteration= 1690, loss= 0.0897507518529892, \n",
      "INFO:root:iteration= 1700, loss= 0.1961713284254074, \n",
      "INFO:root:iteration= 1710, loss= 0.37456807494163513, \n",
      "INFO:root:iteration= 1720, loss= 0.36504024267196655, \n",
      "INFO:root:iteration= 1730, loss= 0.15425854921340942, \n",
      "INFO:root:iteration= 1740, loss= 0.3896108567714691, \n",
      "INFO:root:iteration= 1750, loss= 0.2140374332666397, \n",
      "INFO:root:iteration= 1760, loss= 0.3870144188404083, \n",
      "INFO:root:iteration= 1770, loss= 0.4403436481952667, \n",
      "INFO:root:iteration= 1780, loss= 0.10292497277259827, \n",
      "INFO:root:iteration= 1790, loss= 0.28333765268325806, \n",
      "INFO:root:iteration= 1800, loss= 0.25637441873550415, \n",
      "INFO:root:iteration= 1810, loss= 0.38221654295921326, \n",
      "INFO:root:iteration= 1820, loss= 0.09101849049329758, \n",
      "INFO:root:iteration= 1830, loss= 0.4142400324344635, \n",
      "INFO:root:iteration= 1840, loss= 0.4818562865257263, \n",
      "INFO:root:iteration= 1850, loss= 0.39214393496513367, \n",
      "INFO:root:iteration= 1860, loss= 0.430984765291214, \n",
      "INFO:root:iteration= 1870, loss= 0.04486126825213432, \n",
      "INFO:root:iteration= 1880, loss= 0.30190736055374146, \n",
      "INFO:root:iteration= 1890, loss= 0.421771377325058, \n",
      "INFO:root:iteration= 1900, loss= 0.06412090361118317, \n",
      "INFO:root:iteration= 1910, loss= 0.2741955816745758, \n",
      "INFO:root:iteration= 1920, loss= 0.5111942887306213, \n",
      "INFO:root:iteration= 1930, loss= 0.3365181088447571, \n",
      "INFO:root:iteration= 1940, loss= 0.3762701749801636, \n",
      "INFO:root:iteration= 1950, loss= 0.4533444046974182, \n",
      "INFO:root:iteration= 1960, loss= 0.37943392992019653, \n",
      "INFO:root:iteration= 1970, loss= 0.24384045600891113, \n",
      "INFO:root:iteration= 1980, loss= 0.17110340297222137, \n",
      "INFO:root:iteration= 1990, loss= 0.06091272458434105, \n",
      "INFO:root:iteration= 2000, loss= 0.2794100046157837, \n",
      "INFO:root:iteration= 2010, loss= 0.234723761677742, \n",
      "INFO:root:iteration= 2020, loss= 0.19008325040340424, \n",
      "INFO:root:iteration= 2030, loss= 0.22805893421173096, \n",
      "INFO:root:iteration= 2040, loss= 0.33865267038345337, \n",
      "INFO:root:iteration= 2050, loss= 0.5210239291191101, \n",
      "INFO:root:iteration= 2060, loss= 0.2524408996105194, \n",
      "INFO:root:iteration= 2070, loss= 0.4463311731815338, \n",
      "INFO:root:iteration= 2080, loss= 0.3602253794670105, \n",
      "INFO:root:iteration= 2090, loss= 0.4060588479042053, \n",
      "INFO:root:iteration= 2100, loss= 0.4770547151565552, \n",
      "INFO:root:iteration= 2110, loss= 0.430740088224411, \n",
      "INFO:root:iteration= 2120, loss= 0.20938706398010254, \n",
      "INFO:root:iteration= 2130, loss= 0.49413275718688965, \n",
      "INFO:root:iteration= 2140, loss= 0.24874477088451385, \n",
      "INFO:root:iteration= 2150, loss= 0.3815300166606903, \n",
      "INFO:root:iteration= 2160, loss= 0.46710216999053955, \n",
      "INFO:root:iteration= 2170, loss= 0.16959230601787567, \n",
      "INFO:root:iteration= 2180, loss= 0.18856695294380188, \n",
      "INFO:root:iteration= 2190, loss= 0.4385838508605957, \n",
      "INFO:root:iteration= 2200, loss= 0.028089523315429688, \n",
      "INFO:root:iteration= 2210, loss= 0.244944229722023, \n",
      "INFO:root:iteration= 2220, loss= 0.298321932554245, \n",
      "INFO:root:iteration= 2230, loss= 0.13257534801959991, \n",
      "INFO:root:iteration= 2240, loss= 0.21880333125591278, \n",
      "INFO:root:iteration= 2250, loss= 0.12013833969831467, \n",
      "INFO:root:iteration= 2260, loss= 0.3774843215942383, \n",
      "INFO:root:iteration= 2270, loss= 0.045957598835229874, \n",
      "INFO:root:iteration= 2280, loss= 0.1568269431591034, \n",
      "INFO:root:iteration= 2290, loss= 0.030678875744342804, \n",
      "INFO:root:iteration= 2300, loss= 0.47590571641921997, \n",
      "INFO:root:iteration= 2310, loss= 0.2758566737174988, \n",
      "INFO:root:iteration= 2320, loss= 0.31047049164772034, \n",
      "INFO:root:iteration= 2330, loss= 0.43074992299079895, \n",
      "INFO:root:iteration= 2340, loss= 0.22091037034988403, \n",
      "INFO:root:iteration= 2350, loss= 0.37561488151550293, \n",
      "INFO:root:iteration= 2360, loss= 0.4799012243747711, \n",
      "INFO:root:iteration= 2370, loss= 0.26967108249664307, \n",
      "INFO:root:iteration= 2380, loss= 0.5087370872497559, \n",
      "INFO:root:iteration= 2390, loss= 0.2490156888961792, \n",
      "INFO:root:iteration= 2400, loss= 0.26931872963905334, \n",
      "INFO:root:iteration= 2410, loss= 0.3284980356693268, \n",
      "INFO:root:iteration= 2420, loss= 0.4764542579650879, \n",
      "INFO:root:iteration= 2430, loss= 0.0766090378165245, \n",
      "INFO:root:iteration= 2440, loss= 0.23260828852653503, \n",
      "INFO:root:iteration= 2450, loss= 0.2522885501384735, \n",
      "INFO:root:iteration= 2460, loss= 0.09328678995370865, \n",
      "INFO:root:iteration= 2470, loss= 0.37265482544898987, \n",
      "INFO:root:iteration= 2480, loss= 0.48925113677978516, \n",
      "INFO:root:iteration= 2490, loss= 0.14475268125534058, \n",
      "INFO:root:iteration= 2500, loss= 0.455826997756958, \n",
      "INFO:root:iteration= 2510, loss= 0.07119178771972656, \n",
      "INFO:root:iteration= 2520, loss= 0.024298178032040596, \n",
      "INFO:root:iteration= 2530, loss= 0.3460049629211426, \n",
      "INFO:root:iteration= 2540, loss= 0.23461462557315826, \n",
      "INFO:root:iteration= 2550, loss= 0.2742473781108856, \n",
      "INFO:root:iteration= 2560, loss= 0.11908730864524841, \n",
      "INFO:root:iteration= 2570, loss= 0.09094744175672531, \n",
      "INFO:root:iteration= 2580, loss= 0.4039382338523865, \n",
      "INFO:root:iteration= 2590, loss= 0.34995242953300476, \n",
      "INFO:root:iteration= 2600, loss= 0.06277604401111603, \n",
      "INFO:root:iteration= 2610, loss= 0.09091895818710327, \n",
      "INFO:root:iteration= 2620, loss= 0.3294559717178345, \n",
      "INFO:root:iteration= 2630, loss= 0.2311205118894577, \n",
      "INFO:root:iteration= 2640, loss= 0.18654340505599976, \n",
      "INFO:root:iteration= 2650, loss= 0.3403039872646332, \n",
      "INFO:root:iteration= 2660, loss= 0.27266228199005127, \n",
      "INFO:root:iteration= 2670, loss= 0.4720379710197449, \n",
      "INFO:root:iteration= 2680, loss= 0.011790717951953411, \n",
      "INFO:root:iteration= 2690, loss= 0.14463289082050323, \n",
      "INFO:root:iteration= 2700, loss= 0.4313604533672333, \n",
      "INFO:root:iteration= 2710, loss= 0.23185232281684875, \n",
      "INFO:root:iteration= 2720, loss= 0.2769072353839874, \n",
      "INFO:root:iteration= 2730, loss= 0.494028240442276, \n",
      "INFO:root:iteration= 2740, loss= 0.29977187514305115, \n",
      "INFO:root:iteration= 2750, loss= 0.2590774595737457, \n",
      "INFO:root:iteration= 2760, loss= 0.4211331009864807, \n",
      "INFO:root:iteration= 2770, loss= 0.45668473839759827, \n",
      "INFO:root:iteration= 2780, loss= 0.1354195922613144, \n",
      "INFO:root:iteration= 2790, loss= 0.16243092715740204, \n",
      "INFO:root:iteration= 2800, loss= 0.45945826172828674, \n",
      "INFO:root:iteration= 2810, loss= 0.46094056963920593, \n",
      "INFO:root:iteration= 2820, loss= 0.09239670634269714, \n",
      "INFO:root:iteration= 2830, loss= 0.1866455227136612, \n",
      "INFO:root:iteration= 2840, loss= 0.1896359920501709, \n",
      "INFO:root:iteration= 2850, loss= 0.1395811289548874, \n",
      "INFO:root:iteration= 2860, loss= 0.415219247341156, \n",
      "INFO:root:iteration= 2870, loss= 0.3906877040863037, \n",
      "INFO:root:iteration= 2880, loss= 0.07733441889286041, \n",
      "INFO:root:iteration= 2890, loss= 0.23158860206604004, \n",
      "INFO:root:iteration= 2900, loss= 0.2982845902442932, \n",
      "INFO:root:iteration= 2910, loss= 0.4429410398006439, \n",
      "INFO:root:iteration= 2920, loss= 0.45241475105285645, \n",
      "INFO:root:iteration= 2930, loss= 0.3945325016975403, \n",
      "INFO:root:iteration= 2940, loss= 0.42939674854278564, \n",
      "INFO:root:iteration= 2950, loss= 0.2346685528755188, \n",
      "INFO:root:iteration= 2960, loss= 0.18245220184326172, \n",
      "INFO:root:iteration= 2970, loss= 0.27661213278770447, \n",
      "INFO:root:iteration= 2980, loss= 0.4578445851802826, \n",
      "INFO:root:iteration= 2990, loss= 0.20548970997333527, \n",
      "INFO:root:iteration= 3000, loss= 0.501225471496582, \n",
      "INFO:root:iteration= 3010, loss= 0.39342328906059265, \n",
      "INFO:root:iteration= 3020, loss= 0.3381519615650177, \n",
      "INFO:root:iteration= 3030, loss= 0.42383724451065063, \n",
      "INFO:root:iteration= 3040, loss= 0.5409274101257324, \n",
      "INFO:root:iteration= 3050, loss= 0.3744563162326813, \n",
      "INFO:root:iteration= 3060, loss= 0.3109227418899536, \n",
      "INFO:root:iteration= 3070, loss= 0.4727168679237366, \n",
      "INFO:root:iteration= 3080, loss= 0.13581420481204987, \n",
      "INFO:root:iteration= 3090, loss= 0.2913440465927124, \n",
      "INFO:root:iteration= 3100, loss= 0.20335014164447784, \n",
      "INFO:root:iteration= 3110, loss= 0.27607423067092896, \n",
      "INFO:root:iteration= 3120, loss= 0.0176896583288908, \n",
      "INFO:root:iteration= 3130, loss= 0.41181421279907227, \n",
      "INFO:root:iteration= 3140, loss= 0.39124980568885803, \n",
      "INFO:root:iteration= 3150, loss= 0.15193650126457214, \n",
      "INFO:root:iteration= 3160, loss= 0.2328076958656311, \n",
      "INFO:root:iteration= 3170, loss= 0.15571925044059753, \n",
      "INFO:root:iteration= 3180, loss= 0.19302429258823395, \n",
      "INFO:root:iteration= 3190, loss= 0.20055879652500153, \n",
      "INFO:root:iteration= 3200, loss= 0.17644771933555603, \n",
      "INFO:root:iteration= 3210, loss= 0.17321088910102844, \n",
      "INFO:root:iteration= 3220, loss= 0.38186192512512207, \n",
      "INFO:root:iteration= 3230, loss= 0.25313618779182434, \n",
      "INFO:root:iteration= 3240, loss= 0.235862135887146, \n",
      "INFO:root:iteration= 3250, loss= 0.45564112067222595, \n",
      "INFO:root:iteration= 3260, loss= 0.019065896049141884, \n",
      "INFO:root:iteration= 3270, loss= 0.07593225687742233, \n",
      "INFO:root:iteration= 3280, loss= 0.13870497047901154, \n",
      "INFO:root:iteration= 3290, loss= 0.2611143887042999, \n",
      "INFO:root:iteration= 3300, loss= 0.10679794102907181, \n",
      "INFO:root:iteration= 3310, loss= 0.18534868955612183, \n",
      "INFO:root:iteration= 3320, loss= 0.3006698489189148, \n",
      "INFO:root:iteration= 3330, loss= 0.392539381980896, \n",
      "INFO:root:iteration= 3340, loss= 0.10744315385818481, \n",
      "INFO:root:iteration= 3350, loss= 0.15372395515441895, \n",
      "INFO:root:iteration= 3360, loss= 0.3333328366279602, \n",
      "INFO:root:iteration= 3370, loss= 0.12936696410179138, \n",
      "INFO:root:iteration= 3380, loss= 0.4721304476261139, \n",
      "INFO:root:iteration= 3390, loss= 0.061400946229696274, \n",
      "INFO:root:iteration= 3400, loss= 0.4759174585342407, \n",
      "INFO:root:iteration= 3410, loss= 0.15960927307605743, \n",
      "INFO:root:iteration= 3420, loss= 0.2185496836900711, \n",
      "INFO:root:iteration= 3430, loss= 0.4561513066291809, \n",
      "INFO:root:iteration= 3440, loss= 0.489913672208786, \n",
      "INFO:root:iteration= 3450, loss= 0.04147957265377045, \n",
      "INFO:root:iteration= 3460, loss= 0.09762350469827652, \n",
      "INFO:root:iteration= 3470, loss= 0.08669297397136688, \n",
      "INFO:root:iteration= 3480, loss= 0.2575196921825409, \n",
      "INFO:root:iteration= 3490, loss= 0.15504658222198486, \n",
      "INFO:root:iteration= 3500, loss= 0.07265618443489075, \n",
      "INFO:root:iteration= 3510, loss= 0.16561903059482574, \n",
      "INFO:root:iteration= 3520, loss= 0.03833858296275139, \n",
      "INFO:root:iteration= 3530, loss= 0.06410618126392365, \n",
      "INFO:root:iteration= 3540, loss= 0.2303256392478943, \n",
      "INFO:root:iteration= 3550, loss= 0.289739191532135, \n",
      "INFO:root:iteration= 3560, loss= 0.2866668403148651, \n",
      "INFO:root:iteration= 3570, loss= 0.34672999382019043, \n",
      "INFO:root:iteration= 3580, loss= 0.23428383469581604, \n",
      "INFO:root:iteration= 3590, loss= 0.42225348949432373, \n",
      "INFO:root:iteration= 3600, loss= 0.4604251980781555, \n",
      "INFO:root:iteration= 3610, loss= 0.41268426179885864, \n",
      "INFO:root:iteration= 3620, loss= 0.26812198758125305, \n",
      "INFO:root:iteration= 3630, loss= 0.023537853732705116, \n",
      "INFO:root:iteration= 3640, loss= 0.007738853804767132, \n",
      "INFO:root:iteration= 3650, loss= 0.4945361614227295, \n",
      "INFO:root:iteration= 3660, loss= 0.30834415555000305, \n",
      "INFO:root:iteration= 3670, loss= 0.38450294733047485, \n",
      "INFO:root:iteration= 3680, loss= 0.23556214570999146, \n",
      "INFO:root:iteration= 3690, loss= 0.16639277338981628, \n",
      "INFO:root:iteration= 3700, loss= 0.3430919051170349, \n",
      "INFO:root:iteration= 3710, loss= 0.32265692949295044, \n",
      "INFO:root:iteration= 3720, loss= 0.20978029072284698, \n",
      "INFO:root:iteration= 3730, loss= 0.04479534924030304, \n",
      "INFO:root:iteration= 3740, loss= 0.08266936242580414, \n",
      "INFO:root:iteration= 3750, loss= 0.2033560425043106, \n",
      "INFO:root:iteration= 3760, loss= 0.353183388710022, \n",
      "INFO:root:iteration= 3770, loss= 0.07356565445661545, \n",
      "INFO:root:iteration= 3780, loss= 0.3130851686000824, \n",
      "INFO:root:iteration= 3790, loss= 0.3122306764125824, \n",
      "INFO:root:iteration= 3800, loss= 0.18922914564609528, \n",
      "INFO:root:iteration= 3810, loss= 0.39115655422210693, \n",
      "INFO:root:iteration= 3820, loss= 0.0814991146326065, \n",
      "INFO:root:iteration= 3830, loss= 0.36031901836395264, \n",
      "INFO:root:iteration= 3840, loss= 0.2771483361721039, \n",
      "INFO:root:iteration= 3850, loss= 0.1450227051973343, \n",
      "INFO:root:iteration= 3860, loss= 0.11326265335083008, \n",
      "INFO:root:iteration= 3870, loss= 0.3795190453529358, \n",
      "INFO:root:iteration= 3880, loss= 0.3628626763820648, \n",
      "INFO:root:iteration= 3890, loss= 0.1146654263138771, \n",
      "INFO:root:iteration= 3900, loss= 0.18432053923606873, \n",
      "INFO:root:iteration= 3910, loss= 0.1323649287223816, \n",
      "INFO:root:iteration= 3920, loss= 0.1455066055059433, \n",
      "INFO:root:iteration= 3930, loss= 0.5092934370040894, \n",
      "INFO:root:iteration= 3940, loss= 0.38814276456832886, \n",
      "INFO:root:iteration= 3950, loss= 0.3765873610973358, \n",
      "INFO:root:iteration= 3960, loss= 0.04602353274822235, \n",
      "INFO:root:iteration= 3970, loss= 0.10081923007965088, \n",
      "INFO:root:iteration= 3980, loss= 0.18407155573368073, \n",
      "INFO:root:iteration= 3990, loss= 0.2569391429424286, \n"
     ]
    },
    {
     "data": {
      "image/png": "[encoded data removed]",
      "text/plain": [
       "<Figure size 640x480 with 1 Axes>"
      ]
     },
     "metadata": {},
     "output_type": "display_data"
    }
   ],
   "source": [
    "import logging; logging.basicConfig(level=logging.INFO, force=True)\n",
    "\n",
    "curve = CurveHook()\n",
    "training_parameters = Training_parameters(n_epochs=4)\n",
    "\n",
    "with Session(db_engine) as db_session:\n",
    "    experiment = DBExperiment(name=\"test_experiment\", )\n",
    "    db_session.add(experiment)\n",
    "    trainer = Trainer(model, loader, training_parameters=training_parameters, device=\"cpu\",\n",
    "        step_hooks = [ \n",
    "            TqdmHook(),\n",
    "            LoggerHook(interval=10),\n",
    "            curve\n",
    "        ],\n",
    "        database=db_session, \n",
    "        db_experiment=experiment, )\n",
    "    experiment_id = experiment.id\n",
    "    trainer_id = trainer.id\n",
    "    if not skip_training: trainer.train()\n",
    "curve.draw()"
   ]
  },
  {
   "cell_type": "markdown",
   "id": "80466a2f-37e2-47f3-88c0-0d78313b8c38",
   "metadata": {},
   "source": [
    "Now check that we're able to resume training"
   ]
  },
  {
   "cell_type": "code",
   "execution_count": 43,
   "id": "5aecb616-7f4e-4cb9-9b8b-a23c7214ba06",
   "metadata": {},
   "outputs": [],
   "source": [
    "new_training_parameters = copy(training_parameters)\n",
    "new_training_parameters.n_epochs = 5\n",
    "with Session(db_engine) as db_session:\n",
    "    \n",
    "    trainer = Trainer(model, loader, \n",
    "                      training_parameters=training_parameters, device=\"cpu\",\n",
    "        step_hooks = [ \n",
    "            TqdmHook(),\n",
    "            LoggerHook(interval=10),\n",
    "            curve\n",
    "        ],\n",
    "        database=db_session, \n",
    "        db_experiment=experiment_id, \n",
    "        resume_from=trainer_id)\n",
    "    if not skip_training: trainer.train()"
   ]
  },
  {
   "cell_type": "code",
   "execution_count": 44,
   "id": "6209b798-bdf6-4e91-9fd0-b9ba629c9e5b",
   "metadata": {},
   "outputs": [
    {
     "data": {
      "image/png": "[encoded data removed]",
      "text/plain": [
       "<Figure size 640x480 with 1 Axes>"
      ]
     },
     "metadata": {},
     "output_type": "display_data"
    }
   ],
   "source": [
    "curve.draw()"
   ]
  },
  {
   "cell_type": "markdown",
   "id": "90eb2e13-edfb-4b40-87d0-f8339cb47488",
   "metadata": {},
   "source": [
    "## Automated experiment"
   ]
  },
  {
   "cell_type": "code",
   "execution_count": 45,
   "id": "a585c7ec-981d-485b-8905-470685a2cf94",
   "metadata": {},
   "outputs": [
    {
     "name": "stdout",
     "output_type": "stream",
     "text": [
      "\n",
      "models:\n",
      "  - name: test_model1\n",
      "    type: SimpleMLPModel\n",
      "    params:\n",
      "      dimensions: [4, 5, 10, 4]\n",
      "    training_parameters:\n",
      "      n_epochs: 2\n",
      "      performance_tricks: False\n",
      "      step_hooks:\n",
      "        - LoggerHook\n",
      "      batch_size: 10\n",
      "datasets:\n",
      "  train:\n",
      "    type: Torus4D\n",
      "    params:\n",
      "      size: 1000\n",
      "    transforms: \n",
      "      - CacheTransform\n",
      "      - type: RenameTransform\n",
      "        args: \n",
      "          - x: _\n",
      "      - type: RenameTransform\n",
      "        args:\n",
      "          - x: x\n",
      "            y: x\n",
      "      - TestTransform\n"
     ]
    }
   ],
   "source": [
    "cat workdir/test_config.yaml"
   ]
  },
  {
   "cell_type": "code",
   "execution_count": 46,
   "id": "af76411d-a3b5-4814-a3de-a6fd4fc4dc87",
   "metadata": {},
   "outputs": [
    {
     "name": "stderr",
     "output_type": "stream",
     "text": [
      "WARNING:ml_lib.models.base_classes:Model SimpleMLPModel(\n",
      "    dimensions=[4, 5, 10, 4],\n",
      "    feature_specification=FeatureSpecification(MSEFeature(name='location', dim=4, loss_coef=1.0)),\n",
      ") is not in the database, but has a name. Adding\n",
      "INFO:root:iteration= 0, loss= 0.604749858379364, \n",
      "INFO:root:iteration= 1, loss= 0.6666573286056519, \n",
      "INFO:root:iteration= 2, loss= 0.5416445732116699, \n",
      "INFO:root:iteration= 3, loss= 0.5754597783088684, \n",
      "INFO:root:iteration= 4, loss= 0.5453375577926636, \n",
      "INFO:root:iteration= 5, loss= 0.6491261720657349, \n",
      "INFO:root:iteration= 6, loss= 0.6549242734909058, \n",
      "INFO:root:iteration= 7, loss= 0.6067870855331421, \n",
      "INFO:root:iteration= 8, loss= 0.5998878479003906, \n",
      "INFO:root:iteration= 9, loss= 0.728087306022644, \n",
      "INFO:root:iteration= 10, loss= 0.6015881299972534, \n",
      "INFO:root:iteration= 11, loss= 0.7072098255157471, \n",
      "INFO:root:iteration= 12, loss= 0.49508747458457947, \n",
      "INFO:root:iteration= 13, loss= 0.5611785650253296, \n",
      "INFO:root:iteration= 14, loss= 0.43545466661453247, \n",
      "INFO:root:iteration= 15, loss= 0.5936022996902466, \n",
      "INFO:root:iteration= 16, loss= 0.5920406579971313, \n",
      "INFO:root:iteration= 17, loss= 0.5045078992843628, \n",
      "INFO:root:iteration= 18, loss= 0.5539318919181824, \n",
      "INFO:root:iteration= 19, loss= 0.6020394563674927, \n",
      "INFO:root:iteration= 20, loss= 0.6637468934059143, \n",
      "INFO:root:iteration= 21, loss= 0.4641229212284088, \n",
      "INFO:root:iteration= 22, loss= 0.6123583316802979, \n",
      "INFO:root:iteration= 23, loss= 0.6524462699890137, \n",
      "INFO:root:iteration= 24, loss= 0.4479897618293762, \n",
      "INFO:root:iteration= 25, loss= 0.6486572027206421, \n",
      "INFO:root:iteration= 26, loss= 0.5551052689552307, \n",
      "INFO:root:iteration= 27, loss= 0.4946030080318451, \n",
      "INFO:root:iteration= 28, loss= 0.5413479208946228, \n",
      "INFO:root:iteration= 29, loss= 0.6165609359741211, \n",
      "INFO:root:iteration= 30, loss= 0.581317126750946, \n",
      "INFO:root:iteration= 31, loss= 0.5273341536521912, \n",
      "INFO:root:iteration= 32, loss= 0.6367661356925964, \n",
      "INFO:root:iteration= 33, loss= 0.5767270922660828, \n",
      "INFO:root:iteration= 34, loss= 0.5597143769264221, \n",
      "INFO:root:iteration= 35, loss= 0.6176075339317322, \n",
      "INFO:root:iteration= 36, loss= 0.6567783355712891, \n",
      "INFO:root:iteration= 37, loss= 0.5383894443511963, \n",
      "INFO:root:iteration= 38, loss= 0.4965614676475525, \n",
      "INFO:root:iteration= 39, loss= 0.5530300736427307, \n",
      "INFO:root:iteration= 40, loss= 0.4702439308166504, \n",
      "INFO:root:iteration= 41, loss= 0.5726305842399597, \n",
      "INFO:root:iteration= 42, loss= 0.5580650568008423, \n",
      "INFO:root:iteration= 43, loss= 0.4133323132991791, \n",
      "INFO:root:iteration= 44, loss= 0.6693748831748962, \n",
      "INFO:root:iteration= 45, loss= 0.6740139722824097, \n",
      "INFO:root:iteration= 46, loss= 0.5390707850456238, \n",
      "INFO:root:iteration= 47, loss= 0.5443386435508728, \n",
      "INFO:root:iteration= 48, loss= 0.5714110732078552, \n",
      "INFO:root:iteration= 49, loss= 0.515358030796051, \n",
      "INFO:root:iteration= 50, loss= 0.5389637351036072, \n",
      "INFO:root:iteration= 51, loss= 0.5292248725891113, \n",
      "INFO:root:iteration= 52, loss= 0.6081593632698059, \n",
      "INFO:root:iteration= 53, loss= 0.5169482231140137, \n",
      "INFO:root:iteration= 54, loss= 0.5086914300918579, \n",
      "INFO:root:iteration= 55, loss= 0.6386129260063171, \n",
      "INFO:root:iteration= 56, loss= 0.5583130121231079, \n",
      "INFO:root:iteration= 57, loss= 0.559419572353363, \n",
      "INFO:root:iteration= 58, loss= 0.4592653214931488, \n",
      "INFO:root:iteration= 59, loss= 0.46140891313552856, \n",
      "INFO:root:iteration= 60, loss= 0.5738756060600281, \n",
      "INFO:root:iteration= 61, loss= 0.4081994891166687, \n",
      "INFO:root:iteration= 62, loss= 0.5522775650024414, \n",
      "INFO:root:iteration= 63, loss= 0.480613648891449, \n",
      "INFO:root:iteration= 64, loss= 0.5919721722602844, \n",
      "INFO:root:iteration= 65, loss= 0.46643227338790894, \n",
      "INFO:root:iteration= 66, loss= 0.5650190114974976, \n",
      "INFO:root:iteration= 67, loss= 0.516261100769043, \n",
      "INFO:root:iteration= 68, loss= 0.4927801489830017, \n",
      "INFO:root:iteration= 69, loss= 0.5563572645187378, \n",
      "INFO:root:iteration= 70, loss= 0.5577295422554016, \n",
      "INFO:root:iteration= 71, loss= 0.4377046525478363, \n",
      "INFO:root:iteration= 72, loss= 0.4870586395263672, \n",
      "INFO:root:iteration= 73, loss= 0.5467455983161926, \n",
      "INFO:root:iteration= 74, loss= 0.5125095844268799, \n",
      "INFO:root:iteration= 75, loss= 0.5694729089736938, \n",
      "INFO:root:iteration= 76, loss= 0.4898568093776703, \n",
      "INFO:root:iteration= 77, loss= 0.5007685422897339, \n",
      "INFO:root:iteration= 78, loss= 0.5246883630752563, \n",
      "INFO:root:iteration= 79, loss= 0.5195037722587585, \n",
      "INFO:root:iteration= 80, loss= 0.49720802903175354, \n",
      "INFO:root:iteration= 81, loss= 0.5425241589546204, \n",
      "INFO:root:iteration= 82, loss= 0.5383746027946472, \n",
      "INFO:root:iteration= 83, loss= 0.55149906873703, \n",
      "INFO:root:iteration= 84, loss= 0.5913087129592896, \n",
      "INFO:root:iteration= 85, loss= 0.5442218780517578, \n",
      "INFO:root:iteration= 86, loss= 0.521490216255188, \n",
      "INFO:root:iteration= 87, loss= 0.5133055448532104, \n",
      "INFO:root:iteration= 88, loss= 0.44706565141677856, \n",
      "INFO:root:iteration= 89, loss= 0.5454325675964355, \n",
      "INFO:root:iteration= 90, loss= 0.5096555948257446, \n",
      "INFO:root:iteration= 91, loss= 0.52004474401474, \n",
      "INFO:root:iteration= 92, loss= 0.4773235321044922, \n",
      "INFO:root:iteration= 93, loss= 0.5554834604263306, \n",
      "INFO:root:iteration= 94, loss= 0.5063292384147644, \n",
      "INFO:root:iteration= 95, loss= 0.5322092175483704, \n",
      "INFO:root:iteration= 96, loss= 0.4483906328678131, \n",
      "INFO:root:iteration= 97, loss= 0.4772581458091736, \n",
      "INFO:root:iteration= 98, loss= 0.5389601588249207, \n",
      "INFO:root:iteration= 99, loss= 0.46440696716308594, \n",
      "INFO:root:iteration= 100, loss= 0.5240057706832886, \n",
      "INFO:root:iteration= 101, loss= 0.49827051162719727, \n",
      "INFO:root:iteration= 102, loss= 0.4780341684818268, \n",
      "INFO:root:iteration= 103, loss= 0.5486451387405396, \n",
      "INFO:root:iteration= 104, loss= 0.46488362550735474, \n",
      "INFO:root:iteration= 105, loss= 0.514476478099823, \n",
      "INFO:root:iteration= 106, loss= 0.4958605170249939, \n",
      "INFO:root:iteration= 107, loss= 0.47066783905029297, \n",
      "INFO:root:iteration= 108, loss= 0.5073212385177612, \n",
      "INFO:root:iteration= 109, loss= 0.5023664832115173, \n",
      "INFO:root:iteration= 110, loss= 0.4636301100254059, \n",
      "INFO:root:iteration= 111, loss= 0.4860151708126068, \n",
      "INFO:root:iteration= 112, loss= 0.5146586298942566, \n",
      "INFO:root:iteration= 113, loss= 0.5083872079849243, \n",
      "INFO:root:iteration= 114, loss= 0.5479974150657654, \n",
      "INFO:root:iteration= 115, loss= 0.5257161259651184, \n",
      "INFO:root:iteration= 116, loss= 0.5193591117858887, \n",
      "INFO:root:iteration= 117, loss= 0.5350483655929565, \n",
      "INFO:root:iteration= 118, loss= 0.481954425573349, \n",
      "INFO:root:iteration= 119, loss= 0.4880806803703308, \n",
      "INFO:root:iteration= 120, loss= 0.4868012070655823, \n",
      "INFO:root:iteration= 121, loss= 0.46651163697242737, \n",
      "INFO:root:iteration= 122, loss= 0.4885103106498718, \n",
      "INFO:root:iteration= 123, loss= 0.49398964643478394, \n",
      "INFO:root:iteration= 124, loss= 0.47044000029563904, \n",
      "INFO:root:iteration= 125, loss= 0.4548512399196625, \n",
      "INFO:root:iteration= 126, loss= 0.5109328627586365, \n",
      "INFO:root:iteration= 127, loss= 0.45480164885520935, \n",
      "INFO:root:iteration= 128, loss= 0.496368944644928, \n",
      "INFO:root:iteration= 129, loss= 0.5213791728019714, \n",
      "INFO:root:iteration= 130, loss= 0.46090245246887207, \n",
      "INFO:root:iteration= 131, loss= 0.49404820799827576, \n",
      "INFO:root:iteration= 132, loss= 0.5069765448570251, \n",
      "INFO:root:iteration= 133, loss= 0.46221843361854553, \n",
      "INFO:root:iteration= 134, loss= 0.5037170052528381, \n",
      "INFO:root:iteration= 135, loss= 0.46915778517723083, \n",
      "INFO:root:iteration= 136, loss= 0.4545958638191223, \n",
      "INFO:root:iteration= 137, loss= 0.544941246509552, \n",
      "INFO:root:iteration= 138, loss= 0.46668267250061035, \n",
      "INFO:root:iteration= 139, loss= 0.48924317955970764, \n",
      "INFO:root:iteration= 140, loss= 0.4975222945213318, \n",
      "INFO:root:iteration= 141, loss= 0.5082646608352661, \n",
      "INFO:root:iteration= 142, loss= 0.4972066879272461, \n",
      "INFO:root:iteration= 143, loss= 0.42497292160987854, \n",
      "INFO:root:iteration= 144, loss= 0.4811909794807434, \n",
      "INFO:root:iteration= 145, loss= 0.49812060594558716, \n",
      "INFO:root:iteration= 146, loss= 0.45389524102211, \n",
      "INFO:root:iteration= 147, loss= 0.5040059685707092, \n",
      "INFO:root:iteration= 148, loss= 0.5053166151046753, \n",
      "INFO:root:iteration= 149, loss= 0.4742467403411865, \n",
      "INFO:root:iteration= 150, loss= 0.5014159679412842, \n",
      "INFO:root:iteration= 151, loss= 0.48467499017715454, \n",
      "INFO:root:iteration= 152, loss= 0.4338266849517822, \n",
      "INFO:root:iteration= 153, loss= 0.4725949168205261, \n",
      "INFO:root:iteration= 154, loss= 0.4887457489967346, \n",
      "INFO:root:iteration= 155, loss= 0.5132495164871216, \n",
      "INFO:root:iteration= 156, loss= 0.4767552316188812, \n",
      "INFO:root:iteration= 157, loss= 0.486439049243927, \n",
      "INFO:root:iteration= 158, loss= 0.5002509355545044, \n",
      "INFO:root:iteration= 159, loss= 0.45520272850990295, \n",
      "INFO:root:iteration= 160, loss= 0.4554261565208435, \n",
      "INFO:root:iteration= 161, loss= 0.4640507698059082, \n",
      "INFO:root:iteration= 162, loss= 0.4741418957710266, \n",
      "INFO:root:iteration= 163, loss= 0.5059298872947693, \n",
      "INFO:root:iteration= 164, loss= 0.471040815114975, \n",
      "INFO:root:iteration= 165, loss= 0.4808017611503601, \n",
      "INFO:root:iteration= 166, loss= 0.4888129234313965, \n",
      "INFO:root:iteration= 167, loss= 0.5100926160812378, \n",
      "INFO:root:iteration= 168, loss= 0.5010252594947815, \n",
      "INFO:root:iteration= 169, loss= 0.4965771734714508, \n",
      "INFO:root:iteration= 170, loss= 0.47406673431396484, \n",
      "INFO:root:iteration= 171, loss= 0.5011234283447266, \n",
      "INFO:root:iteration= 172, loss= 0.46405476331710815, \n",
      "INFO:root:iteration= 173, loss= 0.4736146926879883, \n",
      "INFO:root:iteration= 174, loss= 0.4789707660675049, \n",
      "INFO:root:iteration= 175, loss= 0.4294624328613281, \n",
      "INFO:root:iteration= 176, loss= 0.493600070476532, \n",
      "INFO:root:iteration= 177, loss= 0.46423912048339844, \n",
      "INFO:root:iteration= 178, loss= 0.4545004963874817, \n",
      "INFO:root:iteration= 179, loss= 0.5070754289627075, \n",
      "INFO:root:iteration= 180, loss= 0.506353497505188, \n",
      "INFO:root:iteration= 181, loss= 0.45579057931900024, \n",
      "INFO:root:iteration= 182, loss= 0.4784741997718811, \n",
      "INFO:root:iteration= 183, loss= 0.45192426443099976, \n",
      "INFO:root:iteration= 184, loss= 0.4911852777004242, \n",
      "INFO:root:iteration= 185, loss= 0.468860000371933, \n",
      "INFO:root:iteration= 186, loss= 0.45872220396995544, \n",
      "INFO:root:iteration= 187, loss= 0.4566873610019684, \n",
      "INFO:root:iteration= 188, loss= 0.47507280111312866, \n",
      "INFO:root:iteration= 189, loss= 0.49203768372535706, \n",
      "INFO:root:iteration= 190, loss= 0.44621676206588745, \n",
      "INFO:root:iteration= 191, loss= 0.4678207337856293, \n",
      "INFO:root:iteration= 192, loss= 0.4524533748626709, \n",
      "INFO:root:iteration= 193, loss= 0.4604128897190094, \n",
      "INFO:root:iteration= 194, loss= 0.46902361512184143, \n",
      "INFO:root:iteration= 195, loss= 0.4574713706970215, \n",
      "INFO:root:iteration= 196, loss= 0.44547849893569946, \n",
      "INFO:root:iteration= 197, loss= 0.44354087114334106, \n",
      "INFO:root:iteration= 198, loss= 0.4644904136657715, \n",
      "INFO:root:iteration= 199, loss= 0.42271319031715393, \n"
     ]
    }
   ],
   "source": [
    "from ml_lib.pipeline.experiment import Experiment\n",
    "with Session(db_engine) as db_session:\n",
    "    #import pdb;pdb.set_trace()\n",
    "    exp = Experiment.from_yaml(\"workdir/test_config.yaml\", database_session=db_session)\n",
    "    exp.train_all()"
   ]
  },
  {
   "cell_type": "code",
   "execution_count": 47,
   "id": "283f6af1-16e6-44db-86fa-606d8389155d",
   "metadata": {
    "scrolled": true
   },
   "outputs": [],
   "source": [
    "with Session(db_engine) as db_session:\n",
    "    #import pdb;pdb.set_trace()\n",
    "    exp = Experiment.from_yaml(\"workdir/test_config.yaml\", database_session=db_session)\n",
    "    exp.train_all()"
   ]
  },
  {
   "cell_type": "code",
   "execution_count": 44,
   "id": "2c501111-f5d4-4f62-9b31-eb18b3ea552d",
   "metadata": {},
   "outputs": [
    {
     "ename": "AttributeError",
     "evalue": "'NoneType' object has no attribute 'training_runs'",
     "output_type": "error",
     "traceback": [
      "\u001b[0;31m---------------------------------------------------------------------------\u001b[0m",
      "\u001b[0;31mAttributeError\u001b[0m                            Traceback (most recent call last)",
      "Cell \u001b[0;32mIn[44], line 4\u001b[0m\n\u001b[1;32m      1\u001b[0m \u001b[38;5;28;01mwith\u001b[39;00m Session(db_engine) \u001b[38;5;28;01mas\u001b[39;00m db_session:\n\u001b[1;32m      3\u001b[0m     db_model \u001b[38;5;241m=\u001b[39m Database_Model\u001b[38;5;241m.\u001b[39mget_by_name(\u001b[38;5;124m\"\u001b[39m\u001b[38;5;124mtest_model1\u001b[39m\u001b[38;5;124m\"\u001b[39m, db_session)\n\u001b[0;32m----> 4\u001b[0m     \u001b[38;5;28mprint\u001b[39m(\u001b[43mdb_model\u001b[49m\u001b[38;5;241;43m.\u001b[39;49m\u001b[43mtraining_runs\u001b[49m)\n",
      "\u001b[0;31mAttributeError\u001b[0m: 'NoneType' object has no attribute 'training_runs'"
     ]
    }
   ],
   "source": [
    "with Session(db_engine) as db_session:\n",
    "\n",
    "    db_model = Database_Model.get_by_name(\"test_model1\", db_session)\n",
    "    print(db_model.training_runs)\n",
    "    "
   ]
  },
  {
   "cell_type": "markdown",
   "id": "77a9b7e3-40d7-44d6-9e03-06c91181baf4",
   "metadata": {},
   "source": [
    "## Misc"
   ]
  },
  {
   "cell_type": "code",
   "execution_count": 49,
   "id": "45247357-c2b0-4f94-aa17-0b29e509ea32",
   "metadata": {},
   "outputs": [],
   "source": [
    "from ml_lib.misc.matchers import EmptySet"
   ]
  },
  {
   "cell_type": "code",
   "execution_count": 50,
   "id": "18fe4171-d9ff-40ed-bae1-278b4d8f7e1b",
   "metadata": {},
   "outputs": [
    {
     "data": {
      "text/plain": [
       "True"
      ]
     },
     "execution_count": 50,
     "metadata": {},
     "output_type": "execute_result"
    }
   ],
   "source": [
    "isinstance(set(), EmptySet)"
   ]
  },
  {
   "cell_type": "code",
   "execution_count": 51,
   "id": "4edd573f-c387-47b6-b632-db8a615d15e8",
   "metadata": {},
   "outputs": [
    {
     "data": {
      "text/plain": [
       "False"
      ]
     },
     "execution_count": 51,
     "metadata": {},
     "output_type": "execute_result"
    }
   ],
   "source": [
    "isinstance(set([1]), EmptySet)"
   ]
  },
  {
   "cell_type": "code",
   "execution_count": 52,
   "id": "7b0455b4-94b8-4698-b6e9-20647e04daf9",
   "metadata": {},
   "outputs": [
    {
     "name": "stdout",
     "output_type": "stream",
     "text": [
      "Tristan, you are a terrible person\n",
      "But it works\n"
     ]
    }
   ],
   "source": [
    "match set():\n",
    "    case EmptySet():\n",
    "        print(\"Tristan, you are a terrible person\")\n",
    "    case _:\n",
    "        print(\"ugh\")\n",
    "\n",
    "match {1, 2, 3}:\n",
    "    case EmptySet():\n",
    "        print(\"ugh\")\n",
    "    case _:\n",
    "        print(\"But it works\")"
   ]
  },
  {
   "cell_type": "markdown",
   "id": "897a6ae4-e312-4eb4-8b26-a1d4507bf41e",
   "metadata": {},
   "source": [
    "Someday I'll make one of those that checks for regular expressions… and that will be absolutely terrible"
   ]
  },
  {
   "cell_type": "code",
   "execution_count": 53,
   "id": "a523e383-97ac-4ee1-8973-c801a03b6976",
   "metadata": {},
   "outputs": [
    {
     "name": "stdout",
     "output_type": "stream",
     "text": [
      "Unexpected exception formatting exception. Falling back to standard exception\n"
     ]
    },
    {
     "name": "stderr",
     "output_type": "stream",
     "text": [
      "Traceback (most recent call last):\n",
      "  File \"/home/tris/.cache/pypoetry/virtualenvs/ml-lib-0sbOzrlG-py3.11/lib/python3.11/site-packages/IPython/core/interactiveshell.py\", line 3505, in run_code\n",
      "    exec(code_obj, self.user_global_ns, self.user_ns)\n",
      "  File \"/tmp/ipykernel_306710/3325999472.py\", line 2, in <module>\n",
      "    isinstance(Literal[3, 4], Literal)\n",
      "  File \"/usr/lib/python3.11/typing.py\", line 481, in __instancecheck__\n",
      "    raise TypeError(f\"{self} cannot be used with isinstance()\")\n",
      "TypeError: typing.Literal cannot be used with isinstance()\n",
      "\n",
      "During handling of the above exception, another exception occurred:\n",
      "\n",
      "Traceback (most recent call last):\n",
      "  File \"/home/tris/.cache/pypoetry/virtualenvs/ml-lib-0sbOzrlG-py3.11/lib/python3.11/site-packages/IPython/core/interactiveshell.py\", line 2102, in showtraceback\n",
      "    stb = self.InteractiveTB.structured_traceback(\n",
      "          ^^^^^^^^^^^^^^^^^^^^^^^^^^^^^^^^^^^^^^^^\n",
      "  File \"/home/tris/.cache/pypoetry/virtualenvs/ml-lib-0sbOzrlG-py3.11/lib/python3.11/site-packages/IPython/core/ultratb.py\", line 1310, in structured_traceback\n",
      "    return FormattedTB.structured_traceback(\n",
      "           ^^^^^^^^^^^^^^^^^^^^^^^^^^^^^^^^^\n",
      "  File \"/home/tris/.cache/pypoetry/virtualenvs/ml-lib-0sbOzrlG-py3.11/lib/python3.11/site-packages/IPython/core/ultratb.py\", line 1199, in structured_traceback\n",
      "    return VerboseTB.structured_traceback(\n",
      "           ^^^^^^^^^^^^^^^^^^^^^^^^^^^^^^^\n",
      "  File \"/home/tris/.cache/pypoetry/virtualenvs/ml-lib-0sbOzrlG-py3.11/lib/python3.11/site-packages/IPython/core/ultratb.py\", line 1052, in structured_traceback\n",
      "    formatted_exception = self.format_exception_as_a_whole(etype, evalue, etb, number_of_lines_of_context,\n",
      "                          ^^^^^^^^^^^^^^^^^^^^^^^^^^^^^^^^^^^^^^^^^^^^^^^^^^^^^^^^^^^^^^^^^^^^^^^^^^^^^^^^\n",
      "  File \"/home/tris/.cache/pypoetry/virtualenvs/ml-lib-0sbOzrlG-py3.11/lib/python3.11/site-packages/IPython/core/ultratb.py\", line 953, in format_exception_as_a_whole\n",
      "    self.get_records(etb, number_of_lines_of_context, tb_offset) if etb else []\n",
      "    ^^^^^^^^^^^^^^^^^^^^^^^^^^^^^^^^^^^^^^^^^^^^^^^^^^^^^^^^^^^^\n",
      "  File \"/home/tris/.cache/pypoetry/virtualenvs/ml-lib-0sbOzrlG-py3.11/lib/python3.11/site-packages/IPython/core/ultratb.py\", line 1022, in get_records\n",
      "    lines, first = inspect.getsourcelines(etb.tb_frame)\n",
      "                   ^^^^^^^^^^^^^^^^^^^^^^^^^^^^^^^^^^^^\n",
      "  File \"/usr/lib/python3.11/inspect.py\", line 1244, in getsourcelines\n",
      "    lines, lnum = findsource(object)\n",
      "                  ^^^^^^^^^^^^^^^^^^\n",
      "  File \"/usr/lib/python3.11/inspect.py\", line 1075, in findsource\n",
      "    module = getmodule(object, file)\n",
      "             ^^^^^^^^^^^^^^^^^^^^^^^\n",
      "  File \"/usr/lib/python3.11/inspect.py\", line 992, in getmodule\n",
      "    if ismodule(module) and hasattr(module, '__file__'):\n",
      "                            ^^^^^^^^^^^^^^^^^^^^^^^^^^^\n",
      "  File \"<frozen importlib.util>\", line 252, in __getattribute__\n",
      "ValueError: module object for 'ml_lib.datasets.feature_specification' substituted in sys.modules during a lazy load\n"
     ]
    }
   ],
   "source": [
    "from typing import Literal\n",
    "isinstance(Literal[3, 4], Literal)\n",
    "\n"
   ]
  },
  {
   "cell_type": "code",
   "execution_count": null,
   "id": "2427935d-0527-4959-9c9b-e484a4c2c7a0",
   "metadata": {},
   "outputs": [],
   "source": [
    "Literal[1, 2] == Literal[2, 1]"
   ]
  },
  {
   "cell_type": "code",
   "execution_count": null,
   "id": "f73fcebf-f9b2-4f2d-be53-b41b628d9286",
   "metadata": {},
   "outputs": [],
   "source": [
    "Literal[1, 2].__dict__"
   ]
  },
  {
   "cell_type": "code",
   "execution_count": null,
   "id": "18ee4647-b0d9-4ba3-a335-b2f5f163c56b",
   "metadata": {},
   "outputs": [],
   "source": [
    "import typing\n",
    "Hyperparameter[list[int]].__origin__.__origin__"
   ]
  },
  {
   "cell_type": "code",
   "execution_count": null,
   "id": "c2baed22-3896-49cc-a1dc-3542543a915b",
   "metadata": {},
   "outputs": [],
   "source": [
    "typing.get_args(Hyperparameter[list[int]])"
   ]
  },
  {
   "cell_type": "code",
   "execution_count": null,
   "id": "4ea3ae5f-c312-4a04-84ce-f5babd5de9a0",
   "metadata": {},
   "outputs": [],
   "source": []
  },
  {
   "cell_type": "code",
   "execution_count": null,
   "id": "44a9af46-937a-464a-9865-35fa02c6b055",
   "metadata": {},
   "outputs": [],
   "source": []
  },
  {
   "cell_type": "code",
   "execution_count": null,
   "id": "4c501b3c-df33-45e0-b553-22ec9705f0a5",
   "metadata": {},
   "outputs": [],
   "source": []
  }
 ],
 "metadata": {
  "kernelspec": {
   "display_name": "Python 3 (ipykernel)",
   "language": "python",
   "name": "python3"
  },
  "language_info": {
   "codemirror_mode": {
    "name": "ipython",
    "version": 3
   },
   "file_extension": ".py",
   "mimetype": "text/x-python",
   "name": "python",
   "nbconvert_exporter": "python",
   "pygments_lexer": "ipython3",
   "version": "3.11.8"
  }
 },
 "nbformat": 4,
 "nbformat_minor": 5
}
