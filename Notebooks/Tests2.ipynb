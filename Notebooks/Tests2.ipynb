{
 "cells": [
  {
   "cell_type": "markdown",
   "id": "988b919e-7daf-4162-8c84-b2890ab82cac",
   "metadata": {},
   "source": [
    "# Tests"
   ]
  },
  {
   "cell_type": "markdown",
   "id": "afb7059d-3b1c-4363-9735-2629bf454125",
   "metadata": {},
   "source": [
    "## Imports and stuff"
   ]
  },
  {
   "cell_type": "code",
   "execution_count": 1,
   "id": "a756cc65-6c1e-472b-9b9c-0abdf60a1b6c",
   "metadata": {
    "tags": []
   },
   "outputs": [],
   "source": [
    "import sys\n",
    "from copy import copy\n",
    "\n",
    "def append_path(s):\n",
    "    if s in sys.path:\n",
    "        return\n",
    "    sys.path.append(s)\n",
    "\n",
    "append_path(\"..\")\n",
    "%load_ext autoreload\n",
    "#%autoreload 2"
   ]
  },
  {
   "cell_type": "code",
   "execution_count": 2,
   "id": "d469e6ee-0505-4851-8bf6-4d31ab8ae3ea",
   "metadata": {},
   "outputs": [],
   "source": [
    "import numpy as np\n",
    "from numpy.random import default_rng\n",
    "rng = default_rng()\n",
    "import matplotlib.pyplot as plt\n",
    "import matplotlib.ticker as ticker\n",
    "import networkx as nx\n",
    "import torch\n",
    "from torch import Tensor\n"
   ]
  },
  {
   "cell_type": "code",
   "execution_count": 3,
   "id": "3475ed6e-5d9e-47ae-911d-41caed2a7cf6",
   "metadata": {},
   "outputs": [
    {
     "name": "stdout",
     "output_type": "stream",
     "text": [
      "Error in callback <bound method AutoreloadMagics.post_execute_hook of <IPython.extensions.autoreload.AutoreloadMagics object at 0x7a4244cf0790>> (for post_execute):\n"
     ]
    },
    {
     "ename": "ValueError",
     "evalue": "module object for 'ml_lib.datasets.feature_specification' substituted in sys.modules during a lazy load",
     "output_type": "error",
     "traceback": [
      "\u001b[0;31m---------------------------------------------------------------------------\u001b[0m",
      "\u001b[0;31mValueError\u001b[0m                                Traceback (most recent call last)",
      "File \u001b[0;32m~/.cache/pypoetry/virtualenvs/ml-lib-0sbOzrlG-py3.11/lib/python3.11/site-packages/IPython/extensions/autoreload.py:700\u001b[0m, in \u001b[0;36mAutoreloadMagics.post_execute_hook\u001b[0;34m(self)\u001b[0m\n\u001b[1;32m    698\u001b[0m newly_loaded_modules \u001b[38;5;241m=\u001b[39m \u001b[38;5;28mset\u001b[39m(sys\u001b[38;5;241m.\u001b[39mmodules) \u001b[38;5;241m-\u001b[39m \u001b[38;5;28mself\u001b[39m\u001b[38;5;241m.\u001b[39mloaded_modules\n\u001b[1;32m    699\u001b[0m \u001b[38;5;28;01mfor\u001b[39;00m modname \u001b[38;5;129;01min\u001b[39;00m newly_loaded_modules:\n\u001b[0;32m--> 700\u001b[0m     _, pymtime \u001b[38;5;241m=\u001b[39m \u001b[38;5;28;43mself\u001b[39;49m\u001b[38;5;241;43m.\u001b[39;49m\u001b[43m_reloader\u001b[49m\u001b[38;5;241;43m.\u001b[39;49m\u001b[43mfilename_and_mtime\u001b[49m\u001b[43m(\u001b[49m\u001b[43msys\u001b[49m\u001b[38;5;241;43m.\u001b[39;49m\u001b[43mmodules\u001b[49m\u001b[43m[\u001b[49m\u001b[43mmodname\u001b[49m\u001b[43m]\u001b[49m\u001b[43m)\u001b[49m\n\u001b[1;32m    701\u001b[0m     \u001b[38;5;28;01mif\u001b[39;00m pymtime \u001b[38;5;129;01mis\u001b[39;00m \u001b[38;5;129;01mnot\u001b[39;00m \u001b[38;5;28;01mNone\u001b[39;00m:\n\u001b[1;32m    702\u001b[0m         \u001b[38;5;28mself\u001b[39m\u001b[38;5;241m.\u001b[39m_reloader\u001b[38;5;241m.\u001b[39mmodules_mtimes[modname] \u001b[38;5;241m=\u001b[39m pymtime\n",
      "File \u001b[0;32m~/.cache/pypoetry/virtualenvs/ml-lib-0sbOzrlG-py3.11/lib/python3.11/site-packages/IPython/extensions/autoreload.py:208\u001b[0m, in \u001b[0;36mModuleReloader.filename_and_mtime\u001b[0;34m(self, module)\u001b[0m\n\u001b[1;32m    207\u001b[0m \u001b[38;5;28;01mdef\u001b[39;00m \u001b[38;5;21mfilename_and_mtime\u001b[39m(\u001b[38;5;28mself\u001b[39m, module):\n\u001b[0;32m--> 208\u001b[0m     \u001b[38;5;28;01mif\u001b[39;00m \u001b[38;5;129;01mnot\u001b[39;00m \u001b[38;5;28mhasattr\u001b[39m(module, \u001b[38;5;124m\"\u001b[39m\u001b[38;5;124m__file__\u001b[39m\u001b[38;5;124m\"\u001b[39m) \u001b[38;5;129;01mor\u001b[39;00m module\u001b[38;5;241m.\u001b[39m\u001b[38;5;18m__file__\u001b[39m \u001b[38;5;129;01mis\u001b[39;00m \u001b[38;5;28;01mNone\u001b[39;00m:\n\u001b[1;32m    209\u001b[0m         \u001b[38;5;28;01mreturn\u001b[39;00m \u001b[38;5;28;01mNone\u001b[39;00m, \u001b[38;5;28;01mNone\u001b[39;00m\n\u001b[1;32m    211\u001b[0m     \u001b[38;5;28;01mif\u001b[39;00m \u001b[38;5;28mgetattr\u001b[39m(module, \u001b[38;5;124m\"\u001b[39m\u001b[38;5;124m__name__\u001b[39m\u001b[38;5;124m\"\u001b[39m, \u001b[38;5;28;01mNone\u001b[39;00m) \u001b[38;5;129;01min\u001b[39;00m [\u001b[38;5;28;01mNone\u001b[39;00m, \u001b[38;5;124m\"\u001b[39m\u001b[38;5;124m__mp_main__\u001b[39m\u001b[38;5;124m\"\u001b[39m, \u001b[38;5;124m\"\u001b[39m\u001b[38;5;124m__main__\u001b[39m\u001b[38;5;124m\"\u001b[39m]:\n\u001b[1;32m    212\u001b[0m         \u001b[38;5;66;03m# we cannot reload(__main__) or reload(__mp_main__)\u001b[39;00m\n",
      "File \u001b[0;32m<frozen importlib.util>:252\u001b[0m, in \u001b[0;36m__getattribute__\u001b[0;34m(self, attr)\u001b[0m\n",
      "\u001b[0;31mValueError\u001b[0m: module object for 'ml_lib.datasets.feature_specification' substituted in sys.modules during a lazy load"
     ]
    }
   ],
   "source": [
    "import ml_lib\n",
    "from ml_lib import feature_specification"
   ]
  },
  {
   "cell_type": "code",
   "execution_count": 4,
   "id": "db05ef3f-c414-4209-b84f-5904d0e525f0",
   "metadata": {},
   "outputs": [
    {
     "name": "stdout",
     "output_type": "stream",
     "text": [
      "base_classes.py  feature_specification.py  registration.py\n",
      "datapoint.py     __init__.py               splitting.py\n",
      "\u001b[0m\u001b[01;34mdatasets\u001b[0m/        \u001b[01;34m__pycache__\u001b[0m/              transforms.py\n"
     ]
    }
   ],
   "source": [
    "ls ../ml_lib/datasets"
   ]
  },
  {
   "cell_type": "markdown",
   "id": "49ca92f8-b5c4-480b-9f7b-a7d2b47eda17",
   "metadata": {
    "tags": []
   },
   "source": [
    "## Datasets"
   ]
  },
  {
   "cell_type": "code",
   "execution_count": 5,
   "id": "bcb59e0b-d47d-4fa3-bd5c-12cbc7112498",
   "metadata": {},
   "outputs": [],
   "source": [
    "from ml_lib.datasets import register as dataset_register, transform_register, load_transform, load_dataset, Transform\n",
    "from ml_lib.datasets.transforms import MultipleFunctionTransform"
   ]
  },
  {
   "cell_type": "code",
   "execution_count": 6,
   "id": "26cea4fc-9e73-46e6-acca-48b50bd4e55e",
   "metadata": {},
   "outputs": [],
   "source": [
    "dataset0 = dataset_register[\"Torus4D\"](1000)"
   ]
  },
  {
   "cell_type": "code",
   "execution_count": 7,
   "id": "fd359c44-3417-4b76-9570-202447d781bd",
   "metadata": {},
   "outputs": [],
   "source": [
    "transform = transform_register[\"CacheTransform\"]() \n",
    "dataset1 = transform(dataset0)"
   ]
  },
  {
   "cell_type": "code",
   "execution_count": 8,
   "id": "a804da77-671a-4da2-ab15-5f1cebdc5eb7",
   "metadata": {},
   "outputs": [
    {
     "data": {
      "text/plain": [
       "<ml_lib.datasets.datasets.simple_shapes.Torus4D at 0x7a4159392290>"
      ]
     },
     "execution_count": 8,
     "metadata": {},
     "output_type": "execute_result"
    }
   ],
   "source": [
    "dataset1._inner"
   ]
  },
  {
   "cell_type": "code",
   "execution_count": 9,
   "id": "5809ff0a-da88-45af-9913-7014b4a0a51f",
   "metadata": {},
   "outputs": [
    {
     "data": {
      "text/plain": [
       "tensor([[ 1.0025,  0.0483, -1.0075,  0.1324]])"
      ]
     },
     "execution_count": 9,
     "metadata": {},
     "output_type": "execute_result"
    }
   ],
   "source": [
    "dataset1[0]"
   ]
  },
  {
   "cell_type": "code",
   "execution_count": 10,
   "id": "82f44708-e279-4422-b00d-3d40eb912abb",
   "metadata": {},
   "outputs": [
    {
     "data": {
      "text/plain": [
       "<ml_lib.datasets.datapoint.DictDatapoint at 0x7a415ac95a10>"
      ]
     },
     "execution_count": 10,
     "metadata": {},
     "output_type": "execute_result"
    }
   ],
   "source": [
    "dataset2 = transform_register[\"RenameTransform\"]({\"x\": \"_\"})(dataset1)\n",
    "dataset2[0]"
   ]
  },
  {
   "cell_type": "code",
   "execution_count": 11,
   "id": "ca39be83-6328-452f-9dd7-822e9474eeb1",
   "metadata": {},
   "outputs": [
    {
     "data": {
      "text/plain": [
       "<ml_lib.datasets.datapoint.DictDatapoint at 0x7a4158d22610>"
      ]
     },
     "execution_count": 11,
     "metadata": {},
     "output_type": "execute_result"
    }
   ],
   "source": [
    "dataset3 = transform_register[\"RenameTransform\"]({\"x\": \"x\", \"y\":\"x\"})(dataset2)\n",
    "dataset3[0]"
   ]
  },
  {
   "cell_type": "code",
   "execution_count": 12,
   "id": "cebea6a4-4148-4d14-84b9-1a4fcd0410e1",
   "metadata": {},
   "outputs": [
    {
     "data": {
      "text/plain": [
       "<ml_lib.datasets.datapoint.DictDatapoint at 0x7a4159152cd0>"
      ]
     },
     "execution_count": 12,
     "metadata": {},
     "output_type": "execute_result"
    }
   ],
   "source": [
    "normalize = lambda x : x / x.norm()\n",
    "dataset4 = transform_register[\"MultipleFunctionTransform\"]({\"x\": (normalize, \"x\"), \"gt\": (lambda x:x, \"y\")})(dataset3)\n",
    "dataset4[0]"
   ]
  },
  {
   "cell_type": "code",
   "execution_count": 13,
   "id": "aa9d7e06-917d-4afd-bd3c-b6f96c0e778d",
   "metadata": {},
   "outputs": [],
   "source": [
    "@transform_register\n",
    "class TestTransform(MultipleFunctionTransform):\n",
    "\n",
    "    def __init__(self):\n",
    "        super().__init__({\"x\": (normalize, \"x\"), \"gt\": (lambda x:x, \"y\")})"
   ]
  },
  {
   "cell_type": "markdown",
   "id": "c76780b0-47c8-4bd9-8d4a-0df334837b6b",
   "metadata": {},
   "source": [
    "great!"
   ]
  },
  {
   "cell_type": "markdown",
   "id": "b232574c-5703-4688-b0f7-99be279c79c1",
   "metadata": {
    "jp-MarkdownHeadingCollapsed": true,
    "tags": []
   },
   "source": [
    "## Environments"
   ]
  },
  {
   "cell_type": "code",
   "execution_count": 14,
   "id": "8faa0bac-090c-4c70-bca8-7795002026bc",
   "metadata": {},
   "outputs": [],
   "source": [
    "from ml_lib.environment import Environment, Scope, scopevar_of_str, str_of_scopevar, HierarchicEnvironment, ScopedEnvironment"
   ]
  },
  {
   "cell_type": "code",
   "execution_count": 15,
   "id": "e4ad9cd4-aeab-4aac-8da7-f32ea22ed838",
   "metadata": {},
   "outputs": [
    {
     "data": {
      "text/plain": [
       "(('a', 'b'), 'c')"
      ]
     },
     "execution_count": 15,
     "metadata": {},
     "output_type": "execute_result"
    }
   ],
   "source": [
    "scopevar_of_str(\"a/b/c\")"
   ]
  },
  {
   "cell_type": "code",
   "execution_count": 16,
   "id": "72282cd4-17dd-4d57-b74c-40aea0b48080",
   "metadata": {},
   "outputs": [
    {
     "data": {
      "text/plain": [
       "'a/b/c'"
      ]
     },
     "execution_count": 16,
     "metadata": {},
     "output_type": "execute_result"
    }
   ],
   "source": [
    "str_of_scopevar(('a', 'b'), 'c')"
   ]
  },
  {
   "cell_type": "code",
   "execution_count": 17,
   "id": "c7efde3a-5b69-4ada-8e75-0451b4859ddc",
   "metadata": {},
   "outputs": [],
   "source": [
    "env = Environment()"
   ]
  },
  {
   "cell_type": "code",
   "execution_count": 18,
   "id": "3681ab99-19b5-48d3-ba87-dfa8da55c7bb",
   "metadata": {},
   "outputs": [
    {
     "data": {
      "text/plain": [
       "Environment(defaultdict(<class 'dict'>, {'_ipython_canary_method_should_not_exist_': {}, '_ipython_display_': {}, '_repr_mimebundle_': {}}))"
      ]
     },
     "execution_count": 18,
     "metadata": {},
     "output_type": "execute_result"
    }
   ],
   "source": [
    "env"
   ]
  },
  {
   "cell_type": "code",
   "execution_count": 19,
   "id": "4635378d-473f-43d9-a973-96e78a63e940",
   "metadata": {},
   "outputs": [],
   "source": [
    "env.record(\"hello\", 1)"
   ]
  },
  {
   "cell_type": "code",
   "execution_count": 20,
   "id": "ffb94b27-d9d0-43fb-bfc8-3f368f77bc8e",
   "metadata": {},
   "outputs": [
    {
     "data": {
      "text/plain": [
       "defaultdict(dict,\n",
       "            {'_ipython_canary_method_should_not_exist_': {},\n",
       "             '_ipython_display_': {},\n",
       "             '_repr_mimebundle_': {},\n",
       "             '_repr_html_': {},\n",
       "             '_repr_markdown_': {},\n",
       "             '_repr_svg_': {},\n",
       "             '_repr_png_': {},\n",
       "             '_repr_pdf_': {},\n",
       "             '_repr_jpeg_': {},\n",
       "             '_repr_latex_': {},\n",
       "             '_repr_json_': {},\n",
       "             '_repr_javascript_': {},\n",
       "             'hello': {(): 1}})"
      ]
     },
     "execution_count": 20,
     "metadata": {},
     "output_type": "execute_result"
    }
   ],
   "source": [
    "env.data"
   ]
  },
  {
   "cell_type": "code",
   "execution_count": 21,
   "id": "d4890ff8-761a-4e6e-8a73-42b2ac812808",
   "metadata": {},
   "outputs": [
    {
     "data": {
      "text/plain": [
       "defaultdict(dict,\n",
       "            {'_ipython_canary_method_should_not_exist_': {},\n",
       "             '_ipython_display_': {},\n",
       "             '_repr_mimebundle_': {},\n",
       "             '_repr_html_': {},\n",
       "             '_repr_markdown_': {},\n",
       "             '_repr_svg_': {},\n",
       "             '_repr_png_': {},\n",
       "             '_repr_pdf_': {},\n",
       "             '_repr_jpeg_': {},\n",
       "             '_repr_latex_': {},\n",
       "             '_repr_json_': {},\n",
       "             '_repr_javascript_': {},\n",
       "             'hello': {(): 1},\n",
       "             'world': {('some', 'scope'): 4}})"
      ]
     },
     "execution_count": 21,
     "metadata": {},
     "output_type": "execute_result"
    }
   ],
   "source": [
    "env.record(\"world\", 4, (\"some\", \"scope\"))\n",
    "env.data"
   ]
  },
  {
   "cell_type": "code",
   "execution_count": 22,
   "id": "bb3196cd-ec71-43c7-9159-bd7971cb0cc4",
   "metadata": {},
   "outputs": [
    {
     "data": {
      "text/plain": [
       "1"
      ]
     },
     "execution_count": 22,
     "metadata": {},
     "output_type": "execute_result"
    }
   ],
   "source": [
    "env.get(\"hello\")"
   ]
  },
  {
   "cell_type": "code",
   "execution_count": 23,
   "id": "91ea9683-7071-4554-8dac-cac7ffdbc478",
   "metadata": {},
   "outputs": [
    {
     "data": {
      "text/plain": [
       "4"
      ]
     },
     "execution_count": 23,
     "metadata": {},
     "output_type": "execute_result"
    }
   ],
   "source": [
    "env.get(\"world\")"
   ]
  },
  {
   "cell_type": "code",
   "execution_count": 24,
   "id": "454ff54f-0487-4382-a546-6ee4638ce9ef",
   "metadata": {},
   "outputs": [
    {
     "data": {
      "text/plain": [
       "4"
      ]
     },
     "execution_count": 24,
     "metadata": {},
     "output_type": "execute_result"
    }
   ],
   "source": [
    "#import pdb; pdb.set_trace()\n",
    "env.get(\"world\", scope=(\"some\",))"
   ]
  },
  {
   "cell_type": "code",
   "execution_count": 25,
   "id": "0bd673e8-3f56-469f-8ba8-d90228dd7f6e",
   "metadata": {},
   "outputs": [],
   "source": [
    "env.get(\"world\", scope=(\"soe\",))"
   ]
  },
  {
   "cell_type": "code",
   "execution_count": 26,
   "id": "40273039-d3d5-4111-97af-52e789c81a39",
   "metadata": {},
   "outputs": [],
   "source": [
    "hier_env = HierarchicEnvironment(parent=env)"
   ]
  },
  {
   "cell_type": "code",
   "execution_count": 27,
   "id": "92697ea6-3316-4186-bec0-23dcd8b2d0c5",
   "metadata": {},
   "outputs": [
    {
     "data": {
      "text/plain": [
       "2"
      ]
     },
     "execution_count": 27,
     "metadata": {},
     "output_type": "execute_result"
    }
   ],
   "source": [
    "hier_env.record(\"world\", 2, (\"some\",))\n",
    "hier_env.get(\"world\", scope=(\"some\",))\n"
   ]
  },
  {
   "cell_type": "code",
   "execution_count": 28,
   "id": "88d07bb9-a701-431e-91d7-b228555ffc6a",
   "metadata": {},
   "outputs": [
    {
     "data": {
      "text/plain": [
       "4"
      ]
     },
     "execution_count": 28,
     "metadata": {},
     "output_type": "execute_result"
    }
   ],
   "source": [
    "hier_env.get(\"world\", scope=(\"some\",\"scope\"))\n"
   ]
  },
  {
   "cell_type": "code",
   "execution_count": 29,
   "id": "e3a7bd05-bf0d-44ce-90d1-2abf36fddfed",
   "metadata": {},
   "outputs": [],
   "source": [
    "def f(world, hello=6, magic=3):\n",
    "    print(world, hello, magic)\n",
    "    return 1"
   ]
  },
  {
   "cell_type": "code",
   "execution_count": 30,
   "id": "598d5a9a-9a64-4145-bd7c-11a5e73f9925",
   "metadata": {},
   "outputs": [
    {
     "name": "stdout",
     "output_type": "stream",
     "text": [
      "2 1 3\n"
     ]
    },
    {
     "data": {
      "text/plain": [
       "1"
      ]
     },
     "execution_count": 30,
     "metadata": {},
     "output_type": "execute_result"
    }
   ],
   "source": [
    "hier_env.run_function(f)"
   ]
  },
  {
   "cell_type": "markdown",
   "id": "56f84cb9-c0f8-4753-890b-5eacf56006e1",
   "metadata": {},
   "source": [
    "## Model"
   ]
  },
  {
   "cell_type": "code",
   "execution_count": 31,
   "id": "156fd1eb-8486-4608-85d7-36f8e6657adf",
   "metadata": {},
   "outputs": [
    {
     "data": {
      "text/plain": [
       "FeatureSpecification(MSEFeature(name='location', dim=4, loss_coef=1.0))"
      ]
     },
     "execution_count": 31,
     "metadata": {},
     "output_type": "execute_result"
    }
   ],
   "source": [
    "from ml_lib.datasets.feature_specification import FeatureSpecification, MSEFeature\n",
    "\n",
    "feature_spec = FeatureSpecification([MSEFeature(\"location\", 4)])\n",
    "assert feature_spec == feature_spec.from_config(feature_spec.to_config())\n",
    "feature_spec"
   ]
  },
  {
   "cell_type": "code",
   "execution_count": 33,
   "id": "dfc31937-5b0f-48ad-b705-e8977efda7b6",
   "metadata": {},
   "outputs": [
    {
     "name": "stdout",
     "output_type": "stream",
     "text": [
      "SimpleMLPModel(\n",
      "    dimensions=[5, 10, 4, 4],\n",
      "    feature_specification=FeatureSpecification(MSEFeature(name='location', dim=4, loss_coef=1.0)),\n",
      ")\n",
      "SimpleMLPModel(\n",
      "  (inner): MLP(\n",
      "    (linear_0): Linear(in_features=4, out_features=5, bias=True)\n",
      "    (activation_0): ReLU()\n",
      "    (linear_1): Linear(in_features=5, out_features=10, bias=True)\n",
      "    (activation_1): ReLU()\n",
      "    (linear_2): Linear(in_features=10, out_features=4, bias=True)\n",
      "    (activation_2): ReLU()\n",
      "    (linear_3): Linear(in_features=4, out_features=4, bias=True)\n",
      "  )\n",
      ")\n"
     ]
    },
    {
     "data": {
      "text/plain": [
       "'test_model'"
      ]
     },
     "execution_count": 33,
     "metadata": {},
     "output_type": "execute_result"
    }
   ],
   "source": [
    "from ml_lib.models import Model, Supervised, Hyperparameter, register as model_register\n",
    "from ml_lib.models.layers import MLP\n",
    "\n",
    "@model_register\n",
    "class SimpleMLPModel(Supervised):\n",
    "    \n",
    "    dimensions: Hyperparameter[list[int]]\n",
    "    feature_specification: Hyperparameter[FeatureSpecification]\n",
    "    \n",
    "\n",
    "    inner: MLP\n",
    "\n",
    "    def __setup__(self):\n",
    "        self.inner = MLP(self.feature_specification.dim, *self.dimensions, batchnorm=False)\n",
    "\n",
    "    def forward(self, x):\n",
    "        return self.inner(x)\n",
    "\n",
    "    def loss_fun(self, x, gt):\n",
    "        return self.feature_specification.compute_loss(x, gt, reduce=True)\n",
    "        #return (x - gt).square().sum()\n",
    "        \n",
    "\n",
    "model = SimpleMLPModel(dimensions=[5, 10, 4, 4],\n",
    "                       feature_specification=feature_spec, \n",
    "                       name=\"test_model\")\n",
    "print(model)\n",
    "print(torch.nn.Module.__repr__(model))\n",
    "model.model_name"
   ]
  },
  {
   "cell_type": "code",
   "execution_count": 34,
   "id": "f0a11b24-e31b-46b3-9ac2-09d65b2f6258",
   "metadata": {},
   "outputs": [
    {
     "data": {
      "text/plain": [
       "{'dimensions': [5, 10, 4, 4],\n",
       " 'feature_specification': {'type': 'FeatureSpecification',\n",
       "  'features': [{'type': 'MSEFeature',\n",
       "    'name': 'location',\n",
       "    'dim': 4,\n",
       "    'loss_coef': 1.0}]}}"
      ]
     },
     "execution_count": 34,
     "metadata": {},
     "output_type": "execute_result"
    }
   ],
   "source": [
    "model.get_hyperparameters(serializable=True)"
   ]
  },
  {
   "cell_type": "markdown",
   "id": "e9ffc541-f49c-4d5c-a2da-3a17b530b6c8",
   "metadata": {},
   "source": [
    "## Saving and loading to database"
   ]
  },
  {
   "cell_type": "code",
   "execution_count": 35,
   "id": "803d3147-2ea2-453f-8fdc-67be314ffee4",
   "metadata": {},
   "outputs": [],
   "source": [
    "from sqlalchemy import create_engine\n",
    "from sqlalchemy.orm import Session\n",
    "from ml_lib.pipeline.experiment_tracking import create_tables, Model as Database_Model\n"
   ]
  },
  {
   "cell_type": "code",
   "execution_count": 36,
   "id": "6d92b0b0-de96-401a-abbb-8fc25374d8eb",
   "metadata": {},
   "outputs": [
    {
     "data": {
      "text/plain": [
       "'SimpleMLPModel'"
      ]
     },
     "execution_count": 36,
     "metadata": {},
     "output_type": "execute_result"
    }
   ],
   "source": [
    "model.get_model_type()"
   ]
  },
  {
   "cell_type": "code",
   "execution_count": 37,
   "id": "867810ca-302e-4c3e-aaab-275bc470572c",
   "metadata": {},
   "outputs": [
    {
     "data": {
      "text/plain": [
       "Model(id= None, model_type= SimpleMLPModel, name= test_model, description= None)"
      ]
     },
     "execution_count": 37,
     "metadata": {},
     "output_type": "execute_result"
    }
   ],
   "source": [
    "model.to_database_object()"
   ]
  },
  {
   "cell_type": "code",
   "execution_count": 38,
   "id": "0fc64de1-c910-44b7-a5c7-6cdc7998b1de",
   "metadata": {},
   "outputs": [
    {
     "name": "stdout",
     "output_type": "stream",
     "text": [
      "Model(id= 1, model_type= SimpleMLPModel, name= test_model, description= None)\n"
     ]
    },
    {
     "data": {
      "text/plain": [
       "1"
      ]
     },
     "execution_count": 38,
     "metadata": {},
     "output_type": "execute_result"
    }
   ],
   "source": [
    "print_requests = False\n",
    "%rm /tmp/test.db\n",
    "db_engine = create_engine(\"sqlite:////tmp/test.db\", echo=print_requests)\n",
    "create_tables(db_engine)\n",
    "with Session(db_engine) as db_session:\n",
    "    model.save_to_database(db_session, replace=True)\n",
    "    #db_session.commit()\n",
    "    print(model.get_database_object(db_session))\n",
    "    model_object  = db_session.get(Database_Model, model.id)\n",
    "    db_session.commit()\n",
    "model.id"
   ]
  },
  {
   "cell_type": "code",
   "execution_count": 39,
   "id": "b5d6446f-3cb8-4228-95c0-541a84ea0456",
   "metadata": {},
   "outputs": [
    {
     "name": "stdout",
     "output_type": "stream",
     "text": [
      "Model(id= 1, model_type= SimpleMLPModel, name= test_model, description= None)\n",
      "<class 'sqlalchemy.orm.session.Session'>\n"
     ]
    },
    {
     "data": {
      "text/plain": [
       "SimpleMLPModel(\n",
       "    dimensions=[5, 10, 4, 4],\n",
       "    feature_specification=FeatureSpecification(MSEFeature(name='location', dim=4, loss_coef=1.0)),\n",
       ")"
      ]
     },
     "execution_count": 39,
     "metadata": {},
     "output_type": "execute_result"
    }
   ],
   "source": [
    "with Session(db_engine) as db_session:\n",
    "    model_object  = db_session.get(Database_Model, model.id)\n",
    "    print(model_object)\n",
    "    print(type(db_session))\n",
    "    loaded_model= model_object.load_model(load_latest_checkpoint=False,) #cannot load checkpoint for now since there isn't one\n",
    "loaded_model"
   ]
  },
  {
   "cell_type": "markdown",
   "id": "69300be5-9d40-4cad-8567-454ea9404830",
   "metadata": {},
   "source": [
    "## Training"
   ]
  },
  {
   "cell_type": "code",
   "execution_count": 40,
   "id": "3bb1bc65-9fc3-499d-b5c2-b51eeae30f34",
   "metadata": {},
   "outputs": [],
   "source": [
    "skip_training = False"
   ]
  },
  {
   "cell_type": "code",
   "execution_count": 41,
   "id": "9d5c3e97-a43c-416d-8b1a-b24ec5d53eb1",
   "metadata": {},
   "outputs": [],
   "source": [
    "from ml_lib.models import Model\n",
    "from ml_lib.pipeline import Trainer, Training_parameters\n",
    "from ml_lib.pipeline.training_hooks import TqdmHook, LoggerHook, CurveHook, DatabaseHook\n",
    "from ml_lib.pipeline.experiment_tracking import Experiment as DBExperiment\n",
    "from torch.utils.data import DataLoader"
   ]
  },
  {
   "cell_type": "code",
   "execution_count": 42,
   "id": "f683c8a1-1803-48e6-aa55-4f2991041e9f",
   "metadata": {},
   "outputs": [
    {
     "data": {
      "text/plain": [
       "<ml_lib.datasets.datapoint.DictDatapoint at 0x7a421a297050>"
      ]
     },
     "execution_count": 42,
     "metadata": {},
     "output_type": "execute_result"
    }
   ],
   "source": [
    "loader = DataLoader(dataset4, batch_size=None, shuffle=True)\n",
    "next(iter(loader))"
   ]
  },
  {
   "cell_type": "code",
   "execution_count": 43,
   "id": "ff11b26b-ef59-45fb-98d6-b3781c71ce7f",
   "metadata": {},
   "outputs": [
    {
     "data": {
      "application/vnd.jupyter.widget-view+json": {
       "model_id": "84d40f8e2c3248d3a4426e63909dedfa",
       "version_major": 2,
       "version_minor": 0
      },
      "text/plain": [
       "Epoch 0:   0%|          | 0/4000 [00:00<?, ?it/s]"
      ]
     },
     "metadata": {},
     "output_type": "display_data"
    },
    {
     "name": "stderr",
     "output_type": "stream",
     "text": [
      "INFO:root:iteration= 0, loss= 0.618953287601471, \n",
      "INFO:root:iteration= 10, loss= 0.652764081954956, \n",
      "INFO:root:iteration= 20, loss= 0.573591411113739, \n",
      "INFO:root:iteration= 30, loss= 0.44183504581451416, \n",
      "INFO:root:iteration= 40, loss= 0.8669790625572205, \n",
      "INFO:root:iteration= 50, loss= 0.6705443263053894, \n",
      "INFO:root:iteration= 60, loss= 0.7512810826301575, \n",
      "INFO:root:iteration= 70, loss= 0.645828366279602, \n",
      "INFO:root:iteration= 80, loss= 0.7297670245170593, \n",
      "INFO:root:iteration= 90, loss= 0.39146241545677185, \n",
      "/home/tris/Devoirs/research/implementations/tb_ml/ml_lib/models/base_classes.py:351: SAWarning: Object of type <Training_step> not in session, add operation along 'Training_run.steps' will not proceed (This warning originated from the Session 'autoflush' process, which was invoked automatically in response to a user-initiated operation.)\n",
      "  db_object = session.get(Database_Model, self.id)\n",
      "INFO:root:iteration= 100, loss= 0.2802296280860901, \n",
      "INFO:root:iteration= 110, loss= 0.7276278138160706, \n",
      "INFO:root:iteration= 120, loss= 0.6798095703125, \n",
      "INFO:root:iteration= 130, loss= 0.3059066832065582, \n",
      "INFO:root:iteration= 140, loss= 0.39615607261657715, \n",
      "INFO:root:iteration= 150, loss= 0.355659544467926, \n",
      "INFO:root:iteration= 160, loss= 0.460668683052063, \n",
      "INFO:root:iteration= 170, loss= 0.5554345846176147, \n",
      "INFO:root:iteration= 180, loss= 0.5316274166107178, \n",
      "INFO:root:iteration= 190, loss= 0.35386234521865845, \n",
      "INFO:root:iteration= 200, loss= 0.4806250035762787, \n",
      "INFO:root:iteration= 210, loss= 0.5465437173843384, \n",
      "INFO:root:iteration= 220, loss= 0.5254895687103271, \n",
      "INFO:root:iteration= 230, loss= 0.5644855499267578, \n",
      "INFO:root:iteration= 240, loss= 0.481823205947876, \n",
      "INFO:root:iteration= 250, loss= 0.5189918279647827, \n",
      "INFO:root:iteration= 260, loss= 0.5165988206863403, \n",
      "INFO:root:iteration= 270, loss= 0.48134106397628784, \n",
      "INFO:root:iteration= 280, loss= 0.4288466274738312, \n",
      "INFO:root:iteration= 290, loss= 0.399677574634552, \n",
      "INFO:root:iteration= 300, loss= 0.5502063035964966, \n",
      "INFO:root:iteration= 310, loss= 0.492343544960022, \n",
      "INFO:root:iteration= 320, loss= 0.47095319628715515, \n",
      "INFO:root:iteration= 330, loss= 0.4251910150051117, \n",
      "INFO:root:iteration= 340, loss= 0.4528202712535858, \n",
      "INFO:root:iteration= 350, loss= 0.42263537645339966, \n",
      "INFO:root:iteration= 360, loss= 0.47617384791374207, \n",
      "INFO:root:iteration= 370, loss= 0.49303263425827026, \n",
      "INFO:root:iteration= 380, loss= 0.3791206181049347, \n",
      "INFO:root:iteration= 390, loss= 0.463276743888855, \n",
      "INFO:root:iteration= 400, loss= 0.31504446268081665, \n",
      "INFO:root:iteration= 410, loss= 0.36267292499542236, \n",
      "INFO:root:iteration= 420, loss= 0.2771802842617035, \n",
      "INFO:root:iteration= 430, loss= 0.4884149730205536, \n",
      "INFO:root:iteration= 440, loss= 0.28854259848594666, \n",
      "INFO:root:iteration= 450, loss= 0.4695783257484436, \n",
      "INFO:root:iteration= 460, loss= 0.4399235248565674, \n",
      "INFO:root:iteration= 470, loss= 0.49417373538017273, \n",
      "INFO:root:iteration= 480, loss= 0.3901473581790924, \n",
      "INFO:root:iteration= 490, loss= 0.5302481055259705, \n",
      "INFO:root:iteration= 500, loss= 0.528161346912384, \n",
      "INFO:root:iteration= 510, loss= 0.5381156802177429, \n",
      "INFO:root:iteration= 520, loss= 0.4997343122959137, \n",
      "INFO:root:iteration= 530, loss= 0.48998987674713135, \n",
      "INFO:root:iteration= 540, loss= 0.47483086585998535, \n",
      "INFO:root:iteration= 550, loss= 0.47879648208618164, \n",
      "INFO:root:iteration= 560, loss= 0.41768723726272583, \n",
      "INFO:root:iteration= 570, loss= 0.4950074553489685, \n",
      "INFO:root:iteration= 580, loss= 0.5070245862007141, \n",
      "INFO:root:iteration= 590, loss= 0.38160035014152527, \n",
      "INFO:root:iteration= 600, loss= 0.5058688521385193, \n",
      "INFO:root:iteration= 610, loss= 0.4794647693634033, \n",
      "INFO:root:iteration= 620, loss= 0.3637234568595886, \n",
      "INFO:root:iteration= 630, loss= 0.4322511851787567, \n",
      "INFO:root:iteration= 640, loss= 0.4651581346988678, \n",
      "INFO:root:iteration= 650, loss= 0.296586811542511, \n",
      "INFO:root:iteration= 660, loss= 0.08995750546455383, \n",
      "INFO:root:iteration= 670, loss= 0.4334198832511902, \n",
      "INFO:root:iteration= 680, loss= 0.48807868361473083, \n",
      "INFO:root:iteration= 690, loss= 0.3985034227371216, \n",
      "INFO:root:iteration= 700, loss= 0.46882858872413635, \n",
      "INFO:root:iteration= 710, loss= 0.4219356179237366, \n",
      "INFO:root:iteration= 720, loss= 0.48584556579589844, \n",
      "INFO:root:iteration= 730, loss= 0.17627179622650146, \n",
      "INFO:root:iteration= 740, loss= 0.4592721462249756, \n",
      "INFO:root:iteration= 750, loss= 0.43514180183410645, \n",
      "INFO:root:iteration= 760, loss= 0.46700263023376465, \n",
      "INFO:root:iteration= 770, loss= 0.35327935218811035, \n",
      "INFO:root:iteration= 780, loss= 0.39604702591896057, \n",
      "INFO:root:iteration= 790, loss= 0.33882302045822144, \n",
      "INFO:root:iteration= 800, loss= 0.46168261766433716, \n",
      "INFO:root:iteration= 810, loss= 0.47828492522239685, \n",
      "INFO:root:iteration= 820, loss= 0.33317384123802185, \n",
      "INFO:root:iteration= 830, loss= 0.44555437564849854, \n",
      "INFO:root:iteration= 840, loss= 0.45602959394454956, \n",
      "INFO:root:iteration= 850, loss= 0.4629925489425659, \n",
      "INFO:root:iteration= 860, loss= 0.22862061858177185, \n",
      "INFO:root:iteration= 870, loss= 0.4852445721626282, \n",
      "INFO:root:iteration= 880, loss= 0.3186202049255371, \n",
      "INFO:root:iteration= 890, loss= 0.38504481315612793, \n",
      "INFO:root:iteration= 900, loss= 0.4807033836841583, \n",
      "INFO:root:iteration= 910, loss= 0.08015316724777222, \n",
      "INFO:root:iteration= 920, loss= 0.07240565866231918, \n",
      "INFO:root:iteration= 930, loss= 0.40935254096984863, \n",
      "INFO:root:iteration= 940, loss= 0.33850669860839844, \n",
      "INFO:root:iteration= 950, loss= 0.2030823826789856, \n",
      "INFO:root:iteration= 960, loss= 0.418220579624176, \n",
      "INFO:root:iteration= 970, loss= 0.4777156412601471, \n",
      "INFO:root:iteration= 980, loss= 0.5178797245025635, \n",
      "INFO:root:iteration= 990, loss= 0.26349538564682007, \n",
      "INFO:root:iteration= 1000, loss= 0.42639195919036865, \n",
      "INFO:root:iteration= 1010, loss= 0.3788578510284424, \n",
      "INFO:root:iteration= 1020, loss= 0.3731079697608948, \n",
      "INFO:root:iteration= 1030, loss= 0.14443090558052063, \n",
      "INFO:root:iteration= 1040, loss= 0.27911901473999023, \n",
      "INFO:root:iteration= 1050, loss= 0.40575987100601196, \n",
      "INFO:root:iteration= 1060, loss= 0.07553261518478394, \n",
      "INFO:root:iteration= 1070, loss= 0.3782448470592499, \n",
      "INFO:root:iteration= 1080, loss= 0.3930039405822754, \n",
      "INFO:root:iteration= 1090, loss= 0.39572179317474365, \n",
      "INFO:root:iteration= 1100, loss= 0.5076794624328613, \n",
      "INFO:root:iteration= 1110, loss= 0.37650179862976074, \n",
      "INFO:root:iteration= 1120, loss= 0.4336167275905609, \n",
      "INFO:root:iteration= 1130, loss= 0.13341860473155975, \n",
      "INFO:root:iteration= 1140, loss= 0.3590928316116333, \n",
      "INFO:root:iteration= 1150, loss= 0.43919849395751953, \n",
      "INFO:root:iteration= 1160, loss= 0.3855854570865631, \n",
      "INFO:root:iteration= 1170, loss= 0.13685187697410583, \n",
      "INFO:root:iteration= 1180, loss= 0.39363542199134827, \n",
      "INFO:root:iteration= 1190, loss= 0.1263662874698639, \n",
      "INFO:root:iteration= 1200, loss= 0.4955335259437561, \n",
      "INFO:root:iteration= 1210, loss= 0.24869252741336823, \n",
      "INFO:root:iteration= 1220, loss= 0.41433215141296387, \n",
      "INFO:root:iteration= 1230, loss= 0.46822816133499146, \n",
      "INFO:root:iteration= 1240, loss= 0.1892032027244568, \n",
      "INFO:root:iteration= 1250, loss= 0.2570969760417938, \n",
      "INFO:root:iteration= 1260, loss= 0.4153701364994049, \n",
      "INFO:root:iteration= 1270, loss= 0.296937495470047, \n",
      "INFO:root:iteration= 1280, loss= 0.487709105014801, \n",
      "INFO:root:iteration= 1290, loss= 0.4909213185310364, \n",
      "INFO:root:iteration= 1300, loss= 0.16114604473114014, \n",
      "INFO:root:iteration= 1310, loss= 0.4083941578865051, \n",
      "INFO:root:iteration= 1320, loss= 0.2402516007423401, \n",
      "INFO:root:iteration= 1330, loss= 0.17057226598262787, \n",
      "INFO:root:iteration= 1340, loss= 0.059547003358602524, \n",
      "INFO:root:iteration= 1350, loss= 0.42442959547042847, \n",
      "INFO:root:iteration= 1360, loss= 0.49191734194755554, \n",
      "INFO:root:iteration= 1370, loss= 0.44955241680145264, \n",
      "INFO:root:iteration= 1380, loss= 0.041279520839452744, \n",
      "INFO:root:iteration= 1390, loss= 0.3360103368759155, \n",
      "INFO:root:iteration= 1400, loss= 0.504748523235321, \n",
      "INFO:root:iteration= 1410, loss= 0.28825175762176514, \n",
      "INFO:root:iteration= 1420, loss= 0.5187145471572876, \n",
      "INFO:root:iteration= 1430, loss= 0.0854959785938263, \n",
      "INFO:root:iteration= 1440, loss= 0.08160444349050522, \n",
      "INFO:root:iteration= 1450, loss= 0.03028966300189495, \n",
      "INFO:root:iteration= 1460, loss= 0.04991743713617325, \n",
      "INFO:root:iteration= 1470, loss= 0.3142932951450348, \n",
      "INFO:root:iteration= 1480, loss= 0.25236254930496216, \n",
      "INFO:root:iteration= 1490, loss= 0.34499746561050415, \n",
      "INFO:root:iteration= 1500, loss= 0.21413588523864746, \n",
      "INFO:root:iteration= 1510, loss= 0.21629270911216736, \n",
      "INFO:root:iteration= 1520, loss= 0.4327537715435028, \n",
      "INFO:root:iteration= 1530, loss= 0.27189111709594727, \n",
      "INFO:root:iteration= 1540, loss= 0.18271403014659882, \n",
      "INFO:root:iteration= 1550, loss= 0.010748900473117828, \n",
      "INFO:root:iteration= 1560, loss= 0.32304641604423523, \n",
      "INFO:root:iteration= 1570, loss= 0.4749390184879303, \n",
      "INFO:root:iteration= 1580, loss= 0.3369123339653015, \n",
      "INFO:root:iteration= 1590, loss= 0.29495394229888916, \n",
      "INFO:root:iteration= 1600, loss= 0.4297647774219513, \n",
      "INFO:root:iteration= 1610, loss= 0.4340939521789551, \n",
      "INFO:root:iteration= 1620, loss= 0.09730787575244904, \n",
      "INFO:root:iteration= 1630, loss= 0.18352508544921875, \n",
      "INFO:root:iteration= 1640, loss= 0.4561311900615692, \n",
      "INFO:root:iteration= 1650, loss= 0.13808327913284302, \n",
      "INFO:root:iteration= 1660, loss= 0.4101064205169678, \n",
      "INFO:root:iteration= 1670, loss= 0.308605432510376, \n",
      "INFO:root:iteration= 1680, loss= 0.4578895568847656, \n",
      "INFO:root:iteration= 1690, loss= 0.3842114210128784, \n",
      "INFO:root:iteration= 1700, loss= 0.01269544381648302, \n",
      "INFO:root:iteration= 1710, loss= 0.4515039324760437, \n",
      "INFO:root:iteration= 1720, loss= 0.12184131145477295, \n",
      "INFO:root:iteration= 1730, loss= 0.0801057294011116, \n",
      "INFO:root:iteration= 1740, loss= 0.20426857471466064, \n",
      "INFO:root:iteration= 1750, loss= 0.10840499401092529, \n",
      "INFO:root:iteration= 1760, loss= 0.08436290174722672, \n",
      "INFO:root:iteration= 1770, loss= 0.27066922187805176, \n",
      "INFO:root:iteration= 1780, loss= 0.19320090115070343, \n",
      "INFO:root:iteration= 1790, loss= 0.5026293992996216, \n",
      "INFO:root:iteration= 1800, loss= 0.021561410278081894, \n",
      "INFO:root:iteration= 1810, loss= 0.446944922208786, \n",
      "INFO:root:iteration= 1820, loss= 0.34390807151794434, \n",
      "INFO:root:iteration= 1830, loss= 0.2257726788520813, \n",
      "INFO:root:iteration= 1840, loss= 0.0829852819442749, \n",
      "INFO:root:iteration= 1850, loss= 0.04784663766622543, \n",
      "INFO:root:iteration= 1860, loss= 0.37332361936569214, \n",
      "INFO:root:iteration= 1870, loss= 0.04208269715309143, \n",
      "INFO:root:iteration= 1880, loss= 0.05833706632256508, \n",
      "INFO:root:iteration= 1890, loss= 0.3600441515445709, \n",
      "INFO:root:iteration= 1900, loss= 0.005494380835443735, \n",
      "INFO:root:iteration= 1910, loss= 0.35346028208732605, \n",
      "INFO:root:iteration= 1920, loss= 0.12059269100427628, \n",
      "INFO:root:iteration= 1930, loss= 0.17934027314186096, \n",
      "INFO:root:iteration= 1940, loss= 0.4275011122226715, \n",
      "INFO:root:iteration= 1950, loss= 0.22667580842971802, \n",
      "INFO:root:iteration= 1960, loss= 0.5152934789657593, \n",
      "INFO:root:iteration= 1970, loss= 0.1848185509443283, \n",
      "INFO:root:iteration= 1980, loss= 0.4274195730686188, \n",
      "INFO:root:iteration= 1990, loss= 0.4087032079696655, \n",
      "INFO:root:iteration= 2000, loss= 0.0761101171374321, \n",
      "INFO:root:iteration= 2010, loss= 0.21790505945682526, \n",
      "INFO:root:iteration= 2020, loss= 0.39289718866348267, \n",
      "INFO:root:iteration= 2030, loss= 0.43710461258888245, \n",
      "INFO:root:iteration= 2040, loss= 0.20293371379375458, \n",
      "INFO:root:iteration= 2050, loss= 0.1984642744064331, \n",
      "INFO:root:iteration= 2060, loss= 0.41987231373786926, \n",
      "INFO:root:iteration= 2070, loss= 0.2031223475933075, \n",
      "INFO:root:iteration= 2080, loss= 0.20006152987480164, \n",
      "INFO:root:iteration= 2090, loss= 0.4796389937400818, \n",
      "INFO:root:iteration= 2100, loss= 0.38086894154548645, \n",
      "INFO:root:iteration= 2110, loss= 0.021554671227931976, \n",
      "INFO:root:iteration= 2120, loss= 0.43551546335220337, \n",
      "INFO:root:iteration= 2130, loss= 0.007185815833508968, \n",
      "INFO:root:iteration= 2140, loss= 0.10619428753852844, \n",
      "INFO:root:iteration= 2150, loss= 0.07181867957115173, \n",
      "INFO:root:iteration= 2160, loss= 0.18887460231781006, \n",
      "INFO:root:iteration= 2170, loss= 0.05585188418626785, \n",
      "INFO:root:iteration= 2180, loss= 0.13765102624893188, \n",
      "INFO:root:iteration= 2190, loss= 0.16743959486484528, \n",
      "INFO:root:iteration= 2200, loss= 0.3417845368385315, \n",
      "INFO:root:iteration= 2210, loss= 0.21446804702281952, \n",
      "INFO:root:iteration= 2220, loss= 0.0336143784224987, \n",
      "INFO:root:iteration= 2230, loss= 0.3435586094856262, \n",
      "INFO:root:iteration= 2240, loss= 0.0038581406697630882, \n",
      "INFO:root:iteration= 2250, loss= 0.41079181432724, \n",
      "INFO:root:iteration= 2260, loss= 0.31198757886886597, \n",
      "INFO:root:iteration= 2270, loss= 0.03697432205080986, \n",
      "INFO:root:iteration= 2280, loss= 0.37922796607017517, \n",
      "INFO:root:iteration= 2290, loss= 0.039932720363140106, \n",
      "INFO:root:iteration= 2300, loss= 0.015957172960042953, \n",
      "INFO:root:iteration= 2310, loss= 0.007768628653138876, \n",
      "INFO:root:iteration= 2320, loss= 0.43784835934638977, \n",
      "INFO:root:iteration= 2330, loss= 0.23137107491493225, \n",
      "INFO:root:iteration= 2340, loss= 0.0933697447180748, \n",
      "INFO:root:iteration= 2350, loss= 0.2343871146440506, \n",
      "INFO:root:iteration= 2360, loss= 0.22565266489982605, \n",
      "INFO:root:iteration= 2370, loss= 0.11612281948328018, \n",
      "INFO:root:iteration= 2380, loss= 0.26540595293045044, \n",
      "INFO:root:iteration= 2390, loss= 0.09939482808113098, \n",
      "INFO:root:iteration= 2400, loss= 0.010572480037808418, \n",
      "INFO:root:iteration= 2410, loss= 0.4168962836265564, \n",
      "INFO:root:iteration= 2420, loss= 0.10429368913173676, \n",
      "INFO:root:iteration= 2430, loss= 0.004280768800526857, \n",
      "INFO:root:iteration= 2440, loss= 0.24939745664596558, \n",
      "INFO:root:iteration= 2450, loss= 0.11809398233890533, \n",
      "INFO:root:iteration= 2460, loss= 0.0037329092156141996, \n",
      "INFO:root:iteration= 2470, loss= 0.053460195660591125, \n",
      "INFO:root:iteration= 2480, loss= 0.5074703693389893, \n",
      "INFO:root:iteration= 2490, loss= 0.325000524520874, \n",
      "INFO:root:iteration= 2500, loss= 0.0750572681427002, \n",
      "INFO:root:iteration= 2510, loss= 0.17333686351776123, \n",
      "INFO:root:iteration= 2520, loss= 0.011079124175012112, \n",
      "INFO:root:iteration= 2530, loss= 0.31568002700805664, \n",
      "INFO:root:iteration= 2540, loss= 0.19848564267158508, \n",
      "INFO:root:iteration= 2550, loss= 0.26352953910827637, \n",
      "INFO:root:iteration= 2560, loss= 0.260248064994812, \n",
      "INFO:root:iteration= 2570, loss= 0.12366514652967453, \n",
      "INFO:root:iteration= 2580, loss= 0.021877579391002655, \n",
      "INFO:root:iteration= 2590, loss= 0.09806674718856812, \n",
      "INFO:root:iteration= 2600, loss= 0.2555200457572937, \n",
      "INFO:root:iteration= 2610, loss= 0.32896673679351807, \n",
      "INFO:root:iteration= 2620, loss= 0.008664553053677082, \n",
      "INFO:root:iteration= 2630, loss= 0.1846337467432022, \n",
      "INFO:root:iteration= 2640, loss= 0.29468488693237305, \n",
      "INFO:root:iteration= 2650, loss= 0.1863819658756256, \n",
      "INFO:root:iteration= 2660, loss= 0.25880247354507446, \n",
      "INFO:root:iteration= 2670, loss= 0.0543152280151844, \n",
      "INFO:root:iteration= 2680, loss= 0.27323752641677856, \n",
      "INFO:root:iteration= 2690, loss= 0.3495893180370331, \n",
      "INFO:root:iteration= 2700, loss= 0.2558043599128723, \n",
      "INFO:root:iteration= 2710, loss= 0.42522355914115906, \n",
      "INFO:root:iteration= 2720, loss= 0.5170313715934753, \n",
      "INFO:root:iteration= 2730, loss= 0.13578897714614868, \n",
      "INFO:root:iteration= 2740, loss= 0.01678621396422386, \n",
      "INFO:root:iteration= 2750, loss= 0.04357072710990906, \n",
      "INFO:root:iteration= 2760, loss= 0.40120428800582886, \n",
      "INFO:root:iteration= 2770, loss= 0.4772939085960388, \n",
      "INFO:root:iteration= 2780, loss= 0.43518632650375366, \n",
      "INFO:root:iteration= 2790, loss= 0.006021513137966394, \n",
      "INFO:root:iteration= 2800, loss= 0.15620242059230804, \n",
      "INFO:root:iteration= 2810, loss= 0.11385482549667358, \n",
      "INFO:root:iteration= 2820, loss= 0.008869463577866554, \n",
      "INFO:root:iteration= 2830, loss= 0.07665569335222244, \n",
      "INFO:root:iteration= 2840, loss= 0.03446110337972641, \n",
      "INFO:root:iteration= 2850, loss= 0.42048710584640503, \n",
      "INFO:root:iteration= 2860, loss= 0.0343816876411438, \n",
      "INFO:root:iteration= 2870, loss= 0.15160362422466278, \n",
      "INFO:root:iteration= 2880, loss= 0.09903644025325775, \n",
      "INFO:root:iteration= 2890, loss= 0.004997795447707176, \n",
      "INFO:root:iteration= 2900, loss= 0.1641874611377716, \n",
      "INFO:root:iteration= 2910, loss= 0.04318630322813988, \n",
      "INFO:root:iteration= 2920, loss= 0.06837119162082672, \n",
      "INFO:root:iteration= 2930, loss= 0.020810745656490326, \n",
      "INFO:root:iteration= 2940, loss= 0.09595419466495514, \n",
      "INFO:root:iteration= 2950, loss= 0.20983292162418365, \n",
      "INFO:root:iteration= 2960, loss= 0.13256745040416718, \n",
      "INFO:root:iteration= 2970, loss= 0.04099214822053909, \n",
      "INFO:root:iteration= 2980, loss= 0.3019956350326538, \n",
      "INFO:root:iteration= 2990, loss= 0.3929905295372009, \n",
      "INFO:root:iteration= 3000, loss= 0.06764020025730133, \n",
      "INFO:root:iteration= 3010, loss= 0.20159167051315308, \n",
      "INFO:root:iteration= 3020, loss= 0.10961918532848358, \n",
      "INFO:root:iteration= 3030, loss= 0.17767181992530823, \n",
      "INFO:root:iteration= 3040, loss= 0.23232489824295044, \n",
      "INFO:root:iteration= 3050, loss= 0.0028400947339832783, \n",
      "INFO:root:iteration= 3060, loss= 0.030640847980976105, \n",
      "INFO:root:iteration= 3070, loss= 0.11348304897546768, \n",
      "INFO:root:iteration= 3080, loss= 0.1841461956501007, \n",
      "INFO:root:iteration= 3090, loss= 0.1032848209142685, \n",
      "INFO:root:iteration= 3100, loss= 0.16440504789352417, \n",
      "INFO:root:iteration= 3110, loss= 0.09477631747722626, \n",
      "INFO:root:iteration= 3120, loss= 0.34260237216949463, \n",
      "INFO:root:iteration= 3130, loss= 0.3786584734916687, \n",
      "INFO:root:iteration= 3140, loss= 0.30088523030281067, \n",
      "INFO:root:iteration= 3150, loss= 0.2783637046813965, \n",
      "INFO:root:iteration= 3160, loss= 0.012429254129529, \n",
      "INFO:root:iteration= 3170, loss= 0.34519022703170776, \n",
      "INFO:root:iteration= 3180, loss= 0.180434450507164, \n",
      "INFO:root:iteration= 3190, loss= 0.526414155960083, \n",
      "INFO:root:iteration= 3200, loss= 0.2638493776321411, \n",
      "INFO:root:iteration= 3210, loss= 0.09372945874929428, \n",
      "INFO:root:iteration= 3220, loss= 0.11619193851947784, \n",
      "INFO:root:iteration= 3230, loss= 0.43913644552230835, \n",
      "INFO:root:iteration= 3240, loss= 0.08157163858413696, \n",
      "INFO:root:iteration= 3250, loss= 0.027987083420157433, \n",
      "INFO:root:iteration= 3260, loss= 0.1407109498977661, \n",
      "INFO:root:iteration= 3270, loss= 0.07241874933242798, \n",
      "INFO:root:iteration= 3280, loss= 0.1832718551158905, \n",
      "INFO:root:iteration= 3290, loss= 0.22244222462177277, \n",
      "INFO:root:iteration= 3300, loss= 0.10380848497152328, \n",
      "INFO:root:iteration= 3310, loss= 0.06887643039226532, \n",
      "INFO:root:iteration= 3320, loss= 0.16940918564796448, \n",
      "INFO:root:iteration= 3330, loss= 0.023771153762936592, \n",
      "INFO:root:iteration= 3340, loss= 0.19734147191047668, \n",
      "INFO:root:iteration= 3350, loss= 0.22658810019493103, \n",
      "INFO:root:iteration= 3360, loss= 0.07435989379882812, \n",
      "INFO:root:iteration= 3370, loss= 0.3294019401073456, \n",
      "INFO:root:iteration= 3380, loss= 0.4774658679962158, \n",
      "INFO:root:iteration= 3390, loss= 0.1719469130039215, \n",
      "INFO:root:iteration= 3400, loss= 0.1897408366203308, \n",
      "INFO:root:iteration= 3410, loss= 0.027885910123586655, \n",
      "INFO:root:iteration= 3420, loss= 0.38307633996009827, \n",
      "INFO:root:iteration= 3430, loss= 0.011125490069389343, \n",
      "INFO:root:iteration= 3440, loss= 0.008792898617684841, \n",
      "INFO:root:iteration= 3450, loss= 0.10493546724319458, \n",
      "INFO:root:iteration= 3460, loss= 0.007750012446194887, \n",
      "INFO:root:iteration= 3470, loss= 0.12564672529697418, \n",
      "INFO:root:iteration= 3480, loss= 0.19844390451908112, \n",
      "INFO:root:iteration= 3490, loss= 0.057435542345047, \n",
      "INFO:root:iteration= 3500, loss= 0.005088373087346554, \n",
      "INFO:root:iteration= 3510, loss= 0.12113507091999054, \n",
      "INFO:root:iteration= 3520, loss= 0.3442038893699646, \n",
      "INFO:root:iteration= 3530, loss= 0.05130550637841225, \n",
      "INFO:root:iteration= 3540, loss= 0.010927128605544567, \n",
      "INFO:root:iteration= 3550, loss= 0.04969075694680214, \n",
      "INFO:root:iteration= 3560, loss= 0.04859855771064758, \n",
      "INFO:root:iteration= 3570, loss= 0.037949975579977036, \n",
      "INFO:root:iteration= 3580, loss= 0.020697640255093575, \n",
      "INFO:root:iteration= 3590, loss= 0.012066252529621124, \n",
      "INFO:root:iteration= 3600, loss= 0.3167317509651184, \n",
      "INFO:root:iteration= 3610, loss= 0.20112082362174988, \n",
      "INFO:root:iteration= 3620, loss= 0.16782262921333313, \n",
      "INFO:root:iteration= 3630, loss= 0.0038772120606154203, \n",
      "INFO:root:iteration= 3640, loss= 0.32935911417007446, \n",
      "INFO:root:iteration= 3650, loss= 0.01767914742231369, \n",
      "INFO:root:iteration= 3660, loss= 0.0854724645614624, \n",
      "INFO:root:iteration= 3670, loss= 0.00472930446267128, \n",
      "INFO:root:iteration= 3680, loss= 0.300051748752594, \n",
      "INFO:root:iteration= 3690, loss= 0.012660074047744274, \n",
      "INFO:root:iteration= 3700, loss= 0.0878511592745781, \n",
      "INFO:root:iteration= 3710, loss= 0.1774427741765976, \n",
      "INFO:root:iteration= 3720, loss= 0.07609760761260986, \n",
      "INFO:root:iteration= 3730, loss= 0.008176908828318119, \n",
      "INFO:root:iteration= 3740, loss= 0.018821902573108673, \n",
      "INFO:root:iteration= 3750, loss= 0.057459309697151184, \n",
      "INFO:root:iteration= 3760, loss= 0.1145922914147377, \n",
      "INFO:root:iteration= 3770, loss= 0.14952778816223145, \n",
      "INFO:root:iteration= 3780, loss= 0.06391926854848862, \n",
      "INFO:root:iteration= 3790, loss= 0.2665226459503174, \n",
      "INFO:root:iteration= 3800, loss= 0.1940135359764099, \n",
      "INFO:root:iteration= 3810, loss= 0.010206259787082672, \n",
      "INFO:root:iteration= 3820, loss= 0.030353058129549026, \n",
      "INFO:root:iteration= 3830, loss= 0.1281052976846695, \n",
      "INFO:root:iteration= 3840, loss= 0.06716541200876236, \n",
      "INFO:root:iteration= 3850, loss= 0.30411556363105774, \n",
      "INFO:root:iteration= 3860, loss= 0.0311436764895916, \n",
      "INFO:root:iteration= 3870, loss= 0.2622484266757965, \n",
      "INFO:root:iteration= 3880, loss= 0.046363770961761475, \n",
      "INFO:root:iteration= 3890, loss= 0.07705089449882507, \n",
      "INFO:root:iteration= 3900, loss= 0.06804540008306503, \n",
      "INFO:root:iteration= 3910, loss= 0.025597894564270973, \n",
      "INFO:root:iteration= 3920, loss= 0.10701371729373932, \n",
      "INFO:root:iteration= 3930, loss= 0.012218995951116085, \n",
      "INFO:root:iteration= 3940, loss= 0.15187013149261475, \n",
      "INFO:root:iteration= 3950, loss= 0.056854456663131714, \n",
      "INFO:root:iteration= 3960, loss= 0.0014258972369134426, \n",
      "INFO:root:iteration= 3970, loss= 0.04436180368065834, \n",
      "INFO:root:iteration= 3980, loss= 0.13235393166542053, \n",
      "INFO:root:iteration= 3990, loss= 0.03171154111623764, \n"
     ]
    },
    {
     "data": {
      "image/png": "[encoded data removed]",
      "text/plain": [
       "<Figure size 640x480 with 1 Axes>"
      ]
     },
     "metadata": {},
     "output_type": "display_data"
    }
   ],
   "source": [
    "import logging; logging.basicConfig(level=logging.INFO, force=True)\n",
    "\n",
    "curve = CurveHook()\n",
    "training_parameters = Training_parameters(n_epochs=4)\n",
    "\n",
    "with Session(db_engine) as db_session:\n",
    "    experiment = DBExperiment(name=\"test_experiment\", )\n",
    "    db_session.add(experiment)\n",
    "    trainer = Trainer(model, loader, training_parameters=training_parameters, device=\"cpu\",\n",
    "        step_hooks = [ \n",
    "            TqdmHook(),\n",
    "            LoggerHook(interval=10),\n",
    "            curve\n",
    "        ],\n",
    "        database=db_session, \n",
    "        db_experiment=experiment, )\n",
    "    experiment_id = experiment.id\n",
    "    trainer_id = trainer.id\n",
    "    if not skip_training: trainer.train()\n",
    "curve.draw()"
   ]
  },
  {
   "cell_type": "markdown",
   "id": "80466a2f-37e2-47f3-88c0-0d78313b8c38",
   "metadata": {},
   "source": [
    "Now check that we're able to resume training"
   ]
  },
  {
   "cell_type": "code",
   "execution_count": 44,
   "id": "5aecb616-7f4e-4cb9-9b8b-a23c7214ba06",
   "metadata": {},
   "outputs": [],
   "source": [
    "new_training_parameters = copy(training_parameters)\n",
    "new_training_parameters.n_epochs = 5\n",
    "with Session(db_engine) as db_session:\n",
    "    \n",
    "    trainer = Trainer(model, loader, \n",
    "                      training_parameters=training_parameters, device=\"cpu\",\n",
    "        step_hooks = [ \n",
    "            TqdmHook(),\n",
    "            LoggerHook(interval=10),\n",
    "            curve\n",
    "        ],\n",
    "        database=db_session, \n",
    "        db_experiment=experiment_id, \n",
    "        resume_from=trainer_id)\n",
    "    if not skip_training: trainer.train()"
   ]
  },
  {
   "cell_type": "code",
   "execution_count": 45,
   "id": "6209b798-bdf6-4e91-9fd0-b9ba629c9e5b",
   "metadata": {},
   "outputs": [
    {
     "data": {
      "image/png": "[encoded data removed]",
      "text/plain": [
       "<Figure size 640x480 with 1 Axes>"
      ]
     },
     "metadata": {},
     "output_type": "display_data"
    }
   ],
   "source": [
    "curve.draw()"
   ]
  },
  {
   "cell_type": "markdown",
   "id": "90eb2e13-edfb-4b40-87d0-f8339cb47488",
   "metadata": {},
   "source": [
    "## Automated experiment"
   ]
  },
  {
   "cell_type": "code",
   "execution_count": 46,
   "id": "a585c7ec-981d-485b-8905-470685a2cf94",
   "metadata": {},
   "outputs": [
    {
     "name": "stdout",
     "output_type": "stream",
     "text": [
      "\n",
      "models:\n",
      "  - name: test_model1\n",
      "    type: SimpleMLPModel\n",
      "    params:\n",
      "      dimensions: [4, 5, 10, 4]\n",
      "    training_parameters:\n",
      "      n_epochs: 2\n",
      "      performance_tricks: False\n",
      "      step_hooks:\n",
      "        - LoggerHook\n",
      "      batch_size: 10\n",
      "datasets:\n",
      "  train:\n",
      "    type: Torus4D\n",
      "    params:\n",
      "      size: 1000\n",
      "    transforms: \n",
      "      - CacheTransform\n",
      "      - type: RenameTransform\n",
      "        args: \n",
      "          - x: _\n",
      "      - type: RenameTransform\n",
      "        args:\n",
      "          - x: x\n",
      "            y: x\n",
      "      - TestTransform\n"
     ]
    }
   ],
   "source": [
    "cat workdir/test_config.yaml"
   ]
  },
  {
   "cell_type": "code",
   "execution_count": 47,
   "id": "af76411d-a3b5-4814-a3de-a6fd4fc4dc87",
   "metadata": {},
   "outputs": [
    {
     "ename": "ValueError",
     "evalue": "Missing hyperparameter feature_specification, and no default value is set",
     "output_type": "error",
     "traceback": [
      "\u001b[0;31m---------------------------------------------------------------------------\u001b[0m",
      "\u001b[0;31mValueError\u001b[0m                                Traceback (most recent call last)",
      "Cell \u001b[0;32mIn[47], line 5\u001b[0m\n\u001b[1;32m      2\u001b[0m \u001b[38;5;28;01mwith\u001b[39;00m Session(db_engine) \u001b[38;5;28;01mas\u001b[39;00m db_session:\n\u001b[1;32m      3\u001b[0m     \u001b[38;5;66;03m#import pdb;pdb.set_trace()\u001b[39;00m\n\u001b[1;32m      4\u001b[0m     exp \u001b[38;5;241m=\u001b[39m Experiment\u001b[38;5;241m.\u001b[39mfrom_yaml(\u001b[38;5;124m\"\u001b[39m\u001b[38;5;124mworkdir/test_config.yaml\u001b[39m\u001b[38;5;124m\"\u001b[39m, database_session\u001b[38;5;241m=\u001b[39mdb_session)\n\u001b[0;32m----> 5\u001b[0m     \u001b[43mexp\u001b[49m\u001b[38;5;241;43m.\u001b[39;49m\u001b[43mtrain_all\u001b[49m\u001b[43m(\u001b[49m\u001b[43m)\u001b[49m\n",
      "File \u001b[0;32m~/Devoirs/research/implementations/tb_ml/ml_lib/pipeline/experiment.py:299\u001b[0m, in \u001b[0;36mExperiment.train_all\u001b[0;34m(self, device)\u001b[0m\n\u001b[1;32m    297\u001b[0m \u001b[38;5;28;01mdef\u001b[39;00m \u001b[38;5;21mtrain_all\u001b[39m(\u001b[38;5;28mself\u001b[39m, device:\u001b[38;5;124m\"\u001b[39m\u001b[38;5;124mtorch.device|str\u001b[39m\u001b[38;5;124m\"\u001b[39m \u001b[38;5;241m=\u001b[39m \u001b[38;5;124m\"\u001b[39m\u001b[38;5;124mcpu\u001b[39m\u001b[38;5;124m\"\u001b[39m):\n\u001b[1;32m    298\u001b[0m     \u001b[38;5;28;01mfor\u001b[39;00m i \u001b[38;5;129;01min\u001b[39;00m \u001b[38;5;28mrange\u001b[39m(\u001b[38;5;28mself\u001b[39m\u001b[38;5;241m.\u001b[39mn_models):\n\u001b[0;32m--> 299\u001b[0m         \u001b[38;5;28;43mself\u001b[39;49m\u001b[38;5;241;43m.\u001b[39;49m\u001b[43mtrain\u001b[49m\u001b[43m(\u001b[49m\u001b[43mi\u001b[49m\u001b[43m,\u001b[49m\u001b[43m \u001b[49m\u001b[43mdevice\u001b[49m\u001b[43m)\u001b[49m\n",
      "File \u001b[0;32m~/Devoirs/research/implementations/tb_ml/ml_lib/pipeline/experiment.py:270\u001b[0m, in \u001b[0;36mExperiment.train\u001b[0;34m(self, model, device, resume_from)\u001b[0m\n\u001b[1;32m    268\u001b[0m \u001b[38;5;28;01mfrom\u001b[39;00m \u001b[38;5;21;01mml_lib\u001b[39;00m\u001b[38;5;21;01m.\u001b[39;00m\u001b[38;5;21;01mpipeline\u001b[39;00m\u001b[38;5;21;01m.\u001b[39;00m\u001b[38;5;21;01mtrainer\u001b[39;00m \u001b[38;5;28;01mimport\u001b[39;00m Trainer\n\u001b[1;32m    269\u001b[0m \u001b[38;5;28;01mimport\u001b[39;00m \u001b[38;5;21;01mtorch\u001b[39;00m\n\u001b[0;32m--> 270\u001b[0m model_, model_params\u001b[38;5;241m=\u001b[39m \u001b[38;5;28;43mself\u001b[39;49m\u001b[38;5;241;43m.\u001b[39;49m\u001b[43mload_model\u001b[49m\u001b[43m(\u001b[49m\u001b[43mmodel\u001b[49m\u001b[43m,\u001b[49m\u001b[43m \u001b[49m\n\u001b[1;32m    271\u001b[0m \u001b[43m                                      \u001b[49m\u001b[43mreturn_config\u001b[49m\u001b[38;5;241;43m=\u001b[39;49m\u001b[38;5;28;43;01mTrue\u001b[39;49;00m\u001b[43m,\u001b[49m\u001b[43m \u001b[49m\n\u001b[1;32m    272\u001b[0m \u001b[43m                                      \u001b[49m\u001b[43mload_checkpoint\u001b[49m\u001b[38;5;241;43m=\u001b[39;49m\u001b[38;5;28;43;01mFalse\u001b[39;49;00m\u001b[43m)\u001b[49m\n\u001b[1;32m    273\u001b[0m data \u001b[38;5;241m=\u001b[39m \u001b[38;5;28mself\u001b[39m\u001b[38;5;241m.\u001b[39mload_dataset(model_params\u001b[38;5;241m.\u001b[39mtraining_set)\n\u001b[1;32m    275\u001b[0m \u001b[38;5;28;01mif\u001b[39;00m resume_from \u001b[38;5;129;01mand\u001b[39;00m \u001b[38;5;28mself\u001b[39m\u001b[38;5;241m.\u001b[39mdatabase_object \u001b[38;5;129;01mis\u001b[39;00m \u001b[38;5;129;01mnot\u001b[39;00m \u001b[38;5;28;01mNone\u001b[39;00m:\n",
      "File \u001b[0;32m~/Devoirs/research/implementations/tb_ml/ml_lib/pipeline/experiment.py:163\u001b[0m, in \u001b[0;36mExperiment.load_model\u001b[0;34m(self, model, return_config, load_checkpoint)\u001b[0m\n\u001b[1;32m    159\u001b[0m dataset \u001b[38;5;241m=\u001b[39m \u001b[38;5;28mself\u001b[39m\u001b[38;5;241m.\u001b[39mload_dataset(which_dataset)\n\u001b[1;32m    161\u001b[0m dataset_parameters \u001b[38;5;241m=\u001b[39m dataset\u001b[38;5;241m.\u001b[39mdataset_parameters()\n\u001b[0;32m--> 163\u001b[0m m: Model \u001b[38;5;241m=\u001b[39m \u001b[43mmodel_config\u001b[49m\u001b[38;5;241;43m.\u001b[39;49m\u001b[43mload_model\u001b[49m\u001b[43m(\u001b[49m\n\u001b[1;32m    164\u001b[0m \u001b[43m            \u001b[49m\u001b[43madditional_params\u001b[49m\u001b[38;5;241;43m=\u001b[39;49m\u001b[43mdataset_parameters\u001b[49m\u001b[43m,\u001b[49m\u001b[43m \u001b[49m\n\u001b[1;32m    165\u001b[0m \u001b[43m            \u001b[49m\u001b[43mregister\u001b[49m\u001b[38;5;241;43m=\u001b[39;49m\u001b[38;5;28;43mself\u001b[39;49m\u001b[38;5;241;43m.\u001b[39;49m\u001b[43mmodel_register\u001b[49m\u001b[43m,\u001b[49m\u001b[43m \u001b[49m\n\u001b[1;32m    166\u001b[0m \u001b[43m            \u001b[49m\u001b[43mload_checkpoint\u001b[49m\u001b[38;5;241;43m=\u001b[39;49m\u001b[43mload_checkpoint\u001b[49m\u001b[43m,\u001b[49m\u001b[43m \u001b[49m\n\u001b[1;32m    167\u001b[0m \u001b[43m            \u001b[49m\u001b[43mdatabase_session\u001b[49m\u001b[38;5;241;43m=\u001b[39;49m\u001b[38;5;28;43mself\u001b[39;49m\u001b[38;5;241;43m.\u001b[39;49m\u001b[43mdatabase_session\u001b[49m\n\u001b[1;32m    168\u001b[0m \u001b[43m            \u001b[49m\u001b[43m)\u001b[49m \u001b[38;5;66;03m#type:ignore\u001b[39;00m\n\u001b[1;32m    169\u001b[0m \u001b[38;5;28mself\u001b[39m\u001b[38;5;241m.\u001b[39mensure_relationship_to_model(m)\n\u001b[1;32m    170\u001b[0m \u001b[38;5;28;01mif\u001b[39;00m return_config:\n",
      "File \u001b[0;32m~/Devoirs/research/implementations/tb_ml/ml_lib/pipeline/experiment.py:39\u001b[0m, in \u001b[0;36mModelConfig.load_model\u001b[0;34m(self, additional_params, register, load_checkpoint, database_session)\u001b[0m\n\u001b[1;32m     37\u001b[0m additional_params \u001b[38;5;241m=\u001b[39m additional_params \u001b[38;5;129;01mor\u001b[39;00m \u001b[38;5;28mdict\u001b[39m()\n\u001b[1;32m     38\u001b[0m model_class: \u001b[38;5;28mtype\u001b[39m[Model] \u001b[38;5;241m=\u001b[39m register[\u001b[38;5;28mself\u001b[39m\u001b[38;5;241m.\u001b[39mtype]\u001b[38;5;66;03m#type:ignore\u001b[39;00m\n\u001b[0;32m---> 39\u001b[0m model \u001b[38;5;241m=\u001b[39m \u001b[43mmodel_class\u001b[49m\u001b[43m(\u001b[49m\u001b[38;5;241;43m*\u001b[39;49m\u001b[38;5;241;43m*\u001b[39;49m\u001b[38;5;28;43mself\u001b[39;49m\u001b[38;5;241;43m.\u001b[39;49m\u001b[43mparams\u001b[49m\u001b[43m,\u001b[49m\u001b[43m \u001b[49m\n\u001b[1;32m     40\u001b[0m \u001b[43m                   \u001b[49m\u001b[43meventual_additional_hyperparameters\u001b[49m\u001b[38;5;241;43m=\u001b[39;49m\u001b[43madditional_params\u001b[49m\u001b[43m,\u001b[49m\u001b[43m \u001b[49m\n\u001b[1;32m     41\u001b[0m \u001b[43m                   \u001b[49m\u001b[43mname\u001b[49m\u001b[38;5;241;43m=\u001b[39;49m\u001b[38;5;28;43mself\u001b[39;49m\u001b[38;5;241;43m.\u001b[39;49m\u001b[43mname\u001b[49m\u001b[43m)\u001b[49m\n\u001b[1;32m     42\u001b[0m \u001b[38;5;28;01mif\u001b[39;00m database_session \u001b[38;5;129;01mis\u001b[39;00m \u001b[38;5;129;01mnot\u001b[39;00m \u001b[38;5;28;01mNone\u001b[39;00m:\n\u001b[1;32m     43\u001b[0m     model\u001b[38;5;241m.\u001b[39msync_with_database_object(database_session)\n",
      "File \u001b[0;32m~/Devoirs/research/implementations/tb_ml/ml_lib/models/base_classes.py:156\u001b[0m, in \u001b[0;36mModel.__init__\u001b[0;34m(self, name, eventual_additional_hyperparameters, **hyperparameters)\u001b[0m\n\u001b[1;32m    154\u001b[0m \u001b[38;5;28;01mif\u001b[39;00m eventual_additional_hyperparameters \u001b[38;5;129;01mis\u001b[39;00m \u001b[38;5;28;01mNone\u001b[39;00m:\n\u001b[1;32m    155\u001b[0m     eventual_additional_hyperparameters \u001b[38;5;241m=\u001b[39m {}\n\u001b[0;32m--> 156\u001b[0m hyperparameters \u001b[38;5;241m=\u001b[39m \u001b[38;5;28;43mself\u001b[39;49m\u001b[38;5;241;43m.\u001b[39;49m\u001b[43mfill_with_defaults\u001b[49m\u001b[43m(\u001b[49m\u001b[43mhyperparameters\u001b[49m\u001b[43m,\u001b[49m\u001b[43m \u001b[49m\u001b[43meventual_additional_hyperparameters\u001b[49m\u001b[43m)\u001b[49m\n\u001b[1;32m    157\u001b[0m \u001b[38;5;28mself\u001b[39m\u001b[38;5;241m.\u001b[39mset_hyperparameters(\u001b[38;5;241m*\u001b[39m\u001b[38;5;241m*\u001b[39mhyperparameters, )\n\u001b[1;32m    158\u001b[0m \u001b[38;5;28mself\u001b[39m\u001b[38;5;241m.\u001b[39m__setup__()\n",
      "File \u001b[0;32m~/Devoirs/research/implementations/tb_ml/ml_lib/models/base_classes.py:337\u001b[0m, in \u001b[0;36mModel.fill_with_defaults\u001b[0;34m(cls, partial_hyperparameters, eventual_additional_hyperparameters, allow_missing)\u001b[0m\n\u001b[1;32m    335\u001b[0m         partial_hyperparameters[attr_name] \u001b[38;5;241m=\u001b[39m deepcopy(eventual_additional_hyperparameters[attr_name])\n\u001b[1;32m    336\u001b[0m     \u001b[38;5;28;01melif\u001b[39;00m attr_name \u001b[38;5;129;01mnot\u001b[39;00m \u001b[38;5;129;01min\u001b[39;00m partial_hyperparameters \u001b[38;5;129;01mand\u001b[39;00m \u001b[38;5;129;01mnot\u001b[39;00m allow_missing:\n\u001b[0;32m--> 337\u001b[0m         \u001b[38;5;28;01mraise\u001b[39;00m \u001b[38;5;167;01mValueError\u001b[39;00m(\u001b[38;5;124mf\u001b[39m\u001b[38;5;124m\"\u001b[39m\u001b[38;5;124mMissing hyperparameter \u001b[39m\u001b[38;5;132;01m{\u001b[39;00mattr_name\u001b[38;5;132;01m}\u001b[39;00m\u001b[38;5;124m, and no default value is set\u001b[39m\u001b[38;5;124m\"\u001b[39m)\n\u001b[1;32m    338\u001b[0m \u001b[38;5;28;01mreturn\u001b[39;00m partial_hyperparameters\n",
      "\u001b[0;31mValueError\u001b[0m: Missing hyperparameter feature_specification, and no default value is set"
     ]
    }
   ],
   "source": [
    "from ml_lib.pipeline.experiment import Experiment\n",
    "with Session(db_engine) as db_session:\n",
    "    #import pdb;pdb.set_trace()\n",
    "    exp = Experiment.from_yaml(\"workdir/test_config.yaml\", database_session=db_session)\n",
    "    exp.train_all()"
   ]
  },
  {
   "cell_type": "code",
   "execution_count": null,
   "id": "283f6af1-16e6-44db-86fa-606d8389155d",
   "metadata": {
    "scrolled": true
   },
   "outputs": [],
   "source": [
    "with Session(db_engine) as db_session:\n",
    "    #import pdb;pdb.set_trace()\n",
    "    exp = Experiment.from_yaml(\"workdir/test_config.yaml\", database_session=db_session)\n",
    "    exp.train_all()"
   ]
  },
  {
   "cell_type": "markdown",
   "id": "77a9b7e3-40d7-44d6-9e03-06c91181baf4",
   "metadata": {},
   "source": [
    "## Misc"
   ]
  },
  {
   "cell_type": "code",
   "execution_count": null,
   "id": "45247357-c2b0-4f94-aa17-0b29e509ea32",
   "metadata": {},
   "outputs": [],
   "source": [
    "from ml_lib.misc.matchers import EmptySet"
   ]
  },
  {
   "cell_type": "code",
   "execution_count": null,
   "id": "18fe4171-d9ff-40ed-bae1-278b4d8f7e1b",
   "metadata": {},
   "outputs": [],
   "source": [
    "isinstance(set(), EmptySet)"
   ]
  },
  {
   "cell_type": "code",
   "execution_count": null,
   "id": "4edd573f-c387-47b6-b632-db8a615d15e8",
   "metadata": {},
   "outputs": [],
   "source": [
    "isinstance(set([1]), EmptySet)"
   ]
  },
  {
   "cell_type": "code",
   "execution_count": null,
   "id": "7b0455b4-94b8-4698-b6e9-20647e04daf9",
   "metadata": {},
   "outputs": [],
   "source": [
    "match set():\n",
    "    case EmptySet():\n",
    "        print(\"Tristan, you are a terrible person\")\n",
    "    case _:\n",
    "        print(\"ugh\")\n",
    "\n",
    "match {1, 2, 3}:\n",
    "    case EmptySet():\n",
    "        print(\"ugh\")\n",
    "    case _:\n",
    "        print(\"But it works\")"
   ]
  },
  {
   "cell_type": "markdown",
   "id": "897a6ae4-e312-4eb4-8b26-a1d4507bf41e",
   "metadata": {},
   "source": [
    "Someday I'll make one of those that checks for regular expressions… and that will be absolutely terrible"
   ]
  },
  {
   "cell_type": "code",
   "execution_count": null,
   "id": "a523e383-97ac-4ee1-8973-c801a03b6976",
   "metadata": {},
   "outputs": [],
   "source": []
  }
 ],
 "metadata": {
  "kernelspec": {
   "display_name": "Python 3 (ipykernel)",
   "language": "python",
   "name": "python3"
  },
  "language_info": {
   "codemirror_mode": {
    "name": "ipython",
    "version": 3
   },
   "file_extension": ".py",
   "mimetype": "text/x-python",
   "name": "python",
   "nbconvert_exporter": "python",
   "pygments_lexer": "ipython3",
   "version": "3.11.8"
  }
 },
 "nbformat": 4,
 "nbformat_minor": 5
}
