{
 "cells": [
  {
   "cell_type": "markdown",
   "id": "988b919e-7daf-4162-8c84-b2890ab82cac",
   "metadata": {},
   "source": [
    "# Tests"
   ]
  },
  {
   "cell_type": "markdown",
   "id": "afb7059d-3b1c-4363-9735-2629bf454125",
   "metadata": {},
   "source": [
    "## Imports and stuff"
   ]
  },
  {
   "cell_type": "code",
   "execution_count": 40,
   "id": "a756cc65-6c1e-472b-9b9c-0abdf60a1b6c",
   "metadata": {
    "tags": []
   },
   "outputs": [
    {
     "name": "stdout",
     "output_type": "stream",
     "text": [
      "The autoreload extension is already loaded. To reload it, use:\n",
      "  %reload_ext autoreload\n"
     ]
    }
   ],
   "source": [
    "import sys\n",
    "from copy import copy\n",
    "\n",
    "def append_path(s):\n",
    "    if s in sys.path:\n",
    "        return\n",
    "    sys.path.append(s)\n",
    "\n",
    "append_path(\"..\")\n",
    "%load_ext autoreload\n",
    "#%autoreload 2"
   ]
  },
  {
   "cell_type": "code",
   "execution_count": 2,
   "id": "d469e6ee-0505-4851-8bf6-4d31ab8ae3ea",
   "metadata": {},
   "outputs": [],
   "source": [
    "import numpy as np\n",
    "from numpy.random import default_rng\n",
    "rng = default_rng()\n",
    "import matplotlib.pyplot as plt\n",
    "import matplotlib.ticker as ticker\n",
    "import networkx as nx\n",
    "import torch\n",
    "from torch import Tensor\n"
   ]
  },
  {
   "cell_type": "code",
   "execution_count": 3,
   "id": "3475ed6e-5d9e-47ae-911d-41caed2a7cf6",
   "metadata": {},
   "outputs": [],
   "source": [
    "import ml_lib\n"
   ]
  },
  {
   "cell_type": "markdown",
   "id": "49ca92f8-b5c4-480b-9f7b-a7d2b47eda17",
   "metadata": {
    "tags": []
   },
   "source": [
    "## Datasets"
   ]
  },
  {
   "cell_type": "code",
   "execution_count": 4,
   "id": "bcb59e0b-d47d-4fa3-bd5c-12cbc7112498",
   "metadata": {},
   "outputs": [],
   "source": [
    "from ml_lib.datasets import register as dataset_register, transform_register, load_transform, load_dataset"
   ]
  },
  {
   "cell_type": "code",
   "execution_count": 5,
   "id": "26cea4fc-9e73-46e6-acca-48b50bd4e55e",
   "metadata": {},
   "outputs": [],
   "source": [
    "dataset0 = dataset_register[\"Torus4D\"](1000)"
   ]
  },
  {
   "cell_type": "code",
   "execution_count": 6,
   "id": "fd359c44-3417-4b76-9570-202447d781bd",
   "metadata": {},
   "outputs": [],
   "source": [
    "transform = transform_register[\"CacheTransform\"]() \n",
    "dataset1 = transform(dataset0)"
   ]
  },
  {
   "cell_type": "code",
   "execution_count": 7,
   "id": "a804da77-671a-4da2-ab15-5f1cebdc5eb7",
   "metadata": {},
   "outputs": [
    {
     "data": {
      "text/plain": [
       "<ml_lib.datasets.simple_shapes.Torus4D at 0x71a129fde450>"
      ]
     },
     "execution_count": 7,
     "metadata": {},
     "output_type": "execute_result"
    }
   ],
   "source": [
    "dataset1._inner"
   ]
  },
  {
   "cell_type": "code",
   "execution_count": 8,
   "id": "5809ff0a-da88-45af-9913-7014b4a0a51f",
   "metadata": {},
   "outputs": [
    {
     "data": {
      "text/plain": [
       "tensor([[-1.0088, -0.0363,  0.4917, -0.8495]])"
      ]
     },
     "execution_count": 8,
     "metadata": {},
     "output_type": "execute_result"
    }
   ],
   "source": [
    "dataset1[0]"
   ]
  },
  {
   "cell_type": "code",
   "execution_count": 9,
   "id": "82f44708-e279-4422-b00d-3d40eb912abb",
   "metadata": {},
   "outputs": [
    {
     "data": {
      "text/plain": [
       "<ml_lib.datasets.datapoint.DictDatapoint at 0x71a12b010a10>"
      ]
     },
     "execution_count": 9,
     "metadata": {},
     "output_type": "execute_result"
    }
   ],
   "source": [
    "dataset2 = transform_register[\"RenameTransform\"]({\"x\": \"_\"})(dataset1)\n",
    "dataset2[0]"
   ]
  },
  {
   "cell_type": "code",
   "execution_count": 10,
   "id": "ca39be83-6328-452f-9dd7-822e9474eeb1",
   "metadata": {},
   "outputs": [
    {
     "data": {
      "text/plain": [
       "<ml_lib.datasets.datapoint.DictDatapoint at 0x71a129ecb510>"
      ]
     },
     "execution_count": 10,
     "metadata": {},
     "output_type": "execute_result"
    }
   ],
   "source": [
    "dataset3 = transform_register[\"RenameTransform\"]({\"x\": \"x\", \"y\":\"x\"})(dataset2)\n",
    "dataset3[0]"
   ]
  },
  {
   "cell_type": "code",
   "execution_count": 11,
   "id": "cebea6a4-4148-4d14-84b9-1a4fcd0410e1",
   "metadata": {},
   "outputs": [
    {
     "data": {
      "text/plain": [
       "<ml_lib.datasets.datapoint.DictDatapoint at 0x71a12a3285d0>"
      ]
     },
     "execution_count": 11,
     "metadata": {},
     "output_type": "execute_result"
    }
   ],
   "source": [
    "normalize = lambda x : x / x.norm()\n",
    "dataset4 = transform_register[\"MultipleFunctionTransform\"]({\"x\": (normalize, \"x\"), \"gt\": (lambda x:x, \"y\")})(dataset3)\n",
    "dataset4[0]"
   ]
  },
  {
   "cell_type": "markdown",
   "id": "c76780b0-47c8-4bd9-8d4a-0df334837b6b",
   "metadata": {},
   "source": [
    "great!"
   ]
  },
  {
   "cell_type": "markdown",
   "id": "b232574c-5703-4688-b0f7-99be279c79c1",
   "metadata": {
    "tags": []
   },
   "source": [
    "## Environments"
   ]
  },
  {
   "cell_type": "code",
   "execution_count": 12,
   "id": "8faa0bac-090c-4c70-bca8-7795002026bc",
   "metadata": {},
   "outputs": [],
   "source": [
    "from ml_lib.environment import Environment, Scope, scopevar_of_str, str_of_scopevar, HierarchicEnvironment, ScopedEnvironment"
   ]
  },
  {
   "cell_type": "code",
   "execution_count": 13,
   "id": "e4ad9cd4-aeab-4aac-8da7-f32ea22ed838",
   "metadata": {},
   "outputs": [
    {
     "data": {
      "text/plain": [
       "(('a', 'b'), 'c')"
      ]
     },
     "execution_count": 13,
     "metadata": {},
     "output_type": "execute_result"
    }
   ],
   "source": [
    "scopevar_of_str(\"a/b/c\")"
   ]
  },
  {
   "cell_type": "code",
   "execution_count": 14,
   "id": "72282cd4-17dd-4d57-b74c-40aea0b48080",
   "metadata": {},
   "outputs": [
    {
     "data": {
      "text/plain": [
       "'a/b/c'"
      ]
     },
     "execution_count": 14,
     "metadata": {},
     "output_type": "execute_result"
    }
   ],
   "source": [
    "str_of_scopevar(('a', 'b'), 'c')"
   ]
  },
  {
   "cell_type": "code",
   "execution_count": 15,
   "id": "c7efde3a-5b69-4ada-8e75-0451b4859ddc",
   "metadata": {},
   "outputs": [],
   "source": [
    "env = Environment()"
   ]
  },
  {
   "cell_type": "code",
   "execution_count": 16,
   "id": "3681ab99-19b5-48d3-ba87-dfa8da55c7bb",
   "metadata": {},
   "outputs": [
    {
     "data": {
      "text/plain": [
       "Environment(defaultdict(<class 'dict'>, {'_ipython_canary_method_should_not_exist_': {}, '_ipython_display_': {}, '_repr_mimebundle_': {}}))"
      ]
     },
     "execution_count": 16,
     "metadata": {},
     "output_type": "execute_result"
    }
   ],
   "source": [
    "env"
   ]
  },
  {
   "cell_type": "code",
   "execution_count": 17,
   "id": "4635378d-473f-43d9-a973-96e78a63e940",
   "metadata": {},
   "outputs": [],
   "source": [
    "env.record(\"hello\", 1)"
   ]
  },
  {
   "cell_type": "code",
   "execution_count": 18,
   "id": "ffb94b27-d9d0-43fb-bfc8-3f368f77bc8e",
   "metadata": {},
   "outputs": [
    {
     "data": {
      "text/plain": [
       "defaultdict(dict,\n",
       "            {'_ipython_canary_method_should_not_exist_': {},\n",
       "             '_ipython_display_': {},\n",
       "             '_repr_mimebundle_': {},\n",
       "             '_repr_html_': {},\n",
       "             '_repr_markdown_': {},\n",
       "             '_repr_svg_': {},\n",
       "             '_repr_png_': {},\n",
       "             '_repr_pdf_': {},\n",
       "             '_repr_jpeg_': {},\n",
       "             '_repr_latex_': {},\n",
       "             '_repr_json_': {},\n",
       "             '_repr_javascript_': {},\n",
       "             'hello': {(): 1}})"
      ]
     },
     "execution_count": 18,
     "metadata": {},
     "output_type": "execute_result"
    }
   ],
   "source": [
    "env.data"
   ]
  },
  {
   "cell_type": "code",
   "execution_count": 19,
   "id": "d4890ff8-761a-4e6e-8a73-42b2ac812808",
   "metadata": {},
   "outputs": [
    {
     "data": {
      "text/plain": [
       "defaultdict(dict,\n",
       "            {'_ipython_canary_method_should_not_exist_': {},\n",
       "             '_ipython_display_': {},\n",
       "             '_repr_mimebundle_': {},\n",
       "             '_repr_html_': {},\n",
       "             '_repr_markdown_': {},\n",
       "             '_repr_svg_': {},\n",
       "             '_repr_png_': {},\n",
       "             '_repr_pdf_': {},\n",
       "             '_repr_jpeg_': {},\n",
       "             '_repr_latex_': {},\n",
       "             '_repr_json_': {},\n",
       "             '_repr_javascript_': {},\n",
       "             'hello': {(): 1},\n",
       "             'world': {('some', 'scope'): 4}})"
      ]
     },
     "execution_count": 19,
     "metadata": {},
     "output_type": "execute_result"
    }
   ],
   "source": [
    "env.record(\"world\", 4, (\"some\", \"scope\"))\n",
    "env.data"
   ]
  },
  {
   "cell_type": "code",
   "execution_count": 20,
   "id": "bb3196cd-ec71-43c7-9159-bd7971cb0cc4",
   "metadata": {},
   "outputs": [
    {
     "data": {
      "text/plain": [
       "1"
      ]
     },
     "execution_count": 20,
     "metadata": {},
     "output_type": "execute_result"
    }
   ],
   "source": [
    "env.get(\"hello\")"
   ]
  },
  {
   "cell_type": "code",
   "execution_count": 21,
   "id": "91ea9683-7071-4554-8dac-cac7ffdbc478",
   "metadata": {},
   "outputs": [
    {
     "data": {
      "text/plain": [
       "4"
      ]
     },
     "execution_count": 21,
     "metadata": {},
     "output_type": "execute_result"
    }
   ],
   "source": [
    "env.get(\"world\")"
   ]
  },
  {
   "cell_type": "code",
   "execution_count": 22,
   "id": "454ff54f-0487-4382-a546-6ee4638ce9ef",
   "metadata": {},
   "outputs": [
    {
     "data": {
      "text/plain": [
       "4"
      ]
     },
     "execution_count": 22,
     "metadata": {},
     "output_type": "execute_result"
    }
   ],
   "source": [
    "#import pdb; pdb.set_trace()\n",
    "env.get(\"world\", scope=(\"some\",))"
   ]
  },
  {
   "cell_type": "code",
   "execution_count": 23,
   "id": "0bd673e8-3f56-469f-8ba8-d90228dd7f6e",
   "metadata": {},
   "outputs": [],
   "source": [
    "env.get(\"world\", scope=(\"soe\",))"
   ]
  },
  {
   "cell_type": "code",
   "execution_count": 24,
   "id": "40273039-d3d5-4111-97af-52e789c81a39",
   "metadata": {},
   "outputs": [],
   "source": [
    "hier_env = HierarchicEnvironment(parent=env)"
   ]
  },
  {
   "cell_type": "code",
   "execution_count": 25,
   "id": "92697ea6-3316-4186-bec0-23dcd8b2d0c5",
   "metadata": {},
   "outputs": [
    {
     "data": {
      "text/plain": [
       "2"
      ]
     },
     "execution_count": 25,
     "metadata": {},
     "output_type": "execute_result"
    }
   ],
   "source": [
    "hier_env.record(\"world\", 2, (\"some\",))\n",
    "hier_env.get(\"world\", scope=(\"some\",))\n"
   ]
  },
  {
   "cell_type": "code",
   "execution_count": 26,
   "id": "88d07bb9-a701-431e-91d7-b228555ffc6a",
   "metadata": {},
   "outputs": [
    {
     "data": {
      "text/plain": [
       "4"
      ]
     },
     "execution_count": 26,
     "metadata": {},
     "output_type": "execute_result"
    }
   ],
   "source": [
    "hier_env.get(\"world\", scope=(\"some\",\"scope\"))\n"
   ]
  },
  {
   "cell_type": "code",
   "execution_count": 27,
   "id": "e3a7bd05-bf0d-44ce-90d1-2abf36fddfed",
   "metadata": {},
   "outputs": [],
   "source": [
    "def f(world, hello=6, magic=3):\n",
    "    print(world, hello, magic)\n",
    "    return 1"
   ]
  },
  {
   "cell_type": "code",
   "execution_count": 28,
   "id": "598d5a9a-9a64-4145-bd7c-11a5e73f9925",
   "metadata": {},
   "outputs": [
    {
     "name": "stdout",
     "output_type": "stream",
     "text": [
      "2 1 3\n"
     ]
    },
    {
     "data": {
      "text/plain": [
       "1"
      ]
     },
     "execution_count": 28,
     "metadata": {},
     "output_type": "execute_result"
    }
   ],
   "source": [
    "hier_env.run_function(f)"
   ]
  },
  {
   "cell_type": "markdown",
   "id": "56f84cb9-c0f8-4753-890b-5eacf56006e1",
   "metadata": {},
   "source": [
    "## Model"
   ]
  },
  {
   "cell_type": "code",
   "execution_count": 29,
   "id": "dfc31937-5b0f-48ad-b705-e8977efda7b6",
   "metadata": {},
   "outputs": [
    {
     "name": "stdout",
     "output_type": "stream",
     "text": [
      "SimpleMLPModel(\n",
      "    dimensions=[4, 5, 10, 4, 4],\n",
      ")\n",
      "SimpleMLPModel(\n",
      "  (inner): MLP(\n",
      "    (linear_0): Linear(in_features=4, out_features=5, bias=True)\n",
      "    (activation_0): ReLU()\n",
      "    (linear_1): Linear(in_features=5, out_features=10, bias=True)\n",
      "    (activation_1): ReLU()\n",
      "    (linear_2): Linear(in_features=10, out_features=4, bias=True)\n",
      "    (activation_2): ReLU()\n",
      "    (linear_3): Linear(in_features=4, out_features=4, bias=True)\n",
      "  )\n",
      ")\n"
     ]
    },
    {
     "data": {
      "text/plain": [
       "'test_model'"
      ]
     },
     "execution_count": 29,
     "metadata": {},
     "output_type": "execute_result"
    }
   ],
   "source": [
    "from ml_lib.models import Model, Supervised, Hyperparameter, register as model_register\n",
    "from ml_lib.models.layers import MLP\n",
    "\n",
    "@model_register\n",
    "class SimpleMLPModel(Supervised):\n",
    "    \n",
    "    dimensions: Hyperparameter[list[int]]\n",
    "\n",
    "    inner: MLP\n",
    "\n",
    "    def __setup__(self):\n",
    "        self.inner = MLP(*self.dimensions, batchnorm=False)\n",
    "\n",
    "    def forward(self, x):\n",
    "        return self.inner(x)\n",
    "\n",
    "    def loss_fun(self, x, gt):\n",
    "        return (x - gt).square().sum()\n",
    "\n",
    "model = SimpleMLPModel(dimensions=[4, 5, 10, 4, 4], model_name=\"test_model\")\n",
    "print(model)\n",
    "print(torch.nn.Module.__repr__(model))\n",
    "model.model_name"
   ]
  },
  {
   "cell_type": "markdown",
   "id": "e9ffc541-f49c-4d5c-a2da-3a17b530b6c8",
   "metadata": {},
   "source": [
    "## Saving and loading to database"
   ]
  },
  {
   "cell_type": "code",
   "execution_count": 30,
   "id": "803d3147-2ea2-453f-8fdc-67be314ffee4",
   "metadata": {},
   "outputs": [],
   "source": [
    "from sqlalchemy import create_engine\n",
    "from sqlalchemy.orm import Session\n",
    "from ml_lib.experiment_tracking import create_tables, Model as Database_Model\n"
   ]
  },
  {
   "cell_type": "code",
   "execution_count": 31,
   "id": "6d92b0b0-de96-401a-abbb-8fc25374d8eb",
   "metadata": {},
   "outputs": [
    {
     "data": {
      "text/plain": [
       "'SimpleMLPModel'"
      ]
     },
     "execution_count": 31,
     "metadata": {},
     "output_type": "execute_result"
    }
   ],
   "source": [
    "model.get_model_type()"
   ]
  },
  {
   "cell_type": "code",
   "execution_count": 32,
   "id": "867810ca-302e-4c3e-aaab-275bc470572c",
   "metadata": {},
   "outputs": [
    {
     "data": {
      "text/plain": [
       "Model(id= None, model_type= SimpleMLPModel, name= test_model, description= None)"
      ]
     },
     "execution_count": 32,
     "metadata": {},
     "output_type": "execute_result"
    }
   ],
   "source": [
    "model.to_database_object()"
   ]
  },
  {
   "cell_type": "code",
   "execution_count": 33,
   "id": "0fc64de1-c910-44b7-a5c7-6cdc7998b1de",
   "metadata": {},
   "outputs": [
    {
     "name": "stdout",
     "output_type": "stream",
     "text": [
      "Model(id= 1, model_type= SimpleMLPModel, name= test_model, description= None)\n"
     ]
    },
    {
     "data": {
      "text/plain": [
       "1"
      ]
     },
     "execution_count": 33,
     "metadata": {},
     "output_type": "execute_result"
    }
   ],
   "source": [
    "print_requests = False\n",
    "%rm /tmp/test.db\n",
    "db_engine = create_engine(\"sqlite:////tmp/test.db\", echo=print_requests)\n",
    "create_tables(db_engine)\n",
    "with Session(db_engine) as db_session:\n",
    "    model.save_to_database(db_session, replace=True)\n",
    "    #db_session.commit()\n",
    "    print(model.get_database_object(db_session))\n",
    "    model_object  = db_session.get(Database_Model, model.id)\n",
    "    db_session.commit()\n",
    "model.id"
   ]
  },
  {
   "cell_type": "code",
   "execution_count": 34,
   "id": "b5d6446f-3cb8-4228-95c0-541a84ea0456",
   "metadata": {},
   "outputs": [
    {
     "name": "stdout",
     "output_type": "stream",
     "text": [
      "Model(id= 1, model_type= SimpleMLPModel, name= test_model, description= None)\n",
      "<class 'sqlalchemy.orm.session.Session'>\n"
     ]
    },
    {
     "data": {
      "text/plain": [
       "SimpleMLPModel(\n",
       "    dimensions=[4, 5, 10, 4, 4],\n",
       ")"
      ]
     },
     "execution_count": 34,
     "metadata": {},
     "output_type": "execute_result"
    }
   ],
   "source": [
    "with Session(db_engine) as db_session:\n",
    "    model_object  = db_session.get(Database_Model, model.id)\n",
    "    print(model_object)\n",
    "    print(type(db_session))\n",
    "    loaded_model= model_object.load_model(load_latest_checkpoint=False,) #cannot load checkpoint for now since there isn't one\n",
    "loaded_model"
   ]
  },
  {
   "cell_type": "markdown",
   "id": "69300be5-9d40-4cad-8567-454ea9404830",
   "metadata": {},
   "source": [
    "## Training"
   ]
  },
  {
   "cell_type": "code",
   "execution_count": 35,
   "id": "9d5c3e97-a43c-416d-8b1a-b24ec5d53eb1",
   "metadata": {},
   "outputs": [],
   "source": [
    "from ml_lib.models import Model\n",
    "from ml_lib.pipeline import Trainer, Training_parameters\n",
    "from ml_lib.pipeline.training_hooks import TqdmHook, LoggerHook, CurveHook, DatabaseHook\n",
    "from ml_lib.experiment_tracking import Experiment as DBExperiment\n",
    "from torch.utils.data import DataLoader"
   ]
  },
  {
   "cell_type": "code",
   "execution_count": 36,
   "id": "f683c8a1-1803-48e6-aa55-4f2991041e9f",
   "metadata": {},
   "outputs": [
    {
     "data": {
      "text/plain": [
       "<ml_lib.datasets.datapoint.DictDatapoint at 0x71a1e7eb7a50>"
      ]
     },
     "execution_count": 36,
     "metadata": {},
     "output_type": "execute_result"
    }
   ],
   "source": [
    "loader = DataLoader(dataset4, batch_size=None, shuffle=True)\n",
    "next(iter(loader))"
   ]
  },
  {
   "cell_type": "code",
   "execution_count": 37,
   "id": "ff11b26b-ef59-45fb-98d6-b3781c71ce7f",
   "metadata": {},
   "outputs": [
    {
     "data": {
      "application/vnd.jupyter.widget-view+json": {
       "model_id": "2863b5437bbc429a980ee7ebf5d5bd86",
       "version_major": 2,
       "version_minor": 0
      },
      "text/plain": [
       "Epoch 0:   0%|          | 0/4000 [00:00<?, ?it/s]"
      ]
     },
     "metadata": {},
     "output_type": "display_data"
    },
    {
     "name": "stderr",
     "output_type": "stream",
     "text": [
      "INFO:root:iteration= 0, loss= 1.481252670288086, \n",
      "INFO:root:iteration= 10, loss= 2.5517404079437256, \n",
      "INFO:root:iteration= 20, loss= 1.8818986415863037, \n",
      "INFO:root:iteration= 30, loss= 1.7826392650604248, \n",
      "INFO:root:iteration= 40, loss= 1.7798988819122314, \n",
      "INFO:root:iteration= 50, loss= 1.0866178274154663, \n",
      "INFO:root:iteration= 60, loss= 1.6087743043899536, \n",
      "INFO:root:iteration= 70, loss= 3.2318758964538574, \n",
      "INFO:root:iteration= 80, loss= 2.9820761680603027, \n",
      "INFO:root:iteration= 90, loss= 1.3781991004943848, \n",
      "/home/tris/Devoirs/research/implementations/tb_ml/ml_lib/models/base_classes.py:308: SAWarning: Object of type <Training_step> not in session, add operation along 'Training_run.steps' will not proceed (This warning originated from the Session 'autoflush' process, which was invoked automatically in response to a user-initiated operation.)\n",
      "  return session.get(Database_Model, self.id)\n",
      "INFO:root:iteration= 100, loss= 2.4350273609161377, \n",
      "INFO:root:iteration= 110, loss= 2.5941965579986572, \n",
      "INFO:root:iteration= 120, loss= 3.0107834339141846, \n",
      "INFO:root:iteration= 130, loss= 2.747300386428833, \n",
      "INFO:root:iteration= 140, loss= 2.3072729110717773, \n",
      "INFO:root:iteration= 150, loss= 2.4611656665802, \n",
      "INFO:root:iteration= 160, loss= 2.319666862487793, \n",
      "INFO:root:iteration= 170, loss= 1.9060032367706299, \n",
      "INFO:root:iteration= 180, loss= 1.2555972337722778, \n",
      "INFO:root:iteration= 190, loss= 1.340766191482544, \n",
      "INFO:root:iteration= 200, loss= 1.8864086866378784, \n",
      "INFO:root:iteration= 210, loss= 2.19512939453125, \n",
      "INFO:root:iteration= 220, loss= 2.797557830810547, \n",
      "INFO:root:iteration= 230, loss= 1.9616148471832275, \n",
      "INFO:root:iteration= 240, loss= 1.8291077613830566, \n",
      "INFO:root:iteration= 250, loss= 2.4127755165100098, \n",
      "INFO:root:iteration= 260, loss= 2.836562395095825, \n",
      "INFO:root:iteration= 270, loss= 1.4403270483016968, \n",
      "INFO:root:iteration= 280, loss= 1.3780701160430908, \n",
      "INFO:root:iteration= 290, loss= 1.4627190828323364, \n",
      "INFO:root:iteration= 300, loss= 1.5039018392562866, \n",
      "INFO:root:iteration= 310, loss= 1.6544268131256104, \n",
      "INFO:root:iteration= 320, loss= 2.018587589263916, \n",
      "INFO:root:iteration= 330, loss= 2.0914864540100098, \n",
      "INFO:root:iteration= 340, loss= 2.6990668773651123, \n",
      "INFO:root:iteration= 350, loss= 1.6078746318817139, \n",
      "INFO:root:iteration= 360, loss= 1.4826411008834839, \n",
      "INFO:root:iteration= 370, loss= 2.130316734313965, \n",
      "INFO:root:iteration= 380, loss= 1.3724098205566406, \n",
      "INFO:root:iteration= 390, loss= 2.3086130619049072, \n",
      "INFO:root:iteration= 400, loss= 1.5757100582122803, \n",
      "INFO:root:iteration= 410, loss= 1.7344932556152344, \n",
      "INFO:root:iteration= 420, loss= 1.750540852546692, \n",
      "INFO:root:iteration= 430, loss= 2.210737943649292, \n",
      "INFO:root:iteration= 440, loss= 1.847421646118164, \n",
      "INFO:root:iteration= 450, loss= 1.518446922302246, \n",
      "INFO:root:iteration= 460, loss= 1.821001648902893, \n",
      "INFO:root:iteration= 470, loss= 2.1281275749206543, \n",
      "INFO:root:iteration= 480, loss= 2.113445997238159, \n",
      "INFO:root:iteration= 490, loss= 1.557546854019165, \n",
      "INFO:root:iteration= 500, loss= 1.3309694528579712, \n",
      "INFO:root:iteration= 510, loss= 1.7495416402816772, \n",
      "INFO:root:iteration= 520, loss= 2.3023581504821777, \n",
      "INFO:root:iteration= 530, loss= 1.5237336158752441, \n",
      "INFO:root:iteration= 540, loss= 1.3958593606948853, \n",
      "INFO:root:iteration= 550, loss= 0.5016781091690063, \n",
      "INFO:root:iteration= 560, loss= 1.0810725688934326, \n",
      "INFO:root:iteration= 570, loss= 2.457857370376587, \n",
      "INFO:root:iteration= 580, loss= 2.2602601051330566, \n",
      "INFO:root:iteration= 590, loss= 1.6238746643066406, \n",
      "INFO:root:iteration= 600, loss= 1.263848066329956, \n",
      "INFO:root:iteration= 610, loss= 2.218371868133545, \n",
      "INFO:root:iteration= 620, loss= 1.3960902690887451, \n",
      "INFO:root:iteration= 630, loss= 2.1186490058898926, \n",
      "INFO:root:iteration= 640, loss= 2.478041887283325, \n",
      "INFO:root:iteration= 650, loss= 2.4676220417022705, \n",
      "INFO:root:iteration= 660, loss= 1.8797039985656738, \n",
      "INFO:root:iteration= 670, loss= 1.3682242631912231, \n",
      "INFO:root:iteration= 680, loss= 1.6788582801818848, \n",
      "INFO:root:iteration= 690, loss= 1.3211830854415894, \n",
      "INFO:root:iteration= 700, loss= 1.9559513330459595, \n",
      "INFO:root:iteration= 710, loss= 1.93858003616333, \n",
      "INFO:root:iteration= 720, loss= 1.5573151111602783, \n",
      "INFO:root:iteration= 730, loss= 2.2097220420837402, \n",
      "INFO:root:iteration= 740, loss= 1.97633957862854, \n",
      "INFO:root:iteration= 750, loss= 1.3841896057128906, \n",
      "INFO:root:iteration= 760, loss= 1.7795498371124268, \n",
      "INFO:root:iteration= 770, loss= 1.7446702718734741, \n",
      "INFO:root:iteration= 780, loss= 1.7404706478118896, \n",
      "INFO:root:iteration= 790, loss= 1.986735463142395, \n",
      "INFO:root:iteration= 800, loss= 1.6254310607910156, \n",
      "INFO:root:iteration= 810, loss= 2.2339279651641846, \n",
      "INFO:root:iteration= 820, loss= 1.6563810110092163, \n",
      "INFO:root:iteration= 830, loss= 0.8385070562362671, \n",
      "INFO:root:iteration= 840, loss= 1.407810926437378, \n",
      "INFO:root:iteration= 850, loss= 0.5281201601028442, \n",
      "INFO:root:iteration= 860, loss= 1.758832335472107, \n",
      "INFO:root:iteration= 870, loss= 1.656150221824646, \n",
      "INFO:root:iteration= 880, loss= 2.07904314994812, \n",
      "INFO:root:iteration= 890, loss= 0.5893977284431458, \n",
      "INFO:root:iteration= 900, loss= 1.1971043348312378, \n",
      "INFO:root:iteration= 910, loss= 1.7177531719207764, \n",
      "INFO:root:iteration= 920, loss= 2.1551296710968018, \n",
      "INFO:root:iteration= 930, loss= 1.566091775894165, \n",
      "INFO:root:iteration= 940, loss= 2.0944886207580566, \n",
      "INFO:root:iteration= 950, loss= 0.5273999571800232, \n",
      "INFO:root:iteration= 960, loss= 0.869300127029419, \n",
      "INFO:root:iteration= 970, loss= 1.8205254077911377, \n",
      "INFO:root:iteration= 980, loss= 1.1225087642669678, \n",
      "INFO:root:iteration= 990, loss= 1.8352607488632202, \n",
      "INFO:root:iteration= 1000, loss= 1.4188330173492432, \n",
      "INFO:root:iteration= 1010, loss= 1.9883887767791748, \n",
      "INFO:root:iteration= 1020, loss= 2.085054636001587, \n",
      "INFO:root:iteration= 1030, loss= 1.3677898645401, \n",
      "INFO:root:iteration= 1040, loss= 1.0160510540008545, \n",
      "INFO:root:iteration= 1050, loss= 1.830439805984497, \n",
      "INFO:root:iteration= 1060, loss= 1.8760838508605957, \n",
      "INFO:root:iteration= 1070, loss= 1.9952144622802734, \n",
      "INFO:root:iteration= 1080, loss= 1.060354232788086, \n",
      "INFO:root:iteration= 1090, loss= 0.38136526942253113, \n",
      "INFO:root:iteration= 1100, loss= 2.2110953330993652, \n",
      "INFO:root:iteration= 1110, loss= 1.566641092300415, \n",
      "INFO:root:iteration= 1120, loss= 1.7487096786499023, \n",
      "INFO:root:iteration= 1130, loss= 1.6216081380844116, \n",
      "INFO:root:iteration= 1140, loss= 1.512001872062683, \n",
      "INFO:root:iteration= 1150, loss= 1.3078529834747314, \n",
      "INFO:root:iteration= 1160, loss= 1.8979839086532593, \n",
      "INFO:root:iteration= 1170, loss= 1.5088093280792236, \n",
      "INFO:root:iteration= 1180, loss= 1.0309783220291138, \n",
      "INFO:root:iteration= 1190, loss= 2.134836435317993, \n",
      "INFO:root:iteration= 1200, loss= 0.7097500562667847, \n",
      "INFO:root:iteration= 1210, loss= 1.8574273586273193, \n",
      "INFO:root:iteration= 1220, loss= 0.4600210189819336, \n",
      "INFO:root:iteration= 1230, loss= 0.9886308908462524, \n",
      "INFO:root:iteration= 1240, loss= 1.8617674112319946, \n",
      "INFO:root:iteration= 1250, loss= 1.2587887048721313, \n",
      "INFO:root:iteration= 1260, loss= 2.1098403930664062, \n",
      "INFO:root:iteration= 1270, loss= 0.5765591263771057, \n",
      "INFO:root:iteration= 1280, loss= 0.7962720394134521, \n",
      "INFO:root:iteration= 1290, loss= 1.1372970342636108, \n",
      "INFO:root:iteration= 1300, loss= 1.903196930885315, \n",
      "INFO:root:iteration= 1310, loss= 1.9623382091522217, \n",
      "INFO:root:iteration= 1320, loss= 2.0842647552490234, \n",
      "INFO:root:iteration= 1330, loss= 1.1664175987243652, \n",
      "INFO:root:iteration= 1340, loss= 1.9072061777114868, \n",
      "INFO:root:iteration= 1350, loss= 1.7762501239776611, \n",
      "INFO:root:iteration= 1360, loss= 1.6618695259094238, \n",
      "INFO:root:iteration= 1370, loss= 0.6863996386528015, \n",
      "INFO:root:iteration= 1380, loss= 1.8318532705307007, \n",
      "INFO:root:iteration= 1390, loss= 0.16381940245628357, \n",
      "INFO:root:iteration= 1400, loss= 1.8354697227478027, \n",
      "INFO:root:iteration= 1410, loss= 1.326358675956726, \n",
      "INFO:root:iteration= 1420, loss= 1.6641998291015625, \n",
      "INFO:root:iteration= 1430, loss= 1.2146880626678467, \n",
      "INFO:root:iteration= 1440, loss= 0.154231458902359, \n",
      "INFO:root:iteration= 1450, loss= 0.9210543632507324, \n",
      "INFO:root:iteration= 1460, loss= 0.5551827549934387, \n",
      "INFO:root:iteration= 1470, loss= 1.6176972389221191, \n",
      "INFO:root:iteration= 1480, loss= 1.8999454975128174, \n",
      "INFO:root:iteration= 1490, loss= 0.8706132173538208, \n",
      "INFO:root:iteration= 1500, loss= 0.8474645614624023, \n",
      "INFO:root:iteration= 1510, loss= 0.5366568565368652, \n",
      "INFO:root:iteration= 1520, loss= 0.7454811334609985, \n",
      "INFO:root:iteration= 1530, loss= 0.4862896502017975, \n",
      "INFO:root:iteration= 1540, loss= 1.1764734983444214, \n",
      "INFO:root:iteration= 1550, loss= 1.6947084665298462, \n",
      "INFO:root:iteration= 1560, loss= 0.36437755823135376, \n",
      "INFO:root:iteration= 1570, loss= 1.03209388256073, \n",
      "INFO:root:iteration= 1580, loss= 2.000669479370117, \n",
      "INFO:root:iteration= 1590, loss= 0.4747668206691742, \n",
      "INFO:root:iteration= 1600, loss= 0.33721911907196045, \n",
      "INFO:root:iteration= 1610, loss= 0.7468760013580322, \n",
      "INFO:root:iteration= 1620, loss= 0.8374607563018799, \n",
      "INFO:root:iteration= 1630, loss= 1.25870943069458, \n",
      "INFO:root:iteration= 1640, loss= 0.010788047686219215, \n",
      "INFO:root:iteration= 1650, loss= 1.4592199325561523, \n",
      "INFO:root:iteration= 1660, loss= 0.4533955156803131, \n",
      "INFO:root:iteration= 1670, loss= 1.6000036001205444, \n",
      "INFO:root:iteration= 1680, loss= 0.15349969267845154, \n",
      "INFO:root:iteration= 1690, loss= 0.8760900497436523, \n",
      "INFO:root:iteration= 1700, loss= 1.5524113178253174, \n",
      "INFO:root:iteration= 1710, loss= 2.1735727787017822, \n",
      "INFO:root:iteration= 1720, loss= 1.3092832565307617, \n",
      "INFO:root:iteration= 1730, loss= 1.1708687543869019, \n",
      "INFO:root:iteration= 1740, loss= 1.4657119512557983, \n",
      "INFO:root:iteration= 1750, loss= 0.8124499320983887, \n",
      "INFO:root:iteration= 1760, loss= 1.2677693367004395, \n",
      "INFO:root:iteration= 1770, loss= 0.7388116121292114, \n",
      "INFO:root:iteration= 1780, loss= 1.8029112815856934, \n",
      "INFO:root:iteration= 1790, loss= 1.091554880142212, \n",
      "INFO:root:iteration= 1800, loss= 1.1136419773101807, \n",
      "INFO:root:iteration= 1810, loss= 0.02014932408928871, \n",
      "INFO:root:iteration= 1820, loss= 1.929938793182373, \n",
      "INFO:root:iteration= 1830, loss= 0.7648367881774902, \n",
      "INFO:root:iteration= 1840, loss= 0.4135756492614746, \n",
      "INFO:root:iteration= 1850, loss= 1.01995849609375, \n",
      "INFO:root:iteration= 1860, loss= 1.4175406694412231, \n",
      "INFO:root:iteration= 1870, loss= 1.101957082748413, \n",
      "INFO:root:iteration= 1880, loss= 2.188194990158081, \n",
      "INFO:root:iteration= 1890, loss= 0.8309437036514282, \n",
      "INFO:root:iteration= 1900, loss= 1.0471618175506592, \n",
      "INFO:root:iteration= 1910, loss= 1.4337694644927979, \n",
      "INFO:root:iteration= 1920, loss= 0.09729930758476257, \n",
      "INFO:root:iteration= 1930, loss= 1.4141024351119995, \n",
      "INFO:root:iteration= 1940, loss= 0.7847335338592529, \n",
      "INFO:root:iteration= 1950, loss= 1.0813379287719727, \n",
      "INFO:root:iteration= 1960, loss= 0.8838246464729309, \n",
      "INFO:root:iteration= 1970, loss= 1.7277895212173462, \n",
      "INFO:root:iteration= 1980, loss= 1.87571382522583, \n",
      "INFO:root:iteration= 1990, loss= 1.5299222469329834, \n",
      "INFO:root:iteration= 2000, loss= 1.1173746585845947, \n",
      "INFO:root:iteration= 2010, loss= 0.22464245557785034, \n",
      "INFO:root:iteration= 2020, loss= 0.8790623545646667, \n",
      "INFO:root:iteration= 2030, loss= 0.8486536741256714, \n",
      "INFO:root:iteration= 2040, loss= 1.1997150182724, \n",
      "INFO:root:iteration= 2050, loss= 0.8376848697662354, \n",
      "INFO:root:iteration= 2060, loss= 1.6826188564300537, \n",
      "INFO:root:iteration= 2070, loss= 1.232965111732483, \n",
      "INFO:root:iteration= 2080, loss= 0.7784110903739929, \n",
      "INFO:root:iteration= 2090, loss= 0.7738120555877686, \n",
      "INFO:root:iteration= 2100, loss= 1.6044021844863892, \n",
      "INFO:root:iteration= 2110, loss= 0.7920069694519043, \n",
      "INFO:root:iteration= 2120, loss= 1.3241623640060425, \n",
      "INFO:root:iteration= 2130, loss= 0.7098851203918457, \n",
      "INFO:root:iteration= 2140, loss= 1.4983547925949097, \n",
      "INFO:root:iteration= 2150, loss= 2.079108715057373, \n",
      "INFO:root:iteration= 2160, loss= 1.4861280918121338, \n",
      "INFO:root:iteration= 2170, loss= 1.2781476974487305, \n",
      "INFO:root:iteration= 2180, loss= 0.7948449850082397, \n",
      "INFO:root:iteration= 2190, loss= 1.5464426279067993, \n",
      "INFO:root:iteration= 2200, loss= 1.4179110527038574, \n",
      "INFO:root:iteration= 2210, loss= 1.3145751953125, \n",
      "INFO:root:iteration= 2220, loss= 1.074227213859558, \n",
      "INFO:root:iteration= 2230, loss= 1.5069160461425781, \n",
      "INFO:root:iteration= 2240, loss= 0.05578596144914627, \n",
      "INFO:root:iteration= 2250, loss= 0.9838024377822876, \n",
      "INFO:root:iteration= 2260, loss= 1.8230315446853638, \n",
      "INFO:root:iteration= 2270, loss= 0.6610538959503174, \n",
      "INFO:root:iteration= 2280, loss= 1.9500296115875244, \n",
      "INFO:root:iteration= 2290, loss= 1.1435633897781372, \n",
      "INFO:root:iteration= 2300, loss= 1.1577346324920654, \n",
      "INFO:root:iteration= 2310, loss= 1.3811469078063965, \n",
      "INFO:root:iteration= 2320, loss= 1.1090983152389526, \n",
      "INFO:root:iteration= 2330, loss= 1.4299538135528564, \n",
      "INFO:root:iteration= 2340, loss= 1.4544219970703125, \n",
      "INFO:root:iteration= 2350, loss= 1.947744607925415, \n",
      "INFO:root:iteration= 2360, loss= 1.2725666761398315, \n",
      "INFO:root:iteration= 2370, loss= 0.8689336180686951, \n",
      "INFO:root:iteration= 2380, loss= 1.0418883562088013, \n",
      "INFO:root:iteration= 2390, loss= 1.0371040105819702, \n",
      "INFO:root:iteration= 2400, loss= 1.0421621799468994, \n",
      "INFO:root:iteration= 2410, loss= 0.7406125068664551, \n",
      "INFO:root:iteration= 2420, loss= 1.625474452972412, \n",
      "INFO:root:iteration= 2430, loss= 1.7356293201446533, \n",
      "INFO:root:iteration= 2440, loss= 0.996168315410614, \n",
      "INFO:root:iteration= 2450, loss= 0.6967840194702148, \n",
      "INFO:root:iteration= 2460, loss= 0.8942449688911438, \n",
      "INFO:root:iteration= 2470, loss= 0.5455260872840881, \n",
      "INFO:root:iteration= 2480, loss= 0.7923760414123535, \n",
      "INFO:root:iteration= 2490, loss= 0.26529401540756226, \n",
      "INFO:root:iteration= 2500, loss= 1.5061787366867065, \n",
      "INFO:root:iteration= 2510, loss= 1.3288843631744385, \n",
      "INFO:root:iteration= 2520, loss= 1.0710954666137695, \n",
      "INFO:root:iteration= 2530, loss= 2.1173486709594727, \n",
      "INFO:root:iteration= 2540, loss= 1.1037945747375488, \n",
      "INFO:root:iteration= 2550, loss= 1.110547661781311, \n",
      "INFO:root:iteration= 2560, loss= 0.9511355757713318, \n",
      "INFO:root:iteration= 2570, loss= 0.6240665912628174, \n",
      "INFO:root:iteration= 2580, loss= 0.5731503963470459, \n",
      "INFO:root:iteration= 2590, loss= 2.0583078861236572, \n",
      "INFO:root:iteration= 2600, loss= 1.3932386636734009, \n",
      "INFO:root:iteration= 2610, loss= 0.4592360258102417, \n",
      "INFO:root:iteration= 2620, loss= 0.46253055334091187, \n",
      "INFO:root:iteration= 2630, loss= 0.9002373218536377, \n",
      "INFO:root:iteration= 2640, loss= 1.4676036834716797, \n",
      "INFO:root:iteration= 2650, loss= 0.16863758862018585, \n",
      "INFO:root:iteration= 2660, loss= 1.5985273122787476, \n",
      "INFO:root:iteration= 2670, loss= 0.636572539806366, \n",
      "INFO:root:iteration= 2680, loss= 1.7253122329711914, \n",
      "INFO:root:iteration= 2690, loss= 1.8482569456100464, \n",
      "INFO:root:iteration= 2700, loss= 1.6557226181030273, \n",
      "INFO:root:iteration= 2710, loss= 1.203517198562622, \n",
      "INFO:root:iteration= 2720, loss= 0.6644316911697388, \n",
      "INFO:root:iteration= 2730, loss= 0.603912353515625, \n",
      "INFO:root:iteration= 2740, loss= 1.2294073104858398, \n",
      "INFO:root:iteration= 2750, loss= 0.8958336114883423, \n",
      "INFO:root:iteration= 2760, loss= 0.3147623836994171, \n",
      "INFO:root:iteration= 2770, loss= 1.7310466766357422, \n",
      "INFO:root:iteration= 2780, loss= 0.6268894672393799, \n",
      "INFO:root:iteration= 2790, loss= 1.036910057067871, \n",
      "INFO:root:iteration= 2800, loss= 1.109687089920044, \n",
      "INFO:root:iteration= 2810, loss= 0.561958909034729, \n",
      "INFO:root:iteration= 2820, loss= 0.9956814050674438, \n",
      "INFO:root:iteration= 2830, loss= 0.7886524796485901, \n",
      "INFO:root:iteration= 2840, loss= 0.05547109246253967, \n",
      "INFO:root:iteration= 2850, loss= 1.3187642097473145, \n",
      "INFO:root:iteration= 2860, loss= 1.3358588218688965, \n",
      "INFO:root:iteration= 2870, loss= 1.4963972568511963, \n",
      "INFO:root:iteration= 2880, loss= 0.48844581842422485, \n",
      "INFO:root:iteration= 2890, loss= 1.544936180114746, \n",
      "INFO:root:iteration= 2900, loss= 0.40774720907211304, \n",
      "INFO:root:iteration= 2910, loss= 1.3320248126983643, \n",
      "INFO:root:iteration= 2920, loss= 1.6821646690368652, \n",
      "INFO:root:iteration= 2930, loss= 1.4900343418121338, \n",
      "INFO:root:iteration= 2940, loss= 1.5980385541915894, \n",
      "INFO:root:iteration= 2950, loss= 0.4257262349128723, \n",
      "INFO:root:iteration= 2960, loss= 1.424241304397583, \n",
      "INFO:root:iteration= 2970, loss= 0.6537643074989319, \n",
      "INFO:root:iteration= 2980, loss= 1.5567976236343384, \n",
      "INFO:root:iteration= 2990, loss= 0.4509758949279785, \n",
      "INFO:root:iteration= 3000, loss= 0.1883344054222107, \n",
      "INFO:root:iteration= 3010, loss= 1.5104742050170898, \n",
      "INFO:root:iteration= 3020, loss= 0.4392564296722412, \n",
      "INFO:root:iteration= 3030, loss= 0.48555970191955566, \n",
      "INFO:root:iteration= 3040, loss= 0.7793461084365845, \n",
      "INFO:root:iteration= 3050, loss= 0.41871997714042664, \n",
      "INFO:root:iteration= 3060, loss= 0.5082571506500244, \n",
      "INFO:root:iteration= 3070, loss= 0.05846139043569565, \n",
      "INFO:root:iteration= 3080, loss= 1.382979154586792, \n",
      "INFO:root:iteration= 3090, loss= 1.9101672172546387, \n",
      "INFO:root:iteration= 3100, loss= 1.4706746339797974, \n",
      "INFO:root:iteration= 3110, loss= 1.1048779487609863, \n",
      "INFO:root:iteration= 3120, loss= 0.08824288845062256, \n",
      "INFO:root:iteration= 3130, loss= 0.5496801137924194, \n",
      "INFO:root:iteration= 3140, loss= 1.2065588235855103, \n",
      "INFO:root:iteration= 3150, loss= 1.3673783540725708, \n",
      "INFO:root:iteration= 3160, loss= 1.2524386644363403, \n",
      "INFO:root:iteration= 3170, loss= 1.2855526208877563, \n",
      "INFO:root:iteration= 3180, loss= 0.6981333494186401, \n",
      "INFO:root:iteration= 3190, loss= 1.8859926462173462, \n",
      "INFO:root:iteration= 3200, loss= 1.3371433019638062, \n",
      "INFO:root:iteration= 3210, loss= 1.8077971935272217, \n",
      "INFO:root:iteration= 3220, loss= 0.6734158992767334, \n",
      "INFO:root:iteration= 3230, loss= 0.007636957336217165, \n",
      "INFO:root:iteration= 3240, loss= 0.4069681465625763, \n",
      "INFO:root:iteration= 3250, loss= 0.7732812166213989, \n",
      "INFO:root:iteration= 3260, loss= 0.6588866710662842, \n",
      "INFO:root:iteration= 3270, loss= 0.505878746509552, \n",
      "INFO:root:iteration= 3280, loss= 1.4643703699111938, \n",
      "INFO:root:iteration= 3290, loss= 0.2532915771007538, \n",
      "INFO:root:iteration= 3300, loss= 0.4368855953216553, \n",
      "INFO:root:iteration= 3310, loss= 1.5817124843597412, \n",
      "INFO:root:iteration= 3320, loss= 0.44707047939300537, \n",
      "INFO:root:iteration= 3330, loss= 0.0737050250172615, \n",
      "INFO:root:iteration= 3340, loss= 0.9782217741012573, \n",
      "INFO:root:iteration= 3350, loss= 1.6990134716033936, \n",
      "INFO:root:iteration= 3360, loss= 0.664069652557373, \n",
      "INFO:root:iteration= 3370, loss= 0.4265037178993225, \n",
      "INFO:root:iteration= 3380, loss= 0.43979084491729736, \n",
      "INFO:root:iteration= 3390, loss= 0.309467613697052, \n",
      "INFO:root:iteration= 3400, loss= 1.3174657821655273, \n",
      "INFO:root:iteration= 3410, loss= 1.2880098819732666, \n",
      "INFO:root:iteration= 3420, loss= 0.8818883895874023, \n",
      "INFO:root:iteration= 3430, loss= 0.42132458090782166, \n",
      "INFO:root:iteration= 3440, loss= 0.3472408652305603, \n",
      "INFO:root:iteration= 3450, loss= 0.5649387836456299, \n",
      "INFO:root:iteration= 3460, loss= 0.45203423500061035, \n",
      "INFO:root:iteration= 3470, loss= 0.6240515112876892, \n",
      "INFO:root:iteration= 3480, loss= 0.603340744972229, \n",
      "INFO:root:iteration= 3490, loss= 1.6138780117034912, \n",
      "INFO:root:iteration= 3500, loss= 0.2386443316936493, \n",
      "INFO:root:iteration= 3510, loss= 1.0150034427642822, \n",
      "INFO:root:iteration= 3520, loss= 0.23708617687225342, \n",
      "INFO:root:iteration= 3530, loss= 0.3908180594444275, \n",
      "INFO:root:iteration= 3540, loss= 0.8512927293777466, \n",
      "INFO:root:iteration= 3550, loss= 0.8702015280723572, \n",
      "INFO:root:iteration= 3560, loss= 1.3881784677505493, \n",
      "INFO:root:iteration= 3570, loss= 1.4532438516616821, \n",
      "INFO:root:iteration= 3580, loss= 0.7177680730819702, \n",
      "INFO:root:iteration= 3590, loss= 0.668245792388916, \n",
      "INFO:root:iteration= 3600, loss= 0.3243617117404938, \n",
      "INFO:root:iteration= 3610, loss= 0.32396039366722107, \n",
      "INFO:root:iteration= 3620, loss= 0.3553869128227234, \n",
      "INFO:root:iteration= 3630, loss= 1.3528094291687012, \n",
      "INFO:root:iteration= 3640, loss= 0.4924618601799011, \n",
      "INFO:root:iteration= 3650, loss= 0.11808638274669647, \n",
      "INFO:root:iteration= 3660, loss= 0.12231242656707764, \n",
      "INFO:root:iteration= 3670, loss= 1.608525276184082, \n",
      "INFO:root:iteration= 3680, loss= 0.056105054914951324, \n",
      "INFO:root:iteration= 3690, loss= 0.5483505725860596, \n",
      "INFO:root:iteration= 3700, loss= 0.789830207824707, \n",
      "INFO:root:iteration= 3710, loss= 0.27895307540893555, \n",
      "INFO:root:iteration= 3720, loss= 1.046066164970398, \n",
      "INFO:root:iteration= 3730, loss= 0.26209428906440735, \n",
      "INFO:root:iteration= 3740, loss= 2.2170052528381348, \n",
      "INFO:root:iteration= 3750, loss= 1.1022104024887085, \n",
      "INFO:root:iteration= 3760, loss= 0.8122178316116333, \n",
      "INFO:root:iteration= 3770, loss= 0.1959618180990219, \n",
      "INFO:root:iteration= 3780, loss= 0.4685404896736145, \n",
      "INFO:root:iteration= 3790, loss= 0.579943835735321, \n",
      "INFO:root:iteration= 3800, loss= 1.4972580671310425, \n",
      "INFO:root:iteration= 3810, loss= 0.14749141037464142, \n",
      "INFO:root:iteration= 3820, loss= 0.7144486904144287, \n",
      "INFO:root:iteration= 3830, loss= 0.06945857405662537, \n",
      "INFO:root:iteration= 3840, loss= 1.5757853984832764, \n",
      "INFO:root:iteration= 3850, loss= 1.5169422626495361, \n",
      "INFO:root:iteration= 3860, loss= 0.16172096133232117, \n",
      "INFO:root:iteration= 3870, loss= 0.3967227339744568, \n",
      "INFO:root:iteration= 3880, loss= 0.19184698164463043, \n",
      "INFO:root:iteration= 3890, loss= 0.006647821050137281, \n",
      "INFO:root:iteration= 3900, loss= 1.388903260231018, \n",
      "INFO:root:iteration= 3910, loss= 0.05583819001913071, \n",
      "INFO:root:iteration= 3920, loss= 0.06384123116731644, \n",
      "INFO:root:iteration= 3930, loss= 0.01591733656823635, \n",
      "INFO:root:iteration= 3940, loss= 0.1685793697834015, \n",
      "INFO:root:iteration= 3950, loss= 0.03276192769408226, \n",
      "INFO:root:iteration= 3960, loss= 0.234045147895813, \n",
      "INFO:root:iteration= 3970, loss= 0.44515174627304077, \n",
      "INFO:root:iteration= 3980, loss= 0.23315149545669556, \n",
      "INFO:root:iteration= 3990, loss= 1.4664463996887207, \n"
     ]
    },
    {
     "data": {
      "image/png": "[encoded data removed]",
      "text/plain": [
       "<Figure size 640x480 with 1 Axes>"
      ]
     },
     "metadata": {},
     "output_type": "display_data"
    }
   ],
   "source": [
    "import logging; logging.basicConfig(level=logging.INFO, force=True)\n",
    "\n",
    "curve = CurveHook()\n",
    "training_parameters = Training_parameters(n_epochs=4)\n",
    "\n",
    "with Session(db_engine) as db_session:\n",
    "    experiment = DBExperiment(name=\"test_experiment\", )\n",
    "    db_session.add(experiment)\n",
    "    trainer = Trainer(model, loader, training_parameters=training_parameters, device=\"cpu\",\n",
    "        step_hooks = [ \n",
    "            TqdmHook(),\n",
    "            LoggerHook(interval=10),\n",
    "            curve\n",
    "        ],\n",
    "        database=db_session, \n",
    "        db_experiment=experiment, )\n",
    "    experiment_id = experiment.id\n",
    "    trainer_id = trainer.id\n",
    "    trainer.train()\n",
    "curve.draw()"
   ]
  },
  {
   "cell_type": "markdown",
   "id": "80466a2f-37e2-47f3-88c0-0d78313b8c38",
   "metadata": {},
   "source": [
    "Now check that we're able to resume training"
   ]
  },
  {
   "cell_type": "code",
   "execution_count": 41,
   "id": "5aecb616-7f4e-4cb9-9b8b-a23c7214ba06",
   "metadata": {},
   "outputs": [
    {
     "data": {
      "application/vnd.jupyter.widget-view+json": {
       "model_id": "385e3e7b38c04c5e8af6c8f2a42a77fa",
       "version_major": 2,
       "version_minor": 0
      },
      "text/plain": [
       "Epoch 3:   0%|          | 0/4000 [00:00<?, ?it/s]"
      ]
     },
     "metadata": {},
     "output_type": "display_data"
    },
    {
     "name": "stderr",
     "output_type": "stream",
     "text": [
      "/home/tris/Devoirs/research/implementations/tb_ml/ml_lib/models/base_classes.py:308: SAWarning: Object of type <Training_step> not in session, add operation along 'Training_run.steps' will not proceed (This warning originated from the Session 'autoflush' process, which was invoked automatically in response to a user-initiated operation.)\n",
      "  return session.get(Database_Model, self.id)\n",
      "INFO:root:iteration= 4000, loss= 0.9789570569992065, \n",
      "INFO:root:iteration= 4010, loss= 0.3779286742210388, \n",
      "INFO:root:iteration= 4020, loss= 0.7549309730529785, \n",
      "INFO:root:iteration= 4030, loss= 0.46428775787353516, \n",
      "INFO:root:iteration= 4040, loss= 0.05195813626050949, \n",
      "INFO:root:iteration= 4050, loss= 0.1471388041973114, \n",
      "INFO:root:iteration= 4060, loss= 1.46470046043396, \n",
      "INFO:root:iteration= 4070, loss= 0.0808134526014328, \n",
      "INFO:root:iteration= 4080, loss= 0.3182894289493561, \n",
      "INFO:root:iteration= 4090, loss= 1.5281829833984375, \n",
      "INFO:root:iteration= 4100, loss= 1.0645856857299805, \n",
      "INFO:root:iteration= 4110, loss= 0.281133770942688, \n",
      "INFO:root:iteration= 4120, loss= 1.583759069442749, \n",
      "INFO:root:iteration= 4130, loss= 0.14054997265338898, \n",
      "INFO:root:iteration= 4140, loss= 0.07989377528429031, \n",
      "INFO:root:iteration= 4150, loss= 0.048640504479408264, \n",
      "INFO:root:iteration= 4160, loss= 0.07711733132600784, \n",
      "INFO:root:iteration= 4170, loss= 0.030732518061995506, \n",
      "INFO:root:iteration= 4180, loss= 0.006453460082411766, \n",
      "INFO:root:iteration= 4190, loss= 2.0017380714416504, \n",
      "INFO:root:iteration= 4200, loss= 0.5051529407501221, \n",
      "INFO:root:iteration= 4210, loss= 0.034815773367881775, \n",
      "INFO:root:iteration= 4220, loss= 1.1115705966949463, \n",
      "INFO:root:iteration= 4230, loss= 0.9748265743255615, \n",
      "INFO:root:iteration= 4240, loss= 0.02360580489039421, \n",
      "INFO:root:iteration= 4250, loss= 1.4292564392089844, \n",
      "INFO:root:iteration= 4260, loss= 0.5116418600082397, \n",
      "INFO:root:iteration= 4270, loss= 1.8903923034667969, \n",
      "INFO:root:iteration= 4280, loss= 0.21839608252048492, \n",
      "INFO:root:iteration= 4290, loss= 1.1701948642730713, \n",
      "INFO:root:iteration= 4300, loss= 0.017222272232174873, \n",
      "INFO:root:iteration= 4310, loss= 0.03101121447980404, \n",
      "INFO:root:iteration= 4320, loss= 1.183726191520691, \n",
      "INFO:root:iteration= 4330, loss= 0.7982137799263, \n",
      "INFO:root:iteration= 4340, loss= 0.1412222534418106, \n",
      "INFO:root:iteration= 4350, loss= 0.04136306792497635, \n",
      "INFO:root:iteration= 4360, loss= 0.028163565322756767, \n",
      "INFO:root:iteration= 4370, loss= 0.7109950184822083, \n",
      "INFO:root:iteration= 4380, loss= 1.3983705043792725, \n",
      "INFO:root:iteration= 4390, loss= 0.39745837450027466, \n",
      "INFO:root:iteration= 4400, loss= 0.25085321068763733, \n",
      "INFO:root:iteration= 4410, loss= 0.6054840087890625, \n",
      "INFO:root:iteration= 4420, loss= 0.8443565964698792, \n",
      "INFO:root:iteration= 4430, loss= 0.8815851211547852, \n",
      "INFO:root:iteration= 4440, loss= 0.45485737919807434, \n",
      "INFO:root:iteration= 4450, loss= 0.32974204421043396, \n",
      "INFO:root:iteration= 4460, loss= 0.23052562773227692, \n",
      "INFO:root:iteration= 4470, loss= 0.0626455694437027, \n",
      "INFO:root:iteration= 4480, loss= 1.2830625772476196, \n",
      "INFO:root:iteration= 4490, loss= 0.047175802290439606, \n",
      "INFO:root:iteration= 4500, loss= 1.0887422561645508, \n",
      "INFO:root:iteration= 4510, loss= 0.12148191779851913, \n",
      "INFO:root:iteration= 4520, loss= 0.040241118520498276, \n",
      "INFO:root:iteration= 4530, loss= 0.9761121273040771, \n",
      "INFO:root:iteration= 4540, loss= 0.010097543708980083, \n",
      "INFO:root:iteration= 4550, loss= 1.667197823524475, \n",
      "INFO:root:iteration= 4560, loss= 0.5308213233947754, \n",
      "INFO:root:iteration= 4570, loss= 0.6505342125892639, \n",
      "INFO:root:iteration= 4580, loss= 1.3930338621139526, \n",
      "INFO:root:iteration= 4590, loss= 0.0024673317093402147, \n",
      "INFO:root:iteration= 4600, loss= 0.04540475457906723, \n",
      "INFO:root:iteration= 4610, loss= 1.9103485345840454, \n",
      "INFO:root:iteration= 4620, loss= 0.10418601334095001, \n",
      "INFO:root:iteration= 4630, loss= 0.1635684221982956, \n",
      "INFO:root:iteration= 4640, loss= 0.01178848184645176, \n",
      "INFO:root:iteration= 4650, loss= 0.748437225818634, \n",
      "INFO:root:iteration= 4660, loss= 0.008605347946286201, \n",
      "INFO:root:iteration= 4670, loss= 1.2353063821792603, \n",
      "INFO:root:iteration= 4680, loss= 0.23528477549552917, \n",
      "INFO:root:iteration= 4690, loss= 0.14202886819839478, \n",
      "INFO:root:iteration= 4700, loss= 0.5999088287353516, \n",
      "INFO:root:iteration= 4710, loss= 0.06273861974477768, \n",
      "INFO:root:iteration= 4720, loss= 0.026891738176345825, \n",
      "INFO:root:iteration= 4730, loss= 0.10898850858211517, \n",
      "INFO:root:iteration= 4740, loss= 0.10490114241838455, \n",
      "INFO:root:iteration= 4750, loss= 0.07946544140577316, \n",
      "INFO:root:iteration= 4760, loss= 0.8202135562896729, \n",
      "INFO:root:iteration= 4770, loss= 0.584010124206543, \n",
      "INFO:root:iteration= 4780, loss= 1.7664716243743896, \n",
      "INFO:root:iteration= 4790, loss= 0.023270759731531143, \n",
      "INFO:root:iteration= 4800, loss= 0.007511703763157129, \n",
      "INFO:root:iteration= 4810, loss= 0.0011675982968881726, \n",
      "INFO:root:iteration= 4820, loss= 0.21542862057685852, \n",
      "INFO:root:iteration= 4830, loss= 1.6621251106262207, \n",
      "INFO:root:iteration= 4840, loss= 0.02761181816458702, \n",
      "INFO:root:iteration= 4850, loss= 0.06427024304866791, \n",
      "INFO:root:iteration= 4860, loss= 0.5036935806274414, \n",
      "INFO:root:iteration= 4870, loss= 1.1422258615493774, \n",
      "INFO:root:iteration= 4880, loss= 0.5587135553359985, \n",
      "INFO:root:iteration= 4890, loss= 0.990536093711853, \n",
      "INFO:root:iteration= 4900, loss= 0.9034055471420288, \n",
      "INFO:root:iteration= 4910, loss= 0.21935099363327026, \n",
      "INFO:root:iteration= 4920, loss= 0.013251765631139278, \n",
      "INFO:root:iteration= 4930, loss= 1.9452221393585205, \n",
      "INFO:root:iteration= 4940, loss= 0.07769788056612015, \n",
      "INFO:root:iteration= 4950, loss= 0.004264187999069691, \n",
      "INFO:root:iteration= 4960, loss= 1.4409797191619873, \n",
      "INFO:root:iteration= 4970, loss= 0.09911279380321503, \n",
      "INFO:root:iteration= 4980, loss= 0.2652398943901062, \n",
      "INFO:root:iteration= 4990, loss= 0.6656041145324707, \n",
      "INFO:root:iteration= 5000, loss= 0.4853473901748657, \n",
      "INFO:root:iteration= 5010, loss= 0.386366605758667, \n",
      "INFO:root:iteration= 5020, loss= 0.017200488597154617, \n",
      "INFO:root:iteration= 5030, loss= 0.622791588306427, \n",
      "INFO:root:iteration= 5040, loss= 0.4492942690849304, \n",
      "INFO:root:iteration= 5050, loss= 0.49352243542671204, \n",
      "INFO:root:iteration= 5060, loss= 0.041914939880371094, \n",
      "INFO:root:iteration= 5070, loss= 1.425382137298584, \n",
      "INFO:root:iteration= 5080, loss= 1.7080082893371582, \n",
      "INFO:root:iteration= 5090, loss= 1.0053349733352661, \n",
      "INFO:root:iteration= 5100, loss= 0.190638467669487, \n",
      "INFO:root:iteration= 5110, loss= 1.9079809188842773, \n",
      "INFO:root:iteration= 5120, loss= 0.02094138413667679, \n",
      "INFO:root:iteration= 5130, loss= 0.06887640058994293, \n",
      "INFO:root:iteration= 5140, loss= 0.702618420124054, \n",
      "INFO:root:iteration= 5150, loss= 0.5415619611740112, \n",
      "INFO:root:iteration= 5160, loss= 0.080781489610672, \n",
      "INFO:root:iteration= 5170, loss= 0.354168564081192, \n",
      "INFO:root:iteration= 5180, loss= 0.004963662475347519, \n",
      "INFO:root:iteration= 5190, loss= 0.30188462138175964, \n",
      "INFO:root:iteration= 5200, loss= 0.26905468106269836, \n",
      "INFO:root:iteration= 5210, loss= 0.6045653820037842, \n",
      "INFO:root:iteration= 5220, loss= 0.4570853114128113, \n",
      "INFO:root:iteration= 5230, loss= 0.11487602442502975, \n",
      "INFO:root:iteration= 5240, loss= 0.011002619750797749, \n",
      "INFO:root:iteration= 5250, loss= 1.2462106943130493, \n",
      "INFO:root:iteration= 5260, loss= 0.15892323851585388, \n",
      "INFO:root:iteration= 5270, loss= 1.4000095129013062, \n",
      "INFO:root:iteration= 5280, loss= 0.268010675907135, \n",
      "INFO:root:iteration= 5290, loss= 0.48158949613571167, \n",
      "INFO:root:iteration= 5300, loss= 0.4003876745700836, \n",
      "INFO:root:iteration= 5310, loss= 0.009130233898758888, \n",
      "INFO:root:iteration= 5320, loss= 1.5043866634368896, \n",
      "INFO:root:iteration= 5330, loss= 1.22063410282135, \n",
      "INFO:root:iteration= 5340, loss= 0.07148657739162445, \n",
      "INFO:root:iteration= 5350, loss= 0.06982629001140594, \n",
      "INFO:root:iteration= 5360, loss= 0.37060821056365967, \n",
      "INFO:root:iteration= 5370, loss= 0.9394993782043457, \n",
      "INFO:root:iteration= 5380, loss= 1.7401518821716309, \n",
      "INFO:root:iteration= 5390, loss= 0.32306528091430664, \n",
      "INFO:root:iteration= 5400, loss= 0.8578693866729736, \n",
      "INFO:root:iteration= 5410, loss= 0.2768460810184479, \n",
      "INFO:root:iteration= 5420, loss= 0.024837108328938484, \n",
      "INFO:root:iteration= 5430, loss= 1.3696224689483643, \n",
      "INFO:root:iteration= 5440, loss= 0.1297520399093628, \n",
      "INFO:root:iteration= 5450, loss= 1.6175963878631592, \n",
      "INFO:root:iteration= 5460, loss= 1.7308099269866943, \n",
      "INFO:root:iteration= 5470, loss= 0.0035755145363509655, \n",
      "INFO:root:iteration= 5480, loss= 0.05157838761806488, \n",
      "INFO:root:iteration= 5490, loss= 1.521418571472168, \n",
      "INFO:root:iteration= 5500, loss= 0.141020730137825, \n",
      "INFO:root:iteration= 5510, loss= 0.13198953866958618, \n",
      "INFO:root:iteration= 5520, loss= 0.3333272635936737, \n",
      "INFO:root:iteration= 5530, loss= 1.2912781238555908, \n",
      "INFO:root:iteration= 5540, loss= 0.04035654664039612, \n",
      "INFO:root:iteration= 5550, loss= 0.04073648899793625, \n",
      "INFO:root:iteration= 5560, loss= 0.06889919936656952, \n",
      "INFO:root:iteration= 5570, loss= 0.0794205367565155, \n",
      "INFO:root:iteration= 5580, loss= 0.8936300277709961, \n",
      "INFO:root:iteration= 5590, loss= 0.021962104365229607, \n",
      "INFO:root:iteration= 5600, loss= 1.6747198104858398, \n",
      "INFO:root:iteration= 5610, loss= 1.3757154941558838, \n",
      "INFO:root:iteration= 5620, loss= 1.4698853492736816, \n",
      "INFO:root:iteration= 5630, loss= 0.5107004046440125, \n",
      "INFO:root:iteration= 5640, loss= 0.023471945896744728, \n",
      "INFO:root:iteration= 5650, loss= 0.7111603021621704, \n",
      "INFO:root:iteration= 5660, loss= 0.1701412796974182, \n",
      "INFO:root:iteration= 5670, loss= 0.0022573168389499187, \n",
      "INFO:root:iteration= 5680, loss= 0.004183917306363583, \n",
      "INFO:root:iteration= 5690, loss= 0.4865052103996277, \n",
      "INFO:root:iteration= 5700, loss= 2.0786938667297363, \n",
      "INFO:root:iteration= 5710, loss= 0.8186018466949463, \n",
      "INFO:root:iteration= 5720, loss= 0.007064230740070343, \n",
      "INFO:root:iteration= 5730, loss= 0.0017061204416677356, \n",
      "INFO:root:iteration= 5740, loss= 0.13050627708435059, \n",
      "INFO:root:iteration= 5750, loss= 0.07377167791128159, \n",
      "INFO:root:iteration= 5760, loss= 0.004013594705611467, \n",
      "INFO:root:iteration= 5770, loss= 1.6965057849884033, \n",
      "INFO:root:iteration= 5780, loss= 0.056712839752435684, \n",
      "INFO:root:iteration= 5790, loss= 0.02566022053360939, \n",
      "INFO:root:iteration= 5800, loss= 0.19761934876441956, \n",
      "INFO:root:iteration= 5810, loss= 0.38494205474853516, \n",
      "INFO:root:iteration= 5820, loss= 0.5560556054115295, \n",
      "INFO:root:iteration= 5830, loss= 0.013061066158115864, \n",
      "INFO:root:iteration= 5840, loss= 0.1365090310573578, \n",
      "INFO:root:iteration= 5850, loss= 0.867140531539917, \n",
      "INFO:root:iteration= 5860, loss= 0.27792853116989136, \n",
      "INFO:root:iteration= 5870, loss= 0.0074323005974292755, \n",
      "INFO:root:iteration= 5880, loss= 0.17700648307800293, \n",
      "INFO:root:iteration= 5890, loss= 0.0215607900172472, \n",
      "INFO:root:iteration= 5900, loss= 1.2817370891571045, \n",
      "INFO:root:iteration= 5910, loss= 0.14638319611549377, \n",
      "INFO:root:iteration= 5920, loss= 0.007117539644241333, \n",
      "INFO:root:iteration= 5930, loss= 1.938286542892456, \n",
      "INFO:root:iteration= 5940, loss= 0.004826634656637907, \n",
      "INFO:root:iteration= 5950, loss= 0.040219031274318695, \n",
      "INFO:root:iteration= 5960, loss= 0.6301133036613464, \n",
      "INFO:root:iteration= 5970, loss= 2.05106258392334, \n",
      "INFO:root:iteration= 5980, loss= 0.06977137923240662, \n",
      "INFO:root:iteration= 5990, loss= 0.02185634896159172, \n",
      "INFO:root:iteration= 6000, loss= 0.11397236585617065, \n",
      "INFO:root:iteration= 6010, loss= 0.2186678647994995, \n",
      "INFO:root:iteration= 6020, loss= 0.025083158165216446, \n",
      "INFO:root:iteration= 6030, loss= 1.4292476177215576, \n",
      "INFO:root:iteration= 6040, loss= 0.06601767241954803, \n",
      "INFO:root:iteration= 6050, loss= 0.09585478901863098, \n",
      "INFO:root:iteration= 6060, loss= 0.1132563054561615, \n",
      "INFO:root:iteration= 6070, loss= 0.7919213771820068, \n",
      "INFO:root:iteration= 6080, loss= 1.1041011810302734, \n",
      "INFO:root:iteration= 6090, loss= 1.3824350833892822, \n",
      "INFO:root:iteration= 6100, loss= 0.7115799188613892, \n",
      "INFO:root:iteration= 6110, loss= 0.16720137000083923, \n",
      "INFO:root:iteration= 6120, loss= 0.5775001049041748, \n",
      "INFO:root:iteration= 6130, loss= 0.07527685910463333, \n",
      "INFO:root:iteration= 6140, loss= 1.7947988510131836, \n",
      "INFO:root:iteration= 6150, loss= 0.6098005771636963, \n",
      "INFO:root:iteration= 6160, loss= 0.5796945095062256, \n",
      "INFO:root:iteration= 6170, loss= 0.07036013901233673, \n",
      "INFO:root:iteration= 6180, loss= 0.001970098353922367, \n",
      "INFO:root:iteration= 6190, loss= 0.701068639755249, \n",
      "INFO:root:iteration= 6200, loss= 0.6065037846565247, \n",
      "INFO:root:iteration= 6210, loss= 1.939475655555725, \n",
      "INFO:root:iteration= 6220, loss= 1.427519679069519, \n",
      "INFO:root:iteration= 6230, loss= 0.7695589065551758, \n",
      "INFO:root:iteration= 6240, loss= 1.4333734512329102, \n",
      "INFO:root:iteration= 6250, loss= 1.308449387550354, \n",
      "INFO:root:iteration= 6260, loss= 0.008266888558864594, \n",
      "INFO:root:iteration= 6270, loss= 0.20426136255264282, \n",
      "INFO:root:iteration= 6280, loss= 0.9114508628845215, \n",
      "INFO:root:iteration= 6290, loss= 0.7077484130859375, \n",
      "INFO:root:iteration= 6300, loss= 0.06195526570081711, \n",
      "INFO:root:iteration= 6310, loss= 0.3115173578262329, \n",
      "INFO:root:iteration= 6320, loss= 1.6925671100616455, \n",
      "INFO:root:iteration= 6330, loss= 1.3520253896713257, \n",
      "INFO:root:iteration= 6340, loss= 0.3345763087272644, \n",
      "INFO:root:iteration= 6350, loss= 0.011063860729336739, \n",
      "INFO:root:iteration= 6360, loss= 0.3532307744026184, \n",
      "INFO:root:iteration= 6370, loss= 2.000997543334961, \n",
      "INFO:root:iteration= 6380, loss= 0.005127343349158764, \n",
      "INFO:root:iteration= 6390, loss= 0.13256794214248657, \n",
      "INFO:root:iteration= 6400, loss= 0.41662704944610596, \n",
      "INFO:root:iteration= 6410, loss= 0.050217531621456146, \n",
      "INFO:root:iteration= 6420, loss= 0.5064646601676941, \n",
      "INFO:root:iteration= 6430, loss= 0.34806525707244873, \n",
      "INFO:root:iteration= 6440, loss= 1.5076391696929932, \n",
      "INFO:root:iteration= 6450, loss= 0.015024123713374138, \n",
      "INFO:root:iteration= 6460, loss= 0.20659664273262024, \n",
      "INFO:root:iteration= 6470, loss= 0.023120993748307228, \n",
      "INFO:root:iteration= 6480, loss= 0.2588684856891632, \n",
      "INFO:root:iteration= 6490, loss= 0.01408992987126112, \n",
      "INFO:root:iteration= 6500, loss= 1.222736120223999, \n",
      "INFO:root:iteration= 6510, loss= 0.001259429263882339, \n",
      "INFO:root:iteration= 6520, loss= 1.821855902671814, \n",
      "INFO:root:iteration= 6530, loss= 0.5102997422218323, \n",
      "INFO:root:iteration= 6540, loss= 0.9094699621200562, \n",
      "INFO:root:iteration= 6550, loss= 0.040395647287368774, \n",
      "INFO:root:iteration= 6560, loss= 1.0177432298660278, \n",
      "INFO:root:iteration= 6570, loss= 1.342696189880371, \n",
      "INFO:root:iteration= 6580, loss= 1.4314963817596436, \n",
      "INFO:root:iteration= 6590, loss= 1.720650315284729, \n",
      "INFO:root:iteration= 6600, loss= 0.4496547281742096, \n",
      "INFO:root:iteration= 6610, loss= 0.5467711687088013, \n",
      "INFO:root:iteration= 6620, loss= 0.6934429407119751, \n",
      "INFO:root:iteration= 6630, loss= 0.18250420689582825, \n",
      "INFO:root:iteration= 6640, loss= 0.031222881749272346, \n",
      "INFO:root:iteration= 6650, loss= 0.28349393606185913, \n",
      "INFO:root:iteration= 6660, loss= 1.3267101049423218, \n",
      "INFO:root:iteration= 6670, loss= 0.017770444974303246, \n",
      "INFO:root:iteration= 6680, loss= 0.3277667164802551, \n",
      "INFO:root:iteration= 6690, loss= 0.12481763958930969, \n",
      "INFO:root:iteration= 6700, loss= 0.019884536042809486, \n",
      "INFO:root:iteration= 6710, loss= 0.038695454597473145, \n",
      "INFO:root:iteration= 6720, loss= 0.015093406662344933, \n",
      "INFO:root:iteration= 6730, loss= 1.5374139547348022, \n",
      "INFO:root:iteration= 6740, loss= 0.19548910856246948, \n",
      "INFO:root:iteration= 6750, loss= 0.12038668990135193, \n",
      "INFO:root:iteration= 6760, loss= 0.4289338290691376, \n",
      "INFO:root:iteration= 6770, loss= 0.04132760316133499, \n",
      "INFO:root:iteration= 6780, loss= 1.3629913330078125, \n",
      "INFO:root:iteration= 6790, loss= 0.4616037905216217, \n",
      "INFO:root:iteration= 6800, loss= 0.2643817663192749, \n",
      "INFO:root:iteration= 6810, loss= 1.2205792665481567, \n",
      "INFO:root:iteration= 6820, loss= 0.003940084017813206, \n",
      "INFO:root:iteration= 6830, loss= 0.006437985226511955, \n",
      "INFO:root:iteration= 6840, loss= 0.7968575954437256, \n",
      "INFO:root:iteration= 6850, loss= 0.20119377970695496, \n",
      "INFO:root:iteration= 6860, loss= 0.002450728788971901, \n",
      "INFO:root:iteration= 6870, loss= 1.540268063545227, \n",
      "INFO:root:iteration= 6880, loss= 0.0016415516147390008, \n",
      "INFO:root:iteration= 6890, loss= 0.1586569845676422, \n",
      "INFO:root:iteration= 6900, loss= 0.03676058351993561, \n",
      "INFO:root:iteration= 6910, loss= 0.1631164401769638, \n",
      "INFO:root:iteration= 6920, loss= 1.6264698505401611, \n",
      "INFO:root:iteration= 6930, loss= 0.7900269627571106, \n",
      "INFO:root:iteration= 6940, loss= 0.005223540123552084, \n",
      "INFO:root:iteration= 6950, loss= 1.7038378715515137, \n",
      "INFO:root:iteration= 6960, loss= 0.4642571806907654, \n",
      "INFO:root:iteration= 6970, loss= 0.38183459639549255, \n",
      "INFO:root:iteration= 6980, loss= 1.8718805313110352, \n",
      "INFO:root:iteration= 6990, loss= 0.004858084954321384, \n",
      "INFO:root:iteration= 7000, loss= 0.4563392102718353, \n",
      "INFO:root:iteration= 7010, loss= 1.2249321937561035, \n",
      "INFO:root:iteration= 7020, loss= 0.0035666488111019135, \n",
      "INFO:root:iteration= 7030, loss= 0.6736190319061279, \n",
      "INFO:root:iteration= 7040, loss= 0.04445020854473114, \n",
      "INFO:root:iteration= 7050, loss= 0.43531906604766846, \n",
      "INFO:root:iteration= 7060, loss= 1.7797186374664307, \n",
      "INFO:root:iteration= 7070, loss= 0.6631472110748291, \n",
      "INFO:root:iteration= 7080, loss= 0.08212561160326004, \n",
      "INFO:root:iteration= 7090, loss= 0.020130876451730728, \n",
      "INFO:root:iteration= 7100, loss= 0.029051726683974266, \n",
      "INFO:root:iteration= 7110, loss= 0.009530378505587578, \n",
      "INFO:root:iteration= 7120, loss= 1.2553372383117676, \n",
      "INFO:root:iteration= 7130, loss= 0.8753458857536316, \n",
      "INFO:root:iteration= 7140, loss= 1.0062693357467651, \n",
      "INFO:root:iteration= 7150, loss= 1.0512878894805908, \n",
      "INFO:root:iteration= 7160, loss= 0.004602482076734304, \n",
      "INFO:root:iteration= 7170, loss= 0.35994529724121094, \n",
      "INFO:root:iteration= 7180, loss= 0.050332702696323395, \n",
      "INFO:root:iteration= 7190, loss= 0.1890486478805542, \n",
      "INFO:root:iteration= 7200, loss= 0.6006750464439392, \n",
      "INFO:root:iteration= 7210, loss= 1.236849069595337, \n",
      "INFO:root:iteration= 7220, loss= 0.18429499864578247, \n",
      "INFO:root:iteration= 7230, loss= 0.05554790794849396, \n",
      "INFO:root:iteration= 7240, loss= 0.25927719473838806, \n",
      "INFO:root:iteration= 7250, loss= 0.08846549689769745, \n",
      "INFO:root:iteration= 7260, loss= 0.1295221596956253, \n",
      "INFO:root:iteration= 7270, loss= 0.90364670753479, \n",
      "INFO:root:iteration= 7280, loss= 0.008827832527458668, \n",
      "INFO:root:iteration= 7290, loss= 1.6031622886657715, \n",
      "INFO:root:iteration= 7300, loss= 1.275578498840332, \n",
      "INFO:root:iteration= 7310, loss= 0.0061240242794156075, \n",
      "INFO:root:iteration= 7320, loss= 0.5313629508018494, \n",
      "INFO:root:iteration= 7330, loss= 1.0861636400222778, \n",
      "INFO:root:iteration= 7340, loss= 1.8561327457427979, \n",
      "INFO:root:iteration= 7350, loss= 1.6114013195037842, \n",
      "INFO:root:iteration= 7360, loss= 0.3533421754837036, \n",
      "INFO:root:iteration= 7370, loss= 0.12429046630859375, \n",
      "INFO:root:iteration= 7380, loss= 0.3904716968536377, \n",
      "INFO:root:iteration= 7390, loss= 0.040188267827034, \n",
      "INFO:root:iteration= 7400, loss= 0.5860372185707092, \n",
      "INFO:root:iteration= 7410, loss= 0.007844219915568829, \n",
      "INFO:root:iteration= 7420, loss= 0.561349093914032, \n",
      "INFO:root:iteration= 7430, loss= 0.008336322382092476, \n",
      "INFO:root:iteration= 7440, loss= 1.222103238105774, \n",
      "INFO:root:iteration= 7450, loss= 0.034836843609809875, \n",
      "INFO:root:iteration= 7460, loss= 1.3599300384521484, \n",
      "INFO:root:iteration= 7470, loss= 1.6585769653320312, \n",
      "INFO:root:iteration= 7480, loss= 0.3902917504310608, \n",
      "INFO:root:iteration= 7490, loss= 0.017695384100079536, \n",
      "INFO:root:iteration= 7500, loss= 0.18055659532546997, \n",
      "INFO:root:iteration= 7510, loss= 0.009466947987675667, \n",
      "INFO:root:iteration= 7520, loss= 0.005494014825671911, \n",
      "INFO:root:iteration= 7530, loss= 1.3486140966415405, \n",
      "INFO:root:iteration= 7540, loss= 1.2882384061813354, \n",
      "INFO:root:iteration= 7550, loss= 0.049213849008083344, \n",
      "INFO:root:iteration= 7560, loss= 1.3768268823623657, \n",
      "INFO:root:iteration= 7570, loss= 1.3370286226272583, \n",
      "INFO:root:iteration= 7580, loss= 0.5905711054801941, \n",
      "INFO:root:iteration= 7590, loss= 0.0440426841378212, \n",
      "INFO:root:iteration= 7600, loss= 0.24530068039894104, \n",
      "INFO:root:iteration= 7610, loss= 0.04074130952358246, \n",
      "INFO:root:iteration= 7620, loss= 0.0024247905239462852, \n",
      "INFO:root:iteration= 7630, loss= 1.098038911819458, \n",
      "INFO:root:iteration= 7640, loss= 0.40096551179885864, \n",
      "INFO:root:iteration= 7650, loss= 0.5859833359718323, \n",
      "INFO:root:iteration= 7660, loss= 0.01526462472975254, \n",
      "INFO:root:iteration= 7670, loss= 1.5054516792297363, \n",
      "INFO:root:iteration= 7680, loss= 0.6302227973937988, \n",
      "INFO:root:iteration= 7690, loss= 1.0425052642822266, \n",
      "INFO:root:iteration= 7700, loss= 0.010655933991074562, \n",
      "INFO:root:iteration= 7710, loss= 0.5632709264755249, \n",
      "INFO:root:iteration= 7720, loss= 1.755470633506775, \n",
      "INFO:root:iteration= 7730, loss= 0.1864122450351715, \n",
      "INFO:root:iteration= 7740, loss= 0.008410774171352386, \n",
      "INFO:root:iteration= 7750, loss= 0.008922374807298183, \n",
      "INFO:root:iteration= 7760, loss= 0.5059416890144348, \n",
      "INFO:root:iteration= 7770, loss= 0.05839177966117859, \n",
      "INFO:root:iteration= 7780, loss= 0.035002700984478, \n",
      "INFO:root:iteration= 7790, loss= 1.475740671157837, \n",
      "INFO:root:iteration= 7800, loss= 1.5471245050430298, \n",
      "INFO:root:iteration= 7810, loss= 0.10644986480474472, \n",
      "INFO:root:iteration= 7820, loss= 0.3117377758026123, \n",
      "INFO:root:iteration= 7830, loss= 0.23441720008850098, \n",
      "INFO:root:iteration= 7840, loss= 0.003962747752666473, \n",
      "INFO:root:iteration= 7850, loss= 0.026784522458910942, \n",
      "INFO:root:iteration= 7860, loss= 0.4120200276374817, \n",
      "INFO:root:iteration= 7870, loss= 1.0871106386184692, \n",
      "INFO:root:iteration= 7880, loss= 0.033941399306058884, \n",
      "INFO:root:iteration= 7890, loss= 0.01165609247982502, \n",
      "INFO:root:iteration= 7900, loss= 1.7857861518859863, \n",
      "INFO:root:iteration= 7910, loss= 0.012732611037790775, \n",
      "INFO:root:iteration= 7920, loss= 1.223868489265442, \n",
      "INFO:root:iteration= 7930, loss= 0.8923912048339844, \n",
      "INFO:root:iteration= 7940, loss= 0.02851451002061367, \n",
      "INFO:root:iteration= 7950, loss= 0.33186423778533936, \n",
      "INFO:root:iteration= 7960, loss= 0.5207869410514832, \n",
      "INFO:root:iteration= 7970, loss= 0.02318969927728176, \n",
      "INFO:root:iteration= 7980, loss= 0.7006575465202332, \n",
      "INFO:root:iteration= 7990, loss= 0.012052439153194427, \n"
     ]
    }
   ],
   "source": [
    "new_training_parameters = copy(training_parameters)\n",
    "new_training_parameters.n_epochs = 5\n",
    "with Session(db_engine) as db_session:\n",
    "    \n",
    "    trainer = Trainer(model, loader, \n",
    "                      training_parameters=training_parameters, device=\"cpu\",\n",
    "        step_hooks = [ \n",
    "            TqdmHook(),\n",
    "            LoggerHook(interval=10),\n",
    "            curve\n",
    "        ],\n",
    "        database=db_session, \n",
    "        db_experiment=experiment_id, \n",
    "        resume_from=trainer_id)\n",
    "    trainer.train()"
   ]
  },
  {
   "cell_type": "code",
   "execution_count": null,
   "id": "6209b798-bdf6-4e91-9fd0-b9ba629c9e5b",
   "metadata": {},
   "outputs": [],
   "source": []
  }
 ],
 "metadata": {
  "kernelspec": {
   "display_name": "Python 3 (ipykernel)",
   "language": "python",
   "name": "python3"
  },
  "language_info": {
   "codemirror_mode": {
    "name": "ipython",
    "version": 3
   },
   "file_extension": ".py",
   "mimetype": "text/x-python",
   "name": "python",
   "nbconvert_exporter": "python",
   "pygments_lexer": "ipython3",
   "version": "3.11.7"
  }
 },
 "nbformat": 4,
 "nbformat_minor": 5
}
